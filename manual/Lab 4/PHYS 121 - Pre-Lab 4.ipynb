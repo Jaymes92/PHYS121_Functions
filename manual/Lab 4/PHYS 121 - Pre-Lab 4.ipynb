{
 "cells": [
  {
   "cell_type": "markdown",
   "id": "1542e1ef",
   "metadata": {},
   "source": [
    "# <div style=\"background-color:rgba(204, 229, 255, 0.5); text-align:center; vertical-align: middle; padding:40px 0; margin-top:30px\"><span style=\"color:rgba(0, 76, 153, 1);\">PHYS 121 Pre-Lab #4</span></div>\n",
    "# Electric & Hydraulic Circuits – Week 1"
   ]
  },
  {
   "cell_type": "markdown",
   "id": "64714929",
   "metadata": {},
   "source": [
    "***\n",
    "## Learning Objectives:\n",
    "* <b><span style=\"color:rgba(0, 153, 76, 1);\"> Learn how to perform simple operations on DataFrames and arrays in Python.</span></b>"
   ]
  },
  {
   "cell_type": "markdown",
   "id": "eff77bfa",
   "metadata": {},
   "source": [
    "***\n",
    "\n",
    "Over the next two weeks, you will work with both electric and hydraulic circuits.  You will see that concepts developed to analyze electrical circuits can also be applied to their hydraulic analogues.  In addition, you will attempt to uncover differences in the behaviour of the two systems and thus identify limitations of the analogy.) \n",
    "\n",
    "In the process, you will be collecting and manipulating data.  As before, a lot of code will be provided for you, but there will be instances where you will have to write your own lines of code.  This Pre-Lab is intended to provide a brief review of the kinds of operations you can use in Python and an introduction to how these operations can be applied to DataFrames and/or arrays. "
   ]
  },
  {
   "cell_type": "markdown",
   "id": "39423bb4",
   "metadata": {},
   "source": [
    "**Basic Operations**"
   ]
  },
  {
   "cell_type": "markdown",
   "id": "68ffbb7f",
   "metadata": {},
   "source": [
    "Recall the basic arithmetic operations in Python:"
   ]
  },
  {
   "cell_type": "code",
   "execution_count": null,
   "id": "81f903b2",
   "metadata": {},
   "outputs": [],
   "source": [
    "# Remember: to execute the code cell, select it and press shift + enter\n",
    "\n",
    "# Addition / Subtraction\n",
    "a = 4 + 5\n",
    "b = 2 - 3\n",
    "print(a, b)"
   ]
  },
  {
   "cell_type": "code",
   "execution_count": null,
   "id": "53daf9d2",
   "metadata": {},
   "outputs": [],
   "source": [
    "# Division / Miltiplication\n",
    "x = 10.2 * -4.0\n",
    "y = 2 / 10\n",
    "print(x, y)"
   ]
  },
  {
   "cell_type": "code",
   "execution_count": null,
   "id": "83563bf0",
   "metadata": {},
   "outputs": [],
   "source": [
    "# Exponentiation\n",
    "s = 12**2\n",
    "print(s)"
   ]
  },
  {
   "cell_type": "markdown",
   "id": "77d16295",
   "metadata": {},
   "source": [
    "With numpy, we aquire a larger set of operations as well as a host of constants to work with. The notation is fairly straight-forward:"
   ]
  },
  {
   "cell_type": "code",
   "execution_count": null,
   "id": "9810644e",
   "metadata": {},
   "outputs": [],
   "source": [
    "import numpy as np\n",
    "\n",
    "# Pi and Euler's number e can be obtained as follows:\n",
    "print(np.pi)\n",
    "print(np.e)"
   ]
  },
  {
   "cell_type": "code",
   "execution_count": null,
   "id": "934befb3",
   "metadata": {},
   "outputs": [],
   "source": [
    "# Natural logarithm\n",
    "a = np.log(1)\n",
    "b = np.log(np.e)\n",
    "\n",
    "print(a, b)"
   ]
  },
  {
   "cell_type": "code",
   "execution_count": null,
   "id": "13560bba",
   "metadata": {},
   "outputs": [],
   "source": [
    "# Trigonometric functions\n",
    "c = np.cos(0)\n",
    "d = np.sin(np.pi)\n",
    "e = np.tan(np.pi / 2)\n",
    "\n",
    "print(c, d, e)"
   ]
  },
  {
   "cell_type": "markdown",
   "id": "dc4e2008",
   "metadata": {},
   "source": [
    "Be cautious when using these functions: they expect the input to be in units of radians. If you have a measurement in degrees, you can convert it to radians in the following way:"
   ]
  },
  {
   "cell_type": "code",
   "execution_count": null,
   "id": "c2d84f9f",
   "metadata": {},
   "outputs": [],
   "source": [
    "np.sin(np.radians(180))"
   ]
  },
  {
   "cell_type": "markdown",
   "id": "e606590a",
   "metadata": {},
   "source": [
    "You should also notice the rounding errors in the above. We should have $\\sin\\pi = 0$ and $\\tan(\\pi / 2) = \\infty$, but instead we get something like $1.22\\times10^{-16}$ and $1.63\\times10^{16}$. These kinds of errors occur all the time in floating point arithmetic, so we sometimes have to be careful about what we're doing. [This article](https://docs.python.org/3/tutorial/floatingpoint.html) covers the phenomenon in more detail, but you shouldn't have to worry too much about it for this lab course. "
   ]
  },
  {
   "cell_type": "markdown",
   "id": "fdd51eef",
   "metadata": {},
   "source": [
    "**Operating on Arrays and DataFrames**\n",
    "\n",
    "Now, suppose we wanted to perform an operation on a set of data. All of the operations discussed above can be performed with entire numpy arrays or columns from DataFrames. For instance, consider pairwise addition of two datasets:"
   ]
  },
  {
   "cell_type": "code",
   "execution_count": null,
   "id": "46e735a7",
   "metadata": {},
   "outputs": [],
   "source": [
    "# When we add two arrays together, the output is another array\n",
    "array1 = np.array([1, 2, 3])\n",
    "array2 = np.array([4, 5, 0])\n",
    "\n",
    "array3 = array1 + array2\n",
    "\n",
    "print(array3)"
   ]
  },
  {
   "cell_type": "code",
   "execution_count": null,
   "id": "67fb88c9",
   "metadata": {},
   "outputs": [],
   "source": [
    "# When we add two columns together, the output is an object called a \"series\", \n",
    "# which can be used to create an additional column.\n",
    "import pandas as pd\n",
    "df = pd.DataFrame({\"c1\" : [1, 2, 3],\n",
    "                   \"c2\" : [4, 5, 0],\n",
    "                  })\n",
    "\n",
    "df[\"c3\"] = df[\"c1\"] + df[\"c2\"]\n",
    "\n",
    "print(df)"
   ]
  },
  {
   "cell_type": "code",
   "execution_count": null,
   "id": "f3eda87e",
   "metadata": {},
   "outputs": [],
   "source": [
    "# If we try to do the same thing with lists, however... \n",
    "# Python will interpret the operation as \"concatenation\"\n",
    "list1 = [1, 2, 3]\n",
    "list2 = [4, 5, 0]\n",
    "\n",
    "list3 = list1 + list2\n",
    "\n",
    "print(list3)"
   ]
  },
  {
   "cell_type": "markdown",
   "id": "fccb4ff8",
   "metadata": {},
   "source": [
    "If using certain functions from the numpy package, you can apply them to lists as well as DataFrames and numpy arrays. However, multiplication does NOT work on lists."
   ]
  },
  {
   "cell_type": "code",
   "execution_count": null,
   "id": "65e959e4",
   "metadata": {},
   "outputs": [],
   "source": [
    "# Trig functions act on each element individually\n",
    "array4 = np.sin(array1)\n",
    "print(array4)\n",
    "\n",
    "print()\n",
    "\n",
    "# When using the sine function from the numpy package, acting on a list will create a numpy array:\n",
    "newArray = np.sin(list1)\n",
    "print(newArray)\n",
    "print(type(newArray))"
   ]
  },
  {
   "cell_type": "code",
   "execution_count": null,
   "id": "20b85ef9",
   "metadata": {},
   "outputs": [],
   "source": [
    "# Multiplication of arrays or DataFrame columns is performed pairwise\n",
    "df[\"c4\"] = df[\"c2\"] * df[\"c1\"]\n",
    "print(df)"
   ]
  },
  {
   "cell_type": "code",
   "execution_count": null,
   "id": "61913072",
   "metadata": {},
   "outputs": [],
   "source": [
    "# Multiplication is not defined for lists:\n",
    "list1 * list2"
   ]
  },
  {
   "cell_type": "markdown",
   "id": "90567215",
   "metadata": {},
   "source": [
    "The following section will guide you through the analysis of some experimental data, giving you an opportunity to practice performing operations on DataFrames. First, a bit of background on optics...\n",
    "\n",
    "**Snell's law** describes the change in direction of light as it passes from one medium to another, called **refraction**. Refer to Fig 1. The incoming light strikes the interface at an angle of $\\theta_1$ from perpendicular (the **angle of incidence**), and the outgoing light leaves at an angle $\\theta_2$ (the **angle of refraction**). The relationship between these angles can be described in terms of the **refractive index** of the materials in question, denoted $n_1$ and $n_2$. Then Snell's law states that\n",
    "\n",
    "\\begin{align}\n",
    "\\frac{\\sin\\theta_1}{\\sin\\theta_2} = \\frac{n_2}{n_1}\n",
    "\\label{eq:snell} \\tag{1}\n",
    "\\end{align}\n",
    "\n",
    "so in the figure below, since we can see that $\\sin\\theta_1 > \\sin\\theta_2$, medium two must have a larger refractive index than medium one, i.e. $n_2 > n_1$.\n",
    "\n",
    "<p>\n",
    "<center>\n",
    "<img src=\"snell.svg\" alt=\"image info\" style=\"width: 35%; height: auto;\" /><br>\n",
    "<b>Fig. 1: The refraction of light passing from one medium to another. The incoming light strikes the interface at an angle of $\\theta_1$ from perpendicular, and the outgoing light leaves at an angle $\\theta_2$. The relationship between these angles and the refractive index of the materials is given by Snell's law. </b></center>\n",
    "</p>\n",
    "\n",
    "If the first medium is just air, these angles can be measured by shining a beam towards a hemispherical dish made of (or filled with) the second medium, as in Fig. 2. If the beam strikes the centre of the dish, no matter what the angle of refraction $\\theta_2$ is, the beam will exit the dish perpendicular to its surface, so it will not be refracted.\n",
    "\n",
    "<p>\n",
    "<center>\n",
    "<img src=\"snell2.svg\" alt=\"image info\" style=\"width: 45%; height: auto;\" /><br>\n",
    "<b>Fig. 2: The angles $\\theta_1$ and $\\theta_2$ can be measured using a hemispherical dish. </b></center>\n",
    "</p>\n",
    "\n",
    "The refractivity of a meterial can tell you about its composition. For example, the refractive index of seawater will increase as its salinity increases. The code cell below imports some generated \"experimental\" data on a sample of seawater held at $20^\\circ\\rm C$. We are going to analyze this data to determine the index of refraction of this seawater, which will tell us the salinity of the water. "
   ]
  },
  {
   "cell_type": "code",
   "execution_count": null,
   "id": "71122313",
   "metadata": {},
   "outputs": [],
   "source": [
    "data = pd.read_csv(\"SampleData.csv\")\n",
    "print(data)"
   ]
  },
  {
   "cell_type": "markdown",
   "id": "3a03537c",
   "metadata": {},
   "source": [
    "***\n",
    "**<span style=\"color:blue\">Question 1:</span>**  \n",
    "\n",
    "First, we will calculate the sin of the given angles and add these as columns to our DataFrame. The cell block below does this for $\\theta_1$. Repeat the process for $\\theta_2$ in the empty code block after it. "
   ]
  },
  {
   "cell_type": "code",
   "execution_count": null,
   "id": "dac20b39",
   "metadata": {},
   "outputs": [],
   "source": [
    "# Remember that we must also convert the angles to radians.\n",
    "data[\"sin1\"] = np.sin(np.radians(data[\"theta1\"]))"
   ]
  },
  {
   "cell_type": "markdown",
   "id": "a0e083d2",
   "metadata": {},
   "source": [
    "***\n",
    "**<span style=\"color:blue\">Answer 1:</span>**"
   ]
  },
  {
   "cell_type": "code",
   "execution_count": null,
   "id": "3281a7e9",
   "metadata": {},
   "outputs": [],
   "source": [
    "# Repeat the process above for the angle of refraction\n",
    "data[\"sin2\"] = "
   ]
  },
  {
   "cell_type": "markdown",
   "id": "a19b96e8",
   "metadata": {},
   "source": [
    "***\n",
    "**<span style=\"color:blue\">Question 2:</span>**  \n",
    "\n",
    "Now, if we calculate the ratio of these angles, we can apply Snell's law to determine the index of refraction of the water using Eq. 1. Using the code block below, create a new column in the DataFrame with this ratio. "
   ]
  },
  {
   "cell_type": "markdown",
   "id": "5f83abfa",
   "metadata": {},
   "source": [
    "***\n",
    "**<span style=\"color:blue\">Answer 2:</span>**"
   ]
  },
  {
   "cell_type": "code",
   "execution_count": null,
   "id": "398ce748",
   "metadata": {},
   "outputs": [],
   "source": [
    "data[\"ratio\"] = "
   ]
  },
  {
   "cell_type": "markdown",
   "id": "7b050899",
   "metadata": {},
   "source": [
    "***\n",
    "**<span style=\"color:blue\">Question 3:</span>**  \n",
    "\n",
    "By definition, the refractive index of vacuum is 1. The refractive index of air is very close to 1, at about 1.000227. Using this and Eq. 1, create a new column in our data frame with the measured value of the refractive index $n_2$ of the seawater."
   ]
  },
  {
   "cell_type": "markdown",
   "id": "1b61be9b",
   "metadata": {},
   "source": [
    "***\n",
    "**<span style=\"color:blue\">Answer 3:</span>**"
   ]
  },
  {
   "cell_type": "code",
   "execution_count": null,
   "id": "82f9ac56",
   "metadata": {},
   "outputs": [],
   "source": [
    "data[\"n2\"] = "
   ]
  },
  {
   "cell_type": "markdown",
   "id": "42cf77ad",
   "metadata": {},
   "source": [
    "We can take the average value and standard error in the mean for this data directly with Pandas. The syntax for this is \n",
    "\n",
    "```python\n",
    "df[\"column\"].mean()\n",
    "df[\"column\"].sem()\n",
    "```\n",
    "\n",
    "for the mean and standard error, respectively. \n",
    "\n",
    "***\n",
    "**<span style=\"color:blue\">Question 4:</span>**  \n",
    "\n",
    "Use the code block below to calculate the mean and standard error for the refractive index of our seawater."
   ]
  },
  {
   "cell_type": "markdown",
   "id": "fc43b723",
   "metadata": {},
   "source": [
    "***\n",
    "**<span style=\"color:blue\">Answer 4:</span>**"
   ]
  },
  {
   "cell_type": "code",
   "execution_count": null,
   "id": "6d9dc659",
   "metadata": {},
   "outputs": [],
   "source": [
    "avg = \n",
    "sem = \n",
    "\n",
    "print(f\"n_2 = {avg:.4f} +/- {sem:.4f}\")"
   ]
  },
  {
   "cell_type": "markdown",
   "id": "f116f7bd",
   "metadata": {},
   "source": [
    "In a 1995 paper, [Quan & Fry](https://opg.optica.org/ao/fulltext.cfm?uri=ao-34-18-3477&id=45728) provide an empirical equation for the refractivity of seawater as a function of salinity, temperature, and the wavelength of light. Suppose the wavelength of light used was $600 \\rm nm$ and the temperature was measured to be $10 \\rm ^\\circ C$. Then Quan & Fry's equation reduces to \n",
    "\n",
    "\\begin{align}\n",
    "n(S) =  0.000188 S + 1.333355\n",
    "\\label{eq:refractivity} \\tag{2}\n",
    "\\end{align}\n",
    "\n",
    "where $S$ is the salinity in grams per litre. If we invert this expression, we obtain\n",
    "\n",
    "\\begin{align}\n",
    "S(n) = 5312.08 n  - 7082.90\n",
    "\\label{eq:salinity} \\tag{3}\n",
    "\\end{align}\n",
    "\n",
    "with uncertainty\n",
    "\n",
    "\\begin{align}\n",
    "\\sigma_S = 5312.08 \\sigma_n\n",
    "\\label{eq:salinityerr} \\tag{4}\n",
    "\\end{align}\n",
    "\n",
    "\n",
    "***\n",
    "**<span style=\"color:blue\">Question 5:</span>**  \n",
    "\n",
    "Using the code block below, calculate the salinity of the sample and its uncertainty.\n",
    "\n",
    "***\n",
    "**<span style=\"color:blue\">Answer 5:</span>**  "
   ]
  },
  {
   "cell_type": "code",
   "execution_count": null,
   "id": "fcdf032c",
   "metadata": {},
   "outputs": [],
   "source": [
    "S = \n",
    "errS = \n",
    "\n",
    "print(f\"S = ({S} +/- {errS}) g/L\")"
   ]
  },
  {
   "cell_type": "markdown",
   "id": "5ea1c03b",
   "metadata": {},
   "source": [
    "And that's all there is to it! Now that you understand the basics, you'll be able to apply them in this week's lab."
   ]
  }
 ],
 "metadata": {
  "kernelspec": {
   "display_name": "Python 3 (ipykernel)",
   "language": "python",
   "name": "python3"
  },
  "language_info": {
   "codemirror_mode": {
    "name": "ipython",
    "version": 3
   },
   "file_extension": ".py",
   "mimetype": "text/x-python",
   "name": "python",
   "nbconvert_exporter": "python",
   "pygments_lexer": "ipython3",
   "version": "3.8.8"
  }
 },
 "nbformat": 4,
 "nbformat_minor": 5
}
