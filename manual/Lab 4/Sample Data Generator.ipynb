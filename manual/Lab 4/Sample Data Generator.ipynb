{
 "cells": [
  {
   "cell_type": "code",
   "execution_count": 9,
   "id": "a0122efa",
   "metadata": {},
   "outputs": [],
   "source": [
    "import numpy as np\n",
    "import pandas as pd\n",
    "\n",
    "def n(S):\n",
    "    return 0.000188*S + 1.333355\n",
    "\n",
    "def refrac(theta, n1, n2):\n",
    "    sin = np.sin(np.radians(theta)) \n",
    "    frac = n1 / n2\n",
    "    oot = np.arcsin(frac * sin)\n",
    "    return np.degrees(oot)\n",
    "\n",
    "data = refrac(angles, 1.0003, n(35))  + np.random.normal(0, 0.01, len(angles))\n",
    "\n",
    "df = pd.DataFrame({\"theta1\" : angles, \"theta2\" : data})\n",
    "\n",
    "df.to_csv(\"SampleData.csv\", index = False)"
   ]
  }
 ],
 "metadata": {
  "kernelspec": {
   "display_name": "Python 3 (ipykernel)",
   "language": "python",
   "name": "python3"
  },
  "language_info": {
   "codemirror_mode": {
    "name": "ipython",
    "version": 3
   },
   "file_extension": ".py",
   "mimetype": "text/x-python",
   "name": "python",
   "nbconvert_exporter": "python",
   "pygments_lexer": "ipython3",
   "version": "3.8.8"
  }
 },
 "nbformat": 4,
 "nbformat_minor": 5
}
