{
 "cells": [
  {
   "cell_type": "markdown",
   "id": "1542e1ef",
   "metadata": {},
   "source": [
    "# <div style=\"background-color:rgba(204, 229, 255, 0.5); text-align:center; vertical-align: middle; padding:40px 0; margin-top:30px\"><span style=\"color:rgba(0, 76, 153, 1);\">PHYS 121 Pre-Lab #4</span></div>\n",
    "# Electric & Hydraulic Circuits – Week 1"
   ]
  },
  {
   "cell_type": "markdown",
   "id": "64714929",
   "metadata": {},
   "source": [
    "***\n",
    "## Learning Objectives:\n",
    "* <b><span style=\"color:rgba(0, 153, 76, 1);\"> Learn how to perform simple operations on DataFrames and arrays in Python.</span></b>"
   ]
  },
  {
   "cell_type": "markdown",
   "id": "eff77bfa",
   "metadata": {},
   "source": [
    "***\n",
    "\n",
    "Over the next two weeks, you will work with both electric and hydraulic circuits.  You will see that concepts developed to analyze electrical circuits can also be applied to their hydraulic analogues.  In addition, you will attempt to uncover differences in the behaviour of the two systems and thus identify limitations of the analogy.) \n",
    "\n",
    "In the process, you will be collecting and manipulating data.  As before, a lot of code will be provided for you, but there will be instances where you will have to write your own lines of code.  This Pre-Lab is intended to provide a brief review of the kinds of operations you can use in Python and an introduction to how these operations can be applied to DataFrames and/or arrays."
   ]
  },
  {
   "cell_type": "markdown",
   "id": "39423bb4",
   "metadata": {},
   "source": [
    "**Basic Operations**"
   ]
  },
  {
   "cell_type": "markdown",
   "id": "68ffbb7f",
   "metadata": {},
   "source": [
    "Recall the basic arithmetic operations in Python:"
   ]
  },
  {
   "cell_type": "code",
   "execution_count": 1,
   "id": "81f903b2",
   "metadata": {},
   "outputs": [
    {
     "name": "stdout",
     "output_type": "stream",
     "text": [
      "9 -1\n"
     ]
    }
   ],
   "source": [
    "# Addition / Subtraction\n",
    "a = 4 + 5\n",
    "b = 2 - 3\n",
    "print(a, b)"
   ]
  },
  {
   "cell_type": "code",
   "execution_count": 2,
   "id": "53daf9d2",
   "metadata": {},
   "outputs": [
    {
     "name": "stdout",
     "output_type": "stream",
     "text": [
      "-40.8 0.2\n"
     ]
    }
   ],
   "source": [
    "# Division / Miltiplication\n",
    "x = 10.2 * -4.0\n",
    "y = 2 / 10\n",
    "print(x, y)"
   ]
  },
  {
   "cell_type": "code",
   "execution_count": 3,
   "id": "83563bf0",
   "metadata": {},
   "outputs": [
    {
     "name": "stdout",
     "output_type": "stream",
     "text": [
      "144\n"
     ]
    }
   ],
   "source": [
    "# Exponentiation\n",
    "s = 12**2\n",
    "print(s)"
   ]
  },
  {
   "cell_type": "markdown",
   "id": "77d16295",
   "metadata": {},
   "source": [
    "With numpy, we aquire a larger set of operations as well as a host of constants to work with. The notation is straight forward:"
   ]
  },
  {
   "cell_type": "code",
   "execution_count": 4,
   "id": "9810644e",
   "metadata": {},
   "outputs": [
    {
     "name": "stdout",
     "output_type": "stream",
     "text": [
      "3.141592653589793\n",
      "2.718281828459045\n"
     ]
    }
   ],
   "source": [
    "import numpy as np\n",
    "\n",
    "# Pi and Euler's number e can be obtained as follows:\n",
    "print(np.pi)\n",
    "print(np.e)"
   ]
  },
  {
   "cell_type": "code",
   "execution_count": 5,
   "id": "934befb3",
   "metadata": {},
   "outputs": [
    {
     "name": "stdout",
     "output_type": "stream",
     "text": [
      "0.0 1.0\n"
     ]
    }
   ],
   "source": [
    "# Natural logarithm\n",
    "a = np.log(1)\n",
    "b = np.log(np.e)\n",
    "\n",
    "print(a, b)"
   ]
  },
  {
   "cell_type": "code",
   "execution_count": 6,
   "id": "13560bba",
   "metadata": {},
   "outputs": [
    {
     "name": "stdout",
     "output_type": "stream",
     "text": [
      "1.0 1.2246467991473532e-16 1.633123935319537e+16\n"
     ]
    }
   ],
   "source": [
    "# Trigonometric functions\n",
    "c = np.cos(0)\n",
    "d = np.sin(np.pi)\n",
    "e = np.tan(np.pi / 2)\n",
    "\n",
    "print(c, d, e)"
   ]
  },
  {
   "cell_type": "markdown",
   "id": "dc4e2008",
   "metadata": {},
   "source": [
    "Be cautious when using these functions: they expect the input to be in units of radians. If you have a measurement in degrees, you can convert it to radians in the following way:"
   ]
  },
  {
   "cell_type": "code",
   "execution_count": 7,
   "id": "c2d84f9f",
   "metadata": {},
   "outputs": [
    {
     "data": {
      "text/plain": [
       "1.2246467991473532e-16"
      ]
     },
     "execution_count": 7,
     "metadata": {},
     "output_type": "execute_result"
    }
   ],
   "source": [
    "np.sin(np.radians(180))"
   ]
  },
  {
   "cell_type": "markdown",
   "id": "e606590a",
   "metadata": {},
   "source": [
    "You should also notice the rounding errors in the above. We should have $\\sin\\pi = 0$ and $\\tan(\\pi / 2) = \\infty$, but instead we get something like $1.22\\times10^{-16}$ and $1.63\\times10^{16}$. These kinds of errors occur all the time in floating point arithmetic, so we sometimes have to be careful about what we're doing. [This article](https://docs.python.org/3/tutorial/floatingpoint.html) covers the phenomenon in more detail, but you shouldn't have to worry too much about it for this lab course. "
   ]
  },
  {
   "cell_type": "markdown",
   "id": "9d93b596",
   "metadata": {},
   "source": [
    "**Operating on Arrays and DataFrames**\n",
    "\n",
    "Now, suppose we wanted to perform an operation on a set of data. All of the operations discussed above can be performed with entire numpy arrays or columns from DataFrames. For instance, consider pairwise addition of two datasets:"
   ]
  },
  {
   "cell_type": "code",
   "execution_count": 24,
   "id": "9b445d57",
   "metadata": {},
   "outputs": [
    {
     "name": "stdout",
     "output_type": "stream",
     "text": [
      "[5 7 3]\n"
     ]
    }
   ],
   "source": [
    "# When we add two arrays together, the output is another array\n",
    "array1 = np.array([1, 2, 3])\n",
    "array2 = np.array([4, 5, 0])\n",
    "\n",
    "array3 = array1 + array2\n",
    "\n",
    "print(array3)"
   ]
  },
  {
   "cell_type": "code",
   "execution_count": 36,
   "id": "8943bb68",
   "metadata": {},
   "outputs": [
    {
     "name": "stdout",
     "output_type": "stream",
     "text": [
      "   c1  c2  c3\n",
      "0   1   4   5\n",
      "1   2   5   7\n",
      "2   3   0   3\n"
     ]
    }
   ],
   "source": [
    "# When we add two columns together, the output is an object called a \"series\", \n",
    "# which can be used to create an additional column.\n",
    "import pandas as pd\n",
    "df = pd.DataFrame({\"c1\" : [1, 2, 3],\n",
    "                   \"c2\" : [4, 5, 0],\n",
    "                  })\n",
    "\n",
    "df[\"c3\"] = df[\"c1\"] + df[\"c2\"]\n",
    "\n",
    "print(df)"
   ]
  },
  {
   "cell_type": "code",
   "execution_count": 31,
   "id": "57c90d87",
   "metadata": {},
   "outputs": [
    {
     "name": "stdout",
     "output_type": "stream",
     "text": [
      "[1, 2, 3, 4, 5, 0]\n"
     ]
    }
   ],
   "source": [
    "# If we try to do the same thing with lists, however... \n",
    "# Python will interpret the operation as \"concatenation\"\n",
    "list1 = [1, 2, 3]\n",
    "list2 = [4, 5, 0]\n",
    "\n",
    "list3 = list1 + list2\n",
    "\n",
    "print(list3)"
   ]
  },
  {
   "cell_type": "markdown",
   "id": "608b9bc0",
   "metadata": {},
   "source": [
    "If using certain functions from the numpy package, you can apply them to lists as well as DataFrames and numpy arrays. However, multiplication does NOT work on lists."
   ]
  },
  {
   "cell_type": "code",
   "execution_count": 46,
   "id": "98f8d6af",
   "metadata": {},
   "outputs": [
    {
     "name": "stdout",
     "output_type": "stream",
     "text": [
      "[0.84147098 0.90929743 0.14112001]\n",
      "\n",
      "[0.84147098 0.90929743 0.14112001]\n",
      "<class 'numpy.ndarray'>\n"
     ]
    }
   ],
   "source": [
    "# Trig functions act on each element individually\n",
    "array4 = np.sin(array1)\n",
    "print(array4)\n",
    "\n",
    "print()\n",
    "\n",
    "# When using the sine function from the numpy package, acting on a list will create a numpy array:\n",
    "newArray = np.sin(list1)\n",
    "print(newArray)\n",
    "print(type(newArray))"
   ]
  },
  {
   "cell_type": "code",
   "execution_count": 47,
   "id": "d237e28c",
   "metadata": {},
   "outputs": [
    {
     "name": "stdout",
     "output_type": "stream",
     "text": [
      "   c1  c2  c3  c4\n",
      "0   1   4   5   4\n",
      "1   2   5   7  10\n",
      "2   3   0   3   0\n"
     ]
    }
   ],
   "source": [
    "# Multiplication of arrays or DataFrame columns is performed pairwise\n",
    "df[\"c4\"] = df[\"c2\"] * df[\"c1\"]\n",
    "print(df)"
   ]
  },
  {
   "cell_type": "code",
   "execution_count": 48,
   "id": "5f234235",
   "metadata": {},
   "outputs": [
    {
     "ename": "TypeError",
     "evalue": "can't multiply sequence by non-int of type 'list'",
     "output_type": "error",
     "traceback": [
      "\u001b[1;31m---------------------------------------------------------------------------\u001b[0m",
      "\u001b[1;31mTypeError\u001b[0m                                 Traceback (most recent call last)",
      "Input \u001b[1;32mIn [48]\u001b[0m, in \u001b[0;36m<cell line: 2>\u001b[1;34m()\u001b[0m\n\u001b[0;32m      1\u001b[0m \u001b[38;5;66;03m# Multiplication is not defined for lists:\u001b[39;00m\n\u001b[1;32m----> 2\u001b[0m \u001b[43mlist1\u001b[49m\u001b[43m \u001b[49m\u001b[38;5;241;43m*\u001b[39;49m\u001b[43m \u001b[49m\u001b[43mlist2\u001b[49m\n",
      "\u001b[1;31mTypeError\u001b[0m: can't multiply sequence by non-int of type 'list'"
     ]
    }
   ],
   "source": [
    "# Multiplication is not defined for lists:\n",
    "list1 * list2"
   ]
  },
  {
   "cell_type": "markdown",
   "id": "90567215",
   "metadata": {},
   "source": [
    "The following section will guide you through the analysis of some experimental data, giving you an opportunity to practice performing operations on DataFrames. First, a bit of background on optics...\n",
    "\n",
    "**Snell's law** describes the change in direction of light as it passes from one medium to another, called **refraction**. Refer to Fig 1. The incoming light strikes the interface at an angle of $\\theta_1$ from perpendicular (the **angle of incidence**), and the outgoing light leaves at an angle $\\theta_2$ (the **angle of refraction**). The relationship between these angles can be described in terms of the **refractive index** of the materials in question, denoted $n_1$ and $n_2$. Then Snell's law states that\n",
    "\n",
    "\\begin{align}\n",
    "\\frac{\\sin\\theta_1}{\\sin\\theta_2} = \\frac{n_2}{n_1}\n",
    "\\label{eq:snell} \\tag{1}\n",
    "\\end{align}\n",
    "\n",
    "so in the figure below, since we can see that $\\sin\\theta_1 > \\sin\\theta_2$, medium two must have a larger refractive index than medium one, i.e. $n_2 > n_1$.\n",
    "\n",
    "<p>\n",
    "<center>\n",
    "<img src=\"snell.svg\" alt=\"image info\" style=\"width: 35%; height: auto;\" /><br>\n",
    "<b>Fig. 1: The refraction of light passing from one medium to another. The incoming light strikes the interface at an angle of $\\theta_1$ from perpendicular, and the outgoing light leaves at an angle $\\theta_2$. The relationship between these angles and the refractive index of the materials is given by Snell's law. </b></center>\n",
    "</p>\n",
    "\n",
    "If the first medium is just air, these angles can be measured by shining a beam towards a hemispherical dish made of (or filled with) the second medium, as in Fig. 2. If the beam strikes the centre of the dish, no matter what the angle of refraction $\\theta_2$ is, the beam will exit the dish perpendicular to its surface, so it will not be refracted.\n",
    "\n",
    "<p>\n",
    "<center>\n",
    "<img src=\"snell2.svg\" alt=\"image info\" style=\"width: 45%; height: auto;\" /><br>\n",
    "<b>Fig. 2: The angles $\\theta_1$ and $\\theta_2$ can be measured using a hemispherical dish. </b></center>\n",
    "</p>\n",
    "\n",
    "The refractivity of a meterial can tell you about its composition. For example, the refractive index of seawater will increase as its salinity increases. The code cell below imports some generated \"experimental\" data on a sample of seawater held at $20^\\circ\\rm C$. We are going to analyze this data to determine the index of refraction of this seawater, which will tell us the salinity of the water. "
   ]
  },
  {
   "cell_type": "code",
   "execution_count": 50,
   "id": "71122313",
   "metadata": {},
   "outputs": [
    {
     "name": "stdout",
     "output_type": "stream",
     "text": [
      "    theta1     theta2\n",
      "0        5   3.724728\n",
      "1       10   7.439369\n",
      "2       15  11.147473\n",
      "3       20  14.801432\n",
      "4       25  18.375343\n",
      "5       30  21.916742\n",
      "6       35  25.352537\n",
      "7       40  28.683443\n",
      "8       45  31.861058\n",
      "9       50  34.872212\n",
      "10      55  37.693792\n",
      "11      60  40.285501\n",
      "12      65  42.550484\n",
      "13      70  44.537203\n",
      "14      75  46.138771\n",
      "15      80  47.315403\n",
      "16      85  48.029856\n"
     ]
    }
   ],
   "source": [
    "data = pd.read_csv(\"SampleData.csv\")\n",
    "print(data)"
   ]
  },
  {
   "cell_type": "markdown",
   "id": "526466d1",
   "metadata": {},
   "source": [
    "***\n",
    "**<span style=\"color:blue\">Question 1:</span>**  \n",
    "\n",
    "First, we will calculate the sin of the given angles and add these as columns to our DataFrame. The cell block below does this for $\\theta_1$. Repeat the process for $\\theta_2$ in the empty code block after it. "
   ]
  },
  {
   "cell_type": "code",
   "execution_count": 51,
   "id": "dac20b39",
   "metadata": {},
   "outputs": [],
   "source": [
    "# Remember that we must also convert the angles to radians.\n",
    "data[\"sin1\"] = np.sin(np.radians(data[\"theta1\"]))"
   ]
  },
  {
   "cell_type": "markdown",
   "id": "e44c778e",
   "metadata": {},
   "source": [
    "***\n",
    "**<span style=\"color:blue\">Answer 1:</span>**"
   ]
  },
  {
   "cell_type": "code",
   "execution_count": 52,
   "id": "3281a7e9",
   "metadata": {},
   "outputs": [
    {
     "name": "stdout",
     "output_type": "stream",
     "text": [
      "    theta1     theta2      sin1      sin2\n",
      "0        5   3.724728  0.087156  0.064963\n",
      "1       10   7.439369  0.173648  0.129477\n",
      "2       15  11.147473  0.258819  0.193335\n",
      "3       20  14.801432  0.342020  0.255470\n",
      "4       25  18.375343  0.422618  0.315241\n",
      "5       30  21.916742  0.500000  0.373259\n",
      "6       35  25.352537  0.573576  0.428187\n",
      "7       40  28.683443  0.642788  0.479970\n",
      "8       45  31.861058  0.707107  0.527861\n",
      "9       50  34.872212  0.766044  0.571748\n",
      "10      55  37.693792  0.819152  0.611441\n",
      "11      60  40.285501  0.866025  0.646597\n",
      "12      65  42.550484  0.906308  0.676240\n",
      "13      70  44.537203  0.939693  0.701372\n",
      "14      75  46.138771  0.965926  0.721020\n",
      "15      80  47.315403  0.984808  0.735097\n",
      "16      85  48.029856  0.996195  0.743493\n"
     ]
    }
   ],
   "source": [
    "# Repeat the process above for the angle of refraction\n",
    "data[\"sin2\"] = np.sin(np.radians(data[\"theta2\"]))\n",
    "print(data)"
   ]
  },
  {
   "cell_type": "markdown",
   "id": "a19b96e8",
   "metadata": {},
   "source": [
    "***\n",
    "**<span style=\"color:blue\">Question 2:</span>**  \n",
    "\n",
    "Now, if we calculate the ratio of these angles, we can apply Snell's law to determine the index of refraction of the water using Eq. 1. Using the code block below, create a new column in the DataFrame with this ratio. "
   ]
  },
  {
   "cell_type": "markdown",
   "id": "1fe4d079",
   "metadata": {},
   "source": [
    "***\n",
    "**<span style=\"color:blue\">Answer 2:</span>**"
   ]
  },
  {
   "cell_type": "code",
   "execution_count": 11,
   "id": "398ce748",
   "metadata": {},
   "outputs": [
    {
     "name": "stdout",
     "output_type": "stream",
     "text": [
      "    theta1     theta2      sin1      sin2     ratio\n",
      "0        5   3.724728  0.087156  0.064963  1.341621\n",
      "1       10   7.439369  0.173648  0.129477  1.341151\n",
      "2       15  11.147473  0.258819  0.193335  1.338708\n",
      "3       20  14.801432  0.342020  0.255470  1.338788\n",
      "4       25  18.375343  0.422618  0.315241  1.340621\n",
      "5       30  21.916742  0.500000  0.373259  1.339553\n",
      "6       35  25.352537  0.573576  0.428187  1.339548\n",
      "7       40  28.683443  0.642788  0.479970  1.339225\n",
      "8       45  31.861058  0.707107  0.527861  1.339570\n",
      "9       50  34.872212  0.766044  0.571748  1.339829\n",
      "10      55  37.693792  0.819152  0.611441  1.339707\n",
      "11      60  40.285501  0.866025  0.646597  1.339359\n",
      "12      65  42.550484  0.906308  0.676240  1.340217\n",
      "13      70  44.537203  0.939693  0.701372  1.339792\n",
      "14      75  46.138771  0.965926  0.721020  1.339665\n",
      "15      80  47.315403  0.984808  0.735097  1.339698\n",
      "16      85  48.029856  0.996195  0.743493  1.339884\n"
     ]
    }
   ],
   "source": [
    "data[\"ratio\"] = data[\"sin1\"] / data[\"sin2\"]\n",
    "print(data)"
   ]
  },
  {
   "cell_type": "markdown",
   "id": "7b050899",
   "metadata": {},
   "source": [
    "***\n",
    "**<span style=\"color:blue\">Question 3:</span>**  \n",
    "\n",
    "By definition, the refractive index of vacuum is 1. The refractive index of air is very close to 1, at about 1.000227. Using this and Eq. 1, create a new column in our data frame with the measured value of the refractive index $n_2$ of the seawater."
   ]
  },
  {
   "cell_type": "markdown",
   "id": "14c148cb",
   "metadata": {},
   "source": [
    "***\n",
    "**<span style=\"color:blue\">Answer 3:</span>**"
   ]
  },
  {
   "cell_type": "code",
   "execution_count": 12,
   "id": "82f9ac56",
   "metadata": {},
   "outputs": [
    {
     "name": "stdout",
     "output_type": "stream",
     "text": [
      "0     1.341926\n",
      "1     1.341456\n",
      "2     1.339012\n",
      "3     1.339092\n",
      "4     1.340925\n",
      "5     1.339857\n",
      "6     1.339852\n",
      "7     1.339529\n",
      "8     1.339874\n",
      "9     1.340133\n",
      "10    1.340011\n",
      "11    1.339663\n",
      "12    1.340521\n",
      "13    1.340096\n",
      "14    1.339970\n",
      "15    1.340002\n",
      "16    1.340188\n",
      "Name: n2, dtype: float64\n"
     ]
    }
   ],
   "source": [
    "data[\"n2\"] = data[\"ratio\"] * 1.000227\n",
    "print(data[\"n2\"])"
   ]
  },
  {
   "cell_type": "markdown",
   "id": "42cf77ad",
   "metadata": {},
   "source": [
    "We can take the average value and standard error in the mean for this data directly with Pandas. The syntax for this is \n",
    "\n",
    "```python\n",
    "df[\"column\"].mean()\n",
    "df[\"column\"].sem()\n",
    "```\n",
    "\n",
    "for the mean and standard error, respectively. \n",
    "\n",
    "***\n",
    "**<span style=\"color:blue\">Question 4:</span>**  \n",
    "\n",
    "Use the code block below to calculate the mean and standard error for the refractive index of our seawater."
   ]
  },
  {
   "cell_type": "markdown",
   "id": "ffbfe152",
   "metadata": {},
   "source": [
    "***\n",
    "**<span style=\"color:blue\">Answer 4:</span>**"
   ]
  },
  {
   "cell_type": "code",
   "execution_count": 13,
   "id": "6d9dc659",
   "metadata": {},
   "outputs": [
    {
     "name": "stdout",
     "output_type": "stream",
     "text": [
      "n_2 = 1.3401 +/- 0.0002\n"
     ]
    }
   ],
   "source": [
    "avg = data[\"n2\"].mean()\n",
    "sem = data[\"n2\"].sem()\n",
    "\n",
    "print(f\"n_2 = {avg:.4f} +/- {sem:.4f}\")"
   ]
  },
  {
   "cell_type": "markdown",
   "id": "f116f7bd",
   "metadata": {},
   "source": [
    "In a 1995 paper, [Quan & Fry](https://opg.optica.org/ao/fulltext.cfm?uri=ao-34-18-3477&id=45728) provide an empirical equation for the refractivity of seawater as a function of salinity, temperature, and the wavelength of light. Suppose the wavelength of light used was $600 \\rm nm$ and the temperature was measured to be $10 \\rm ^\\circ C$. Then Quan & Fry's equation reduces to \n",
    "\n",
    "\\begin{align}\n",
    "n(S) =  0.000188 S + 1.333355\n",
    "\\label{eq:refractivity} \\tag{2}\n",
    "\\end{align}\n",
    "\n",
    "where $S$ is the salinity in grams per litre. If we invert this expression, we obtain\n",
    "\n",
    "\\begin{align}\n",
    "S(n) = 5312.08 n  - 7082.90\n",
    "\\label{eq:salinity} \\tag{3}\n",
    "\\end{align}\n",
    "\n",
    "with uncertainty\n",
    "\n",
    "\\begin{align}\n",
    "\\sigma_S = 5312.08 \\sigma_n\n",
    "\\label{eq:salinityerr} \\tag{4}\n",
    "\\end{align}\n",
    "\n",
    "\n",
    "***\n",
    "**<span style=\"color:blue\">Question 5:</span>**  \n",
    "\n",
    "Using the code block below, calculate the salinity of the sample and its uncertainty.\n",
    "\n",
    "***\n",
    "**<span style=\"color:blue\">Answer 5:</span>**  "
   ]
  },
  {
   "cell_type": "code",
   "execution_count": 15,
   "id": "fcdf032c",
   "metadata": {},
   "outputs": [
    {
     "name": "stdout",
     "output_type": "stream",
     "text": [
      "S = (35.94498216364718 +/- 0.9637389771690847) g/L\n"
     ]
    }
   ],
   "source": [
    "S = -7082.90 + 5312.08 * avg\n",
    "errS = 5312.08 * sem\n",
    "\n",
    "print(f\"S = ({S} +/- {errS}) g/L\")"
   ]
  },
  {
   "cell_type": "markdown",
   "id": "04e104fc",
   "metadata": {},
   "source": [
    "And that's all there is to it! Now that you understand the basics, you'll be able to apply them in this week's lab."
   ]
  }
 ],
 "metadata": {
  "kernelspec": {
   "display_name": "Python 3 (ipykernel)",
   "language": "python",
   "name": "python3"
  },
  "language_info": {
   "codemirror_mode": {
    "name": "ipython",
    "version": 3
   },
   "file_extension": ".py",
   "mimetype": "text/x-python",
   "name": "python",
   "nbconvert_exporter": "python",
   "pygments_lexer": "ipython3",
   "version": "3.8.8"
  }
 },
 "nbformat": 4,
 "nbformat_minor": 5
}
