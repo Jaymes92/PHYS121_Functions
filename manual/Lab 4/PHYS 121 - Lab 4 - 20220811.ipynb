{
 "cells": [
  {
   "cell_type": "markdown",
   "id": "0562ce69",
   "metadata": {},
   "source": [
    "# <div style=\"background-color:rgba(204, 229, 255, 0.5); text-align:center; vertical-align: middle; padding:40px 0; margin-top:30px\"><span style=\"color:rgba(0, 76, 153, 1);\">PHYS 121 Lab #4</span></div>\n",
    "# Electric & Hydraulic Circuits &ndash; Week 1"
   ]
  },
  {
   "cell_type": "markdown",
   "id": "39f25a1a",
   "metadata": {},
   "source": [
    "***\n",
    "## Learning Objectives:\n",
    "* <b><span style=\"color:rgba(0, 153, 76, 1);\">Recognize that the concepts and mathematical tools developed to solve a specific problem in one field of physics can often be used to solve seemingly unrelated problems from other fields of physics.</span></b>\n",
    "* <b><span style=\"color:rgba(0, 153, 76, 1);\">Recognize that analogies between distinct physical systems can lead to new insights.</span></b>\n",
    "\n",
    "Over the next two weeks, you will work with both electric and hydraulic circuits.  You will see that concepts developed to analyze electrical circuits can also be applied to their hydraulic analogues.  In addition, you will attempt to uncover differences in the behaviour of the two systems and thus identify limitations of the analogy.)"
   ]
  },
  {
   "cell_type": "markdown",
   "id": "026abe09",
   "metadata": {},
   "source": [
    "***\n",
    "## Install & Import Required Packages:\n",
    "Before starting, place your cursor in the code cell below and press 'Shift' + 'Enter'.  If the 'Check()' function reports that \"All packages already installed\", then proceed by first executing the second code cell that begins with: \n",
    "``` python\n",
    "# Import required and commonly-used modules\n",
    "```\n",
    "\n",
    "If 'Check()' reports that some new packages have been installed, then go to File$\\to$Log Out to complete log out of this notebook.  Then log in and execute the cell below again."
   ]
  },
  {
   "cell_type": "code",
   "execution_count": null,
   "id": "bfa70f71",
   "metadata": {},
   "outputs": [],
   "source": [
    "import installer\n",
    "installer.Check()"
   ]
  },
  {
   "cell_type": "code",
   "execution_count": 2,
   "id": "15ed4215",
   "metadata": {},
   "outputs": [],
   "source": [
    "# Import required and commonly-used modules\n",
    "import numpy as np\n",
    "import pandas as pd\n",
    "import matplotlib.pyplot as plt\n",
    "import httpimport\n",
    "import uncertainties\n",
    "with httpimport.remote_repo(['data_entry'], 'https://cmps-people.ok.ubc.ca/jbobowsk/PHYS_121_Lab/modules'):\n",
    "    import data_entry\n",
    "with httpimport.remote_repo(['PHYS121'], 'https://cmps-people.ok.ubc.ca/jbobowsk/PHYS_121_Lab/modules'):\n",
    "    import PHYS121"
   ]
  },
  {
   "cell_type": "markdown",
   "id": "4754b43e",
   "metadata": {},
   "source": [
    "***\n",
    "## Introduction:\n",
    "It is often the case in physics that the techniques developed to solve one type of problem can be applied to other problems in a different field of physics.  For example, the methods developed to analyze simple electric circuits can be applied to numerous other types of problems.  Here are three examples:\n",
    "* Heat transfer in a complex system, such as a low-temperature physics experiment, can be analyzed in terms of a thermal circuit. \n",
    "* Mechanical resonators, such as a mass on a spring, can be analyzed as an $LRC$ circuit.\n",
    "* Fluid flow in a system of pipes and pumps (or the circulatory system of the body) can be modeled and analyzed using circuit concepts.\n",
    "\n",
    "### *Hydraulic Analogues*\n",
    "\n",
    "<p>\n",
    "<center>\n",
    "<img src=\"https://cmps-people.ok.ubc.ca/jbobowsk/PHYS_121_Lab/Lab4/images/analog.png\" alt=\"image info\" style=\"width: 65%; height: auto;\" /><br>\n",
    "<b>Fig. 1: Comparing a simple electrical circuit (left) to an analogous hydraulic circuit (right).  Figure adapted from HyperPhysics (<a href = \"http://hyperphysics.phy-astr.gsu.edu/hbase/electric/watcir2.html\">http://hyperphysics.phy-astr.gsu.edu/hbase/electric/watcir2.html</a>).</b></center>\n",
    "</p>\n",
    "\n",
    "Imagine the simplest possible single-loop electric circuit made using a battery, resistor, and ideal or zero-resistance connecting wires (left-hand side of Fig. 1).  The voltage difference $\\Delta V$ of the battery drives the flow of charge $q$ around the loop.  The current at any point in the circuit is given by $I=dq/dt$, which represents the amount of charge $dq$ crossing a surface in time $dt$.  The resistance $R$ is related to the voltage difference and current via $R=\\Delta V/I$. \n",
    "\n",
    "Now, imagine an analogous hydraulic or water circuit (right-hand side of Fig. 1).  Instead of a flow of charge, there is a flow of a quantity or volume $v$ of water.  To avoid confusion with voltage, we will use lowercase $v$ as our symbol for volume.  The analogue of current is, therefore, the volume flow rate $Q = dv/dt$.  It is conventional to use capital $Q$ as the symbol for volume flow rate and we will need to take care not to confuse it with charge which we will represent with a lowercase $q$.  It is pressure differences $\\Delta P$ that drive the flow of water in hydraulic circuits.  A pump is one way to establish a constant pressure difference in a hydraulic circuit.  Wide pipes serve as our ideal connecting wires and narrow tubes act as hydraulic resistors.  By analogy with electrical resistance, we can define a hydraulic resistance as $R_\\mathrm{H}=\\Delta P/Q$.\n",
    "\n",
    "The analogy between electric and hydraulic circuits is summarized in the table below.\n",
    "\n",
    "|  <div style=\"width:200px\">electric</div> | <div style=\"width:50px\">&nbsp;</div> | <div style=\"width:250px\">hydraulic</div> |\n",
    "| --: | :-: | :-- |\n",
    "charge: $q\\rm\\ (C)$ | $\\Longleftrightarrow$ | volume: $v\\rm\\ (m^3)$\n",
    "current: $I\\rm\\ (A = C/s)$ | $\\Longleftrightarrow$ | volume flow rate: $Q\\rm\\ (m^3/s)$\n",
    "voltage: $\\Delta V\\rm\\ (V)$ | $\\Longleftrightarrow$ | pressure: $\\Delta P\\rm\\ (Pa = N/m^2)$\n",
    "resistance: $R=\\Delta V/I\\rm\\ (\\Omega = V/A)$ | $\\Longleftrightarrow$ | hydraulic resistance: $R_\\mathrm{H}=\\Delta P/Q\\rm\\ (kg/m^4 s)$\n",
    "\n",
    "In this lab, you will work with both electric and hydraulic circuits.  For the electric circuit, you will investigate how the measured resistance depends on the diameter of the wire.  For the hydraulic circuit, you will investigate how the measured hydraulic resistance depends on the the inner diameter of the resistance tube."
   ]
  },
  {
   "cell_type": "markdown",
   "id": "9f5a51bd",
   "metadata": {},
   "source": [
    "# <div style=\"background-color:rgba(255, 204, 255, 0.5); text-align:center; vertical-align: middle; padding:40px 0; margin-top:30px\"><span style=\"color:rgba(102, 0, 204, 1);\">Part 1 - Electric Resistance (45 minutes)</span></div>\n",
    "\n",
    "In this first part of the lab, you will measure the resistance of some long wires.  The wires that you will work with are all made of the same material.  The wires are all the same length, but have different diameters.  You will use a power supply to apply a voltage across the wires and a hand-held multimeter to measure current.  The voltage applied across the wires can be read directly from the display of the power supply.  To measure the current, the multimeter must by placed in *series* with the power supply.  Specifically, the positive output of the power supply (red) should be connected directly to the positive current input of the multimeter.  The other terminal of the multimeter can then be connected to one end of the wire of interest while the opposite of end of the wire is connected to the negative terminal of the power supply (black).  A schematic diagram of a typical current measurement is shown in the Fig. 2. \n",
    "\n",
    "<p>\n",
    "<center>\n",
    "<img src=\"https://cmps-people.ok.ubc.ca/jbobowsk/PHYS_121_Lab/Lab4/images/ammeter_wiki.png\" alt=\"image info\" style=\"width: 45%; height: auto;\" /><br>\n",
    "    <b>Fig. 2: A current measurement.  The current meter (ammeter) is in <i>series</i> with both the battery and the light bulb.  The positive terminal of the ammeter is connected to the positive terminal of the battery.  Figure adapted from wikiHow (<a href = \"https://www.wikihow.com/Use-an-Ammeter\">https://www.wikihow.com/Use-an-Ammeter</a>)</b></center>\n",
    "</p>"
   ]
  },
  {
   "cell_type": "markdown",
   "id": "6d5a8011",
   "metadata": {},
   "source": [
    "***\n",
    "**(a)** First, for each wire, make a single measurement of voltage and current.  Include uncertainties in your measurements.  For each of your measurements, start with the voltage knob on the power supply turned all the way down (counterclockwise).  Then, turn the voltage up and watch the current reading.  For the data you record, you can use any value of the current that you like as long as it does not exceed $0.100\\rm\\ A$ or $100\\rm\\ mA$.  Higher currents may cause the wires to heat up which could change their resistance.    \n",
    "\n",
    "Use the data block below to create a DataFrame with your measurements and uncertainties. The first list contains the wire diameters that will be used. Enter your measurements in the appropriate lists *in the same order* as they appear in the diameter column."
   ]
  },
  {
   "cell_type": "code",
   "execution_count": 15,
   "id": "0c719402",
   "metadata": {},
   "outputs": [],
   "source": [
    "data = pd.DataFrame({\"d\"  : [0.200, 0.290, 0.315, 0.375, 0.457, 0.558, 0.712, 0.900],\n",
    "                     \"V\"  : [],\n",
    "                     \"dV\" : [],\n",
    "                     \"I\"  : [],\n",
    "                     \"dI\" : []\n",
    "                    })"
   ]
  },
  {
   "cell_type": "markdown",
   "id": "a128a64a",
   "metadata": {},
   "source": [
    "***\n",
    "**(b)** Use the cell below to calculate the resistance of each wire and the uncertainty in the calculated resistance. For this first calculation, we have provided an expression that combine fractional uncertainties to determine the uncertainty in the resistance."
   ]
  },
  {
   "cell_type": "code",
   "execution_count": 16,
   "id": "d1aa94b7",
   "metadata": {},
   "outputs": [
    {
     "name": "stdout",
     "output_type": "stream",
     "text": [
      "       d  V  dV  I  dI    R   dR\n",
      "0  0.200  1   1  1   1  1.0  2.0\n",
      "1  0.290  2   2  2   2  1.0  2.0\n",
      "2  0.315  3   3  3   3  1.0  2.0\n",
      "3  0.375  4   4  4   4  1.0  2.0\n",
      "4  0.457  5   5  5   5  1.0  2.0\n",
      "5  0.558  6   6  6   6  1.0  2.0\n",
      "6  0.712  7   7  7   7  1.0  2.0\n",
      "7  0.900  8   8  8   8  1.0  2.0\n"
     ]
    }
   ],
   "source": [
    "# Enter an expression to calculate the wire resistance.\n",
    "data[\"R\"] = \n",
    "\n",
    "# Here's an expression that can be used to find the uncertainty in the calculated resistances.\n",
    "data[\"dR\"] = R*(data[\"dV\"]/data[\"V\"] + data[\"dI\"]/data[\"I\"])\n",
    "\n",
    "print(data)"
   ]
  },
  {
   "cell_type": "markdown",
   "id": "588a218b",
   "metadata": {},
   "source": [
    "***\n",
    "**(c)** Use the cell below to make a scatter plot of $R\\pm \\Delta R$ versus $D^{-1}$, where $D$ is the wire diameter. Fill in the missing information needed when calling the 'Scatter' function.  Remember that the Scatter function accepts arrays or lists as inputs - to call a column from a DataFrame as a list, use the syntax data\\[\"Column Name\"\\].values. For additional information about the 'Scatter' function, see **Appendix A** near the end of this notebook.   "
   ]
  },
  {
   "cell_type": "code",
   "execution_count": 17,
   "id": "51b624b8",
   "metadata": {},
   "outputs": [
    {
     "data": {
      "image/png": "[encoded data removed]",
      "text/plain": [
       "<Figure size 500x500 with 1 Axes>"
      ]
     },
     "metadata": {
      "needs_background": "light"
     },
     "output_type": "display_data"
    }
   ],
   "source": [
    "fig1 = PHYS121.Scatter(xData = , \n",
    "                       yData = ,  \n",
    "                       yErrors = ,\n",
    "                       xlabel = , \n",
    "                       ylabel = , \n",
    "                       xUnits = , \n",
    "                       yUnits = )"
   ]
  },
  {
   "cell_type": "markdown",
   "id": "a5d69ca5",
   "metadata": {},
   "source": [
    "***\n",
    "**(d)** Use the 'PowerLaw' function to fit the $R\\pm\\Delta R$ versus $D^{-1}$ data to a function of the form $y = A\\,x^N + C$, where $A$ is a coefficient, $N$ is a power, and $C$ is an offset.  \n",
    "\n",
    "The 'PowerLaw' function is called as follows:\n",
    "```python\n",
    "import PHYS121\n",
    "A, N, C, dA, dN, dC, fig = PHYS121.PowerLaw(xData = x, yData = y, yErrors = erry, xlabel = 'x', ylabel = 'y', xUnits ='s', yUnits = 'm')\n",
    "```\n",
    "For additional information about the 'PowerLaw' function, see **Appendix B** near the end of this notebook. "
   ]
  },
  {
   "cell_type": "code",
   "execution_count": null,
   "id": "b51850da",
   "metadata": {},
   "outputs": [],
   "source": [
    "A, N, C, dA, dN, dC, fig = PHYS121.PowerLaw(xData = , \n",
    "                                            yData = , \n",
    "                                            yErrors = , \n",
    "                                            xlabel = , \n",
    "                                            ylabel = , \n",
    "                                            xUnits = , \n",
    "                                            yUnits = )"
   ]
  },
  {
   "cell_type": "markdown",
   "id": "c0f95dde",
   "metadata": {},
   "source": [
    "***\n",
    "**<span style=\"color:blue\">Question 1.1:</span>**  \n",
    "\n",
    "Do the values that you obtained for $N\\pm \\Delta N$ make sense?  What values were you expecting?"
   ]
  },
  {
   "cell_type": "markdown",
   "id": "ba8501e7",
   "metadata": {},
   "source": [
    "***\n",
    "**<span style=\"color:blue\">Answer 1.1:</span>**\n",
    "\n",
    "[//]: # (Please do not delete this comment or anything above it.  Anything below this comment can be deleted.)  \n",
    "\n",
    "Double click this cell and enter your text here.  When done, hit 'Shift' + 'Enter' to execute the cell.  You may delete this text when entering your answer. "
   ]
  },
  {
   "cell_type": "markdown",
   "id": "044e298a",
   "metadata": {},
   "source": [
    "# <div style=\"background-color:rgba(255, 204, 255, 0.5); text-align:center; vertical-align: middle; padding:40px 0; margin-top:30px\"><span style=\"color:rgba(102, 0, 204, 1);\">Part 2 - Hydraulic Current (75 minutes)</span></div>\n",
    "\n",
    "In the second part of the lab, you will make measurements of hydraulic resistance.  However, before beginning, it is important to highlight the differences between the hydraulic circuit shown in on the right of Fig. 1 and the experimental setup that you'll be using, which is shown schematically in Fig. 3.\n",
    "\n",
    "<p>\n",
    "<center>\n",
    "<img src=\"https://cmps-people.ok.ubc.ca/jbobowsk/PHYS_121_Lab/Lab4/images/hydraulic_ohms_law.png\" alt=\"image info\" style=\"width: 45%; height: auto;\" /><br>\n",
    "<b>Fig. 3: A schematic drawing of the experimental setup.  The vessel of water serves as a hydraulic battery and a long narrow tube is the hydraulic resistance.  Measuring the volume of water collected in a beaker as a function of time allows the volume flow rate (i.e. the hydraulic current) to be deduced.</b></center>\n",
    "</p>\n",
    "\n",
    "Rather than using a pump, in your experiment the pressure difference will be supplied using a large vessel of water equipped with an outlet and valve near the bottom.  In the pre-lab assignment, you calculated that the pressure difference between the top of surface of the water and the outlet is given by $\\Delta P = \\rho g\\Delta h$, where $\\rho = 998\\rm\\ kg/m^3$ is the density of water, $g=9.81\\rm\\ m/s^2$ is the gravitational acceleration, and $\\Delta h$ is the height difference shown in Fig. 3.  Once the valve is opened, water will flow through a narrow Teflon tube (i.e. the hydraulic resistor) and into a beaker that sits on a scale.  As long as the volume of water in the vessel is large compared to the amount of water collected by the beaker, the value of $\\Delta h$ will remain approximately constant during the experiment.  As a result the pressure difference $\\Delta P$ is also constant and vessel of water acts as a hydraulic battery.\n",
    "\n",
    "You will measure mass of water collected as function of time for two different resistance tubes.  The inner diameters of the tubes available in the lab are: $0.305$, $0.559$, $0.965$, $1.397$, $1.676$, $1.930$, and $2.413\\rm\\ mm$. Two of the tubes are have been placed on your workbench.  Please use these tubes for you measurements.\n",
    "\n",
    "To make your measurements:\n",
    "\n",
    "* First make sure the beaker empty and place it on the scale.  \n",
    "* Zero the scale so that, when the beaker is empty, the scale reads $0.00\\rm\\ g$.  \n",
    "* Position the open end of Teflon tube above the beaker.  The height of this end should be the same as the height of the opposite end that is inserted into the outlet of the water vessel. \n",
    "* Open the valve to start the flow of water\n",
    "* When the first drop of water enters the beaker, start a timer.\n",
    "* Record a least 12 measurements of the mass at approximately equally-spaced time intervals.\n",
    "* At the end of your set of measurements, close the valve and carefully dump the water that was collected in the beaker back into the top of the vessel.\n",
    "\n",
    "For largest diameter tubes, the flow of water will be fast and time intervals of about $10\\rm\\ s$ may be suitable.  It is difficult to simultaneously watch a time and record the mass.  Coordinate with your partner so that one person is watch the time while the other person writes down the values of the mass.  Alternatively, there are YouTube videos that will play a beep at fixed time intervals.  Here are some links:\n",
    "\n",
    "| interval | link |\n",
    "--: | :--\n",
    "$5\\rm\\ s$ | https://www.youtube.com/watch?v=NMIZQcebfKI\n",
    "$10\\rm\\ s$ | https://www.youtube.com/watch?v=Xjv2-F6Quls\n",
    "$15\\rm\\ s$ | https://www.youtube.com/watch?v=LaUe-Hf0uSM\n",
    "$30\\rm\\ s$ | https://www.youtube.com/watch?v=2AFro8meJGI\n",
    "$60\\rm\\ s$ | https://www.youtube.com/watch?v=-22N-qs5PHE\n",
    "$120\\rm\\ s$ | https://www.youtube.com/watch?v=2dAorgAB0I4\n",
    "\n",
    "The narrowest tubes will have very low flow rates and the data collection will likely take between $20$ and $30$ minutes.\n",
    "\n",
    "**Do NOT allow the beaker to overflow**. Exposure to water may irreversibly damage the scale."
   ]
  },
  {
   "cell_type": "markdown",
   "id": "c95b38b3",
   "metadata": {},
   "source": [
    "***\n",
    "**(a)** Collect your data and enter it into the DataFrame below. Choose appropriate column names and enter them between the quotation marks below."
   ]
  },
  {
   "cell_type": "code",
   "execution_count": 19,
   "id": "9b50a047",
   "metadata": {},
   "outputs": [],
   "source": [
    "# Tube 1 spreadsheet.  Label the spreadsheet with the inner diameter of the Teflon tube. \n",
    "tube1 = pd.DataFrame({\" \" : [],\n",
    "                      \" \" : [],\n",
    "                      \" \" : []\n",
    "                      })"
   ]
  },
  {
   "cell_type": "markdown",
   "id": "e0b01d4a",
   "metadata": {},
   "source": [
    "***\n",
    "**(b)** In the cell below, convert your mass measurements to volume and create a scatter plot of volume (hydraulic charge) versus time. Use SI units."
   ]
  },
  {
   "cell_type": "code",
   "execution_count": null,
   "id": "bcfdcdf5",
   "metadata": {},
   "outputs": [],
   "source": [
    "volume1 = \n",
    "fig1 = PHYS121.Scatter()"
   ]
  },
  {
   "cell_type": "markdown",
   "id": "dd963b6c",
   "metadata": {},
   "source": [
    "***\n",
    "**(c)** The slope of your volume versus time plot gives the volume flow rate or hydraulic current.  In the cell below, use the 'LinearFit' function to fit your volume versus time data and determine the volume flow rate and its uncertainty.  \n",
    "\n",
    "For additional information about the 'LinearFit' function, see **Appendix C** near the end of this notebook. "
   ]
  },
  {
   "cell_type": "code",
   "execution_count": null,
   "id": "9ea2c123",
   "metadata": {},
   "outputs": [],
   "source": [
    "m1, b1, dm1, db1, fig1 = PHYS121.LinearFit(xData = , \n",
    "                                           yData = , \n",
    "                                           yErrors = , \n",
    "                                           xlabel = , \n",
    "                                           ylabel = , \n",
    "                                           xUnits = , \n",
    "                                           yUnits = )"
   ]
  },
  {
   "cell_type": "markdown",
   "id": "f26cb0fb",
   "metadata": {},
   "source": [
    "***\n",
    "**<span style=\"color:blue\">Question 2.1:</span>**  \n",
    "\n",
    "In the cell below, for your first tube enter the:\n",
    "* Tube diameter\n",
    "* Volume flow rate\n",
    "* Uncertainty in the volume flow rate"
   ]
  },
  {
   "cell_type": "markdown",
   "id": "59db23e6",
   "metadata": {},
   "source": [
    "***\n",
    "**<span style=\"color:blue\">Answer 2.1:</span>**"
   ]
  },
  {
   "cell_type": "code",
   "execution_count": null,
   "id": "98b3cdf7",
   "metadata": {},
   "outputs": [],
   "source": [
    "# Tube 1\n",
    "D1 =        # mm\n",
    "Q1 =        # m^3/s\n",
    "dQ1 =       # m^3/s"
   ]
  },
  {
   "cell_type": "markdown",
   "id": "d805c934",
   "metadata": {},
   "source": [
    "***\n",
    "**(d)** Repeat steps **(a)**, **(b)**, **(c)** above for your second tube."
   ]
  },
  {
   "cell_type": "code",
   "execution_count": null,
   "id": "4f116c17",
   "metadata": {},
   "outputs": [],
   "source": [
    "# Tube 2 DataFrame\n",
    "tube2 = pd.DataFrame({\" \" : [],\n",
    "                      \" \" : [],\n",
    "                      \" \" : []\n",
    "                      })"
   ]
  },
  {
   "cell_type": "code",
   "execution_count": null,
   "id": "c6ff1509",
   "metadata": {},
   "outputs": [],
   "source": [
    "volume2 = \n",
    "fig2 = PHYS121.Scatter()"
   ]
  },
  {
   "cell_type": "code",
   "execution_count": null,
   "id": "b4a8d2b1",
   "metadata": {},
   "outputs": [],
   "source": [
    "m2, b2, dm2, db2, fig2 = PHYS121.LinearFit(xData = , \n",
    "                                           yData = , \n",
    "                                           yErrors = , \n",
    "                                           xlabel = , \n",
    "                                           ylabel = , \n",
    "                                           xUnits = , \n",
    "                                           yUnits = )"
   ]
  },
  {
   "cell_type": "markdown",
   "id": "2974a858",
   "metadata": {},
   "source": [
    "***\n",
    "**<span style=\"color:blue\">Question 2.2:</span>**  \n",
    "\n",
    "In the cell below, for your second tube enter the:\n",
    "* Tube diameter\n",
    "* Volume flow rate\n",
    "* Uncertainty in the volume flow rate"
   ]
  },
  {
   "cell_type": "markdown",
   "id": "8bb0b576",
   "metadata": {},
   "source": [
    "***\n",
    "**<span style=\"color:blue\">Answer 2.2:</span>**"
   ]
  },
  {
   "cell_type": "code",
   "execution_count": null,
   "id": "6eeac9d0",
   "metadata": {},
   "outputs": [],
   "source": [
    "# Tube 2\n",
    "D2 =        # mm\n",
    "Q2 =        # m^3/s\n",
    "dQ2 =       # m^3/s"
   ]
  },
  {
   "cell_type": "markdown",
   "id": "fafc195d",
   "metadata": {},
   "source": [
    "# <div style=\"background-color:rgba(255, 204, 255, 0.5); text-align:center; vertical-align: middle; padding:40px 0; margin-top:30px\"><span style=\"color:rgba(102, 0, 204, 1);\">Part 4 - Hydraulic Resistance (20 minutes)</span></div>\n",
    "\n",
    "In this part of the lab, you will calculate the hydraulic resistance $R_\\mathrm{H}$ of your Teflon tubes."
   ]
  },
  {
   "cell_type": "markdown",
   "id": "5da713e6",
   "metadata": {},
   "source": [
    "***\n",
    "**(a)** First, for your water vessel, measure the difference in height between the top surface of the water and the outlet.  Include uncertainties. Enter the measurement in the cell below."
   ]
  },
  {
   "cell_type": "code",
   "execution_count": null,
   "id": "0b9d52b8",
   "metadata": {},
   "outputs": [],
   "source": [
    "# Enter the measured height difference.\n",
    "h = \n",
    "\n",
    "# Enter the uncertainty in the measured height difference.\n",
    "dh = "
   ]
  },
  {
   "cell_type": "markdown",
   "id": "cabeefe2",
   "metadata": {},
   "source": [
    "***\n",
    "**(b)** In the cell below, calculate the pressure difference supplied by the hydraulic battery.  Calculate the uncertainty in the pressure difference."
   ]
  },
  {
   "cell_type": "code",
   "execution_count": null,
   "id": "258c56b0",
   "metadata": {},
   "outputs": [],
   "source": [
    "# Here's the pressure calculation done for you.\n",
    "g = 9.81 # m/s^2\n",
    "rho = 998 # kg/m^3\n",
    "P = rho*g*h\n",
    "\n",
    "# You complete the calculation of the uncertainty in the pressure difference\n",
    "dP = \n",
    "\n",
    "# Let's display the calculated values.\n",
    "print('P =', P, '+/-', dP, 'Pa') "
   ]
  },
  {
   "cell_type": "markdown",
   "id": "15550e5f",
   "metadata": {},
   "source": [
    "***\n",
    "**(c)** Next, use the two cells below to calculate the hydraulic resistances (and their uncertainties) of your two Teflon tubes."
   ]
  },
  {
   "cell_type": "code",
   "execution_count": null,
   "id": "f6a81f84",
   "metadata": {},
   "outputs": [],
   "source": [
    "# Tube 1\n",
    "# Calculate the hydraulic resistance.\n",
    "RH1 = \n",
    "\n",
    "# Calculate the uncertainty in the hydraulic resistance.\n",
    "dRH1 = \n",
    "\n",
    "# Display the calculated values.\n",
    "print('RH1 =', RH1, '+/-', dRH1, 'kg/m^4s') "
   ]
  },
  {
   "cell_type": "code",
   "execution_count": null,
   "id": "aaa7044b",
   "metadata": {},
   "outputs": [],
   "source": [
    "# Tube 2\n",
    "# Calculate the hydraulic resistance.\n",
    "RH2 = \n",
    "\n",
    "# Calculate the uncertainty in the hydraulic resistance.\n",
    "dRH2 = \n",
    "\n",
    "# Display the calculated values.\n",
    "print('RH2 =', RH2, '+/-', dRH2, 'kg/m^4s') "
   ]
  },
  {
   "cell_type": "markdown",
   "id": "d9486086",
   "metadata": {},
   "source": [
    "***\n",
    "There are seven different Teflon tube sizes in the lab, but you've only measured two of them.  To get a more complete picture of how $R_\\mathrm{H}$ depends on the inner diameter of the tube, we will collaborate with the rest of the groups in your lab section.\n",
    "\n",
    "A Google Sheets document has been created to facilitate sharing of data.  The document has a tab for each section of the PHYS 121 lab.  When you navigate to the shared document, please select the tab that corresponds to your lab section.  Here is the link to the Google Sheets document: \n",
    "\n",
    "https://docs.google.com/spreadsheets/d/1YKCpxz2sVL6sYrjDAprA9DD_OBp0AmDZwlupko6s7L8/edit?usp=sharing\n",
    "\n",
    "**(d)** Before the end of the lab, enter your results from two code cells above into the Google Sheets document.  Enter your data into the row that corresponds to your Group Number.\n",
    "\n",
    "The data collected in this document will be at the start of next week's lab.  Specifically, you will use the data to investigate how the hydraulic resistance depends on the inner diameter of the Teflon tube. "
   ]
  },
  {
   "cell_type": "markdown",
   "id": "3be24b1c",
   "metadata": {},
   "source": [
    "# <div style=\"background-color:rgba(255, 204, 255, 0.5); text-align:center; vertical-align: middle; padding:40px 0; margin-top:30px\"><span style=\"color:rgba(102, 0, 204, 1);\">Part 5 - Reflection and statement of contributions (25 minutes)</span></div>"
   ]
  },
  {
   "cell_type": "markdown",
   "id": "26dd87f6",
   "metadata": {},
   "source": [
    "Questions 5.1 is used to reflect on the learning objectives stated at beginning of the notebook. \n",
    "***\n",
    "**<span style=\"color:blue\">Question 5.1:</span>**  \n",
    "\n",
    "In a few short sentences, describe at least one new insight about electrical circuits that you came to appreciate after working with and thinking about hydraulic circuits."
   ]
  },
  {
   "cell_type": "markdown",
   "id": "6504ba8a",
   "metadata": {},
   "source": [
    "***\n",
    "**<span style=\"color:blue\">Answer 5.1:</span>**\n",
    "\n",
    "[//]: # (Please do not delete this comment or anything above it.  Anything below this comment can be deleted.)  \n",
    "\n",
    "Double click this cell and enter your text here.  When done, hit 'Shift' + 'Enter' to execute the cell.  You may delete this text when entering your answer. "
   ]
  },
  {
   "cell_type": "markdown",
   "id": "a9768610",
   "metadata": {},
   "source": [
    "***\n",
    "**<span style=\"color:blue\">Question 5.2:</span>**  \n",
    "\n",
    "In a few short sentences, describe at least one possible extension of the hydraulic circuits lab.  That is, what other types of experiments could you imagine doing using hydraulic batteries and resistors?  "
   ]
  },
  {
   "cell_type": "markdown",
   "id": "21445aa8",
   "metadata": {},
   "source": [
    "***\n",
    "**<span style=\"color:blue\">Answer 5.2:</span>**\n",
    "\n",
    "[//]: # (Please do not delete this comment or anything above it.  Anything below this comment can be deleted.)  \n",
    "\n",
    "Double click this cell and enter your text here.  When done, hit 'Shift' + 'Enter' to execute the cell.  You may delete this text when entering your answer. "
   ]
  },
  {
   "cell_type": "markdown",
   "id": "59c4b344",
   "metadata": {},
   "source": [
    "***\n",
    "Below, you will briefly summarize the contributions that you and your partner made when completely this lab.  Please ensure that both partners have a chance to engage in all types of lab activities (developing the experimental methods/data collection strategies, hands-on interaction with the apparatus/data collection, and data processing/analysis in the Jupyter notebook).  Note that statements of contributions are common in science.  The figure below shows one example taken from a 2021 paper published in the journal *Nature Physics*.\n",
    "\n",
    "<p>\n",
    "<center>\n",
    "<img src=\"https://cmps-people.ok.ubc.ca/jbobowsk/PHYS_121_Lab/Lab1/images/contributions.jpg\" alt=\"image info\" style=\"width: 60%; height: auto;\" /><br>\n",
    "<b>Fig. 2: A sample statement of author contributions from a recent journal article.</b></center>\n",
    "</p>\n"
   ]
  },
  {
   "cell_type": "markdown",
   "id": "6e001118",
   "metadata": {},
   "source": [
    "***\n",
    "**<span style=\"color:blue\">Question 5.3(a):</span>**  \n",
    "\n",
    "Answer this question only if you worked with a partner to complete this lab.\n",
    "\n",
    "In two or three sentences describe the specific contributions of **Partner A** to this lab.  For example, worked with the experimental apparatus to collect data for Part 1 of the lab, entered and processed the data in the Jupyter notebook for Part 2 of the lab, ...  "
   ]
  },
  {
   "cell_type": "markdown",
   "id": "70517987",
   "metadata": {},
   "source": [
    "***\n",
    "**<span style=\"color:blue\">Answer 5.3(a):</span>**\n",
    "\n",
    "[//]: # (Please do not delete this comment or anything above it.  Anything below this comment can be deleted.)  \n",
    "\n",
    "Double click this cell and enter your text here.  Please start be entering the name and student number of **Partner A**.  When done, hit 'Shift' + 'Enter' to execute the cell.  You may delete this text when entering your answer. "
   ]
  },
  {
   "cell_type": "markdown",
   "id": "fecb95ee",
   "metadata": {},
   "source": [
    "***\n",
    "**<span style=\"color:blue\">Question 5.3(b):</span>**  \n",
    "\n",
    "Answer this question only if you worked with a partner to complete this lab.\n",
    "\n",
    "In two or three sentences describe the specific contributions of **Partner B** to this lab.  "
   ]
  },
  {
   "cell_type": "markdown",
   "id": "4e68b62f",
   "metadata": {},
   "source": [
    "***\n",
    "**<span style=\"color:blue\">Answer 5.3(b):</span>**\n",
    "\n",
    "[//]: # (Please do not delete this comment or anything above it.  Anything below this comment can be deleted.)  \n",
    "\n",
    "Double click this cell and enter your text here.  Please start be entering the name and student number of **Partner B**.  When done, hit 'Shift' + 'Enter' to execute the cell.  You may delete this text when entering your answer. "
   ]
  },
  {
   "cell_type": "markdown",
   "id": "80c2c586",
   "metadata": {},
   "source": [
    "***\n",
    "**<span style=\"color:blue\">Question 5.4:</span>**  \n",
    "\n",
    "We welcome your feedback on the PHYS 121 labs!  Please feel free to include any comments you have about this lab in the cell below.  Your comments will be taken into consideration when revising/improving the PHYS 121 labs.  You can suggest improvements, point out anything that was unclear, comment on the strengths and weaknesses of the lab, ...\n",
    "\n",
    "This question is optional and will have no impact on your lab grade."
   ]
  },
  {
   "cell_type": "markdown",
   "id": "b8d518de",
   "metadata": {},
   "source": [
    "***\n",
    "**<span style=\"color:blue\">Answer 5.4:</span>**\n",
    "\n",
    "[//]: # (Please do not delete this comment or anything above it.  Anything below this comment can be deleted.)  \n",
    "\n",
    "Double click this cell and enter your text here.  When done, hit 'Shift' + 'Enter' to execute the cell.  You may delete this text when entering your answer. "
   ]
  },
  {
   "cell_type": "markdown",
   "id": "3e270ee2",
   "metadata": {},
   "source": [
    "# <div style=\"background-color:rgba(255, 204, 255, 0.5); text-align:center; vertical-align: middle; padding:40px 0; margin-top:30px\"><span style=\"color:rgba(102, 0, 204, 1);\">Part 6 - Playground (optional)</span></div>\n",
    "\n",
    "Feel free to add as many cells as you like below and use them as a playground for further independent investigations.  These cells won't be graded, so feel free to use them in any way that you like.  "
   ]
  },
  {
   "cell_type": "code",
   "execution_count": null,
   "id": "6bf1dc12",
   "metadata": {},
   "outputs": [],
   "source": [
    "# Here's an empty code cell that you can use.  "
   ]
  },
  {
   "cell_type": "code",
   "execution_count": null,
   "id": "c4a47a58",
   "metadata": {},
   "outputs": [],
   "source": [
    "# Here's another empty code cell that you can use."
   ]
  },
  {
   "cell_type": "code",
   "execution_count": null,
   "id": "ffc4ad8d",
   "metadata": {},
   "outputs": [],
   "source": [
    "# Here's yet another empty code cell that you can use.  \n",
    "# If you need more, you can add cells using the '+' icon in the menu bar at to the top of the screen."
   ]
  },
  {
   "cell_type": "markdown",
   "id": "ec3ed8fa",
   "metadata": {},
   "source": [
    "### <div style=\"background-color:rgba(255, 255, 102, 0.5); text-align:left; padding:20px 0; margin-top:20px\">$\\quad$Appendix A &ndash; The Scatter Function...</div>\n",
    "\n",
    "The function for generating scatter plots is called as follows:\n",
    "```python\n",
    "Scatter(xData, yData, yErrors = [], xlabel = 'x-axis', ylabel = 'y-axis', xUnits = '', yUnits = '', fill = False, show = True)\n",
    "```\n",
    "The 'xData' and 'yData' inputs are required, all other arguments are optional with default values set.  The function returns the a single output (the formatted plot):\n",
    "```python\n",
    "fig\n",
    "```\n",
    "\n",
    "The function will do a simple scatter plot if no 'yError' are included.  It will included error bars if 'yErrors' are passed to the function.  The 'fill' and 'show' arguments should generally be false.  \n",
    "\n",
    "If the 'xData' list is empty, as in:\n",
    "```python\n",
    "xData = []\n",
    "```\n",
    "then the x-axis will be the trial number.  For example, is 'xData' is empty and 'yData' has 10 elements, the x-axis will span 1 to 10.\n",
    "\n",
    "### Scatter Example Implmentation\n",
    "The code block below shows an implementation of 'Scatter'.\n",
    "```python\n",
    "import PHYS121\n",
    "theta = [10, 20, 30] # degrees\n",
    "T = [2.02, 1.95, 2.13] # s\n",
    "errT = [0.02, 0.02, 0.03] # s\n",
    "fig = PHYS121.Scatter(theta, T, errT, 'initial angle' , 'period', 'degrees', 's')\n",
    "```\n",
    "\n",
    "If you're interested in generating your own plots with customized formatting, see the following Python-based plotting tutorial: https://cmps-people.ok.ubc.ca/jbobowsk/Python/html/Jupyter%20Basic%20Plots.html.\n",
    "***"
   ]
  },
  {
   "cell_type": "markdown",
   "id": "b6edc3a6",
   "metadata": {},
   "source": [
    "### <div style=\"background-color:rgba(255, 255, 102, 0.5); text-align:left; padding:20px 0; margin-top:20px\">$\\quad$Appendix B &ndash; The PowerLaw Function...</div>\n",
    "\n",
    "The power law function fits data to a function of the form $y=A\\,x^N + C$ and is called as follows:\n",
    "```python\n",
    "PowerLaw(xData, yData, yErrors = [], xlabel = 'x-axis', ylabel = 'y-axis', xUnits = '', yUnits = '')\n",
    "```\n",
    "The xData and yData lists are required.  The others are optional with default values set.  The function returns the following outputs:\n",
    "```python\n",
    "A, N, C, errA, errN, errC, fig\n",
    "```\n",
    "The first six outputs are numerical values and 'fig' is the formatted plot. \n",
    "\n",
    "If $y$-uncertainties are provided, the function will perform a weighted fit.  The $y$-uncertainties list must be the same length as $x$- and $y$-data lists.  If $y$-uncertainties are not provided, the fit will be unweighted.  The other optional arguments include $x$- and $y$-axis names and units for the $x$- and $y$-datasets.  These must be entered as strings (enclosed in quotations) and they are used for formatting the outputs of the function.\n",
    "\n",
    "### Unweighted Fit Example Implmentation\n",
    "The code block below shows the most basic use of 'PowerLaw' for an unweighted fit without any of the optional arguments.\n",
    "```python\n",
    "import PHYS121\n",
    "x = [1, 2, 3, 4]\n",
    "y = [1.1, 3.9, 8.7, 16.5]\n",
    "A, N, C, dA, dN, dC, fig = PHYS121.PowerLaw(x, y)\n",
    "```\n",
    "\n",
    "### Weighted Fit Example Implmentation\n",
    "This second blcok of code shows how to use 'PowerLaw' to do a weighted fit.  It also makes use of all of the other optional arguments.  \n",
    "```python\n",
    "import PHYS121\n",
    "x = [1, 2, 3, 4]\n",
    "y = [1.1, 3.9, 8.7, 16.5]\n",
    "erry = [0.05, 0.12, 0.20, 0.5]\n",
    "A, N, C, dA, dN, dC, fig = PHYS121.PowerLaw(x, y, erry, 'x' , 'y', 's', 'm')\n",
    "```\n",
    "\n",
    "The 'A, N, C, dA, dN, dC, fig = ...' syntax is used to store the function outputs in variables.\n",
    "***"
   ]
  },
  {
   "cell_type": "markdown",
   "id": "816a0bbb",
   "metadata": {},
   "source": [
    "### <div style=\"background-color:rgba(255, 255, 102, 0.5); text-align:left; padding:20px 0; margin-top:20px\">$\\quad$Appendix C &ndash; The LinearFit Function...</div>\n",
    "\n",
    "The linear-fit function is called as follows:\n",
    "```python\n",
    "LinearFit(xData, yData, yErrors = [], xlabel = 'x-axis', ylabel = 'y-axis', xUnits = '', yUnits = '', fill = False)\n",
    "```\n",
    "The xData and yData lists are required.  The others are optional with default values set.  The function returns the following outputs:\n",
    "```python\n",
    "Slope, Yintercept, errSlope, errYintercept, fig\n",
    "```\n",
    "The first four outputs are numerical values and 'fig' is the formatted plot. \n",
    "\n",
    "If $y$-uncertainities are provided, the function will perform a weighted fit.  The $y$-uncertainties list must be the same length as $x$- and $y$-data lists.  If $y$-uncertainties are not provided, the fit will be unweighted.  The other optional arguments include $x$- and $y$-axis names and units for the $x$- and $y$-datasets.  These must be entered as strings (enclosed in quotations) and they are used for formatting the outputs of the function.  If 'fill' is set to True, shading will be added around the best-fit line representing confindence intervals. \n",
    "\n",
    "### Unweighted Fit Example Implmentation\n",
    "The code block below shows the most basic use of 'LinearFit' for an unweighted fit without any of the optional arguments.\n",
    "```python\n",
    "import PHYS121\n",
    "V = [1, 2, 3, 4]\n",
    "I = [0.12, 0.198, 0.285, 0.412]\n",
    "m, b, dm, db, fig = PHYS121.LinearFit(V, I)\n",
    "```\n",
    "\n",
    "### Weighted Fit Example Implmentation\n",
    "This second blcok of code shows how to use 'LinearFit' to do a weighted fit.  It also makes use of all of the other optional arguments.  \n",
    "```python\n",
    "import PHYS121\n",
    "V = [1, 2, 3, 4]\n",
    "I = [0.12, 0.198, 0.285, 0.412]\n",
    "errI = [0.005, 0.012, 0.020, 0.025]\n",
    "m, b, dm, db, fig = PHYS121.LinearFit(V, I, errI, 'voltage' , 'current', 'V', 'A', True)\n",
    "```\n",
    "\n",
    "The 'm, b, dm, db, fig = ...' syntax is used to store the function outputs in varibles.  If you're interested in details of the fitting process, see the following Python-based tutorial: https://cmps-people.ok.ubc.ca/jbobowsk/Python/html/Jupyter%20Weighted%20Linear%20Fit.html\n",
    "***"
   ]
  },
  {
   "cell_type": "markdown",
   "id": "38172bec",
   "metadata": {},
   "source": [
    "Last update: August 11, 2022"
   ]
  }
 ],
 "metadata": {
  "kernelspec": {
   "display_name": "Python 3 (ipykernel)",
   "language": "python",
   "name": "python3"
  },
  "language_info": {
   "codemirror_mode": {
    "name": "ipython",
    "version": 3
   },
   "file_extension": ".py",
   "mimetype": "text/x-python",
   "name": "python",
   "nbconvert_exporter": "python",
   "pygments_lexer": "ipython3",
   "version": "3.8.8"
  }
 },
 "nbformat": 4,
 "nbformat_minor": 5
}
