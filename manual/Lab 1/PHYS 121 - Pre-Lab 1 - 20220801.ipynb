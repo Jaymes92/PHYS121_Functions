{
 "cells": [
  {
   "cell_type": "markdown",
   "id": "0562ce69",
   "metadata": {},
   "source": [
    "# <div style=\"background-color:rgba(204, 229, 255, 0.5); text-align:center; vertical-align: middle; padding:40px 0; margin-top:30px\"><span style=\"color:rgba(0, 76, 153, 1);\">PHYS 121 Pre-Lab #1</span></div>\n",
    "# Oscillations of a Simple Pendulum &ndash; Week 1"
   ]
  },
  {
   "cell_type": "markdown",
   "id": "39f25a1a",
   "metadata": {},
   "source": [
    "***\n",
    "## Learning Objectives:\n",
    "* <b><span style=\"color:rgba(0, 153, 76, 1);\">Understand what *does* and *does not* affect the width of a distribution of measurements.</span></b>\n",
    "* <b><span style=\"color:rgba(0, 153, 76, 1);\">Understand how to determine the uncertainty associated with the *mean* or *average* value of a set of measurements.</span></b> "
   ]
  },
  {
   "cell_type": "markdown",
   "id": "4754b43e",
   "metadata": {},
   "source": [
    "***\n",
    "## Introduction:\n",
    "\n",
    "This pre-lab will be used to develop some insights that will help you begin to meet the learning objectives for Lab #1.  Furthermore, the pre-lab will introduce some of the Python functions that will be used to analyze the data that you collect during the lab.\n",
    "\n",
    "When a quantity, such as the period of a pendulum, is measured many times using the same measurement technique, one obtains a **distribution** of measurements.  Most of the time (but not always), the data follow a **Gaussian** distribution which is also known as a **normal** distribution or **bell curve** (Fig. 1). The figure below shows an ideal Gaussian distribution which has been normalized so that the total area beneath the curve is one. The peak of the distribution occurs at the **mean** $\\mu$ and its width is characterized by the **standard deviation** $\\sigma$.  The horizonal axis in Fig. 1 shows the locations of $\\mu$, $\\mu\\pm\\sigma$, $\\mu\\pm 2\\sigma$, and $\\mu\\pm 3\\sigma$.\n",
    "\n",
    "<p>\n",
    "<center>\n",
    "<img src=\"https://cmps-people.ok.ubc.ca/jbobowsk/PHYS_121_Lab/Lab1/images/Standard_deviation_diagram_micro.svg\" alt=\"image info\" style=\"width: 85%; height: auto;\" /><br>\n",
    "<b>Fig. 1: An ideal Gaussian distribution.</b></center>\n",
    "</p>\n",
    "\n",
    "When collecting experimental data, however, you won't see a smooth curve like this.  We often use **histograms** to represent the distribution of data.  First we define ranges of values called **bins**, and then we count the number of datapoints that fall into each range.  For example, if you were to measure the speed of different objects in the asteroid belt, you could define your bins to be ranges of 1 kilometer per second.  A measurement of 17.8km/s (the average orbital speed of Ceres) would add a count to the 17-18km/s bin.  \n",
    "\n",
    "As more and more data is collected, histograms will often approximate the shape of a Gaussian distribution. To exactly produce the ideal distribution in Fig. 1, one would need to make an infinite number of measurements of the quantity of interest and then plot a histogram of those data.  This is impractical, of course, so we can only hope to use a finite set of data to approximate an ideal distribution.  \n",
    "\n",
    "\n",
    "**The 68-95-99.7 rule**<br>\n",
    "The area between two points $x_1$ and $x_2$ beneath a normalized Gaussian distribution gives the probability that a single measurement $x$ will fall between those values.  For example, in Fig. 1 region shaded dark blue extends from $x_1=\\mu-\\sigma$ to $x_2=\\mu+\\sigma$ and has an area of $0.68$.  This observation implies that $68\\%$ of measurements are expected to fall within one standard deviation $\\sigma$ of the mean $\\mu$.  In a similar way, $95\\%$ of measurements are expected to fall within $\\pm 2\\sigma$ of the mean and $99.7\\%$ of measurements are expected to fall within $\\pm 3\\sigma$ of the mean.\n",
    "\n",
    "When estimating the uncertainty of a single measurement, one is trying to estimate the standard deviation that would be obtained if the measurement was repeated many times (without actually doing the repeated measurements). "
   ]
  },
  {
   "cell_type": "markdown",
   "id": "3766ece8",
   "metadata": {},
   "source": [
    "# <div style=\"background-color:rgba(255, 204, 255, 0.5); text-align:center; vertical-align: middle; padding:40px 0; margin-top:30px\"><span style=\"color:rgba(102, 0, 204, 1);\">Part 1 - Simulated Data ($N=20$)</span></div>\n",
    "\n",
    "One of the advantages of using Jupyter notebooks for the lab manuals and pre-labs is that, when appropriate, it can be used to generate simulated data.  The simulated datasets can then be used to develop important insights that will help us interpret real experimental data.\n",
    "\n",
    "The block of code below generates a set of $N$ simulated 'measurements' drawn from a Gaussian distribution with mean $\\mu$ and standard deviation $\\sigma$.  You do **not** need to understand the syntax of the code.  It is include only for the benefit of those interested in understanding the details of how the simulated data is generated."
   ]
  },
  {
   "cell_type": "code",
   "execution_count": 1,
   "id": "264e5e6b",
   "metadata": {},
   "outputs": [
    {
     "data": {
      "text/plain": [
       "array([2.18310774, 2.7545586 , 2.80540923, 1.46407223, 2.37073769,\n",
       "       1.81417495, 2.209313  , 2.31888096, 2.1234611 , 1.84186134,\n",
       "       2.23516364, 2.60347112, 2.58158305, 2.33577555, 1.61236701,\n",
       "       1.7189977 , 2.70400888, 1.78378491, 3.00798811, 1.70023027])"
      ]
     },
     "execution_count": 1,
     "metadata": {},
     "output_type": "execute_result"
    }
   ],
   "source": [
    "# Import the useful Numpy module.\n",
    "import numpy as np \n",
    "\n",
    "# Define values for mean & standard deviation of the Gaussian/normal distribution.\n",
    "mu = 2.2 # mean \n",
    "sigma = 0.5 # standard deviation\n",
    "\n",
    "# Enter the number of simulated data points to generate.\n",
    "N = 20\n",
    "\n",
    "# Generate the simulated data.\n",
    "sim20 = np.random.normal(mu, sigma, N)\n",
    "\n",
    "# Show the list of simulated data points.\n",
    "sim20"
   ]
  },
  {
   "cell_type": "markdown",
   "id": "213f53b4",
   "metadata": {},
   "source": [
    "In the cell below, you will use a function called 'Statistics' to produce a histogram of measured periods and to calculate some basic statistics of your dataset (mean, standard deviation, and standard error). The 'Statistics' function is called as follows:\n",
    "```python\n",
    "import PHYS121\n",
    "counts, centres, average20, stdDev20, stdError20, fig20 = PHYS121.Statistics(xData = sim20)\n",
    "```\n",
    "For additional information about the 'Statistics' function, see **Appendix A** near the end of this notebook.  "
   ]
  },
  {
   "cell_type": "code",
   "execution_count": 2,
   "id": "26cb7a9a",
   "metadata": {},
   "outputs": [
    {
     "name": "stdout",
     "output_type": "stream",
     "text": [
      "\n"
     ]
    },
    {
     "data": {
      "text/latex": [
       "$N = 20$."
      ],
      "text/plain": [
       "<IPython.core.display.Latex object>"
      ]
     },
     "metadata": {},
     "output_type": "display_data"
    },
    {
     "data": {
      "text/latex": [
       "The average of the data is $\\mu = 2.21\\, \\mathrm{  }.$"
      ],
      "text/plain": [
       "<IPython.core.display.Latex object>"
      ]
     },
     "metadata": {},
     "output_type": "display_data"
    },
    {
     "data": {
      "text/latex": [
       "The standard deviation of the data is $\\sigma = 0.446\\, \\mathrm{  }.$"
      ],
      "text/plain": [
       "<IPython.core.display.Latex object>"
      ]
     },
     "metadata": {},
     "output_type": "display_data"
    },
    {
     "data": {
      "text/latex": [
       "The standard error of the data is $\\sigma_\\mu = \\sigma/\\sqrt{N} = \\mathrm0.10\\, \\mathrm{  }.$"
      ],
      "text/plain": [
       "<IPython.core.display.Latex object>"
      ]
     },
     "metadata": {},
     "output_type": "display_data"
    },
    {
     "data": {
      "image/png": "[encoded data removed]",
      "text/plain": [
       "<Figure size 500x500 with 1 Axes>"
      ]
     },
     "metadata": {
      "needs_background": "light"
     },
     "output_type": "display_data"
    }
   ],
   "source": [
    "# Import PHYS121.py which contains many useful functions that we'll use in PHYS 121.\n",
    "import PHYS121\n",
    "\n",
    "# Plot a histogram of the simulated data and calculate some basic statistics.\n",
    "counts, centres, average20, stdDev20, stdError20, fig20 = PHYS121.Statistics(data = sim20)"
   ]
  },
  {
   "cell_type": "markdown",
   "id": "f9553e70",
   "metadata": {},
   "source": [
    "***\n",
    "**<span style=\"color:blue\">Question 1.1:</span>**  \n",
    "\n",
    "In two or three sentences, comment on the shape of the histogram that was generated using the simulated data.  What features does it have in common with the ideal Gaussian distribution shown in Fig. 1?  What are the differences?   "
   ]
  },
  {
   "cell_type": "markdown",
   "id": "f546a484",
   "metadata": {},
   "source": [
    "***\n",
    "**<span style=\"color:blue\">Answer 1.1:</span>**\n",
    "\n",
    "[//]: # (Please do not delete this comment or anything above it.  Anything below this comment can be deleted.)  \n",
    "\n",
    "Double click this cell and enter your text here.  When done, hit 'Shift' + 'Enter' to execute the cell.  You may delete this text when entering your answer. "
   ]
  },
  {
   "cell_type": "markdown",
   "id": "a2ba99e9",
   "metadata": {},
   "source": [
    "***\n",
    "The lines of code below are used to make a scatter plot of the simulated data.  The $x$-axis represents the trial number and  the $y$-axis is the corresponding value.  The dashed pink line marks the average value $\\mu$, the solid red line marks $\\mu+\\sigma$, and the solid blue line marks $\\mu-\\sigma$.  \n",
    "\n",
    "Again, you do **not** need to spend time understanding the syntax of the code.  It is merely provided for the benefit of those interested in seeing the specific details."
   ]
  },
  {
   "cell_type": "code",
   "execution_count": 4,
   "id": "b4440310",
   "metadata": {},
   "outputs": [
    {
     "data": {
      "image/png": "[encoded data removed]",
      "text/plain": [
       "<Figure size 500x500 with 1 Axes>"
      ]
     },
     "metadata": {
      "needs_background": "light"
     },
     "output_type": "display_data"
    }
   ],
   "source": [
    "# Import the Matplotlib plotting module\n",
    "import matplotlib.pyplot as plt\n",
    "\n",
    "# Define the size of the resulting figure (5\" x 5\")\n",
    "fig = plt.figure(figsize=(5, 5), dpi=100)\n",
    "\n",
    "# Plot the simulated data.  The 'ko' syntax specifies a plot of black (the 'k' in 'ko') circular data points (the 'o' in 'ko'). \n",
    "plt.plot(sim20, 'ko')\n",
    "\n",
    "# Specify the range of the x-axis.\n",
    "plt.xlim([-1, N + 1])\n",
    "\n",
    "# Specify which ticks to label along the x-axis.\n",
    "plt.xticks([0, 2, 4, 6, 8, 10, 12, 14, 16, 18, 20]);\n",
    "\n",
    "#Label the x- and y-axes.\n",
    "plt.xlabel('Trial number')\n",
    "plt.ylabel('Simulated data')\n",
    "\n",
    "# Plot a horizontal pink dashed line at mu\n",
    "plt.plot([-1, N + 1], [average20, average20], color = 'pink', linestyle = '--')\n",
    "\n",
    "# Plot a horizontal red line at mu + sigma\n",
    "MuPlusSigma = average20 + stdDev20\n",
    "plt.plot([-1, N + 1], [MuPlusSigma, MuPlusSigma], 'red')\n",
    "\n",
    "# Plot a horizontal blue line at mu - sigma\n",
    "MuMinusSigma = average20 - stdDev20\n",
    "plt.plot([-1, N + 1], [MuMinusSigma, MuMinusSigma], 'blue');"
   ]
  },
  {
   "cell_type": "markdown",
   "id": "cd85bbd9",
   "metadata": {},
   "source": [
    "***\n",
    "**<span style=\"color:blue\">Question 1.2:</span>**  \n",
    "\n",
    "In the scatter plot above, the red line is placed at $\\mu +\\sigma$ along the $y$-axis and the blue line is placed at $\\mu-\\sigma$.  What fraction of points fall between the blue and red lines?  Enter the appropriate value for 'frac' in the cell below."
   ]
  },
  {
   "cell_type": "markdown",
   "id": "7f1839ab",
   "metadata": {},
   "source": [
    "***\n",
    "**<span style=\"color:blue\">Answer 1.2:</span>**"
   ]
  },
  {
   "cell_type": "code",
   "execution_count": null,
   "id": "f7fac7bb",
   "metadata": {},
   "outputs": [],
   "source": [
    "frac = "
   ]
  },
  {
   "cell_type": "markdown",
   "id": "fafc195d",
   "metadata": {},
   "source": [
    "# <div style=\"background-color:rgba(255, 204, 255, 0.5); text-align:center; vertical-align: middle; padding:40px 0; margin-top:30px\"><span style=\"color:rgba(102, 0, 204, 1);\">Part 2 - Simulated Data ($N=1000$)</span></div>\n",
    "\n",
    "Here, we simply repeat everything from **Part 1** after increasing $N$ from $20$ to $1000$.  Using the same values of $\\mu$ and $\\sigma$ that were used in **Part 1**, generate the simulated data using the code block below."
   ]
  },
  {
   "cell_type": "code",
   "execution_count": 5,
   "id": "0b9d52b8",
   "metadata": {},
   "outputs": [
    {
     "data": {
      "text/plain": [
       "array([2.30832092, 2.10917781, 2.45055991, 2.43159114, 3.00267272,\n",
       "       2.2308886 , 2.84025561, 1.65378212, 2.02170862, 2.10089594,\n",
       "       2.42910686, 2.54477598, 1.53179772, 2.22207152, 1.84149009,\n",
       "       3.02412314, 3.32871834, 2.56356561, 1.94684554, 2.60897534,\n",
       "       2.9926312 , 2.57005284, 1.90821746, 1.70106496, 1.53456652,\n",
       "       2.69675238, 2.76270779, 3.12659819, 1.7960602 , 2.55795598,\n",
       "       2.03004126, 2.04757292, 3.04236543, 2.24147648, 1.83436872,\n",
       "       1.61257848, 2.28050792, 2.50457839, 2.29542393, 2.6361628 ,\n",
       "       1.4304904 , 1.5814739 , 2.03242591, 3.00166306, 2.92200991,\n",
       "       2.34919995, 2.78157592, 2.27232399, 2.74578568, 2.56847436,\n",
       "       2.04248679, 1.97704574, 1.45729559, 2.99943424, 2.81830136,\n",
       "       1.05434568, 2.42372924, 2.42538447, 2.54476916, 2.5922962 ,\n",
       "       1.95815818, 1.6475797 , 1.44218481, 2.56291792, 1.85230419,\n",
       "       2.15293355, 2.09432096, 2.09453444, 2.2222488 , 2.17330732,\n",
       "       2.43003198, 2.87147363, 2.05011452, 2.05450881, 1.49279077,\n",
       "       2.10530454, 2.00087205, 1.63198317, 2.0597182 , 2.69650672,\n",
       "       1.6602575 , 2.03410829, 1.85915595, 1.85052607, 2.24575756,\n",
       "       2.16795608, 2.37944064, 2.18275092, 1.20362408, 1.94220462,\n",
       "       2.01144522, 2.15392509, 2.25408142, 2.39905303, 2.03443304,\n",
       "       2.61786473, 2.06550543, 3.81851388, 1.67685046, 2.36499204,\n",
       "       2.26049006, 1.63796149, 1.67261856, 2.06218037, 1.73107063,\n",
       "       1.99503505, 2.71573497, 1.51372583, 2.69574147, 2.22657694,\n",
       "       0.66500772, 2.45364274, 1.98557756, 1.91097253, 2.71017297,\n",
       "       3.17664312, 2.20079496, 3.11196725, 1.91377061, 2.97123218,\n",
       "       2.80731765, 2.42616948, 1.70370616, 2.93951537, 1.8299624 ,\n",
       "       2.11470917, 1.70265316, 1.77063065, 2.15613716, 1.844764  ,\n",
       "       3.13213236, 2.03012271, 4.0643798 , 1.90754188, 2.61125565,\n",
       "       2.27939011, 2.98031848, 2.64347788, 2.27356693, 2.88532431,\n",
       "       2.09310317, 2.5575019 , 2.44741183, 1.85907854, 2.35133111,\n",
       "       1.98654458, 1.80277844, 2.71974508, 2.20382791, 2.08359006,\n",
       "       3.35795597, 2.07593611, 1.75476492, 2.43492557, 2.06564591,\n",
       "       2.81612416, 1.97950936, 2.65282057, 2.23940612, 1.83845976,\n",
       "       1.3225944 , 2.17246569, 1.45935997, 2.22765787, 2.84387654,\n",
       "       2.47380579, 1.12013008, 1.99084468, 1.71489192, 2.09481061,\n",
       "       2.4692844 , 2.14226541, 1.84915673, 2.63870642, 2.18478263,\n",
       "       2.21159145, 2.23020022, 1.84144553, 1.82763607, 2.69288644,\n",
       "       2.34961269, 2.28749239, 2.53747202, 1.7935567 , 2.5310808 ,\n",
       "       1.6792847 , 2.11003016, 1.93589474, 1.68696651, 2.40236135,\n",
       "       1.95117874, 1.63474271, 3.2890403 , 1.52555999, 2.28745897,\n",
       "       2.90550558, 1.92255448, 1.88496311, 2.66963873, 2.53215035,\n",
       "       2.17611386, 2.6292938 , 2.04716249, 1.2733116 , 2.13749617,\n",
       "       2.05990221, 2.87127525, 2.29964238, 1.68008635, 2.1544745 ,\n",
       "       2.02640938, 1.97926917, 2.42749638, 2.76880624, 2.63544692,\n",
       "       2.04732381, 1.46740695, 2.74761939, 1.9679068 , 2.33562169,\n",
       "       2.19069289, 2.35802223, 1.19710937, 2.69930467, 1.77510855,\n",
       "       2.95188497, 1.97066996, 2.05200484, 2.54694368, 1.84759698,\n",
       "       1.75504065, 1.8748056 , 2.43266834, 2.50610571, 2.68260398,\n",
       "       1.76321097, 2.7489057 , 2.66835777, 2.76684302, 1.75441572,\n",
       "       3.23958341, 1.32438246, 3.05905504, 2.51686329, 2.82291699,\n",
       "       2.38696025, 2.19233737, 2.83988041, 1.64378267, 2.07455775,\n",
       "       1.52521471, 1.9542807 , 2.61291161, 1.92672947, 2.64726829,\n",
       "       2.69113056, 1.94173773, 2.34437823, 1.71447425, 2.22078744,\n",
       "       2.84321074, 2.06943377, 2.66897249, 0.71833808, 1.34616533,\n",
       "       3.1039442 , 1.12818027, 1.67178538, 2.03751751, 0.88746072,\n",
       "       1.75854173, 2.5115582 , 2.53594838, 2.44686128, 2.49595129,\n",
       "       3.81765922, 1.43496779, 2.0169118 , 2.20193397, 2.32852042,\n",
       "       2.74477953, 2.86987155, 2.28457276, 2.41505522, 2.96804911,\n",
       "       2.21621081, 1.79818434, 1.85149738, 1.44518019, 2.08472203,\n",
       "       2.51628318, 2.12401367, 2.80496131, 2.13802134, 1.54858083,\n",
       "       1.82445247, 1.05887963, 1.23506768, 2.61982265, 2.04517068,\n",
       "       2.51439378, 2.20310992, 1.33182605, 2.37670368, 1.74192375,\n",
       "       2.10233252, 1.98937355, 2.11070461, 2.46293825, 2.11955663,\n",
       "       1.54459873, 2.78903425, 2.4462196 , 2.13727667, 1.86709272,\n",
       "       2.55628182, 2.06707085, 2.31847169, 2.91680981, 2.66302778,\n",
       "       2.30484594, 1.85396731, 3.28945125, 1.83092336, 1.31168363,\n",
       "       1.54539599, 2.93604248, 2.31070289, 1.10696971, 3.0316444 ,\n",
       "       2.58889557, 1.97046208, 1.42206602, 2.74256708, 1.90697697,\n",
       "       3.11744022, 2.95495471, 1.7383916 , 1.24339401, 2.2494082 ,\n",
       "       2.41673022, 2.39805734, 2.71854598, 3.16110003, 2.16121603,\n",
       "       1.78242259, 2.21731166, 2.32741009, 2.09749138, 2.05593919,\n",
       "       2.27022744, 1.77107883, 1.90015737, 2.66059081, 2.46204484,\n",
       "       1.82403242, 1.15366142, 1.66968523, 2.53106046, 1.86466309,\n",
       "       1.01184102, 3.06940544, 2.14937894, 1.65716027, 2.17399069,\n",
       "       2.49648669, 2.8914522 , 1.78762503, 2.28804934, 0.93123713,\n",
       "       1.83033496, 3.10432157, 2.29301865, 2.27362152, 2.63520523,\n",
       "       2.82217936, 1.45337728, 1.80420945, 1.84823174, 2.78180102,\n",
       "       2.14947813, 2.37268439, 1.65276677, 2.44401695, 2.28733731,\n",
       "       2.55891216, 1.14276103, 3.35191867, 2.47624326, 2.073801  ,\n",
       "       1.95823369, 1.66170841, 1.65882654, 1.50873965, 2.26467948,\n",
       "       1.8930339 , 2.03743027, 2.88900024, 1.88560779, 2.00655541,\n",
       "       2.43624048, 2.30257384, 2.37536035, 2.45787609, 1.974841  ,\n",
       "       1.97031572, 1.64996933, 2.70492677, 1.09469082, 1.76803229,\n",
       "       3.00212015, 2.48738141, 1.12447368, 2.13746147, 2.00705987,\n",
       "       1.65832632, 1.92269845, 2.04947154, 2.61685568, 1.95911294,\n",
       "       3.15315034, 2.69423494, 2.79825549, 3.23785226, 2.1840093 ,\n",
       "       1.35065949, 1.82656622, 1.77381894, 2.55811269, 2.29323602,\n",
       "       2.16143897, 2.57673653, 2.42075217, 2.52292592, 2.80422489,\n",
       "       1.874587  , 3.16584083, 2.11346548, 1.96283466, 2.23608402,\n",
       "       2.72485399, 2.74015428, 2.77981988, 2.48428844, 1.52378864,\n",
       "       2.61011779, 1.97015676, 1.85443913, 2.03910346, 1.63618266,\n",
       "       3.33164408, 3.28320876, 3.12402143, 2.39846923, 2.28128771,\n",
       "       2.49727653, 2.82766021, 2.88495377, 2.52526951, 1.58394928,\n",
       "       1.76027459, 1.36738387, 2.35536651, 2.11740823, 2.01559829,\n",
       "       1.92714388, 1.93562623, 1.98290129, 1.59972834, 1.52544857,\n",
       "       1.79468792, 1.69268836, 1.39390479, 2.29099887, 1.64836437,\n",
       "       2.93860383, 2.20918821, 2.9113376 , 1.85393578, 2.07236292,\n",
       "       3.36628083, 2.24292072, 1.83224175, 2.16634552, 3.24893814,\n",
       "       1.87470789, 2.84482554, 1.88282069, 2.72902484, 1.96281206,\n",
       "       2.21313226, 2.34225581, 2.0623365 , 2.16119502, 2.06486648,\n",
       "       2.372031  , 1.92226867, 2.53935932, 0.68362024, 1.50045366,\n",
       "       2.04631253, 2.49814261, 2.01815475, 2.02511933, 2.63865817,\n",
       "       2.24785193, 2.05647624, 2.41309353, 2.70014434, 2.19035314,\n",
       "       1.72078151, 2.66068626, 3.12944366, 2.49683052, 2.46683057,\n",
       "       2.25335115, 2.52194626, 1.65760398, 2.24244299, 2.68104318,\n",
       "       2.79139278, 3.39753216, 2.83717073, 1.77331941, 1.34680053,\n",
       "       2.80642416, 0.89675841, 1.99985572, 1.63718501, 2.00576442,\n",
       "       2.60451495, 1.33103408, 1.86716182, 2.95254801, 1.41344196,\n",
       "       2.19799783, 2.84623077, 2.038215  , 2.71370511, 2.39841197,\n",
       "       1.44886208, 1.83838257, 1.24440689, 2.1068869 , 3.09754884,\n",
       "       0.90057704, 2.25768981, 1.75071837, 2.42977081, 3.0446916 ,\n",
       "       2.32046145, 1.97918781, 2.0227377 , 1.4061752 , 1.8824506 ,\n",
       "       2.37216534, 2.92736685, 1.90326154, 2.43033147, 1.31151251,\n",
       "       1.91141521, 2.62141442, 1.76198435, 1.55914887, 2.09735805,\n",
       "       1.87707687, 2.08057944, 2.04017764, 1.4022045 , 2.31226834,\n",
       "       1.85677219, 2.70367278, 2.50724426, 1.73435278, 2.27026812,\n",
       "       2.18517881, 2.72054267, 2.28580492, 1.79578788, 3.17437411,\n",
       "       2.47600078, 1.49063087, 2.40064441, 1.80134352, 2.97921   ,\n",
       "       2.70306422, 2.63970819, 2.07493161, 1.58524178, 2.54596407,\n",
       "       1.84685134, 2.70394132, 0.29905042, 1.56646173, 2.37497675,\n",
       "       1.65967868, 2.45954461, 2.50886886, 1.55895551, 3.12503578,\n",
       "       2.13154076, 1.95718343, 1.62479468, 2.20752813, 1.7868291 ,\n",
       "       2.69319656, 2.72662094, 1.48911729, 1.6118559 , 2.50302686,\n",
       "       2.9500064 , 2.07511563, 2.62326134, 2.00913843, 2.61916247,\n",
       "       1.82239329, 2.50027372, 2.20421221, 2.64675627, 2.34215531,\n",
       "       2.38491158, 2.36029122, 1.95595883, 2.06609859, 0.66180534,\n",
       "       1.88623845, 2.01069365, 2.69543147, 2.3856748 , 1.89518342,\n",
       "       2.51471889, 2.64216148, 1.68181735, 2.60618762, 1.57838779,\n",
       "       2.58182094, 1.95446635, 1.43358536, 2.94991997, 2.07098169,\n",
       "       1.91138337, 1.97650019, 1.98259799, 2.5202396 , 2.52410607,\n",
       "       2.55848436, 2.66084141, 1.96923139, 1.44590896, 2.0196291 ,\n",
       "       2.34190057, 3.11812532, 2.2799249 , 2.3429814 , 2.16857586,\n",
       "       2.20300789, 3.02281036, 1.97973921, 2.8680871 , 1.81667362,\n",
       "       1.48709793, 1.61302901, 2.02918851, 2.3827586 , 2.80894304,\n",
       "       2.26232812, 2.2061635 , 2.42146028, 1.53204622, 2.51556682,\n",
       "       1.86969485, 2.28705315, 2.1427735 , 2.49134895, 2.95821771,\n",
       "       2.30030685, 1.68118258, 2.00229406, 2.74810272, 2.52802893,\n",
       "       2.78360469, 0.98661109, 2.04363354, 1.96513669, 2.32276965,\n",
       "       1.96975158, 2.73254189, 1.68972544, 1.90317853, 3.26250923,\n",
       "       1.90856416, 2.12490149, 3.18428969, 2.7910628 , 2.14791089,\n",
       "       2.43567836, 2.02277537, 1.14833091, 1.57363392, 2.37447442,\n",
       "       1.97675171, 2.30045951, 2.69093812, 1.89783288, 2.50665938,\n",
       "       2.71268256, 2.80821801, 2.84837827, 2.12939147, 1.81331017,\n",
       "       1.98858126, 2.97285865, 2.98538156, 2.94747515, 2.94733894,\n",
       "       2.41072442, 2.69412928, 2.97970211, 2.64827979, 1.78306837,\n",
       "       2.45101138, 2.36036274, 3.04265177, 2.67192536, 1.54349963,\n",
       "       2.16144622, 0.95397406, 2.06720777, 2.10891154, 2.16950348,\n",
       "       1.72436889, 2.6835517 , 2.1538725 , 2.56416682, 2.32538186,\n",
       "       2.23075751, 2.04506355, 2.63064047, 1.65541031, 2.50630405,\n",
       "       1.78473792, 2.35864344, 2.29013582, 2.31226169, 1.75166412,\n",
       "       2.65613069, 2.25785342, 2.13515798, 1.60101639, 1.66088253,\n",
       "       2.89606418, 1.49607826, 1.70013616, 2.95747521, 1.63303987,\n",
       "       2.74989705, 0.85944316, 1.79612163, 1.9875354 , 1.82453004,\n",
       "       2.87507295, 2.61620061, 1.38610232, 2.39525444, 2.10932695,\n",
       "       2.86646304, 2.00727017, 1.78437691, 2.19060396, 1.9130558 ,\n",
       "       1.86436366, 2.44659832, 2.55197877, 1.60338669, 1.99216357,\n",
       "       2.7692559 , 2.18526389, 1.73297396, 2.5117863 , 2.46670257,\n",
       "       1.77603707, 1.95863438, 2.45588216, 3.08540446, 2.5386612 ,\n",
       "       1.96710973, 1.90095117, 2.18895115, 2.11131802, 2.37700562,\n",
       "       1.50011866, 2.31332141, 2.33097549, 3.14625533, 2.44757537,\n",
       "       1.34586899, 2.24426021, 1.78816699, 2.3093602 , 1.70616545,\n",
       "       1.89066199, 2.39426085, 2.54590209, 2.6212331 , 2.2804219 ,\n",
       "       1.47180797, 1.66997682, 2.18690512, 2.30731736, 2.36007364,\n",
       "       2.43756333, 2.51798428, 2.05501081, 2.00806082, 2.1193128 ,\n",
       "       2.57123182, 2.22179644, 1.38347766, 2.0015681 , 1.21198547,\n",
       "       2.46989766, 3.4247282 , 2.03026666, 1.92272539, 2.54890711,\n",
       "       2.3222533 , 2.32092369, 1.632791  , 2.00115148, 2.22222753,\n",
       "       1.61931741, 2.73667121, 2.76508186, 1.7139883 , 1.74514195,\n",
       "       3.24688089, 1.79835813, 3.414663  , 2.42469451, 2.22096294,\n",
       "       1.99902495, 1.34340072, 2.15851884, 1.70081816, 1.72869479,\n",
       "       2.72149344, 1.55209651, 1.94654848, 2.37563425, 2.70287597,\n",
       "       2.67661401, 2.13325223, 1.98887408, 2.18139796, 2.89929106,\n",
       "       2.13590734, 2.70784017, 1.92283766, 2.54445891, 2.26627367,\n",
       "       2.38728599, 2.40599981, 2.60214565, 2.06330801, 1.38195071,\n",
       "       2.66193281, 2.7405255 , 1.76328411, 1.96658369, 1.7378001 ,\n",
       "       2.29518122, 2.02097406, 2.10890677, 1.34283085, 2.53743808,\n",
       "       1.43628998, 2.57402966, 2.50443659, 2.03711039, 2.19653822,\n",
       "       2.21784014, 1.16792384, 1.99186065, 2.36696436, 1.59037802,\n",
       "       3.14302621, 2.31380676, 2.85109436, 2.7210726 , 2.16172931,\n",
       "       1.8966678 , 1.80669529, 3.1074521 , 2.49402492, 2.21787148,\n",
       "       1.53788915, 2.08379841, 3.42006523, 2.46286498, 2.32726329,\n",
       "       2.41948292, 2.72376368, 3.02500044, 2.64757331, 2.51613534,\n",
       "       2.25067433, 2.12367498, 1.66133551, 2.18911127, 2.11602003,\n",
       "       2.80363861, 3.21547144, 2.53786541, 3.22694645, 2.25445199,\n",
       "       2.54063985, 2.15918699, 2.18581948, 2.02375813, 1.78830119,\n",
       "       3.05413553, 2.24139193, 1.68710194, 1.96432292, 2.08547075,\n",
       "       2.03946235, 2.31589582, 2.30960005, 2.12624896, 2.86247967,\n",
       "       2.06863304, 2.81403676, 2.0769596 , 1.42874877, 1.42098884,\n",
       "       2.20464985, 1.42387609, 2.31243822, 2.97945691, 2.37964952,\n",
       "       2.03211429, 2.24619497, 3.09159284, 2.87890172, 1.56667484,\n",
       "       2.20666896, 2.30352999, 1.60496974, 2.84312808, 2.67674401,\n",
       "       1.25876495, 1.74666673, 2.45103584, 2.26610278, 1.29517173,\n",
       "       2.18272541, 2.28884573, 2.52215288, 1.9348544 , 2.02583088,\n",
       "       2.78957868, 1.93578895, 2.57578463, 2.47042852, 1.77051121,\n",
       "       2.11457971, 1.67035761, 2.42668271, 2.1226425 , 2.81636645,\n",
       "       1.99341926, 1.68442793, 1.60535626, 2.83865699, 2.46008819,\n",
       "       1.85244402, 1.79755408, 2.75503437, 1.16215513, 1.8862762 ,\n",
       "       1.64086086, 2.61373093, 2.56076525, 3.28115611, 2.43962809,\n",
       "       1.77557997, 1.46982297, 2.11490123, 1.90207839, 2.58760286,\n",
       "       2.18831813, 1.92517196, 1.87340151, 2.01057334, 1.681833  ,\n",
       "       2.99844079, 2.85017393, 3.59534181, 2.53393148, 2.94027066])"
      ]
     },
     "execution_count": 5,
     "metadata": {},
     "output_type": "execute_result"
    }
   ],
   "source": [
    "# Define values for mean & standard deviation of the Gaussian/normal distribution.\n",
    "mu = 2.2 # mean \n",
    "sigma = 0.5 # standard deviation\n",
    "\n",
    "# Enter the number of simulated data points to generate.\n",
    "N = 1000\n",
    "\n",
    "# Generate the simulated data.\n",
    "sim1k = np.random.normal(mu, sigma, N)\n",
    "\n",
    "# Show the list of simulated data points.\n",
    "sim1k"
   ]
  },
  {
   "cell_type": "markdown",
   "id": "7f65e7bb",
   "metadata": {},
   "source": [
    "Plot a histogram of the simulated data."
   ]
  },
  {
   "cell_type": "code",
   "execution_count": 6,
   "id": "b8243fb8",
   "metadata": {},
   "outputs": [
    {
     "name": "stdout",
     "output_type": "stream",
     "text": [
      "\n"
     ]
    },
    {
     "data": {
      "text/latex": [
       "$N = 1000$."
      ],
      "text/plain": [
       "<IPython.core.display.Latex object>"
      ]
     },
     "metadata": {},
     "output_type": "display_data"
    },
    {
     "data": {
      "text/latex": [
       "The average of the data is $\\mu = 2.21\\, \\mathrm{  }.$"
      ],
      "text/plain": [
       "<IPython.core.display.Latex object>"
      ]
     },
     "metadata": {},
     "output_type": "display_data"
    },
    {
     "data": {
      "text/latex": [
       "The standard deviation of the data is $\\sigma = 0.512\\, \\mathrm{  }.$"
      ],
      "text/plain": [
       "<IPython.core.display.Latex object>"
      ]
     },
     "metadata": {},
     "output_type": "display_data"
    },
    {
     "data": {
      "text/latex": [
       "The standard error of the data is $\\sigma_\\mu = \\sigma/\\sqrt{N} = \\mathrm0.016\\, \\mathrm{  }.$"
      ],
      "text/plain": [
       "<IPython.core.display.Latex object>"
      ]
     },
     "metadata": {},
     "output_type": "display_data"
    },
    {
     "data": {
      "image/png": "[encoded data removed]",
      "text/plain": [
       "<Figure size 500x500 with 1 Axes>"
      ]
     },
     "metadata": {
      "needs_background": "light"
     },
     "output_type": "display_data"
    }
   ],
   "source": [
    "# Plot a histogram of the simulated data and calculate some basic statistics.\n",
    "counts, centres, average1k, stdDev1k, stdError1k, fig1k = PHYS121.Statistics(data = sim1k)"
   ]
  },
  {
   "cell_type": "markdown",
   "id": "2fce0bad",
   "metadata": {},
   "source": [
    "Make a scatter plot of the simulated data and mark the positions of $\\mu$, $\\mu+\\sigma$, and $\\mu-\\sigma$."
   ]
  },
  {
   "cell_type": "code",
   "execution_count": 7,
   "id": "837544c6",
   "metadata": {},
   "outputs": [
    {
     "data": {
      "image/png": "[encoded data removed]",
      "text/plain": [
       "<Figure size 500x500 with 1 Axes>"
      ]
     },
     "metadata": {
      "needs_background": "light"
     },
     "output_type": "display_data"
    }
   ],
   "source": [
    "# Define the size of the resulting figure (5\" x 5\")\n",
    "fig = plt.figure(figsize=(5, 5), dpi=100)\n",
    "\n",
    "# Plot the simulated data.  The 'ko' syntax specifies a plot of black (the 'k' in 'ko') circular data points (the 'o' in 'ko'). \n",
    "plt.plot(sim1k, 'ko')\n",
    "\n",
    "# Specify the range of the x-axis.\n",
    "plt.xlim([-10, N + 10])\n",
    "\n",
    "# Specify which ticks to label along the x-axis.\n",
    "plt.xticks([0, 100, 200, 300, 400, 500, 600, 700, 800, 900, 1000]);\n",
    "\n",
    "#Label the x- and y-axes.\n",
    "plt.xlabel('Trial number')\n",
    "plt.ylabel('Simulated data')\n",
    "\n",
    "# Plot a horizontal pink dashed line at mu\n",
    "plt.plot([-10, N + 10], [average1k, average1k], color = 'pink', linestyle = '--')\n",
    "\n",
    "# Plot a horizontal red line at mu + sigma\n",
    "MuPlusSigma = average1k + stdDev1k\n",
    "plt.plot([-10, N + 10], [MuPlusSigma, MuPlusSigma], 'red')\n",
    "\n",
    "# Plot a horizontal blue line at mu - sigma\n",
    "MuMinusSigma = average1k - stdDev1k\n",
    "plt.plot([-10, N + 10], [MuMinusSigma, MuMinusSigma], 'blue');"
   ]
  },
  {
   "cell_type": "markdown",
   "id": "50ef7379",
   "metadata": {},
   "source": [
    "***\n",
    "**<span style=\"color:blue\">Question 2.1:</span>**  \n",
    "\n",
    "Compare the obtained values of $\\mu$ and $\\sigma$ from **Part 1** ($N = 20$) to those obtained in **Part 2** ($N = 1000$).  Are they very different or are they similar?  We changed $N$ by a factor of $1000/20 = 50$.  In comparison, by what factor did the standard deviation change?  What does this tell you about how the standard deviation $\\sigma$ depends on the number of trials $N$?"
   ]
  },
  {
   "cell_type": "markdown",
   "id": "31968e7c",
   "metadata": {},
   "source": [
    "***\n",
    "**<span style=\"color:blue\">Answer 2.1:</span>**\n",
    "\n",
    "[//]: # (Please do not delete this comment or anything above it.  Anything below this comment can be deleted.)  \n",
    "\n",
    "Double click this cell and enter your text here.  When done, hit 'Shift' + 'Enter' to execute the cell.  You may delete this text when entering your answer. "
   ]
  },
  {
   "cell_type": "markdown",
   "id": "46406d1b",
   "metadata": {},
   "source": [
    "***\n",
    "**<span style=\"color:blue\">Question 2.2:</span>**  \n",
    "\n",
    "Compare the histograms obtained in **Part 1** ($N = 20$ trials) and **Part 2** ($N = 1000$ trials).  Which of the histograms allows you to better determine the position of the peak (or mean)?"
   ]
  },
  {
   "cell_type": "markdown",
   "id": "84ec4a64",
   "metadata": {},
   "source": [
    "***\n",
    "**<span style=\"color:blue\">Answer 2.2:</span>**\n",
    "\n",
    "[//]: # (Please do not delete this comment or anything above it.  Anything below this comment can be deleted.)  \n",
    "\n",
    "Double click this cell and enter your text here.  When done, hit 'Shift' + 'Enter' to execute the cell.  You may delete this text when entering your answer. "
   ]
  },
  {
   "cell_type": "markdown",
   "id": "0d889e4b",
   "metadata": {},
   "source": [
    "***\n",
    "From **Parts 1** and **2** of the lab, you should have seen that the standard deviation $\\sigma$, which characterizes the width of a Gaussian distribution, is independent of the number of trials $N$.  The standard deviation $\\sigma$ is used to estimate the uncertainty of any single trial of an experiment.  The physical interpretation is that any single measurement has approximately a $68\\%$ chance of falling within one standard deviation of the mean $\\mu$.  That is, each measurement has a $68\\%$ chance of falling between $\\mu-\\sigma$ and $\\mu+\\sigma$.\n",
    "\n",
    "Although $\\sigma$ is independent of $N$, our ability to locate the peak or mean value of a distribution of measurements improves as $N$ increases.  This is because the distribution of measurements better approximates an ideal Gaussian distribution with a smooth peak and symmetric tails as $N$ is increased.\n",
    "\n",
    "The **standard error in the mean** (often referred to simply as the standard error) is an estimate of the uncertainty in the calculated mean from a set of data. We will denote the standard error by $\\sigma_\\mu$. The standard error is calculated by dividing the standard deviation $\\sigma$ by the square root of the number of trials $N$:\n",
    "\\begin{align}\n",
    "\\sigma_\\mu = \\dfrac{\\sigma}{\\sqrt{N}}.\n",
    "\\label{eq:stderror} \\tag{2}\n",
    "\\end{align}\n",
    "Understanding where this expression comes from requires a proper treatment of the propagation of errors which is beyond the scope of PHYS 121.  However, if you choose to pursue a physics degree, we will revisit error propagation and standard error in Modern Physics Laboratory course PHYS 232."
   ]
  },
  {
   "cell_type": "markdown",
   "id": "f87eaaaa",
   "metadata": {},
   "source": [
    "# <div style=\"background-color:rgba(255, 204, 255, 0.5); text-align:center; vertical-align: middle; padding:40px 0; margin-top:30px\"><span style=\"color:rgba(102, 0, 204, 1);\">Part 3 - Overlaying Histograms</span></div>\n",
    "\n",
    "In this final part of the pre-lab, which won't be graded, we simply overlay the histograms of the simulated data generated in **Parts 1** and **2**. "
   ]
  },
  {
   "cell_type": "code",
   "execution_count": 8,
   "id": "fc109c3e",
   "metadata": {},
   "outputs": [
    {
     "data": {
      "image/png": "[encoded data removed]",
      "text/plain": [
       "<Figure size 500x500 with 1 Axes>"
      ]
     },
     "metadata": {
      "needs_background": "light"
     },
     "output_type": "display_data"
    }
   ],
   "source": [
    "cnts, ctrs, fig2 = PHYS121.HistOverlay([sim20, sim1k])"
   ]
  },
  {
   "cell_type": "markdown",
   "id": "db14594a",
   "metadata": {},
   "source": [
    "In the plot above, you should see a pair of overlaid histograms.  The blue and orange bars represent the set of simulated data with $N=20$ and $N=1000$ trials, respectively.  You should notice that the orange data better approximate an ideal Gaussian distribution and thus the mean value of the distribution is easier to locate.  This plot also emphasizes that the two distributions have approximately the same width, related to the fact that the standard deviation $\\sigma$ is independent of the size $N$ of the dataset.\n",
    "\n",
    "To summarize, the two important observations that can be made from this analysis are:\n",
    "- The standard deviation $\\sigma$ is independent of the number of trials $N$.\n",
    "- Datasets with a large number of trials result in smoother distributions with allows for a more precise determination of the mean $\\mu$.\n",
    "\n",
    "If both of the observations above are true, then $\\sigma$ **cannot** be a good estimate of the uncertainty in the mean or average value of a set of $N$ measurements.  In fact, the standard deviation $\\sigma$ represents the uncertainty in the value of any single trial of the experiment.  In Lab 1, we will see how the uncertainty in the mean of a set of $N$ measurements can be estimated. "
   ]
  },
  {
   "cell_type": "markdown",
   "id": "3be24b1c",
   "metadata": {},
   "source": [
    "# <div style=\"background-color:rgba(255, 204, 255, 0.5); text-align:center; vertical-align: middle; padding:40px 0; margin-top:30px\"><span style=\"color:rgba(102, 0, 204, 1);\">Part 4 - Reflection (optional)</span></div>"
   ]
  },
  {
   "cell_type": "markdown",
   "id": "fecb95ee",
   "metadata": {},
   "source": [
    "**<span style=\"color:blue\">Question 4.1:</span>**  \n",
    "\n",
    "We welcome your feedback on the PHYS 121 pre-labs!  Please feel free to include any comments you have about this pre-lab in the cell below.  Your comments will be taken into consideration when revising/improving the PHYS 121 labs and pre-labs.  You can suggest improvements, point out anything that was unclear, comment on the strengths and weaknesses of the pre-lab, ...\n",
    "\n",
    "This question is optional and will have no impact on your pre-lab or lab grade."
   ]
  },
  {
   "cell_type": "markdown",
   "id": "4e68b62f",
   "metadata": {},
   "source": [
    "***\n",
    "**<span style=\"color:blue\">Answer 4.1:</span>**\n",
    "\n",
    "[//]: # (Please do not delete this comment or anything above it.  Anything below this comment can be deleted.)  \n",
    "\n",
    "Double click this cell and enter your text here.  When done, hit 'Shift' + 'Enter' to execute the cell.  You may delete this text when entering your answer. "
   ]
  },
  {
   "cell_type": "markdown",
   "id": "f41823f8",
   "metadata": {},
   "source": [
    "# <div style=\"background-color:rgba(255, 204, 255, 0.5); text-align:center; vertical-align: middle; padding:40px 0; margin-top:30px\"><span style=\"color:rgba(102, 0, 204, 1);\">Part 5 - Playground (optional)</span></div>\n",
    "\n",
    "Feel free to add as many cells as you like below and use them as a playground for further independent investigations.  These cells won't be graded, so feel free to use them in any way that you like.  For example, you could compare Gaussian distributions with different standard deviations and/or means. "
   ]
  },
  {
   "cell_type": "code",
   "execution_count": null,
   "id": "d6fee34b",
   "metadata": {},
   "outputs": [],
   "source": [
    "# Here's an empty code cell that you can use."
   ]
  },
  {
   "cell_type": "code",
   "execution_count": null,
   "id": "e785bf0b",
   "metadata": {},
   "outputs": [],
   "source": [
    "# Here's another empty code cell that you can use."
   ]
  },
  {
   "cell_type": "code",
   "execution_count": null,
   "id": "0af2d044",
   "metadata": {},
   "outputs": [],
   "source": [
    "# Here's yet another empty code cell that you can use.  \n",
    "# If you need more, you can add cells using the '+' icon in the menu bar at to the top of the screen."
   ]
  },
  {
   "cell_type": "markdown",
   "id": "5c5d4e70",
   "metadata": {},
   "source": [
    "### <div style=\"background-color:rgba(255, 255, 102, 0.5); text-align:left; padding:20px 0; margin-top:20px\">$\\quad$Appendix A &ndash; The Statistics Function...</div>\n",
    "\n",
    "The statistics function is called as follows:\n",
    "```python\n",
    "Statistics(data, nbins = 10, xlabel = 'x-axis', xUnits = '', normalized = False)\n",
    "```\n",
    "The data input is required, all other arguments are optional with default values set.  The function returns the following outputs:\n",
    "```python\n",
    "counts, centres, average, stdDev, stdError, fig\n",
    "```\n",
    "The first two outputs are lists, the next three are numerical values, and 'fig' is the formatted plot. The counts list gives the number of counts in each bin of the histogram and the centres list gives the position of the centre of each bin.\n",
    "\n",
    "The function calculates and reports the mean, standard deviation, and standard error of the provided data.  It also plots a histogram of the data.  \n",
    "\n",
    "### Statistics Example Implmentation\n",
    "The code block below shows an implementation of 'Statistics'.\n",
    "```python\n",
    "import PHYS121\n",
    "theta20a = [2.02, 1.93, 1.92, 1.96, 2.03, 2.03, 1.96, 2.03, 2.06, 2, 2.03, 2.12, 2.07, 1.99, 1.99, 1.95, 2.03, 2.12, 2.03, 2.09, 2.03, 2.03, 2.01, 2.04, 2.03, 2.04, 1.99, 1.99, 1.97, 1.98]\n",
    "cnts, ctrs, mean, stdDev, stdError, fig20a = PHYS121.Statistics(theta20a, 12, 'Period', 's', True);\n",
    "```\n",
    "\n",
    "If you're interested in generating your own histograms with customized formatting, see the following Python-based tutorial: https://cmps-people.ok.ubc.ca/jbobowsk/Python/html/Jupyter%20Histogram.html.\n",
    "***"
   ]
  },
  {
   "cell_type": "markdown",
   "id": "2bde3519",
   "metadata": {},
   "source": [
    "### <div style=\"background-color:rgba(255, 255, 102, 0.5); text-align:left; padding:20px 0; margin-top:20px\">$\\quad$Appendix B &ndash; The HistOverlay Function...</div>\n",
    "\n",
    "The HistOverlay function is called as follows:\n",
    "```python\n",
    "HistOverlay(dataArray, nbins = 10, xlabel = 'x-axis', xUnits = '',  normalized = True, transparency = 0.75)\n",
    "```\n",
    "The dataArray (a list of lists) input is required, all other arguments are optional with default values set.  The function returns the following outputs:\n",
    "```python\n",
    "countsArray, centresArray, fig\n",
    "```\n",
    "The first two outputs are lists of lists and 'fig' is the formatted plot. \n",
    "\n",
    "The dataArray is of the form dataArray = [[dataset1], [dataset2], ... [datasetN]].  The function plots the histograms of each of the datasets on a single graph.  If the normalized argument is True, then histogram is scaled such that the area under the distributions is 1.  This is a good option when comparing two different distributions.  The transparency argument (a number between 0 and 1) sets the transparency of each of the individual histograms.\n",
    "\n",
    "### HistOverlay Example Implementation\n",
    "The code block below shows an implementation of 'HistOverlay'.\n",
    "```python\n",
    "import PHYS121\n",
    "cnts, ctrs, fig = PHYS121.HistOverlay([theta20a, theta20], 8, 'Period', 's', True, 0.75)\n",
    "```\n",
    "***"
   ]
  },
  {
   "cell_type": "markdown",
   "id": "38172bec",
   "metadata": {},
   "source": [
    "Last update: August 1, 2022"
   ]
  }
 ],
 "metadata": {
  "kernelspec": {
   "display_name": "Python 3 (ipykernel)",
   "language": "python",
   "name": "python3"
  },
  "language_info": {
   "codemirror_mode": {
    "name": "ipython",
    "version": 3
   },
   "file_extension": ".py",
   "mimetype": "text/x-python",
   "name": "python",
   "nbconvert_exporter": "python",
   "pygments_lexer": "ipython3",
   "version": "3.8.8"
  },
  "vscode": {
   "interpreter": {
    "hash": "2f6274b6a3e6b44619c02e990c9df7d81f405226d293e5b2b5f918107d72a0a6"
   }
  }
 },
 "nbformat": 4,
 "nbformat_minor": 5
}
