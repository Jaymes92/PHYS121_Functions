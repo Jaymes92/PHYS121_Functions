{
 "cells": [
  {
   "cell_type": "markdown",
   "id": "0562ce69",
   "metadata": {},
   "source": [
    "# <div style=\"background-color:rgba(204, 229, 255, 0.5); text-align:center; vertical-align: middle; padding:40px 0; margin-top:30px\"><span style=\"color:rgba(0, 76, 153, 1);\">PHYS 121 Pre-Lab #1</span></div>\n",
    "# Oscillations of a Simple Pendulum &ndash; Week 1"
   ]
  },
  {
   "cell_type": "markdown",
   "id": "39f25a1a",
   "metadata": {},
   "source": [
    "***\n",
    "## Learning Objectives:\n",
    "* <b><span style=\"color:rgba(0, 153, 76, 1);\">Understand what *does* and *does not* affect the width of a distribution of measurements.</span></b>\n",
    "* <b><span style=\"color:rgba(0, 153, 76, 1);\">Understand how to determine the uncertainty associated with the *mean* or *average* value of a set of measurements.</span></b> "
   ]
  },
  {
   "cell_type": "markdown",
   "id": "4754b43e",
   "metadata": {},
   "source": [
    "***\n",
    "## Introduction:\n",
    "\n",
    "This pre-lab will be used to develop some insights that will help you begin to meet the learning objectives for Lab #1.  Furthermore, the pre-lab will introduce some of the Python functions that will be used to analyze the data that you collect during the lab.\n",
    "\n",
    "When a quantity, such as the period of a pendulum, is measured many times using the same measurement technique, one obtains a **distribution** of measurements.  Most of the time (but not always), the data follow a **Gaussian** distribution which is also known as a **normal** distribution or **bell curve**.   \n",
    "\n",
    "A **histogram** is a plot of the frequency with which a measurement falls with a specific range of values called a **bin**.  For example, a bin with boundaries $x_1$ and $x_2$ would capture measurements with values of $x$ between $x_1$ and $x_2$: $x_1\\le x < x_2$.  If a sufficient number of data points are collected, a histogram of the measurements will approximate the shape of a Gaussian distribution.  Bins with a large number of counts occur near the peak of the distribution and bins with a small number counts appear near the tails of the distribution.\n",
    "\n",
    "The figure below shows an ideal Gaussian distribution.  It has been normalized so that the total area beneath the curve is one. To produce this ideal distribution, one would need to make an infinite number of measurements of the quantity of interest and then plot a histogram of those data.  Of course, this is impractical so we can only hope to use a finite set of data to approximate an ideal distribution.  The peak of the distribution occurs at mean value $\\mu$ and the width is characterized by the standard deviation $\\sigma$.  The horizonal axis in Fig. 1 shows the locations of $\\mu$, $\\mu\\pm\\sigma$, $\\mu\\pm 2\\sigma$, and $\\mu\\pm 3\\sigma$.\n",
    "\n",
    "<p>\n",
    "<center>\n",
    "<img src=\"https://cmps-people.ok.ubc.ca/jbobowsk/PHYS_121_Lab/Lab1/images/Standard_deviation_diagram_micro.svg\" alt=\"image info\" style=\"width: 85%; height: auto;\" /><br>\n",
    "<b>Fig. 1: An ideal Gaussian distribution.</b></center>\n",
    "</p>\n",
    "\n",
    "**The 68-95-99.7 rule**<br>\n",
    "The area beneath a normalized Gaussian distribution between to points $x_1$ and $x_2$ along the $x$-axis gives the probability that a single measurement $x$ will fall between those values.  For example, in Fig. 1 region shaded dark blue extends from $x_1=\\mu-\\sigma$ to $x_2=\\mu+\\sigma$ and has an area of $0.68$.  This observation implies that $68\\%$ of measurements are expected to fall within one standard deviation $\\sigma$ of the mean $\\mu$.  In a similar way, $95\\%$ of measurements are expected to fall within $\\pm 2\\sigma$ of the mean and $99.7\\%$ of measurements are expected to fall within $\\pm 3\\sigma$ of the mean.\n",
    "\n",
    "When estimating the uncertainty of a single measurement, one is trying to estimate the standard deviation that would be obtained if the measurement was repeated many times (without actually doing the repeated measurements). "
   ]
  },
  {
   "cell_type": "markdown",
   "id": "3766ece8",
   "metadata": {},
   "source": [
    "# <div style=\"background-color:rgba(255, 204, 255, 0.5); text-align:center; vertical-align: middle; padding:40px 0; margin-top:30px\"><span style=\"color:rgba(102, 0, 204, 1);\">Part 1 - Simulated Data ($N=20$)</span></div>\n",
    "\n",
    "One of the advantages of using Jupyter notebooks for the lab manuals and pre-labs is that, when appropriate, it can be used to generate simulated data.  The simulated datasets can then be used to develop important insights that will help us interpret real experimental data.\n",
    "\n",
    "The block of code below generates a set of $N$ simulated 'measurements' drawn from a Gaussian distribution with mean $\\mu$ and standard deviation $\\sigma$.  You do **not** need to understand the syntax of the code.  It is include only for the benefit of those interested in understanding the details of how the simulated data is generated."
   ]
  },
  {
   "cell_type": "code",
   "execution_count": 21,
   "id": "264e5e6b",
   "metadata": {},
   "outputs": [
    {
     "data": {
      "text/plain": [
       "array([1.82139158, 2.64773949, 2.51980733, 2.98522696, 1.87928601,\n",
       "       1.74340928, 2.2313725 , 2.25347087, 2.57853403, 2.05060157,\n",
       "       1.82008082, 1.74712573, 3.79720141, 2.57816874, 2.81076665,\n",
       "       2.36904734, 1.27270612, 2.87481244, 1.92794855, 3.09889363])"
      ]
     },
     "execution_count": 21,
     "metadata": {},
     "output_type": "execute_result"
    }
   ],
   "source": [
    "# Import the useful Numpy module.\n",
    "import numpy as np \n",
    "\n",
    "# Define values for mean & standard deviation of the Gaussian/normal distribution.\n",
    "mu = 2.2 # mean \n",
    "sigma = 0.5 # standard deviation\n",
    "\n",
    "# Enter the number of simulated data points to generate.\n",
    "N = 20\n",
    "\n",
    "# Generate the simulated data.\n",
    "sim20 = np.random.normal(mu, sigma, N)\n",
    "\n",
    "# Show the list of simulated data points.\n",
    "sim20"
   ]
  },
  {
   "cell_type": "markdown",
   "id": "213f53b4",
   "metadata": {},
   "source": [
    "In the cell below, you will use a function called 'Statistics' to produce a histogram of measured periods and to calculate some basic statistics of your dataset (mean, standard deviation, and standard error). The 'Statistics' function is called as follows:\n",
    "```python\n",
    "import PHYS121\n",
    "counts, centres, average20, stdDev20, stdError20, fig20 = PHYS121.Statistics(xData = sim20)\n",
    "```\n",
    "For additional information about the 'Statistics' function, see **Appendix A** near the end of this notebook.  "
   ]
  },
  {
   "cell_type": "code",
   "execution_count": 22,
   "id": "26cb7a9a",
   "metadata": {},
   "outputs": [
    {
     "name": "stdout",
     "output_type": "stream",
     "text": [
      "\n"
     ]
    },
    {
     "data": {
      "text/latex": [
       "$N = 20$."
      ],
      "text/plain": [
       "<IPython.core.display.Latex object>"
      ]
     },
     "metadata": {},
     "output_type": "display_data"
    },
    {
     "data": {
      "text/latex": [
       "The average of the data is $\\mu = 2.35\\, \\mathrm{  }.$"
      ],
      "text/plain": [
       "<IPython.core.display.Latex object>"
      ]
     },
     "metadata": {},
     "output_type": "display_data"
    },
    {
     "data": {
      "text/latex": [
       "The standard deviation of the data is $\\sigma = 0.595\\, \\mathrm{  }.$"
      ],
      "text/plain": [
       "<IPython.core.display.Latex object>"
      ]
     },
     "metadata": {},
     "output_type": "display_data"
    },
    {
     "data": {
      "text/latex": [
       "The standard error of the data is $\\sigma_\\mu = \\sigma/\\sqrt{N} = \\mathrm0.13\\, \\mathrm{  }.$"
      ],
      "text/plain": [
       "<IPython.core.display.Latex object>"
      ]
     },
     "metadata": {},
     "output_type": "display_data"
    },
    {
     "data": {
      "image/png": "[encoded data removed]",
      "text/plain": [
       "<Figure size 500x500 with 1 Axes>"
      ]
     },
     "metadata": {
      "needs_background": "light"
     },
     "output_type": "display_data"
    }
   ],
   "source": [
    "# Import PHYS121.py which contains many useful functions that we'll use in PHYS 121.\n",
    "import PHYS121\n",
    "\n",
    "# Plot a histogram of the simulated data and calculate some basic statistics.\n",
    "counts, centres, average20, stdDev20, stdError20, fig20 = PHYS121.Statistics(data = sim20)"
   ]
  },
  {
   "cell_type": "markdown",
   "id": "f9553e70",
   "metadata": {},
   "source": [
    "***\n",
    "**<span style=\"color:blue\">Question 1.1:</span>**  \n",
    "\n",
    "In two or three sentences, comment on the shape of the histogram that was generated using the simulated data.  What features does it have in common with the ideal Gaussian distribution shown in Fig. 1?  What are the differences?   "
   ]
  },
  {
   "cell_type": "markdown",
   "id": "f546a484",
   "metadata": {},
   "source": [
    "***\n",
    "**<span style=\"color:blue\">Answer 1.1:</span>**\n",
    "\n",
    "[//]: # (Please do not delete this comment or anything above it.  Anything below this comment can be deleted.)  \n",
    "\n",
    "Double click this cell and enter your text here.  When done, hit 'Shift' + 'Enter' to execute the cell.  You may delete this text when entering your answer. "
   ]
  },
  {
   "cell_type": "markdown",
   "id": "a2ba99e9",
   "metadata": {},
   "source": [
    "***\n",
    "The lines of code below are used to make a scatter plot of the simulated data.  The $x$-axis represents the trial number and  the $y$-axis is the corresponding value of the simulated data.  The plot also includes are set of horizontal lines.  A black dashed line is drawn at the value of the average $\\mu$, a red line is placed at $\\mu+\\sigma$, and a blue line is placed at $\\mu-\\sigma$.  \n",
    "\n",
    "Again, you do **not** need to spend time understanding the syntax of the code.  It is merely provided for the benefit of those interested in seeing the specific details."
   ]
  },
  {
   "cell_type": "code",
   "execution_count": 23,
   "id": "b4440310",
   "metadata": {},
   "outputs": [
    {
     "data": {
      "image/png": "[encoded data removed]",
      "text/plain": [
       "<Figure size 500x500 with 1 Axes>"
      ]
     },
     "metadata": {
      "needs_background": "light"
     },
     "output_type": "display_data"
    }
   ],
   "source": [
    "# Import the Matplotlib plotting module\n",
    "import matplotlib.pyplot as plt\n",
    "\n",
    "# Define the size of the resulting figure (5\" x 5\")\n",
    "fig = plt.figure(figsize=(5, 5), dpi=100)\n",
    "\n",
    "# Plot the simulated data.  The 'ko' syntax specifies a plot of black (the 'k' in 'ko') circular data points (the 'o' in 'ko'). \n",
    "plt.plot(sim20, 'ko')\n",
    "\n",
    "# Specify the range of the x-axis.\n",
    "plt.xlim([-1, N + 1])\n",
    "\n",
    "# Specify which ticks to label along the x-axis.\n",
    "plt.xticks([0, 2, 4, 6, 8, 10, 12, 14, 16, 18, 20]);\n",
    "\n",
    "#Label the x- and y-axes.\n",
    "plt.xlabel('Trial number')\n",
    "plt.ylabel('Simulated data')\n",
    "\n",
    "# Plot a horizontal pink dashed line at mu\n",
    "plt.plot([-1, N + 1], [average20, average20], color = 'pink', linestyle = '--')\n",
    "\n",
    "# Plot a horizontal red line at mu + sigma\n",
    "MuPlusSigma = average20 + stdDev20\n",
    "plt.plot([-1, N + 1], [MuPlusSigma, MuPlusSigma], 'red')\n",
    "\n",
    "# Plot a horizontal blue line at mu - sigma\n",
    "MuMinusSigma = average20 - stdDev20\n",
    "plt.plot([-1, N + 1], [MuMinusSigma, MuMinusSigma], 'blue');"
   ]
  },
  {
   "cell_type": "markdown",
   "id": "cd85bbd9",
   "metadata": {},
   "source": [
    "***\n",
    "**<span style=\"color:blue\">Question 1.2:</span>**  \n",
    "\n",
    "In the scatter plot above, the red line is placed at $\\mu +\\sigma$ along the $y$-axis and the blue line is placed at $\\mu-\\sigma$.  What fraction of points fall between the blue and red lines?  Enter the appropriate value for 'frac' in the cell below."
   ]
  },
  {
   "cell_type": "markdown",
   "id": "7f1839ab",
   "metadata": {},
   "source": [
    "***\n",
    "**<span style=\"color:blue\">Answer 1.2:</span>**"
   ]
  },
  {
   "cell_type": "code",
   "execution_count": null,
   "id": "f7fac7bb",
   "metadata": {},
   "outputs": [],
   "source": [
    "frac = "
   ]
  },
  {
   "cell_type": "markdown",
   "id": "fafc195d",
   "metadata": {},
   "source": [
    "# <div style=\"background-color:rgba(255, 204, 255, 0.5); text-align:center; vertical-align: middle; padding:40px 0; margin-top:30px\"><span style=\"color:rgba(102, 0, 204, 1);\">Part 2 - Simulated Data ($N=1000$)</span></div>\n",
    "\n",
    "Here, we simply repeat everything from **Part 1** after increasing the value of $N$ from $20$ to $1000$.  First, generate the simulated data.  Use the same values of $\\mu$ and $\\sigma$ that were used in **Part 1**.  "
   ]
  },
  {
   "cell_type": "code",
   "execution_count": 24,
   "id": "0b9d52b8",
   "metadata": {},
   "outputs": [
    {
     "data": {
      "text/plain": [
       "array([2.82822187, 3.07405377, 2.30667896, 1.45481716, 2.72679023,\n",
       "       2.28270855, 1.93540774, 2.90212929, 2.28203757, 2.61792512,\n",
       "       3.0288092 , 2.15361892, 2.0079318 , 2.75827622, 1.64266863,\n",
       "       2.35336867, 1.99232158, 2.24349519, 3.17557408, 1.9687692 ,\n",
       "       1.92276836, 1.84834017, 2.14064179, 2.09811335, 2.24132761,\n",
       "       1.59087359, 1.33560277, 2.17978757, 2.18270721, 2.81005457,\n",
       "       2.34366598, 2.57193661, 2.14363958, 2.10534159, 1.86926707,\n",
       "       1.72886149, 2.74788034, 2.44230654, 2.15295246, 2.3203085 ,\n",
       "       2.24081791, 2.59257018, 2.73047314, 2.12623937, 2.54362544,\n",
       "       2.6726968 , 2.29285058, 2.00329115, 2.48836388, 2.62717813,\n",
       "       2.53577203, 2.67162655, 1.68866999, 2.07956472, 1.42331611,\n",
       "       2.95358208, 1.92835596, 2.66267271, 1.91450065, 1.37078581,\n",
       "       2.92278604, 2.62959504, 1.75354202, 2.50993445, 1.73658006,\n",
       "       2.61305995, 2.3725757 , 2.46158785, 2.47822353, 3.01786726,\n",
       "       2.48535774, 1.39545751, 2.75701523, 1.86069505, 2.35152342,\n",
       "       2.72809498, 1.68315836, 2.0679343 , 2.8920552 , 2.25227685,\n",
       "       1.77583854, 1.95856637, 2.0930556 , 1.91491362, 3.48439433,\n",
       "       2.34914785, 1.99943984, 1.59284202, 2.15039412, 1.80919319,\n",
       "       1.90324851, 1.89219525, 2.25311576, 2.66434715, 2.49119195,\n",
       "       1.66095032, 3.36624233, 2.2094977 , 1.610208  , 2.59341193,\n",
       "       2.66195335, 1.50346246, 1.79804495, 2.39085528, 2.02779106,\n",
       "       2.08300743, 2.46901842, 1.61313215, 1.38479132, 2.98278984,\n",
       "       1.19640988, 2.7999432 , 2.86959584, 1.81324956, 2.16032702,\n",
       "       3.18486989, 1.73403496, 1.68817115, 2.78098372, 1.95296105,\n",
       "       2.73917998, 1.76600077, 2.7459406 , 1.53367821, 1.27971539,\n",
       "       3.04161895, 1.61423531, 1.86739848, 2.27177535, 1.79881056,\n",
       "       2.98924512, 1.67247047, 0.98239315, 1.48035888, 2.09292537,\n",
       "       2.30669794, 3.24114962, 1.31500996, 2.16866788, 2.66130589,\n",
       "       2.49443834, 1.29841846, 3.16799551, 2.55185861, 2.44178253,\n",
       "       1.3913968 , 1.89507798, 2.55205194, 1.37792187, 2.12222915,\n",
       "       2.77681058, 1.51451238, 2.40737739, 1.8665188 , 1.9685926 ,\n",
       "       1.77954824, 2.73724284, 2.03279688, 1.72384615, 2.56228852,\n",
       "       2.3369542 , 2.14779966, 2.50136525, 2.21964571, 1.68719147,\n",
       "       1.71388794, 2.3565602 , 2.77395767, 1.80878909, 2.72247289,\n",
       "       3.13930231, 2.23584486, 2.15084701, 2.26818122, 2.02717771,\n",
       "       2.63879026, 2.87749279, 2.69452429, 1.09103622, 1.61413365,\n",
       "       1.86565183, 2.03301836, 2.21781448, 2.14705883, 2.29268207,\n",
       "       2.11739309, 2.94574654, 2.39576556, 2.31041412, 2.65663568,\n",
       "       2.41832698, 3.10432351, 3.1200467 , 2.34483387, 2.57576342,\n",
       "       1.96514163, 2.37553932, 1.97483044, 2.22914204, 1.0302957 ,\n",
       "       1.28494595, 2.66078271, 2.47764201, 2.63598736, 2.25481752,\n",
       "       1.9073918 , 1.85337738, 3.22358007, 1.45243943, 2.99670267,\n",
       "       2.41283289, 1.77883072, 2.10208769, 1.92079826, 2.43375389,\n",
       "       2.29059555, 1.28869147, 2.89234994, 2.29882234, 1.60770034,\n",
       "       1.66678458, 2.00256323, 1.4307049 , 2.58082419, 1.92397784,\n",
       "       2.81344528, 2.19018303, 2.32251046, 2.60185398, 2.82653671,\n",
       "       1.93208247, 2.61317937, 2.16159657, 2.55552575, 1.9896906 ,\n",
       "       2.41438039, 1.86718147, 2.17571565, 2.10514661, 2.36792803,\n",
       "       1.80769393, 1.73504936, 1.82947858, 2.30655827, 2.13295869,\n",
       "       3.07471494, 1.75508969, 1.93762758, 1.69720751, 1.2637558 ,\n",
       "       2.92238716, 2.45264676, 1.833509  , 2.99724862, 2.15216232,\n",
       "       2.59828578, 1.67553676, 1.47458251, 2.12385507, 2.31795367,\n",
       "       2.09795671, 2.06542948, 1.26548923, 2.31729422, 2.25613158,\n",
       "       1.88463369, 2.1494075 , 2.70038726, 1.47615091, 2.20878807,\n",
       "       2.24215132, 1.79688699, 2.58967253, 3.08782024, 1.49829446,\n",
       "       2.06689699, 2.20418778, 2.58430713, 2.5480966 , 2.18979787,\n",
       "       2.70317972, 1.80837436, 2.81176149, 2.17656625, 2.20580548,\n",
       "       1.5822007 , 1.26509319, 2.01766434, 2.57897746, 2.11015249,\n",
       "       2.37633741, 2.37526142, 2.88924961, 1.52279567, 2.48966875,\n",
       "       2.39674395, 1.89093645, 2.17392645, 2.90465438, 2.42733649,\n",
       "       1.82675034, 2.68811471, 2.10122773, 2.24445447, 2.39810681,\n",
       "       1.54333438, 2.79437596, 1.3918831 , 2.24276341, 1.83193158,\n",
       "       2.36321799, 2.59086902, 1.62515765, 2.30884081, 1.92962037,\n",
       "       2.01156636, 2.51832609, 2.09599394, 1.53654063, 1.02235981,\n",
       "       2.67505626, 2.44784687, 1.24214156, 2.89559095, 1.94554029,\n",
       "       2.75088732, 2.42376716, 1.22910856, 2.66214221, 2.03940492,\n",
       "       1.27754774, 1.70345092, 1.42788356, 2.18561465, 1.98110444,\n",
       "       2.13891759, 2.17486141, 2.21745938, 2.38204302, 1.81904718,\n",
       "       1.65787447, 2.24085812, 1.99840283, 2.35038962, 2.23490812,\n",
       "       1.47556343, 2.54327576, 2.39058599, 2.38101774, 2.48295255,\n",
       "       2.00036807, 2.47972884, 2.18427305, 2.06573572, 2.50616672,\n",
       "       1.82184481, 2.82590179, 2.49645047, 2.14436919, 1.56565097,\n",
       "       2.1732414 , 2.63413281, 2.05857901, 1.9248928 , 1.61608768,\n",
       "       1.74579371, 1.10044569, 2.64604518, 1.6179414 , 2.67450845,\n",
       "       1.86641965, 2.42352284, 2.01532095, 1.94904544, 2.43641635,\n",
       "       1.4308702 , 2.62781372, 2.40748426, 2.76929397, 2.26767632,\n",
       "       2.00353128, 2.20768913, 2.51007479, 2.15262486, 2.17009393,\n",
       "       2.36841946, 2.83704424, 2.1437754 , 2.20182518, 2.44847552,\n",
       "       2.17376271, 1.70541617, 2.60281841, 3.11552367, 2.13122003,\n",
       "       2.10673882, 1.65405758, 1.79200523, 1.79019378, 2.78669552,\n",
       "       2.54592667, 1.54910841, 1.88898971, 2.44527271, 2.33366166,\n",
       "       2.38688176, 1.78961247, 2.41084131, 2.61709198, 2.12465575,\n",
       "       1.54488889, 2.04348094, 2.03404987, 2.82221103, 2.20237817,\n",
       "       2.91987738, 2.20316989, 1.85298865, 3.19851417, 2.32868266,\n",
       "       1.65278143, 2.68636066, 1.4667287 , 1.91442934, 1.83206949,\n",
       "       2.03515919, 1.42774023, 2.24687652, 2.4093994 , 1.6025213 ,\n",
       "       2.16407671, 2.77210721, 2.15468545, 2.24911189, 2.05516025,\n",
       "       2.61398551, 0.75737087, 1.78414482, 2.79919218, 2.65778461,\n",
       "       2.73568097, 2.28724124, 2.37026725, 3.06715798, 2.90259101,\n",
       "       2.33789287, 2.52285089, 2.60205869, 2.74236325, 1.5414827 ,\n",
       "       2.14718473, 2.1761751 , 2.51569224, 2.15747382, 1.90783911,\n",
       "       3.25708192, 2.69609048, 2.42111977, 2.01187153, 1.81998766,\n",
       "       2.10192003, 1.44524015, 2.75455163, 3.04747076, 2.86730086,\n",
       "       2.53664118, 2.52352793, 1.62178893, 2.88970069, 2.52185302,\n",
       "       1.35725207, 1.97575347, 2.2007823 , 1.93734223, 2.25523843,\n",
       "       2.19163055, 1.89500628, 2.61721764, 2.06187636, 2.01415896,\n",
       "       2.35856982, 2.19542147, 2.0538106 , 2.70718687, 2.54882854,\n",
       "       1.78081889, 1.96679576, 2.51852114, 2.09208867, 2.61729526,\n",
       "       2.87377845, 1.95917457, 2.50665082, 2.47381444, 2.51735108,\n",
       "       3.03967256, 1.65351326, 2.49317286, 2.53234632, 1.75175402,\n",
       "       1.32507942, 2.82606438, 2.33006139, 2.17379165, 2.11071937,\n",
       "       2.7628967 , 2.65700393, 2.56217575, 2.35348538, 2.00896033,\n",
       "       1.28981028, 1.64609194, 2.59020045, 1.58493064, 2.57443937,\n",
       "       2.92469279, 3.11962285, 1.23228241, 1.69854651, 2.53029999,\n",
       "       1.88337681, 2.71147116, 2.32840392, 2.87116672, 2.80301299,\n",
       "       2.87764834, 1.75290455, 2.00150774, 1.79366611, 2.41743323,\n",
       "       2.46804604, 2.52526048, 2.20648264, 2.37944496, 1.48948805,\n",
       "       2.38656014, 2.85602007, 1.32364564, 2.67175619, 1.77959564,\n",
       "       2.10887729, 1.58713882, 1.73183944, 2.90613087, 2.04887072,\n",
       "       2.05590412, 1.94755721, 2.89695841, 2.79975164, 1.91134337,\n",
       "       1.96709007, 2.07617605, 1.04350248, 2.97184115, 2.22009698,\n",
       "       2.00061934, 2.02971715, 1.88434249, 3.05475901, 1.77107553,\n",
       "       1.87261745, 2.73437526, 2.02803359, 1.98730548, 1.20359245,\n",
       "       2.02001037, 2.10080393, 1.09389467, 2.38246621, 1.4625501 ,\n",
       "       1.33286286, 2.24260019, 2.38549952, 1.76501196, 1.7235548 ,\n",
       "       2.58802995, 3.48303536, 2.46783259, 3.18173526, 2.3484565 ,\n",
       "       2.84457926, 2.59697099, 2.547871  , 2.00156158, 1.5697587 ,\n",
       "       2.03190944, 2.87674253, 2.15970507, 1.69330919, 2.29922246,\n",
       "       1.97031872, 2.06888808, 2.36536005, 1.78626097, 1.83584062,\n",
       "       1.71826934, 1.91556827, 2.88617105, 2.10233054, 2.75736052,\n",
       "       2.27131267, 1.70356444, 3.06114116, 2.23959202, 2.47084573,\n",
       "       2.21246511, 1.1196099 , 2.14735997, 1.9048922 , 1.99891271,\n",
       "       2.06740821, 2.12866878, 2.49310409, 2.36054386, 2.17527399,\n",
       "       1.98453641, 1.44819263, 2.75253221, 1.67063744, 2.34083436,\n",
       "       2.09023347, 2.26635578, 1.60028947, 2.2322031 , 3.67877382,\n",
       "       1.61738408, 2.21833426, 1.67043032, 1.78582095, 1.57750711,\n",
       "       2.30624953, 2.00324183, 1.76844119, 2.77967559, 2.1818431 ,\n",
       "       2.77748706, 2.67716299, 2.24329464, 1.83155183, 1.90912589,\n",
       "       2.70225819, 1.49791648, 2.51210704, 1.3891393 , 2.38071167,\n",
       "       2.17010149, 1.82308264, 1.8096653 , 1.50231783, 2.22102448,\n",
       "       2.50109548, 2.20409895, 1.78740662, 1.6902007 , 1.33450423,\n",
       "       2.36043075, 2.7361007 , 2.79466735, 2.41773197, 2.71695902,\n",
       "       2.22519168, 2.06104281, 2.25870234, 1.83131212, 2.15154561,\n",
       "       0.71515342, 2.64595124, 2.43140516, 2.34590333, 2.10079504,\n",
       "       3.38112413, 2.70210354, 2.16823656, 1.88787878, 2.19636691,\n",
       "       2.2451284 , 2.58464451, 2.74238007, 2.53945268, 1.60471959,\n",
       "       2.30313718, 1.7720674 , 1.61878676, 1.66031624, 2.16028829,\n",
       "       2.52180702, 3.09938387, 1.97735355, 2.23135695, 1.82774576,\n",
       "       2.05663102, 3.14164236, 1.90391672, 2.50814792, 2.94693837,\n",
       "       1.75132472, 2.45867504, 2.69414143, 1.82890788, 1.63111233,\n",
       "       1.901042  , 2.83039718, 2.01095432, 3.22455032, 2.33467667,\n",
       "       3.30227206, 2.05455129, 1.24654578, 3.13035232, 1.4248174 ,\n",
       "       2.78766888, 2.96402303, 1.46356479, 1.9585668 , 2.62524326,\n",
       "       1.91928488, 1.86199195, 2.05538476, 1.87977256, 2.21282494,\n",
       "       2.49947073, 2.21343439, 2.15512876, 2.34832415, 1.82084357,\n",
       "       3.28708975, 2.2553367 , 1.4902187 , 2.28972308, 1.65736596,\n",
       "       2.87346898, 2.39449971, 2.444506  , 2.89187881, 1.49765946,\n",
       "       1.94369538, 1.74023797, 1.90504266, 2.50774959, 1.82148102,\n",
       "       2.26366076, 1.82876598, 2.07580103, 2.2739121 , 2.19210963,\n",
       "       2.05232739, 1.63041851, 1.9937845 , 2.26547789, 2.39273027,\n",
       "       2.53906699, 2.57057024, 2.02736989, 0.69227079, 1.44008809,\n",
       "       3.00384246, 1.52970126, 2.10503697, 2.01930783, 2.31508394,\n",
       "       2.27305053, 2.2088073 , 1.72850014, 2.02739881, 1.42871495,\n",
       "       2.06868449, 1.83748568, 2.05600278, 1.8082991 , 1.85208134,\n",
       "       2.67272784, 3.01380316, 2.01180968, 2.26869959, 1.50659508,\n",
       "       1.94985462, 1.17396549, 1.5779172 , 2.47486275, 1.59519051,\n",
       "       1.99421978, 3.07713132, 2.68252573, 2.27234324, 1.70667771,\n",
       "       1.92324151, 2.21785083, 2.93543431, 2.18027436, 1.64352355,\n",
       "       3.03102616, 2.97971235, 1.93694412, 1.44401849, 2.73564806,\n",
       "       1.97783163, 2.6231721 , 2.50262928, 3.08978558, 1.59000418,\n",
       "       2.42068732, 1.93588973, 2.45404959, 2.18406872, 1.47643734,\n",
       "       2.51341394, 0.96033159, 2.69613347, 2.27232508, 1.64813637,\n",
       "       2.61890895, 2.7463436 , 1.82949032, 2.22878888, 2.5004793 ,\n",
       "       1.77462827, 3.09285899, 2.79430002, 2.70619625, 2.23616724,\n",
       "       1.82757674, 2.46802246, 1.39785616, 2.15987575, 2.3640469 ,\n",
       "       1.61579154, 1.6370691 , 1.67017244, 2.14736499, 2.37554967,\n",
       "       2.33124462, 2.29236146, 1.70291603, 2.46165602, 2.78340896,\n",
       "       2.38706449, 1.93568828, 1.60311913, 1.46843536, 2.03373972,\n",
       "       2.21465151, 2.45934798, 2.66548359, 2.63334576, 1.75417898,\n",
       "       3.03485343, 2.43641057, 3.00415097, 2.33315098, 2.07178977,\n",
       "       1.43656546, 2.0127025 , 2.09327986, 2.45990763, 2.41322251,\n",
       "       2.15363587, 1.93880044, 2.29240882, 2.18126147, 1.43918654,\n",
       "       1.58599858, 1.84677961, 1.82181092, 2.07731644, 3.03307833,\n",
       "       2.02736642, 2.26253228, 2.80473724, 3.05416722, 1.64529453,\n",
       "       2.25393299, 2.40334534, 1.41448316, 2.18817949, 2.73214042,\n",
       "       3.16432185, 1.73656805, 1.96438505, 1.61214294, 1.65213546,\n",
       "       1.77291394, 2.71912833, 2.75763963, 2.65237663, 1.42347421,\n",
       "       3.55683224, 1.05804045, 2.58185359, 2.03049565, 2.12927658,\n",
       "       2.59486288, 1.52675728, 1.67907595, 2.64526984, 2.39529713,\n",
       "       1.15160867, 2.4748564 , 1.84829141, 1.98742739, 2.89646872,\n",
       "       1.19255679, 2.46412745, 1.91234089, 1.74045166, 1.73686204,\n",
       "       1.86403381, 2.82454741, 1.71959812, 2.06607741, 1.80691606,\n",
       "       2.04082366, 1.85914323, 2.7563884 , 2.97343874, 1.9063622 ,\n",
       "       1.39816975, 2.6435313 , 2.42267696, 1.81701207, 1.71360821,\n",
       "       1.66622626, 1.94620685, 2.52009373, 2.51626863, 2.75496287,\n",
       "       2.87171452, 1.91347924, 2.50768111, 1.81326331, 2.04332717,\n",
       "       2.94509377, 2.16904465, 2.34570887, 2.07042643, 1.99568984,\n",
       "       3.0742527 , 1.48467571, 2.36599083, 2.64105907, 1.57127815,\n",
       "       1.62159469, 2.47114151, 1.46034174, 2.81269957, 3.38027131,\n",
       "       2.08154193, 2.08552353, 2.47555706, 2.28390967, 1.64005397,\n",
       "       2.50690342, 1.64305538, 1.96593202, 1.8179406 , 2.06133505,\n",
       "       1.29342405, 2.12958645, 2.68304308, 2.84314425, 3.76712033,\n",
       "       3.10930467, 1.84790056, 2.27930769, 3.07893028, 2.87592295,\n",
       "       2.86453008, 2.31600191, 2.14875011, 3.55621861, 2.0077494 ,\n",
       "       2.15611409, 1.16549427, 2.24976225, 2.32646852, 1.82383616,\n",
       "       2.53254269, 2.3550911 , 2.76056174, 1.18498953, 1.83523058,\n",
       "       2.29489176, 1.11127608, 2.59665991, 2.30043347, 2.2724419 ,\n",
       "       2.06996372, 1.77633957, 2.47373222, 1.27086908, 2.46559885,\n",
       "       1.84576185, 2.44173375, 2.36093525, 2.23977135, 1.7746026 ,\n",
       "       1.84300933, 2.72149336, 1.73382583, 2.96228183, 1.6127114 ])"
      ]
     },
     "execution_count": 24,
     "metadata": {},
     "output_type": "execute_result"
    }
   ],
   "source": [
    "# Define values for mean & standard deviation of the Gaussian/normal distribution.\n",
    "mu = 2.2 # mean \n",
    "sigma = 0.5 # standard deviation\n",
    "\n",
    "# Enter the number of simulated data points to generate.\n",
    "N = 1000\n",
    "\n",
    "# Generate the simulated data.\n",
    "sim1k = np.random.normal(mu, sigma, N)\n",
    "\n",
    "# Show the list of simulated data points.\n",
    "sim1k"
   ]
  },
  {
   "cell_type": "markdown",
   "id": "7f65e7bb",
   "metadata": {},
   "source": [
    "Plot a histogram of the simulated data."
   ]
  },
  {
   "cell_type": "code",
   "execution_count": 25,
   "id": "b8243fb8",
   "metadata": {},
   "outputs": [
    {
     "name": "stdout",
     "output_type": "stream",
     "text": [
      "\n"
     ]
    },
    {
     "data": {
      "text/latex": [
       "$N = 1000$."
      ],
      "text/plain": [
       "<IPython.core.display.Latex object>"
      ]
     },
     "metadata": {},
     "output_type": "display_data"
    },
    {
     "data": {
      "text/latex": [
       "The average of the data is $\\mu = 2.194\\, \\mathrm{  }.$"
      ],
      "text/plain": [
       "<IPython.core.display.Latex object>"
      ]
     },
     "metadata": {},
     "output_type": "display_data"
    },
    {
     "data": {
      "text/latex": [
       "The standard deviation of the data is $\\sigma = 0.494\\, \\mathrm{  }.$"
      ],
      "text/plain": [
       "<IPython.core.display.Latex object>"
      ]
     },
     "metadata": {},
     "output_type": "display_data"
    },
    {
     "data": {
      "text/latex": [
       "The standard error of the data is $\\sigma_\\mu = \\sigma/\\sqrt{N} = \\mathrm0.016\\, \\mathrm{  }.$"
      ],
      "text/plain": [
       "<IPython.core.display.Latex object>"
      ]
     },
     "metadata": {},
     "output_type": "display_data"
    },
    {
     "data": {
      "image/png": "[encoded data removed]",
      "text/plain": [
       "<Figure size 500x500 with 1 Axes>"
      ]
     },
     "metadata": {
      "needs_background": "light"
     },
     "output_type": "display_data"
    }
   ],
   "source": [
    "# Plot a histogram of the simulated data and calculate some basic statistics.\n",
    "counts, centres, average1k, stdDev1k, stdError1k, fig1k = PHYS121.Statistics(data = sim1k)"
   ]
  },
  {
   "cell_type": "markdown",
   "id": "2fce0bad",
   "metadata": {},
   "source": [
    "Make a scatter plot of the simulated data and mark the positions of $\\mu$, $\\mu+\\sigma$, and $\\mu-\\sigma$."
   ]
  },
  {
   "cell_type": "code",
   "execution_count": 26,
   "id": "837544c6",
   "metadata": {},
   "outputs": [
    {
     "data": {
      "image/png": "[encoded data removed]",
      "text/plain": [
       "<Figure size 500x500 with 1 Axes>"
      ]
     },
     "metadata": {
      "needs_background": "light"
     },
     "output_type": "display_data"
    }
   ],
   "source": [
    "# Define the size of the resulting figure (5\" x 5\")\n",
    "fig = plt.figure(figsize=(5, 5), dpi=100)\n",
    "\n",
    "# Plot the simulated data.  The 'ko' syntax specifies a plot of black (the 'k' in 'ko') circular data points (the 'o' in 'ko'). \n",
    "plt.plot(sim1k, 'ko')\n",
    "\n",
    "# Specify the range of the x-axis.\n",
    "plt.xlim([-10, N + 10])\n",
    "\n",
    "# Specify which ticks to label along the x-axis.\n",
    "plt.xticks([0, 100, 200, 300, 400, 500, 600, 700, 800, 900, 1000]);\n",
    "\n",
    "#Label the x- and y-axes.\n",
    "plt.xlabel('Trial number')\n",
    "plt.ylabel('Simulated data')\n",
    "\n",
    "# Plot a horizontal pink dashed line at mu\n",
    "plt.plot([-10, N + 10], [average1k, average1k], color = 'pink', linestyle = '--')\n",
    "\n",
    "# Plot a horizontal red line at mu + sigma\n",
    "MuPlusSigma = average1k + stdDev1k\n",
    "plt.plot([-10, N + 10], [MuPlusSigma, MuPlusSigma], 'red')\n",
    "\n",
    "# Plot a horizontal blue line at mu - sigma\n",
    "MuMinusSigma = average1k - stdDev1k\n",
    "plt.plot([-10, N + 10], [MuMinusSigma, MuMinusSigma], 'blue');"
   ]
  },
  {
   "cell_type": "markdown",
   "id": "50ef7379",
   "metadata": {},
   "source": [
    "***\n",
    "**<span style=\"color:blue\">Question 2.1:</span>**  \n",
    "\n",
    "Compare the means $\\mu$ and standard deviations $\\sigma$ obtained in **Part 1** ($N = 20$ trials) and **Part 2** ($N = 1000$ trials) of the pre-lab.  Are they very different or are they similar?  Keep in mind that we changed $N$ by a factor of $1000/20 = 50$.  In comparison, by what factor did the standard deviation change?  What does this tell you about how the standard deviation $\\sigma$ depends on the number of trails $N$?"
   ]
  },
  {
   "cell_type": "markdown",
   "id": "31968e7c",
   "metadata": {},
   "source": [
    "***\n",
    "**<span style=\"color:blue\">Answer 2.1:</span>**\n",
    "\n",
    "[//]: # (Please do not delete this comment or anything above it.  Anything below this comment can be deleted.)  \n",
    "\n",
    "Double click this cell and enter your text here.  When done, hit 'Shift' + 'Enter' to execute the cell.  You may delete this text when entering your answer. "
   ]
  },
  {
   "cell_type": "markdown",
   "id": "46406d1b",
   "metadata": {},
   "source": [
    "***\n",
    "**<span style=\"color:blue\">Question 2.2:</span>**  \n",
    "\n",
    "Compare the histograms obtained in **Part 1** ($N = 20$ trials) and **Part 2** ($N = 1000$ trials).  Which of the histograms allows you to better determine the position of the peak or mean?"
   ]
  },
  {
   "cell_type": "markdown",
   "id": "84ec4a64",
   "metadata": {},
   "source": [
    "***\n",
    "**<span style=\"color:blue\">Answer 2.2:</span>**\n",
    "\n",
    "[//]: # (Please do not delete this comment or anything above it.  Anything below this comment can be deleted.)  \n",
    "\n",
    "Double click this cell and enter your text here.  When done, hit 'Shift' + 'Enter' to execute the cell.  You may delete this text when entering your answer. "
   ]
  },
  {
   "cell_type": "markdown",
   "id": "0d889e4b",
   "metadata": {},
   "source": [
    "***\n",
    "From **Parts 1** and **2** of the lab, you have hopefully seen that the standard deviation $\\sigma$ characterizes the width of a Gaussian distribution and that its value is independent of the number of trials $N$.  The standard deviation $\\sigma$ is used to estimate the uncertainty of any single trail of an experiment.  The physical interpretation is that any single measurement has a $68\\%$ chance of falling within one standard deviation of the mean $\\mu$.  In other words, each measurement has a $68\\%$ chance of falling between $\\mu-\\sigma$ and $\\mu+\\sigma$.\n",
    "\n",
    "Although $\\sigma$ is independent of $N$, our ability to locate the peak or mean value of a distribution of measurements improves as $N$ increases.  This is because, as $N$ is increased, the distribution of measurements better approximates an ideal Gaussian distribution with a smooth peak and symmetric tails.\n",
    "\n",
    "The correct way to estimate the uncertainty in the mean or average of a set of data is to use the so-called **standard error** which we will denote as $\\sigma_\\mu$.  The standard error is calculated by dividing the standard deviation $\\sigma$ by the square root of the number of trials:\n",
    "\\begin{align}\n",
    "\\sigma_\\mu = \\dfrac{\\sigma}{\\sqrt{N}}.\n",
    "\\label{eq:stderror} \\tag{2}\n",
    "\\end{align}\n",
    "Understanding where this expression comes from requires a proper treatment of the propagation of errors which is beyond the scope of PHYS 121.  However, if you choose to pursue a physics degree, we will revisit error propagation and standard error in Modern Physics Laboratory course PHYS 232."
   ]
  },
  {
   "cell_type": "markdown",
   "id": "f87eaaaa",
   "metadata": {},
   "source": [
    "# <div style=\"background-color:rgba(255, 204, 255, 0.5); text-align:center; vertical-align: middle; padding:40px 0; margin-top:30px\"><span style=\"color:rgba(102, 0, 204, 1);\">Part 3 - Overlaying Histograms</span></div>\n",
    "\n",
    "In this final part of the pre-lab, which won't be graded, we simply overlay the histograms of the simulated data generated in **Parts 1** and **2**.  We "
   ]
  },
  {
   "cell_type": "code",
   "execution_count": 27,
   "id": "d1b15bae",
   "metadata": {},
   "outputs": [
    {
     "data": {
      "image/png": "[encoded data removed]",
      "text/plain": [
       "<Figure size 500x500 with 1 Axes>"
      ]
     },
     "metadata": {
      "needs_background": "light"
     },
     "output_type": "display_data"
    }
   ],
   "source": [
    "cnts, ctrs, fig2 = PHYS121.HistOverlay([sim20, sim1k])"
   ]
  },
  {
   "cell_type": "markdown",
   "id": "db14594a",
   "metadata": {},
   "source": [
    "In the plot above, you should see a pair of histograms.  The blue and orange bars represent the set of simulated data with $N=20$ and $N=1000$ trials, respectively.  The orange data should be a better approximation to an ideal Gaussian distribution such that the centre or mean value of the distribution is easier to locate.  This plot also emphasizes that to two distributions have more or less the same width.  That is, the standard deviation $\\sigma$, which characterizes the width of the distribution is independent of the size $N$ of the dataset.\n",
    "\n",
    "To summarize, the two important observations that can be made from this analysis are:\n",
    "- The standard deviation $\\sigma$ is independent of the number of trials $N$.\n",
    "- Datasets with a large number of trials result in smoother distributions with allows for a more precise determination of the mean $\\mu$.\n",
    "\n",
    "If both of the observations above are true, then $\\sigma$ **cannot** be a good estimate of the uncertainty in the mean or average value of a set of $N$ measurements.  In fact, the standard deviation $\\sigma$ represents the uncertainty in the value of any single trail of the experiment.  In Lab 1, we will see how the uncertainty in the mean of a set of $N$ measurements can be estimated. "
   ]
  },
  {
   "cell_type": "markdown",
   "id": "3be24b1c",
   "metadata": {},
   "source": [
    "# <div style=\"background-color:rgba(255, 204, 255, 0.5); text-align:center; vertical-align: middle; padding:40px 0; margin-top:30px\"><span style=\"color:rgba(102, 0, 204, 1);\">Part 4 - Reflection (optional)</span></div>"
   ]
  },
  {
   "cell_type": "markdown",
   "id": "fecb95ee",
   "metadata": {},
   "source": [
    "**<span style=\"color:blue\">Question 4.1:</span>**  \n",
    "\n",
    "We welcome your feedback on the PHYS 121 pre-labs!  Please feel free to include any comments you have about this pre-lab in the cell below.  Your comments will be taken into consideration when revising/improving the PHYS 121 labs and pre-labs.  You can suggest improvements, point out anything that was unclear, comment on the strengths and weaknesses of the pre-lab, ...\n",
    "\n",
    "This question is optional and will have no impact on your pre-lab or lab grade."
   ]
  },
  {
   "cell_type": "markdown",
   "id": "4e68b62f",
   "metadata": {},
   "source": [
    "***\n",
    "**<span style=\"color:blue\">Answer 4.1:</span>**\n",
    "\n",
    "[//]: # (Please do not delete this comment or anything above it.  Anything below this comment can be deleted.)  \n",
    "\n",
    "Double click this cell and enter your text here.  When done, hit 'Shift' + 'Enter' to execute the cell.  You may delete this text when entering your answer. "
   ]
  },
  {
   "cell_type": "markdown",
   "id": "e6474d15",
   "metadata": {},
   "source": [
    "# <div style=\"background-color:rgba(255, 204, 255, 0.5); text-align:center; vertical-align: middle; padding:40px 0; margin-top:30px\"><span style=\"color:rgba(102, 0, 204, 1);\">Part 5 - Playground (optional)</span></div>\n",
    "\n",
    "Feel free to add as many cells as you like below and use them as a playground for further independent investigations.  These cells won't be graded, so feel free to use them in any way that you like.  For example, you could compare Gaussian distributions with different standard deviations and/or means. "
   ]
  },
  {
   "cell_type": "code",
   "execution_count": null,
   "id": "5ada845c",
   "metadata": {},
   "outputs": [],
   "source": [
    "# Here's an empty code cell that you can use."
   ]
  },
  {
   "cell_type": "code",
   "execution_count": null,
   "id": "ae2c27a6",
   "metadata": {},
   "outputs": [],
   "source": [
    "# Here's another empty code cell that you can use."
   ]
  },
  {
   "cell_type": "code",
   "execution_count": null,
   "id": "38c04ec5",
   "metadata": {},
   "outputs": [],
   "source": [
    "# Here's yet another empty code cell that you can use.  \n",
    "# If you need more, you can add cells using the '+' icon in the menu bar at to the top of the screen."
   ]
  },
  {
   "cell_type": "markdown",
   "id": "5c5d4e70",
   "metadata": {},
   "source": [
    "### <div style=\"background-color:rgba(255, 255, 102, 0.5); text-align:left; padding:20px 0; margin-top:20px\">$\\quad$Appendix A &ndash; The Statistics Function...</div>\n",
    "\n",
    "The statistics function is called as follows:\n",
    "```python\n",
    "Statistics(data, nbins = 10, xlabel = 'x-axis', xUnits = '', normalized = False)\n",
    "```\n",
    "The data input is required, all other arguments are optional with default values set.  The function returns the following outputs:\n",
    "```python\n",
    "counts, centres, average, stdDev, stdError, fig\n",
    "```\n",
    "The first two outputs are lists, the next three are numerical values, and 'fig' is the formatted plot. The counts list gives the number of counts in each bin of the histogram and the centres list gives the position of the centre of each bin.\n",
    "\n",
    "The function calculates and reports the mean, standard deviation, and standard error of the provided data.  It also plots a histogram of the data.  \n",
    "\n",
    "### Statistics Example Implmentation\n",
    "The code block below shows an implementation of 'Statistics'.\n",
    "```python\n",
    "import PHYS121\n",
    "theta20a = [2.02, 1.93, 1.92, 1.96, 2.03, 2.03, 1.96, 2.03, 2.06, 2, 2.03, 2.12, 2.07, 1.99, 1.99, 1.95, 2.03, 2.12, 2.03, 2.09, 2.03, 2.03, 2.01, 2.04, 2.03, 2.04, 1.99, 1.99, 1.97, 1.98]\n",
    "cnts, ctrs, mean, stdDev, stdError, fig20a = PHYS121.Statistics(theta20a, 12, 'Period', 's', True);\n",
    "```\n",
    "\n",
    "If you're interested in generating your own histograms with customized formatting, see the following Python-based tutorial: https://cmps-people.ok.ubc.ca/jbobowsk/Python/html/Jupyter%20Histogram.html.\n",
    "***"
   ]
  },
  {
   "cell_type": "markdown",
   "id": "2bde3519",
   "metadata": {},
   "source": [
    "### <div style=\"background-color:rgba(255, 255, 102, 0.5); text-align:left; padding:20px 0; margin-top:20px\">$\\quad$Appendix B &ndash; The HistOverlay Function...</div>\n",
    "\n",
    "The HistOverlay function is called as follows:\n",
    "```python\n",
    "HistOverlay(dataArray, nbins = 10, xlabel = 'x-axis', xUnits = '',  normalized = True, transparency = 0.75)\n",
    "```\n",
    "The dataArray (a list of lists) input is required, all other arguments are optional with default values set.  The function returns the following outputs:\n",
    "```python\n",
    "countsArray, centresArray, fig\n",
    "```\n",
    "The first two outputs are lists of lists and 'fig' is the formatted plot. \n",
    "\n",
    "The dataArray is of the form dataArray = [[dataset1], [dataset2], ... [datasetN]].  The function plots the histograms of each of the datasets on a single graph.  If the normalized argument is True, then histogram is scaled such that the area under the distributions is 1.  This is a good option when comparing two different distributions.  The transparency argument (a number between 0 and 1) sets the transparency of each of the individual histograms.\n",
    "\n",
    "### HistOverlay Example Implementation\n",
    "The code block below shows an implementation of 'HistOverlay'.\n",
    "```python\n",
    "import PHYS121\n",
    "cnts, ctrs, fig = PHYS121.HistOverlay([theta20a, theta20], 8, 'Period', 's', True, 0.75)\n",
    "```\n",
    "***"
   ]
  },
  {
   "cell_type": "markdown",
   "id": "38172bec",
   "metadata": {},
   "source": [
    "Last update: August 1, 2022"
   ]
  }
 ],
 "metadata": {
  "kernelspec": {
   "display_name": "Python 3 (ipykernel)",
   "language": "python",
   "name": "python3"
  },
  "language_info": {
   "codemirror_mode": {
    "name": "ipython",
    "version": 3
   },
   "file_extension": ".py",
   "mimetype": "text/x-python",
   "name": "python",
   "nbconvert_exporter": "python",
   "pygments_lexer": "ipython3",
   "version": "3.8.13"
  }
 },
 "nbformat": 4,
 "nbformat_minor": 5
}
