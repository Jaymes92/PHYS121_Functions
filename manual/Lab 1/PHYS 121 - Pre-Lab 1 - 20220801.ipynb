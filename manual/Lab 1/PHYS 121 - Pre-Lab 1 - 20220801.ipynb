{
 "cells": [
  {
   "cell_type": "markdown",
   "id": "0562ce69",
   "metadata": {},
   "source": [
    "# <div style=\"background-color:rgba(204, 229, 255, 0.5); text-align:center; vertical-align: middle; padding:40px 0; margin-top:30px\"><span style=\"color:rgba(0, 76, 153, 1);\">PHYS 121 Pre-Lab #1</span></div>\n",
    "# Oscillations of a Simple Pendulum &ndash; Week 1"
   ]
  },
  {
   "cell_type": "markdown",
   "id": "39f25a1a",
   "metadata": {},
   "source": [
    "***\n",
    "## Learning Objectives:\n",
    "* <b><span style=\"color:rgba(0, 153, 76, 1);\">Understand what *does* and *does not* affect the width of a distribution of measurements.</span></b>\n",
    "* <b><span style=\"color:rgba(0, 153, 76, 1);\">Understand how to determine the uncertainty associated with the *mean* or *average* value of a set of measurements.</span></b> "
   ]
  },
  {
   "cell_type": "markdown",
   "id": "4754b43e",
   "metadata": {},
   "source": [
    "***\n",
    "## Introduction:\n",
    "\n",
    "This pre-lab will be used to develop some insights that will help you begin to meet the learning objectives for Lab #1.  Furthermore, the pre-lab will introduce some of the Python functions that will be used to analyze the data that you collect during the lab.\n",
    "\n",
    "When a quantity, such as the period of a pendulum, is measured many times using the same measurement technique, one obtains a **distribution** of measurements.  Most of the time (but not always), the data follow a **Gaussian** distribution which is also known as a **normal** distribution or **bell curve**.   \n",
    "\n",
    "A **histogram** is a plot of the frequency with which a measurement falls with a specific range of values called a **bin**.  For example, a bin with boundaries $x_1$ and $x_2$ would capture measurements with values of $x$ between $x_1$ and $x_2$: $x_1\\le x < x_2$.  If a sufficient number of data points are collected, a histogram of the measurements will approximate the shape of a Gaussian distribution.  Bins with a large number of counts occur near the peak of the distribution and bins with a small number counts appear near the tails of the distribution.\n",
    "\n",
    "The figure below shows an ideal Gaussian distribution.  It has been normalized so that the total area beneath the curve is one. To produce this ideal distribution, one would need to make an infinite number of measurements of the quantity of interest and then plot a histogram of those data.  Of course, this is impractical so we can only hope to use a finite set of data to approximate an ideal distribution.  The peak of the distribution occurs at mean value $\\mu$ and the width is characterized by the standard deviation $\\sigma$.  The horizonal axis in Fig. 1 shows the locations of $\\mu$, $\\mu\\pm\\sigma$, $\\mu\\pm 2\\sigma$, and $\\mu\\pm 3\\sigma$.\n",
    "\n",
    "<p>\n",
    "<center>\n",
    "<img src=\"https://cmps-people.ok.ubc.ca/jbobowsk/PHYS_121_Lab/Lab1/images/Standard_deviation_diagram_micro.svg\" alt=\"image info\" style=\"width: 85%; height: auto;\" /><br>\n",
    "<b>Fig. 1: An ideal Gaussian distribution.</b></center>\n",
    "</p>\n",
    "\n",
    "**The 68-95-99.7 rule**<br>\n",
    "The area beneath a normalized Gaussian distribution between to points $x_1$ and $x_2$ along the $x$-axis gives the probability that a single measurement $x$ will fall between those values.  For example, in Fig. 1 region shaded dark blue extends from $x_1=\\mu-\\sigma$ to $x_2=\\mu+\\sigma$ and has an area of $0.68$.  This observation implies that $68\\%$ of measurements are expected to fall within one standard deviation $\\sigma$ of the mean $\\mu$.  In a similar way, $95\\%$ of measurements are expected to fall within $\\pm 2\\sigma$ of the mean and $99.7\\%$ of measurements are expected to fall within $\\pm 3\\sigma$ of the mean.\n",
    "\n",
    "When estimating the uncertainty of a single measurement, one is trying to estimate the standard deviation that would be obtained if the measurement was repeated many times (without actually doing the repeated measurements). "
   ]
  },
  {
   "cell_type": "markdown",
   "id": "3766ece8",
   "metadata": {},
   "source": [
    "# <div style=\"background-color:rgba(255, 204, 255, 0.5); text-align:center; vertical-align: middle; padding:40px 0; margin-top:30px\"><span style=\"color:rgba(102, 0, 204, 1);\">Part 1 - Simulated Data ($N=20$)</span></div>\n",
    "\n",
    "One of the advantages of using Jupyter notebooks for the lab manuals and pre-labs is that, when appropriate, it can be used to generate simulated data.  The simulated datasets can then be used to develop important insights that will help us interpret real experimental data.\n",
    "\n",
    "The block of code below generates a set of $N$ simulated 'measurements' drawn from a Gaussian distribution with mean $\\mu$ and standard deviation $\\sigma$.  You do **not** need to understand the syntax of the code.  It is include only for the benefit of those interested in understanding the details of how the simulated data is generated."
   ]
  },
  {
   "cell_type": "code",
   "execution_count": null,
   "id": "264e5e6b",
   "metadata": {},
   "outputs": [],
   "source": [
    "# Import the useful Numpy module.\n",
    "import numpy as np \n",
    "\n",
    "# Define values for mean & standard deviation of the Gaussian/normal distribution.\n",
    "mu = 2.2 # mean \n",
    "sigma = 0.5 # standard deviation\n",
    "\n",
    "# Enter the number of simulated data points to generate.\n",
    "N = 20\n",
    "\n",
    "# Generate the simulated data.\n",
    "sim20 = np.random.normal(mu, sigma, N)\n",
    "\n",
    "# Show the list of simulated data points.\n",
    "sim20"
   ]
  },
  {
   "cell_type": "markdown",
   "id": "213f53b4",
   "metadata": {},
   "source": [
    "In the cell below, you will use a function called 'Statistics' to produce a histogram of measured periods and to calculate some basic statistics of your dataset (mean, standard deviation, and standard error). The 'Statistics' function is called as follows:\n",
    "```python\n",
    "import PHYS121\n",
    "counts, centres, average20, stdDev20, stdError20, fig20 = PHYS121.Statistics(xData = sim20)\n",
    "```\n",
    "For additional information about the 'Statistics' function, see **Appendix A** near the end of this notebook.  "
   ]
  },
  {
   "cell_type": "code",
   "execution_count": null,
   "id": "26cb7a9a",
   "metadata": {},
   "outputs": [],
   "source": [
    "# Import PHYS121.py which contains many useful functions that we'll use in PHYS 121.\n",
    "import PHYS121\n",
    "\n",
    "# Plot a histogram of the simulated data and calculate some basic statistics.\n",
    "counts, centres, average20, stdDev20, stdError20, fig20 = PHYS121.Statistics(data = sim20)"
   ]
  },
  {
   "cell_type": "markdown",
   "id": "f9553e70",
   "metadata": {},
   "source": [
    "***\n",
    "**<span style=\"color:blue\">Question 1.1:</span>**  \n",
    "\n",
    "In two or three sentences, comment on the shape of the histogram that was generated using the simulated data.  What features does it have in common with the ideal Gaussian distribution shown in Fig. 1?  What are the differences?   "
   ]
  },
  {
   "cell_type": "markdown",
   "id": "f546a484",
   "metadata": {},
   "source": [
    "***\n",
    "**<span style=\"color:blue\">Answer 1.1:</span>**\n",
    "\n",
    "[//]: # (Please do not delete this comment or anything above it.  Anything below this comment can be deleted.)  \n",
    "\n",
    "Double click this cell and enter your text here.  When done, hit 'Shift' + 'Enter' to execute the cell.  You may delete this text when entering your answer. "
   ]
  },
  {
   "cell_type": "markdown",
   "id": "a2ba99e9",
   "metadata": {},
   "source": [
    "***\n",
    "The lines of code below are used to make a scatter plot of the simulated data.  The $x$-axis represents the trial number and  the $y$-axis is the corresponding value of the simulated data.  The plot also includes are set of horizontal lines.  A black dashed line is drawn at the value of the average $\\mu$, a red line is placed at $\\mu+\\sigma$, and a blue line is placed at $\\mu-\\sigma$.  \n",
    "\n",
    "Again, you do **not** need to spend time understanding the syntax of the code.  It is merely provided for the benefit of those interested in seeing the specific details."
   ]
  },
  {
   "cell_type": "code",
   "execution_count": null,
   "id": "b4440310",
   "metadata": {},
   "outputs": [],
   "source": [
    "# Import the Matplotlib plotting module\n",
    "import matplotlib.pyplot as plt\n",
    "\n",
    "# Define the size of the resulting figure (5\" x 5\")\n",
    "fig = plt.figure(figsize=(5, 5), dpi=100)\n",
    "\n",
    "# Plot the simulated data.  The 'ko' syntax specifies a plot of black (the 'k' in 'ko') circular data points (the 'o' in 'ko'). \n",
    "plt.plot(sim20, 'ko')\n",
    "\n",
    "# Specify the range of the x-axis.\n",
    "plt.xlim([-1, N + 1])\n",
    "\n",
    "# Specify which ticks to label along the x-axis.\n",
    "plt.xticks([0, 2, 4, 6, 8, 10, 12, 14, 16, 18, 20]);\n",
    "\n",
    "#Label the x- and y-axes.\n",
    "plt.xlabel('Trial number')\n",
    "plt.ylabel('Simulated data')\n",
    "\n",
    "# Plot a horizontal pink dashed line at mu\n",
    "plt.plot([-1, N + 1], [average20, average20], color = 'pink', linestyle = '--')\n",
    "\n",
    "# Plot a horizontal red line at mu + sigma\n",
    "MuPlusSigma = average20 + stdDev20\n",
    "plt.plot([-1, N + 1], [MuPlusSigma, MuPlusSigma], 'red')\n",
    "\n",
    "# Plot a horizontal blue line at mu - sigma\n",
    "MuMinusSigma = average20 - stdDev20\n",
    "plt.plot([-1, N + 1], [MuMinusSigma, MuMinusSigma], 'blue');"
   ]
  },
  {
   "cell_type": "markdown",
   "id": "cd85bbd9",
   "metadata": {},
   "source": [
    "***\n",
    "**<span style=\"color:blue\">Question 1.2:</span>**  \n",
    "\n",
    "In the scatter plot above, the red line is placed at $\\mu +\\sigma$ along the $y$-axis and the blue line is placed at $\\mu-\\sigma$.  What fraction of points fall between the blue and red lines?  Enter the appropriate value for 'frac' in the cell below."
   ]
  },
  {
   "cell_type": "markdown",
   "id": "7f1839ab",
   "metadata": {},
   "source": [
    "***\n",
    "**<span style=\"color:blue\">Answer 1.2:</span>**"
   ]
  },
  {
   "cell_type": "code",
   "execution_count": null,
   "id": "f7fac7bb",
   "metadata": {},
   "outputs": [],
   "source": [
    "frac = "
   ]
  },
  {
   "cell_type": "markdown",
   "id": "fafc195d",
   "metadata": {},
   "source": [
    "# <div style=\"background-color:rgba(255, 204, 255, 0.5); text-align:center; vertical-align: middle; padding:40px 0; margin-top:30px\"><span style=\"color:rgba(102, 0, 204, 1);\">Part 2 - Simulated Data ($N=1000$)</span></div>\n",
    "\n",
    "Here, we simply repeat everything from **Part 1** after increasing the value of $N$ from $20$ to $1000$.  First, generate the simulated data.  Use the same values of $\\mu$ and $\\sigma$ that were used in **Part 1**.  "
   ]
  },
  {
   "cell_type": "code",
   "execution_count": null,
   "id": "0b9d52b8",
   "metadata": {},
   "outputs": [],
   "source": [
    "# Define values for mean & standard deviation of the Gaussian/normal distribution.\n",
    "mu = 2.2 # mean \n",
    "sigma = 0.5 # standard deviation\n",
    "\n",
    "# Enter the number of simulated data points to generate.\n",
    "N = 1000\n",
    "\n",
    "# Generate the simulated data.\n",
    "sim1k = np.random.normal(mu, sigma, N)\n",
    "\n",
    "# Show the list of simulated data points.\n",
    "sim1k"
   ]
  },
  {
   "cell_type": "markdown",
   "id": "7f65e7bb",
   "metadata": {},
   "source": [
    "Plot a histogram of the simulated data."
   ]
  },
  {
   "cell_type": "code",
   "execution_count": null,
   "id": "b8243fb8",
   "metadata": {},
   "outputs": [],
   "source": [
    "# Plot a histogram of the simulated data and calculate some basic statistics.\n",
    "counts, centres, average1k, stdDev1k, stdError1k, fig1k = PHYS121.Statistics(data = sim1k)"
   ]
  },
  {
   "cell_type": "markdown",
   "id": "2fce0bad",
   "metadata": {},
   "source": [
    "Make a scatter plot of the simulated data and mark the positions of $\\mu$, $\\mu+\\sigma$, and $\\mu-\\sigma$."
   ]
  },
  {
   "cell_type": "code",
   "execution_count": null,
   "id": "837544c6",
   "metadata": {},
   "outputs": [],
   "source": [
    "# Define the size of the resulting figure (5\" x 5\")\n",
    "fig = plt.figure(figsize=(5, 5), dpi=100)\n",
    "\n",
    "# Plot the simulated data.  The 'ko' syntax specifies a plot of black (the 'k' in 'ko') circular data points (the 'o' in 'ko'). \n",
    "plt.plot(sim1k, 'ko')\n",
    "\n",
    "# Specify the range of the x-axis.\n",
    "plt.xlim([-10, N + 10])\n",
    "\n",
    "# Specify which ticks to label along the x-axis.\n",
    "plt.xticks([0, 100, 200, 300, 400, 500, 600, 700, 800, 900, 1000]);\n",
    "\n",
    "#Label the x- and y-axes.\n",
    "plt.xlabel('Trial number')\n",
    "plt.ylabel('Simulated data')\n",
    "\n",
    "# Plot a horizontal pink dashed line at mu\n",
    "plt.plot([-10, N + 10], [average1k, average1k], color = 'pink', linestyle = '--')\n",
    "\n",
    "# Plot a horizontal red line at mu + sigma\n",
    "MuPlusSigma = average1k + stdDev1k\n",
    "plt.plot([-10, N + 10], [MuPlusSigma, MuPlusSigma], 'red')\n",
    "\n",
    "# Plot a horizontal blue line at mu - sigma\n",
    "MuMinusSigma = average1k - stdDev1k\n",
    "plt.plot([-10, N + 10], [MuMinusSigma, MuMinusSigma], 'blue');"
   ]
  },
  {
   "cell_type": "markdown",
   "id": "50ef7379",
   "metadata": {},
   "source": [
    "***\n",
    "**<span style=\"color:blue\">Question 2.1:</span>**  \n",
    "\n",
    "Compare the means $\\mu$ and standard deviations $\\sigma$ obtained in **Part 1** ($N = 20$ trials) and **Part 2** ($N = 1000$ trials) of the pre-lab.  Are they very different or are they similar?  Keep in mind that we changed $N$ by a factor of $1000/20 = 50$.  In comparison, by what factor did the standard deviation change?  What does this tell you about how the standard deviation $\\sigma$ depends on the number of trials $N$?"
   ]
  },
  {
   "cell_type": "markdown",
   "id": "31968e7c",
   "metadata": {},
   "source": [
    "***\n",
    "**<span style=\"color:blue\">Answer 2.1:</span>**\n",
    "\n",
    "[//]: # (Please do not delete this comment or anything above it.  Anything below this comment can be deleted.)  \n",
    "\n",
    "Double click this cell and enter your text here.  When done, hit 'Shift' + 'Enter' to execute the cell.  You may delete this text when entering your answer. "
   ]
  },
  {
   "cell_type": "markdown",
   "id": "46406d1b",
   "metadata": {},
   "source": [
    "***\n",
    "**<span style=\"color:blue\">Question 2.2:</span>**  \n",
    "\n",
    "Compare the histograms obtained in **Part 1** ($N = 20$ trials) and **Part 2** ($N = 1000$ trials).  Which of the histograms allows you to better determine the position of the peak or mean?"
   ]
  },
  {
   "cell_type": "markdown",
   "id": "84ec4a64",
   "metadata": {},
   "source": [
    "***\n",
    "**<span style=\"color:blue\">Answer 2.2:</span>**\n",
    "\n",
    "[//]: # (Please do not delete this comment or anything above it.  Anything below this comment can be deleted.)  \n",
    "\n",
    "Double click this cell and enter your text here.  When done, hit 'Shift' + 'Enter' to execute the cell.  You may delete this text when entering your answer. "
   ]
  },
  {
   "cell_type": "markdown",
   "id": "0d889e4b",
   "metadata": {},
   "source": [
    "***\n",
    "From **Parts 1** and **2** of the lab, you have hopefully seen that the standard deviation $\\sigma$ characterizes the width of a Gaussian distribution and that its value is independent of the number of trials $N$.  The standard deviation $\\sigma$ is used to estimate the uncertainty of any single trial of an experiment.  The physical interpretation is that any single measurement has a $68\\%$ chance of falling within one standard deviation of the mean $\\mu$.  In other words, each measurement has a $68\\%$ chance of falling between $\\mu-\\sigma$ and $\\mu+\\sigma$.\n",
    "\n",
    "Although $\\sigma$ is independent of $N$, our ability to locate the peak or mean value of a distribution of measurements improves as $N$ increases.  This is because, as $N$ is increased, the distribution of measurements better approximates an ideal Gaussian distribution with a smooth peak and symmetric tails.\n",
    "\n",
    "The correct way to estimate the uncertainty in the mean or average of a set of data is to use the so-called **standard error** which we will denote as $\\sigma_\\mu$.  The standard error is calculated by dividing the standard deviation $\\sigma$ by the square root of the number of trials:\n",
    "\\begin{align}\n",
    "\\sigma_\\mu = \\dfrac{\\sigma}{\\sqrt{N}}.\n",
    "\\label{eq:stderror} \\tag{2}\n",
    "\\end{align}\n",
    "Understanding where this expression comes from requires a proper treatment of the propagation of errors which is beyond the scope of PHYS 121.  However, if you choose to pursue a physics degree, we will revisit error propagation and standard error in Modern Physics Laboratory course PHYS 232."
   ]
  },
  {
   "cell_type": "markdown",
   "id": "f87eaaaa",
   "metadata": {},
   "source": [
    "# <div style=\"background-color:rgba(255, 204, 255, 0.5); text-align:center; vertical-align: middle; padding:40px 0; margin-top:30px\"><span style=\"color:rgba(102, 0, 204, 1);\">Part 3 - Overlaying Histograms</span></div>\n",
    "\n",
    "In this final part of the pre-lab, which won't be graded, we simply overlay the histograms of the simulated data generated in **Parts 1** and **2**.  We "
   ]
  },
  {
   "cell_type": "code",
   "execution_count": null,
   "id": "fc109c3e",
   "metadata": {},
   "outputs": [],
   "source": [
    "cnts, ctrs, fig2 = PHYS121.HistOverlay([sim20, sim1k])"
   ]
  },
  {
   "cell_type": "markdown",
   "id": "db14594a",
   "metadata": {},
   "source": [
    "In the plot above, you should see a pair of histograms.  The blue and orange bars represent the set of simulated data with $N=20$ and $N=1000$ trials, respectively.  The orange data should be a better approximation to an ideal Gaussian distribution such that the centre or mean value of the distribution is easier to locate.  This plot also emphasizes that to two distributions have more or less the same width.  That is, the standard deviation $\\sigma$, which characterizes the width of the distribution is independent of the size $N$ of the dataset.\n",
    "\n",
    "To summarize, the two important observations that can be made from this analysis are:\n",
    "- The standard deviation $\\sigma$ is independent of the number of trials $N$.\n",
    "- Datasets with a large number of trials result in smoother distributions with allows for a more precise determination of the mean $\\mu$.\n",
    "\n",
    "If both of the observations above are true, then $\\sigma$ **cannot** be a good estimate of the uncertainty in the mean or average value of a set of $N$ measurements.  In fact, the standard deviation $\\sigma$ represents the uncertainty in the value of any single trial of the experiment.  In Lab 1, we will see how the uncertainty in the mean of a set of $N$ measurements can be estimated. "
   ]
  },
  {
   "cell_type": "markdown",
   "id": "3be24b1c",
   "metadata": {},
   "source": [
    "# <div style=\"background-color:rgba(255, 204, 255, 0.5); text-align:center; vertical-align: middle; padding:40px 0; margin-top:30px\"><span style=\"color:rgba(102, 0, 204, 1);\">Part 4 - Reflection (optional)</span></div>"
   ]
  },
  {
   "cell_type": "markdown",
   "id": "fecb95ee",
   "metadata": {},
   "source": [
    "**<span style=\"color:blue\">Question 4.1:</span>**  \n",
    "\n",
    "We welcome your feedback on the PHYS 121 pre-labs!  Please feel free to include any comments you have about this pre-lab in the cell below.  Your comments will be taken into consideration when revising/improving the PHYS 121 labs and pre-labs.  You can suggest improvements, point out anything that was unclear, comment on the strengths and weaknesses of the pre-lab, ...\n",
    "\n",
    "This question is optional and will have no impact on your pre-lab or lab grade."
   ]
  },
  {
   "cell_type": "markdown",
   "id": "4e68b62f",
   "metadata": {},
   "source": [
    "***\n",
    "**<span style=\"color:blue\">Answer 4.1:</span>**\n",
    "\n",
    "[//]: # (Please do not delete this comment or anything above it.  Anything below this comment can be deleted.)  \n",
    "\n",
    "Double click this cell and enter your text here.  When done, hit 'Shift' + 'Enter' to execute the cell.  You may delete this text when entering your answer. "
   ]
  },
  {
   "cell_type": "markdown",
   "id": "f41823f8",
   "metadata": {},
   "source": [
    "# <div style=\"background-color:rgba(255, 204, 255, 0.5); text-align:center; vertical-align: middle; padding:40px 0; margin-top:30px\"><span style=\"color:rgba(102, 0, 204, 1);\">Part 5 - Playground (optional)</span></div>\n",
    "\n",
    "Feel free to add as many cells as you like below and use them as a playground for further independent investigations.  These cells won't be graded, so feel free to use them in any way that you like.  For example, you could compare Gaussian distributions with different standard deviations and/or means. "
   ]
  },
  {
   "cell_type": "code",
   "execution_count": null,
   "id": "d6fee34b",
   "metadata": {},
   "outputs": [],
   "source": [
    "# Here's an empty code cell that you can use."
   ]
  },
  {
   "cell_type": "code",
   "execution_count": null,
   "id": "e785bf0b",
   "metadata": {},
   "outputs": [],
   "source": [
    "# Here's another empty code cell that you can use."
   ]
  },
  {
   "cell_type": "code",
   "execution_count": null,
   "id": "0af2d044",
   "metadata": {},
   "outputs": [],
   "source": [
    "# Here's yet another empty code cell that you can use.  \n",
    "# If you need more, you can add cells using the '+' icon in the menu bar at to the top of the screen."
   ]
  },
  {
   "cell_type": "markdown",
   "id": "5c5d4e70",
   "metadata": {},
   "source": [
    "### <div style=\"background-color:rgba(255, 255, 102, 0.5); text-align:left; padding:20px 0; margin-top:20px\">$\\quad$Appendix A &ndash; The Statistics Function...</div>\n",
    "\n",
    "The statistics function is called as follows:\n",
    "```python\n",
    "Statistics(data, nbins = 10, xlabel = 'x-axis', xUnits = '', normalized = False)\n",
    "```\n",
    "The data input is required, all other arguments are optional with default values set.  The function returns the following outputs:\n",
    "```python\n",
    "counts, centres, average, stdDev, stdError, fig\n",
    "```\n",
    "The first two outputs are lists, the next three are numerical values, and 'fig' is the formatted plot. The counts list gives the number of counts in each bin of the histogram and the centres list gives the position of the centre of each bin.\n",
    "\n",
    "The function calculates and reports the mean, standard deviation, and standard error of the provided data.  It also plots a histogram of the data.  \n",
    "\n",
    "### Statistics Example Implmentation\n",
    "The code block below shows an implementation of 'Statistics'.\n",
    "```python\n",
    "import PHYS121\n",
    "theta20a = [2.02, 1.93, 1.92, 1.96, 2.03, 2.03, 1.96, 2.03, 2.06, 2, 2.03, 2.12, 2.07, 1.99, 1.99, 1.95, 2.03, 2.12, 2.03, 2.09, 2.03, 2.03, 2.01, 2.04, 2.03, 2.04, 1.99, 1.99, 1.97, 1.98]\n",
    "cnts, ctrs, mean, stdDev, stdError, fig20a = PHYS121.Statistics(theta20a, 12, 'Period', 's', True);\n",
    "```\n",
    "\n",
    "If you're interested in generating your own histograms with customized formatting, see the following Python-based tutorial: https://cmps-people.ok.ubc.ca/jbobowsk/Python/html/Jupyter%20Histogram.html.\n",
    "***"
   ]
  },
  {
   "cell_type": "markdown",
   "id": "2bde3519",
   "metadata": {},
   "source": [
    "### <div style=\"background-color:rgba(255, 255, 102, 0.5); text-align:left; padding:20px 0; margin-top:20px\">$\\quad$Appendix B &ndash; The HistOverlay Function...</div>\n",
    "\n",
    "The HistOverlay function is called as follows:\n",
    "```python\n",
    "HistOverlay(dataArray, nbins = 10, xlabel = 'x-axis', xUnits = '',  normalized = True, transparency = 0.75)\n",
    "```\n",
    "The dataArray (a list of lists) input is required, all other arguments are optional with default values set.  The function returns the following outputs:\n",
    "```python\n",
    "countsArray, centresArray, fig\n",
    "```\n",
    "The first two outputs are lists of lists and 'fig' is the formatted plot. \n",
    "\n",
    "The dataArray is of the form dataArray = [[dataset1], [dataset2], ... [datasetN]].  The function plots the histograms of each of the datasets on a single graph.  If the normalized argument is True, then histogram is scaled such that the area under the distributions is 1.  This is a good option when comparing two different distributions.  The transparency argument (a number between 0 and 1) sets the transparency of each of the individual histograms.\n",
    "\n",
    "### HistOverlay Example Implementation\n",
    "The code block below shows an implementation of 'HistOverlay'.\n",
    "```python\n",
    "import PHYS121\n",
    "cnts, ctrs, fig = PHYS121.HistOverlay([theta20a, theta20], 8, 'Period', 's', True, 0.75)\n",
    "```\n",
    "***"
   ]
  },
  {
   "cell_type": "markdown",
   "id": "38172bec",
   "metadata": {},
   "source": [
    "Last update: August 1, 2022"
   ]
  }
 ],
 "metadata": {
  "kernelspec": {
   "display_name": "Python 3.10.6 ('.venv': venv)",
   "language": "python",
   "name": "python3"
  },
  "language_info": {
   "codemirror_mode": {
    "name": "ipython",
    "version": 3
   },
   "file_extension": ".py",
   "mimetype": "text/x-python",
   "name": "python",
   "nbconvert_exporter": "python",
   "pygments_lexer": "ipython3",
   "version": "3.10.6"
  },
  "vscode": {
   "interpreter": {
    "hash": "2f6274b6a3e6b44619c02e990c9df7d81f405226d293e5b2b5f918107d72a0a6"
   }
  }
 },
 "nbformat": 4,
 "nbformat_minor": 5
}
