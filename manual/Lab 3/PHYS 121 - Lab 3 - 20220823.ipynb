{
 "cells": [
  {
   "cell_type": "markdown",
   "id": "0562ce69",
   "metadata": {},
   "source": [
    "# <div style=\"background-color:rgba(204, 229, 255, 0.5); text-align:center; vertical-align: middle; padding:40px 0; margin-top:30px\"><span style=\"color:rgba(0, 76, 153, 1);\">PHYS 121 Lab #3</span></div>\n",
    "# Electric Potential & Electric Fields"
   ]
  },
  {
   "cell_type": "markdown",
   "id": "39f25a1a",
   "metadata": {},
   "source": [
    "***\n",
    "## Learning Objectives:\n",
    "* <b><span style=\"color:rgba(0, 153, 76, 1);\">Explain what is meant by a field and distinguish between the properties of scalar fields and vector fields.</span></b>\n",
    "* <b><span style=\"color:rgba(0, 153, 76, 1);\">Extract information about a physical system from a contour plot of a scalar field.</span></b>\n",
    "* <b><span style=\"color:rgba(0, 153, 76, 1);\">Determine the electric field in a region of space from a map of the electric potential.</span></b>\n",
    "\n",
    "In this lab you will map out the electric potentials on 2-D surfaces due to different patterns of electrodes and conductors.  From these maps, you will identify lines of constant potential (i.e. equipotential lines) and deduce the configuration of the corresponding electric field.  Your measurements will be made using a sheet of conducting carbon paper, a DC power supply, and a handheld multimeter."
   ]
  },
  {
   "cell_type": "markdown",
   "id": "3511eaeb",
   "metadata": {},
   "source": [
    "***\n",
    "## Install & Import Required Packages:\n",
    "Before starting, place your cursor in the code cell below and press 'Shift' + 'Enter'.  If the 'Check()' function reports that \"All packages already installed\", then proceed by first executing the second code cell that begins with: \n",
    "``` python\n",
    "# Import required and commonly-used modules\n",
    "```\n",
    "\n",
    "If 'Check()' reports that some new packages have been installed, then go to File$\\to$Log Out to complete log out of this notebook.  Then log in and execute the cell below again."
   ]
  },
  {
   "cell_type": "code",
   "execution_count": 1,
   "id": "edbdca8c",
   "metadata": {},
   "outputs": [
    {
     "data": {
      "text/html": [
       "<text style=color:black>All packages already installed. Please proceed.</text>"
      ],
      "text/plain": [
       "<IPython.core.display.HTML object>"
      ]
     },
     "metadata": {},
     "output_type": "display_data"
    }
   ],
   "source": [
    "import installer\n",
    "installer.Check()"
   ]
  },
  {
   "cell_type": "code",
   "execution_count": 2,
   "id": "ad81e313",
   "metadata": {},
   "outputs": [],
   "source": [
    "# Import required and commonly-used modules\n",
    "import numpy as np\n",
    "import matplotlib.pyplot as plt\n",
    "import httpimport\n",
    "import uncertainties\n",
    "import ipysheet\n",
    "with httpimport.remote_repo(['data_entry'], 'https://cmps-people.ok.ubc.ca/jbobowsk/PHYS_121_Lab/modules'):\n",
    "    import data_entry\n",
    "with httpimport.remote_repo(['PHYS121'], 'https://cmps-people.ok.ubc.ca/jbobowsk/PHYS_121_Lab/modules'):\n",
    "    import PHYS121"
   ]
  },
  {
   "cell_type": "markdown",
   "id": "4754b43e",
   "metadata": {},
   "source": [
    "# <div style=\"background-color:rgba(255, 204, 255, 0.5); text-align:center; vertical-align: middle; padding:40px 0; margin-top:30px\"><span style=\"color:rgba(102, 0, 204, 1);\">Part 1 - Representing Scalar & Vector Fields (30 minutes)</span></div>\n",
    "\n",
    "## Scalar Fields:\n",
    "Consider the topographic map shown in Fig. 1.\n",
    "\n",
    "<p>\n",
    "<center>\n",
    "<img src=\"https://cmps-people.ok.ubc.ca/jbobowsk/PHYS_121_Lab/Lab3/images/topograph.png\" alt=\"image info\" style=\"width: 95%; height: auto;\" /><br>\n",
    "<b>Fig. 1: A topographic map of the rock quarry showing the elevation above sea level as a function of $(x, y)$ coordinates.</b></center>\n",
    "</p>\n",
    "\n",
    "This type of plot is likely already familiar to you.  It shows the height $h$ above the sea level as a function of the position along both the $x$ and $y$ directions.  In other words, it's a plot of $h(x,y)$ versus both $x$ and $y$.  \n",
    "\n",
    "If we were only interested in how $h$ varies as a function to $x$ for a fixed value of $y$ (say $y=0$, for example), we could construct an ordinary plot of $h(x, 0)$ versus $x$ and the vertical axis would simply represent the height above the ground.  Figure 2 shows such a plot.  \n",
    "\n",
    "<p>\n",
    "<center>\n",
    "<img src=\"https://cmps-people.ok.ubc.ca/jbobowsk/PHYS_121_Lab/Lab3/images/y0_hvsx_fill.png\" alt=\"image info\" style=\"width: 45%; height: auto;\" /><br>\n",
    "<b>Fig. 2: A plot of the height above sea level as a function of $x$ when $y=0$.</b></center>\n",
    "</p>\n",
    "\n",
    "If we want to simultaneously show how the height varies with both the $x$ and $y$ positions, we need another way to show the values of $h$ when the horizontal and vertical axes are used to represent the $x$ and $y$ positions, respectively.  In Fig. 1, this is achieved by drawing lines or *contours* of constant $h$.  The topographic map of Fig. 1 is also called a 'contour plot'.  Notice that every second contour line in the figure is labeled with its height above sea level (the units are meters).  To make the plot easy to interpret, the difference in height between adjacent contour lines is always the same value. In Fig. 1, the difference in height is $2\\rm\\ m$.  \n",
    "\n",
    "Notice the orange arrow in Fig. 1.  It is parallel to a section of the $26\\rm\\ m$ contour.  If you were in the quarry and walking along the orange arrow, your elevation would remain constant.  It's like walking along a ridge in a mountain range, for example.  On the other hand, if you were walking parallel to the blue arrow, you would be climbing the mountain.  For the blue arrow, adjacent contours are closely spaced such that your height would be increasing rapidly (the mountain is steep near the blue arrow).  Finally, walking in the direction of the red arrow would cause you to lose height.  Because adjacent contours are spaced further apart, the descent is more gradual compared to the ascent of the blue arrow. \n",
    "\n",
    "Another convenient way to encode the height data is to use a colour scale.  For example, the colour blue can be used to represent low altitudes and red to represent high altitudes.  Figure 3 is another representation of the topographic map shown in Fig. 1 above.  These plots are sometimes referred to as 'false colour' plots and are quite common in physics and other science disciplines.\n",
    "\n",
    "<p>\n",
    "<center>\n",
    "<img src=\"https://cmps-people.ok.ubc.ca/jbobowsk/PHYS_121_Lab/Lab3/images/topo_fill.png\" alt=\"image info\" style=\"width: 85%; height: auto;\" /><br>\n",
    "<b>Fig. 3: A false colour plot of the height above sea level as a function of $x$ and $y$.</b></center>\n",
    "</p>\n",
    "\n",
    "Representative contour lines are often superimposed on false colour plots as guides to the eye.  Other than the contours of constant height, Fig. 4 is identical to Fig. 5.\n",
    "\n",
    "<p>\n",
    "<center>\n",
    "<img src=\"https://cmps-people.ok.ubc.ca/jbobowsk/PHYS_121_Lab/Lab3/images/topoContour_fill.png\" alt=\"image info\" style=\"width: 85%; height: auto;\" /><br>\n",
    "<b>Fig. 4: A false colour plot of the height above sea level as a function of $x$ and $y$ with some representative contour lines included.</b></center>\n",
    "</p>\n",
    "\n",
    "Contour plots and false color plots can be used to represent things other than elevation.  Figure 5 shows an infrared image of a deer in the forest.  The colour scale shown in the image represents temperature in degrees Fahrenheit ($45.8^\\circ\\rm F = 7.7^\\circ\\rm C$ and $78.2^\\circ\\rm F = 25.7^\\circ\\rm C$).     \n",
    "<p>\n",
    "<center>\n",
    "<img src=\"https://cmps-people.ok.ubc.ca/jbobowsk/PHYS_121_Lab/Lab3/images/deer.jpg\" alt=\"image info\" style=\"width: 40%; height: auto;\" /><br>\n",
    "<b>Fig. 5: An infrared image of a deer in the forest.  Image obtained from <a href = \"https://commons.wikimedia.org/wiki/File:A_deer_in_the_woods._It_was_pitch_black,_but_this_camera_does_not_use_ANY_visible_light._FLIR_infrared._%286968297826%29.jpg\">Wikimedia Commons</a>.</b></center>\n",
    "</p>\n",
    "\n",
    "All of the plots that we've consider so far are used to represent a *scalar field*.  A field is any quantity that has a value at each point in space.  A scalar is a quantity that has a numerical value, but no associated direction.  Height above sea level in a rock quarry and temperature in the forest are both examples of scalar fields.  Other examples include the humidity in a wine cellar, pressure in the atmosphere, the gravitational potential in our solar system, ..."
   ]
  },
  {
   "cell_type": "markdown",
   "id": "56e9025d",
   "metadata": {},
   "source": [
    "***\n",
    "**<span style=\"color:blue\">Question 1.1:</span>**  \n",
    "\n",
    "Give three examples of scalar fields (use examples that are not height, temperature, humidity, pressure, or gravitational potential)."
   ]
  },
  {
   "cell_type": "markdown",
   "id": "0625ad29",
   "metadata": {},
   "source": [
    "***\n",
    "**<span style=\"color:blue\">Answer 1.1:</span>**\n",
    "\n",
    "[//]: # (Please do not delete this comment or anything above it.  Anything below this comment can be deleted.)  \n",
    "\n",
    "Double click this cell and enter your text here.  When done, hit 'Shift' + 'Enter' to execute the cell.  You may delete this text when entering your answer. "
   ]
  },
  {
   "cell_type": "markdown",
   "id": "44fd89ed",
   "metadata": {},
   "source": [
    "***\n",
    "## Vector Fields:\n",
    "\n",
    "As you know, some quantities have both a magnitude and a direction at all points in space.  These quantities are represented by *vector fields*.  Vector fields can be depicted by drawing some representative arrows throughout a region of space.  The tip of the arrow points in the direction of the vector quantity and the length of the arrow represents its magnitude.  Figure 6 shows two examples of vector fields.  Part (a) shows the gravitational field in the region of space surrounding the Earth-moon system and part (b) shows the water velocity at the surface of a stream.  \n",
    "<p>\n",
    "<center>\n",
    "<img src=\"https://cmps-people.ok.ubc.ca/jbobowsk/PHYS_121_Lab/Lab3/images/vectorField.png\" alt=\"image info\" style=\"width: 70%; height: auto;\" /><br>\n",
    "<b>Fig. 6: Examples of vector fields. (a) the gravitational field in the space around the Earth and moon. (b) The surface water velocity in a river containing a large rock.  Images obtained from <a href = \"https://math.libretexts.org/Bookshelves/Calculus/Book%3A_Calculus_%28OpenStax%29/16%3A_Vector_Calculus/16.1%3A_Vector_Fields\">LibreTexts</a>.</b></center>\n",
    "</p>\n",
    "\n",
    "Notice that in part (b) of the figure, a false colour plot has been used to represent the water speed which is a scalar field.  Red regions represent high speeds and the vectors in those regions representing the velocity field are long.  The blue regions represent low speeds and the vectors in those regions are short.  It is also important to emphasize that, although vectors are shown only at a small number of representative positions, the vector field exists at **all** points in the space."
   ]
  },
  {
   "cell_type": "markdown",
   "id": "68c977b3",
   "metadata": {},
   "source": [
    "***\n",
    "**<span style=\"color:blue\">Question 1.2:</span>**  \n",
    "\n",
    "Give two examples of vector fields (use examples that are not electric field, gravitational field, or velocity)."
   ]
  },
  {
   "cell_type": "markdown",
   "id": "449b5853",
   "metadata": {},
   "source": [
    "***\n",
    "**<span style=\"color:blue\">Answer 1.2:</span>**\n",
    "\n",
    "[//]: # (Please do not delete this comment or anything above it.  Anything below this comment can be deleted.)  \n",
    "\n",
    "Double click this cell and enter your text here.  When done, hit 'Shift' + 'Enter' to execute the cell.  You may delete this text when entering your answer. "
   ]
  },
  {
   "cell_type": "markdown",
   "id": "b342edb2",
   "metadata": {},
   "source": [
    "***\n",
    "## Calculating a Vector Field from a Scalar Field:\n",
    "\n",
    "In physics, it is often possible to calculate vector field from a scalar field.  Conservative forces such as the gravitational and electric forces can be calculated from their corresponding potential energies.  For example, the $x$ component of a conservative force $\\mathbf{F}$ is determined from a derivative of the potential energy $U$:\n",
    "\\begin{align}\n",
    "F_x = -\\frac{dU}{dx}.\n",
    "\\end{align}\n",
    "In this lab, you will measure the electric potential $V$ as a function of the $x$ and $y$ positions and then use the data to find the electric field $\\mathbf{E}$ via:\n",
    "\\begin{align}\n",
    "\\mathbf{E} = -\\frac{dV}{dx}\\,\\hat\\imath -\\frac{dV}{dy}\\,\\hat\\jmath.\n",
    "\\end{align}\n",
    "\n",
    "We can do something similar for the topographic map of Fig. 4.  Consider $dh/dx$ and $dh/dy$ which tells us how quickly $h$ changes in the $x$ and $y$ directions, respectively.  If, at a particular point in space, $dh/dx$ is large and $dh/hy$ is small, then the hill is steep in the $x$ direction and shallow in the $y$-direction.  If we were to construct the vector:\n",
    "\\begin{align}\n",
    "\\mathbf{s} = \\frac{dh}{dx}\\,\\hat\\imath + \\frac{dh}{dy}\\,\\hat\\jmath,\n",
    "\\end{align}\n",
    "it would tell us the direction of steepest ascent at that point on the mountain.  Fortunately, we don't have to do this calculation manually.  We can use some built-in Python functions to do the calculations for us.  Figure 7 is identical to Fig. 4 with the addition of the 'steepness' vector field $\\mathbf{s}$. Notice that, in this case, $\\mathbf{s}$ is always perpendicular to the contour lines of constant elevation.\n",
    "<p>\n",
    "<center>\n",
    "<img src=\"https://cmps-people.ok.ubc.ca/jbobowsk/PHYS_121_Lab/Lab3/images/topoVector_fill.png\" alt=\"image info\" style=\"width: 85%; height: auto;\" /><br>\n",
    "<b>Fig. 7: A false colour plot of the height above sea level as a function of $x$ and $y$ with some representative contour lines and the steepness vector field.</b></center>\n",
    "</p>"
   ]
  },
  {
   "cell_type": "markdown",
   "id": "d6ccd757",
   "metadata": {},
   "source": [
    "***\n",
    "**<span style=\"color:blue\">Question 1.3:</span>**  \n",
    "\n",
    "In the cell below, enter a set of *approximate* coordinates that correspond to a point on the map shown in Fig. 7 in which the altitude is high and ground is relatively flat. "
   ]
  },
  {
   "cell_type": "markdown",
   "id": "c0215c1d",
   "metadata": {},
   "source": [
    "***\n",
    "**<span style=\"color:blue\">Answer 1.3:</span>**\n",
    "\n",
    "[//]: # (Please do not delete this comment or anything above it.  Anything below this comment can be deleted.)  \n",
    "\n",
    "Double click this cell and complete the line of text below.  When done, hit 'Shift' + 'Enter' to execute the cell.\n",
    "\n",
    "(x, y) = ( , )"
   ]
  },
  {
   "cell_type": "markdown",
   "id": "982b2033",
   "metadata": {},
   "source": [
    "In the pre-lab assignment, you used a <a href=\"https://phet.colorado.edu/en/simulations/charges-and-fields\">charges & fields simulation</a> to investigate a system of four dipoles.  Figure 8 shows a map of the electric potential associated with the collection of dipoles as well as the electric field along the $x$-axis (i.e. the $y=0$ line).  The direction and magnitude of the electric field along the $x$-axis should be in agreement with the observations you made in the pre-lab.\n",
    "<p>\n",
    "<center>\n",
    "<img src=\"https://cmps-people.ok.ubc.ca/jbobowsk/PHYS_121_Lab/Lab3/images/y0_E-field_plot.png\" alt=\"image info\" style=\"width: 85%; height: auto;\" /><br>\n",
    "<b>Fig. 8: The electric potential of a quadrupole arrangement of dipoles.  The scale bar on the right represents the electric potential in units of volts.  Electric field vectors along the $x$-axis are also shown.</b></center>\n",
    "</p>"
   ]
  },
  {
   "cell_type": "markdown",
   "id": "52ee7305",
   "metadata": {},
   "source": [
    "# <div style=\"background-color:rgba(255, 204, 255, 0.5); text-align:center; vertical-align: middle; padding:40px 0; margin-top:30px\"><span style=\"color:rgba(102, 0, 204, 1);\">Part 2 - Electric Potential & Electric Field Map (75 minutes)</span></div>\n",
    "\n",
    "In this part of the lab, you will create your own electric potential and electric field maps using experimental data that you collect.  The main pieces of equipment that you will work with are:\n",
    "- Sheets of carbon paper.  Various patterns of conducting electrodes have been added to the carbon paper using a silver paint.\n",
    "- A DC power supply used to apply fixed voltages (or potentials) to the electrodes.\n",
    "- A digital multimeter used to probe the value of the electric potential at various points on the carbon paper.\n",
    "- Various wires.\n",
    "\n",
    "## Procedure:\n",
    "- Select one of the seven available carbon paper graphs.\n",
    "- Using the DC power supply, connect $10\\rm\\ V$ to the red wire that is anchored to your graph and $0\\rm\\ V$ (the black output of the power supply labeled '$-$') to the black wire. \n",
    "- Set the multimeter to 'voltage' mode and use the free of end of the red banana cable connected to measure the voltage at different points on the carbon paper.  Avoid placing the end of the banana cable directly on the grid lines of the carbon paper.  The grid lines are not good conductors and lead to unreliable measurements.\n",
    "- You have lots of time for this part of the experiment, collect lots of data so that you can produce detailed and accurate maps.  The sheets of carbon paper contain grid lines that define the $x$ and $y$ positions on the paper in units of centimeters.  If you were to collect data at $2\\rm\\ cm$ intervals, you'd end up with approximately 130 data points for each graph.\n",
    "- Enter your data into the Jupyter Notebook using the PHYS 121 'Spreadsheet' function.  The $x$ and $y$ positions that you enter must be in units of centimeters and the voltages must be in units of volts.  You can either \n",
    "    1. start an empty spreadsheet and then enter in the data\n",
    "    2. enter the data into Excel, save the data as a csv (comma-separated values) file, and then import that file into the Jupyter notebook.\n",
    "    \n",
    "If you decide to enter the data into Excel, here is a gif showing how to save the data as a csv file.  The data entered in the gif is garbage data made up for the purposes of creating the gif.\n",
    "\n",
    "<img src=\"https://cmps-people.ok.ubc.ca/jbobowsk/PHYS_121_Lab/Lab3/images/createCSV.gif\" width=\"350\"/>\n",
    "\n",
    "To use the csv in the Jupyter notebook, you would next need to upload file into the same directory as your active notebook.  Here's a second gif that shows how to complete these steps.\n",
    "\n",
    "<img src=\"https://cmps-people.ok.ubc.ca/jbobowsk/PHYS_121_Lab/Lab3/images/import_csv.gif\" width=\"1208\"/>\n",
    "\n",
    "## Enter the data\n",
    "\n",
    "Enter the data collected into a spreadsheet using the code cell below.  For the column names, please use x, y, and V.  The units should be cm, cm, and V.  For additional information about the 'Spreadsheet' function, see **Appendix A** near the end of this notebook."
   ]
  },
  {
   "cell_type": "code",
   "execution_count": null,
   "id": "32282cb0",
   "metadata": {},
   "outputs": [],
   "source": [
    "# Enter the name of the spreadsheet you want to create between the quotes '' in the line below.\n",
    "PHYS121.Spreadsheet('')"
   ]
  },
  {
   "cell_type": "markdown",
   "id": "ce7664d9",
   "metadata": {},
   "source": [
    "## Generate the Electric Potential & Electric Field Map\n",
    "To create the desired false-colour plot for the electric potential and the vector field plot for the electric field, the 'Mapping' function will be used.  Roughly speaking, the 'Mapping' function uses an interpolation to fill in the gaps in the electric potential data that you acquired.  The interpolated data us then used to: \n",
    "1. produce a false-colour plot with some contour lines\n",
    "2. calculate and plot the corresponding electric field\n",
    "\n",
    "For additional information about the 'Mapping' function, see **Appendix B** near the end of this notebook."
   ]
  },
  {
   "cell_type": "code",
   "execution_count": null,
   "id": "11f229fc",
   "metadata": {},
   "outputs": [],
   "source": [
    "# Delete the -1 in the line below and replace it with the Graph Number of the carbon paper that you're using.\n",
    "graphNumber = -1\n",
    "\n",
    "# The line below assumes that the columns of the spreadsheet that you created are named x, y, and V in that order.\n",
    "fig1 = PHYS121.Mapping(v_x, v_y, v_V, graphNumber, True)"
   ]
  },
  {
   "cell_type": "markdown",
   "id": "4c5c08c4",
   "metadata": {},
   "source": [
    "If there are holes in your electric potential map, or you want to add more detailed measurements in one area of the plot, you can go back and add more data to the end of your spreadsheet.  The order of the data in the spreadsheet doesn't matter."
   ]
  },
  {
   "cell_type": "markdown",
   "id": "9e8e6d50",
   "metadata": {},
   "source": [
    "***\n",
    "**<span style=\"color:blue\">Question 2.1:</span>**  \n",
    "\n",
    "(a) In the electric potential/electric field map you created above, in which direction does the electric field point?  From high to low potential, or from low to high potential?\n",
    "\n",
    "(b) What is the direction of the electric field relative to the lines of constant potential (equipotential lines)?"
   ]
  },
  {
   "cell_type": "markdown",
   "id": "4333a6fd",
   "metadata": {},
   "source": [
    "***\n",
    "**<span style=\"color:blue\">Answer 2.1:</span>**\n",
    "\n",
    "[//]: # (Please do not delete this comment or anything above it.  Anything below this comment can be deleted.)  \n",
    "\n",
    "Double click this cell and enter your text here.  When done, hit 'Shift' + 'Enter' to execute the cell.  You may delete this text when entering your answer. "
   ]
  },
  {
   "cell_type": "markdown",
   "id": "9f5a51bd",
   "metadata": {},
   "source": [
    "# <div style=\"background-color:rgba(255, 204, 255, 0.5); text-align:center; vertical-align: middle; padding:40px 0; margin-top:30px\"><span style=\"color:rgba(102, 0, 204, 1);\">Part 3 - Second Electric Potential & Electric Field Map (40 minutes)</span></div>\n",
    "\n",
    "In Part 3 of the lab, you will simply repeat the measurements of Part 2 using one of the other carbon paper graphs.  Specifically:\n",
    "- Select a carbon paper sheet with a graph number that is different than the one you used in Part 2.\n",
    "- Measure the electric potential as a function of $x$ and $y$ position.\n",
    "- Use the 'Mapping' function to produce electric potential and electric field maps."
   ]
  },
  {
   "cell_type": "code",
   "execution_count": null,
   "id": "0c719402",
   "metadata": {},
   "outputs": [],
   "source": [
    "# Enter the name of the spreadsheet you want to create between the quotes '' in the line below.\n",
    "PHYS121.Spreadsheet('') "
   ]
  },
  {
   "cell_type": "code",
   "execution_count": null,
   "id": "d1aa94b7",
   "metadata": {},
   "outputs": [],
   "source": [
    "# Delete the -1 in the line below and replace it with the Graph Number of the carbon paper that you're using.\n",
    "graphNumber = -1\n",
    "\n",
    "# The line below assumes that the columns of the spreadsheet that you created are named x, y, and V in that order.\n",
    "fig1 = PHYS121.Mapping(v_x, v_y, v_V, graphNumber, True)"
   ]
  },
  {
   "cell_type": "markdown",
   "id": "3be24b1c",
   "metadata": {},
   "source": [
    "# <div style=\"background-color:rgba(255, 204, 255, 0.5); text-align:center; vertical-align: middle; padding:40px 0; margin-top:30px\"><span style=\"color:rgba(102, 0, 204, 1);\">Part 4 - Reflection and statement of contributions (25 minutes)</span></div>"
   ]
  },
  {
   "cell_type": "markdown",
   "id": "26dd87f6",
   "metadata": {},
   "source": [
    "Questions 5.1 to 5.3  are used to reflect on the learning objectives stated at beginning of the notebook.\n",
    "\n",
    "<p>\n",
    "<center>\n",
    "<img src=\"https://cmps-people.ok.ubc.ca/jbobowsk/PHYS_121_Lab/Lab3/images/chargedConductors.svg\" alt=\"image info\" style=\"width: 65%; height: auto;\" /><br>\n",
    "<b>Fig. 9: The map of the electric potential in the region surrounding a pair of charged conducting spheres.  Figure adapted from <a href = \"https://commons.wikimedia.org/wiki/File:VFPt_metal_balls_largesmall_potential%2Bcontour.svg\">Wikimedia Commons</a></b></center>\n",
    "</p>\n",
    "\n",
    "\n",
    "***\n",
    "**<span style=\"color:blue\">Question 5.1:</span>**  \n",
    "\n",
    "Is the electric field stronger at point $P_1$ or point $P_2$ in Fig. 9?  Explain your reasoning using one or two short sentences."
   ]
  },
  {
   "cell_type": "markdown",
   "id": "6504ba8a",
   "metadata": {},
   "source": [
    "***\n",
    "**<span style=\"color:blue\">Answer 5.1:</span>**\n",
    "\n",
    "[//]: # (Please do not delete this comment or anything above it.  Anything below this comment can be deleted.)  \n",
    "\n",
    "Double click this cell and enter your text here.  When done, hit 'Shift' + 'Enter' to execute the cell.  You may delete this text when entering your answer. "
   ]
  },
  {
   "cell_type": "markdown",
   "id": "a9768610",
   "metadata": {},
   "source": [
    "***\n",
    "**<span style=\"color:blue\">Question 5.2:</span>**  \n",
    "\n",
    "What is the direction of the electric field at point $P_3$ in Fig. 9?  Explain your reasoning using one or two short sentences."
   ]
  },
  {
   "cell_type": "markdown",
   "id": "21445aa8",
   "metadata": {},
   "source": [
    "***\n",
    "**<span style=\"color:blue\">Answer 5.2:</span>**\n",
    "\n",
    "[//]: # (Please do not delete this comment or anything above it.  Anything below this comment can be deleted.)  \n",
    "\n",
    "Double click this cell and enter your text here.  When done, hit 'Shift' + 'Enter' to execute the cell.  You may delete this text when entering your answer. "
   ]
  },
  {
   "cell_type": "markdown",
   "id": "3afc4911",
   "metadata": {},
   "source": [
    "***\n",
    "<p>\n",
    "<center>\n",
    "<img src=\"https://cmps-people.ok.ubc.ca/jbobowsk/PHYS_121_Lab/Lab3/images/charged-rod.svg\" alt=\"image info\" style=\"width: 65%; height: auto;\" /><br>\n",
    "<b>Fig. 10: The electric field of a uniformly-charged rod.  Figure taken from <a href = \"https://commons.wikimedia.org/wiki/File:VFPt_charged-rod.svg\">Wikimedia Commons</a>.\n",
    "</p>\n",
    "\n",
    "\n",
    "***\n",
    "**<span style=\"color:blue\">Question 5.3:</span>**  \n",
    "\n",
    "In Fig. 10, does the electric potential change most rapidly (i) near the centre of the rod, (ii) near the ends of the rod, or (iii) at a point very far from the rod.  Explain your reasoning using one or two short sentences."
   ]
  },
  {
   "cell_type": "markdown",
   "id": "e44c35f0",
   "metadata": {},
   "source": [
    "***\n",
    "**<span style=\"color:blue\">Answer 5.3:</span>**\n",
    "\n",
    "[//]: # (Please do not delete this comment or anything above it.  Anything below this comment can be deleted.)  \n",
    "\n",
    "Double click this cell and enter your text here.  When done, hit 'Shift' + 'Enter' to execute the cell.  You may delete this text when entering your answer. "
   ]
  },
  {
   "cell_type": "markdown",
   "id": "59c4b344",
   "metadata": {},
   "source": [
    "***\n",
    "Below, you will briefly summarize the contributions that you and your partner made when completely this lab.  Please ensure that both partners have a chance to engage in all types of lab activities (developing the experimental methods/data collection strategies, hands-on interaction with the apparatus/data collection, and data processing/analysis in the Jupyter notebook).  Note that statements of contributions are common in science.  The figure below shows one example taken from a 2021 paper published in the journal *Nature Physics*.\n",
    "\n",
    "<p>\n",
    "<center>\n",
    "<img src=\"https://cmps-people.ok.ubc.ca/jbobowsk/PHYS_121_Lab/Lab1/images/contributions.jpg\" alt=\"image info\" style=\"width: 60%; height: auto;\" /><br>\n",
    "<b>Fig. 2: A sample statement of author contributions from a recent journal article.</b></center>\n",
    "</p>\n"
   ]
  },
  {
   "cell_type": "markdown",
   "id": "6e001118",
   "metadata": {},
   "source": [
    "***\n",
    "**<span style=\"color:blue\">Question 5.4(a):</span>**  \n",
    "\n",
    "Answer this question only if you worked with a partner to complete this lab.\n",
    "\n",
    "In two or three sentences describe the specific contributions of **Partner A** to this lab.  For example, worked with the experimental apparatus to collect data for Part 1 of the lab, entered and processed the data in the Jupyter notebook for Part 2 of the lab, ...  "
   ]
  },
  {
   "cell_type": "markdown",
   "id": "70517987",
   "metadata": {},
   "source": [
    "***\n",
    "**<span style=\"color:blue\">Answer 5.4(a):</span>**\n",
    "\n",
    "[//]: # (Please do not delete this comment or anything above it.  Anything below this comment can be deleted.)  \n",
    "\n",
    "Double click this cell and enter your text here.  Please start be entering the name and student number of **Partner A**.  When done, hit 'Shift' + 'Enter' to execute the cell.  You may delete this text when entering your answer. "
   ]
  },
  {
   "cell_type": "markdown",
   "id": "fecb95ee",
   "metadata": {},
   "source": [
    "***\n",
    "**<span style=\"color:blue\">Question 5.4(b):</span>**  \n",
    "\n",
    "Answer this question only if you worked with a partner to complete this lab.\n",
    "\n",
    "In two or three sentences describe the specific contributions of **Partner B** to this lab.  "
   ]
  },
  {
   "cell_type": "markdown",
   "id": "4e68b62f",
   "metadata": {},
   "source": [
    "***\n",
    "**<span style=\"color:blue\">Answer 5.4(b):</span>**\n",
    "\n",
    "[//]: # (Please do not delete this comment or anything above it.  Anything below this comment can be deleted.)  \n",
    "\n",
    "Double click this cell and enter your text here.  Please start be entering the name and student number of **Partner B**.  When done, hit 'Shift' + 'Enter' to execute the cell.  You may delete this text when entering your answer. "
   ]
  },
  {
   "cell_type": "markdown",
   "id": "80c2c586",
   "metadata": {},
   "source": [
    "***\n",
    "**<span style=\"color:blue\">Question 5.5:</span>**  \n",
    "\n",
    "We welcome your feedback on the PHYS 121 labs!  Please feel free to include any comments you have about this lab in the cell below.  Your comments will be taken into consideration when revising/improving the PHYS 121 labs.  You can suggest improvements, point out anything that was unclear, comment on the strengths and weaknesses of the lab, ...\n",
    "\n",
    "This question is optional and will have no impact on your lab grade."
   ]
  },
  {
   "cell_type": "markdown",
   "id": "b8d518de",
   "metadata": {},
   "source": [
    "***\n",
    "**<span style=\"color:blue\">Answer 5.5:</span>**\n",
    "\n",
    "[//]: # (Please do not delete this comment or anything above it.  Anything below this comment can be deleted.)  \n",
    "\n",
    "Double click this cell and enter your text here.  When done, hit 'Shift' + 'Enter' to execute the cell.  You may delete this text when entering your answer. "
   ]
  },
  {
   "cell_type": "markdown",
   "id": "3e270ee2",
   "metadata": {},
   "source": [
    "# <div style=\"background-color:rgba(255, 204, 255, 0.5); text-align:center; vertical-align: middle; padding:40px 0; margin-top:30px\"><span style=\"color:rgba(102, 0, 204, 1);\">Part 5 - Playground (optional)</span></div>\n",
    "\n",
    "Feel free to add as many cells as you like below and use them as a playground for further independent investigations.  These cells won't be graded, so feel free to use them in any way that you like.  "
   ]
  },
  {
   "cell_type": "code",
   "execution_count": 3,
   "id": "6bf1dc12",
   "metadata": {},
   "outputs": [],
   "source": [
    "# Here's an empty code cell that you can use.  "
   ]
  },
  {
   "cell_type": "code",
   "execution_count": 4,
   "id": "c4a47a58",
   "metadata": {},
   "outputs": [],
   "source": [
    "# Here's another empty code cell that you can use."
   ]
  },
  {
   "cell_type": "code",
   "execution_count": 5,
   "id": "ffc4ad8d",
   "metadata": {},
   "outputs": [],
   "source": [
    "# Here's yet another empty code cell that you can use.  \n",
    "# If you need more, you can add cells using the '+' icon in the menu bar at to the top of the screen."
   ]
  },
  {
   "cell_type": "markdown",
   "id": "f7404c35",
   "metadata": {},
   "source": [
    "### <div style=\"background-color:rgba(255, 255, 102, 0.5); text-align:left; padding:20px 0; margin-top:20px\">$\\quad$Appendix A &ndash; The Spreadsheet Function...</div>\n",
    "\n",
    "The function for generating spreadsheets that can be used for data entry or importing data from a csv (**c**omma-**s**eparated **v**alues) file is called as follows:\n",
    "```python\n",
    "PHYS121.Spreadsheet('csv_name')\n",
    "```\n",
    "There is only a single required input which represents the name of csv file.  If the csv file exists and is located in the same directory as your working Jupyter notebook (.ipynb file), then the data contained in the file will be used to populate the spreadsheet that opens.  If the csv file doesn't exist, then an empty spreadsheet will be opened.  In addition, the file 'csv_name.csv' will be created and it will contain whatever data you enter into the spreadsheet.\n",
    "\n",
    "Furthermore, for each column of data you enter into the spreadsheet, a vector representing a list of values from that column will be created.  For example, if you have a column with named 'position' in the spreadsheet, then a vector called 'v_position' that contains all of the data from that column will be created.  This vector can then be used in other operations such as calculations or plotting.  \n",
    "\n",
    "Our implementation of spreadsheets in Jupyter is based entirely off of a 'data_entry.py' function that was written by Dr. Carl Michal (https://phas.ubc.ca/~michal/). If you're interested in additional details, the source code for 'data_entry.py' can be found here: https://phas.ubc.ca/~michal/data_entry.py.\n",
    "***"
   ]
  },
  {
   "cell_type": "markdown",
   "id": "ec3ed8fa",
   "metadata": {},
   "source": [
    "### <div style=\"background-color:rgba(255, 255, 102, 0.5); text-align:left; padding:20px 0; margin-top:20px\">$\\quad$Appendix B &ndash; The Mapping Function...</div>\n",
    "\n",
    "A function for producing false-colour plots of electric potential and then calculating and displaying the corresponding electric field map.  The $x$ and $y$ position data must be entered in units of centimeters.  The $x$ data should span $0$ to $25\\rm\\ cm$ and the $y$ data should span $0$ to $20\\rm\\ cm$.  The electric potential data should be in units of volts and span the range from $0$ to $10\\rm\\ V$.  The function is called as follows:\n",
    "```python\n",
    "Mapping(x, y, V, graphNum = 0, vectorField = True)\n",
    "```\n",
    "The 'x', 'y', and 'V' inputs are lists or arrays of floats and are all required.  'graphNum' is an optional integer input.  If an integer from 1 to 7 is entered, the approximate positions of the silver-paint electrodes will be shown on the final plot.  If other optional input 'vectorField' is equal to True, then the electric field plot will be shown.  The function returns the a single output (the formatted figure):\n",
    "```python\n",
    "fig\n",
    "```\n",
    "\n",
    "\n",
    "### Mapping Example Implementation\n",
    "The code block below shows an implementation of 'Mapping'.\n",
    "```python\n",
    "import numpy as np\n",
    "import data_entry\n",
    "import PHYS121\n",
    "\n",
    "PHYS121.Spreadsheet('Graph1Data')\n",
    "\n",
    "fig = PHYS121.Mapping(v_x, v_y, v_V, 1, True)\n",
    "```\n",
    "\n",
    "If you're interested in generating your own contour plots with customized formatting, see the following Python-based tutorial: https://cmps-people.ok.ubc.ca/jbobowsk/Python/html/Jupyter%20Surface%20Plots.html.\n",
    "***"
   ]
  },
  {
   "cell_type": "markdown",
   "id": "38172bec",
   "metadata": {},
   "source": [
    "Last update: August 23, 2022"
   ]
  }
 ],
 "metadata": {
  "kernelspec": {
   "display_name": "Python 3 (ipykernel)",
   "language": "python",
   "name": "python3"
  },
  "language_info": {
   "codemirror_mode": {
    "name": "ipython",
    "version": 3
   },
   "file_extension": ".py",
   "mimetype": "text/x-python",
   "name": "python",
   "nbconvert_exporter": "python",
   "pygments_lexer": "ipython3",
   "version": "3.8.13"
  }
 },
 "nbformat": 4,
 "nbformat_minor": 5
}
