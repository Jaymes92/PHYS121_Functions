{
 "cells": [
  {
   "cell_type": "markdown",
   "id": "a4ba1be2",
   "metadata": {},
   "source": [
    "# <div style=\"background-color:rgba(204, 229, 255, 0.5); text-align:center; vertical-align: middle; padding:40px 0; margin-top:30px\"><span style=\"color:rgba(0, 76, 153, 1);\">PHYS 121 Pre-Lab #3</span></div>\n",
    "# Electric Potential & Electric Fields"
   ]
  },
  {
   "cell_type": "markdown",
   "id": "936965d1",
   "metadata": {},
   "source": [
    "***\n",
    "## Learning Objectives:\n",
    "* <b><span style=\"color:rgba(0, 153, 76, 1);\">Understand the term *field* as it is used in physics, and distinguish between scalar fields and vector fields.</span></b>\n",
    "* <b><span style=\"color:rgba(0, 153, 76, 1);\">Become familiar with different ways to represent fields in two-dimensional plots.</span></b>\n",
    "\n",
    "The term field comes up a lot in physics: you've probably heard the terms *gravitational field*, *electric field*, *force field*, and *magnetic field*.  But what do we mean when we call something a field?  Mathematically speaking, a **field** is any quantity $\\varphi(x, y, z, t)$ that has a value associated with all points $(x,y,z)$ in space and moments $t$ in time.  The type of value depends on the type of field: $\\varphi$ might be **scalar**-valued or **vector**-valued.  \n",
    "\n",
    "This definition might be unfamiliar at first, or it might seem simple but too abstract to be meaningful.  Through a series of examples and questions, this pre-lab will serve as a gentle introduction to scalar- and vector-valued fields and their representations.  We'll conclude by revisiting the formal definition.\n",
    "\n",
    "***\n",
    "\n",
    "<br>"
   ]
  },
  {
   "cell_type": "markdown",
   "id": "a975381d",
   "metadata": {},
   "source": [
    "## Scalar Fields\n",
    "\n",
    "Suppose you were to walk over rough terrain in a perfectly straight line, measuring your altitude $h$ above sea level at regular intervals.  If you were to denote distance from the starting point by the variable $x$, you could define a function $h(x)$.  Plotting this function produces something that looks like a cross-section of the terrain:\n",
    "\n",
    "<p>\n",
    "<center>\n",
    "<img src=\"https://cmps-people.ok.ubc.ca/jbobowsk/PHYS_121_Lab/Lab3/images/y0_hvsx_fill.png\" alt=\"image info\" style=\"width: 45%; height: auto;\" /><br>\n",
    "<b>Fig. 1: A plot of the height above sea level as a function of $x$.</b></center>\n",
    "</p>\n",
    "\n",
    "But what if we wanted to plot the altitude over a *patch* of land?  We might define a second variable $y$, draw an imaginary \"grid\" over the patch of land, and measure the altitude at different gridpoints.  By doing so, we define a function $h(x,y)$.  The more closely spaced our measurements, the more detailed our map.  In Fig. 1 we've labeled the vertical axis of our graph as $h(x,0)$ in anticipation of this.\n",
    "\n",
    "But how should we represent our function $h(x,y)$?  Well... we could construct a 3-dimensional physical model of the land, maybe.  But what if we wanted soemthing that we could print out on a map? Consider the topographic map shown in Fig. 2.\n",
    "\n",
    "<p>\n",
    "<center>\n",
    "<img src=\"https://cmps-people.ok.ubc.ca/jbobowsk/PHYS_121_Lab/Lab3/images/cp.png\" alt=\"image info\" style=\"width: 95%; height: auto;\" /><br>\n",
    "<b>Fig. 2: A topographic map of the rock quarry showing the elevation above sea level as a function of $(x, y)$ coordinates. The difference in height between adjacent contours is $2\\rm\\ m$, and every second contour line is labeled with its height above sea level in meters. </b></center>\n",
    "</p>\n",
    "\n",
    "This type of plot is likely already familiar to you.  It's constructed by drawing lines of constant altitude $h$ &ndash; these lines are called **contours**, and accordingly the plot in Fig. 2. is called a **contour plot**.  The plot above specifies the $x$ position with letters, which is something we wouldn't be inclined to do, but that's okay - if you follow with your finger, you can read from the map above that $h(T, 6) \\approx 24 \\rm\\ m$ above sea level."
   ]
  },
  {
   "cell_type": "markdown",
   "id": "c5a8cc4f",
   "metadata": {},
   "source": [
    "***\n",
    "**<span style=\"color:blue\">Question 1:</span>**  \n",
    "\n",
    "Consider the orange arrow in Fig. 2.  If you were to walk along that arrow, would you be\n",
    "\n",
    "(a) Ascending <br>\n",
    "(b) Descending <br>\n",
    "(c) Neither\n",
    "\n",
    "This question is auto-marked, so in the cell below write *exactly* one of the letters a, b, or c."
   ]
  },
  {
   "cell_type": "markdown",
   "id": "8ab65ca4",
   "metadata": {},
   "source": [
    "***\n",
    "**<span style=\"color:blue\">Answer 1:</span>**\n",
    "\n",
    "[//]: # (Please do not delete this comment or anything above it.  Anything below this comment can be deleted.)  \n",
    "\n",
    "Double click this cell and enter your text here.  When done, hit 'Shift' + 'Enter' to execute the cell.  Delete this text when entering your answer. "
   ]
  },
  {
   "cell_type": "markdown",
   "id": "2e6cfbd6",
   "metadata": {},
   "source": [
    "***\n",
    "**<span style=\"color:blue\">Question 2:</span>**  \n",
    "\n",
    "Consider the blue arrow in Fig. 2.  If you were to walk along that arrow, would you be\n",
    "\n",
    "(a) Ascending <br>\n",
    "(b) Descending <br>\n",
    "(c) Neither\n",
    "\n",
    "This question is auto-marked, so in the cell below write *exactly* one of the letters a, b, or c."
   ]
  },
  {
   "cell_type": "markdown",
   "id": "9a497223",
   "metadata": {},
   "source": [
    "***\n",
    "**<span style=\"color:blue\">Answer 2:</span>**\n",
    "\n",
    "[//]: # (Please do not delete this comment or anything above it.  Anything below this comment can be deleted.)  \n",
    "\n",
    "Double click this cell and enter your text here.  When done, hit 'Shift' + 'Enter' to execute the cell.  Delete this text when entering your answer. "
   ]
  },
  {
   "cell_type": "markdown",
   "id": "b1aa77d5",
   "metadata": {},
   "source": [
    "***\n",
    "**<span style=\"color:blue\">Question 3:</span>**  \n",
    "\n",
    "Consider the red arrow in Fig. 2.  If you were to walk along that arrow, would you be\n",
    "\n",
    "(a) Ascending <br>\n",
    "(b) Descending <br>\n",
    "(c) Neither\n",
    "\n",
    "This question is auto-marked, so in the cell below write *exactly* one of the letters a, b, or c."
   ]
  },
  {
   "cell_type": "markdown",
   "id": "168f522e",
   "metadata": {},
   "source": [
    "***\n",
    "**<span style=\"color:blue\">Answer 3:</span>**\n",
    "\n",
    "[//]: # (Please do not delete this comment or anything above it.  Anything below this comment can be deleted.)  \n",
    "\n",
    "Double click this cell and enter your text here.  When done, hit 'Shift' + 'Enter' to execute the cell.  Delete this text when entering your answer. "
   ]
  },
  {
   "cell_type": "markdown",
   "id": "9140f881",
   "metadata": {},
   "source": [
    "***\n",
    "**<span style=\"color:blue\">Question 4:</span>**  \n",
    "\n",
    "Along which arrow in Fig. 2 is the terrain the steepest?\n",
    "\n",
    "(a) Orange arrow <br>\n",
    "(b) Blue arrow <br>\n",
    "(c) Red arrow\n",
    "\n",
    "This question is auto-marked, so in the cell below write *exactly* one of the letters a, b, or c."
   ]
  },
  {
   "cell_type": "markdown",
   "id": "fa7b9546",
   "metadata": {},
   "source": [
    "***\n",
    "**<span style=\"color:blue\">Answer 4:</span>**\n",
    "\n",
    "[//]: # (Please do not delete this comment or anything above it.  Anything below this comment can be deleted.)  \n",
    "\n",
    "Double click this cell and enter your text here.  When done, hit 'Shift' + 'Enter' to execute the cell.  Delete this text when entering your answer. "
   ]
  },
  {
   "cell_type": "markdown",
   "id": "96917c96",
   "metadata": {},
   "source": [
    "<br>\n",
    "\n",
    "***\n",
    "\n",
    "\n",
    "Alternatively, we could encode this data with a colour scale.  Figure 3 below encodes the same information as Figure 2 by representing low altitudes with the colour blue and high altitudes with the colour red.  This is sometimes referred to as a **false colour plot**.\n",
    "\n",
    "<p>\n",
    "<center>\n",
    "<img src=\"https://cmps-people.ok.ubc.ca/jbobowsk/PHYS_121_Lab/Lab3/images/topo_fill.png\" alt=\"image info\" style=\"width: 85%; height: auto;\" /><br>\n",
    "<b>Fig. 3: A false colour plot of the height above sea level as a function of $x$ and $y$.</b></center>\n",
    "</p>\n",
    "\n",
    "Representative contour lines are often superimposed on false colour plots as guides to the eye.  Other than the contours of constant height, Fig. 4 is identical to Fig. 5.\n",
    "\n",
    "<p>\n",
    "<center>\n",
    "<img src=\"https://cmps-people.ok.ubc.ca/jbobowsk/PHYS_121_Lab/Lab3/images/topoContour_fill.png\" alt=\"image info\" style=\"width: 85%; height: auto;\" /><br>\n",
    "<b>Fig. 4: A false colour plot of the height above sea level as a function of $x$ and $y$ with some representative contour lines included.</b></center>\n",
    "</p>\n",
    "\n",
    "Elevation isn't the only thing that can be represented by contour plots and false colour plots - have a look at the infrared image in Figure 5.  The colour scale represents temperature in degrees Fahrenheit ($45.8^\\circ\\rm F = 7.7^\\circ\\rm C$ and $78.2^\\circ\\rm F = 25.7^\\circ\\rm C$).     \n",
    "<p>\n",
    "<center>\n",
    "<img src=\"https://cmps-people.ok.ubc.ca/jbobowsk/PHYS_121_Lab/Lab3/images/deer.jpg\" alt=\"image info\" style=\"width: 40%; height: auto;\" /><br>\n",
    "<b>Fig. 5: An infrared image of a deer in the forest.  Image obtained from <a href = \"https://commons.wikimedia.org/wiki/File:A_deer_in_the_woods._It_was_pitch_black,_but_this_camera_does_not_use_ANY_visible_light._FLIR_infrared._%286968297826%29.jpg\">Wikimedia Commons</a>.</b></center>\n",
    "</p>\n",
    "\n",
    "All of the plots that we've consider so far are used to represent **scalar fields**.  Recall that a **scalar** is a quantity that has a numerical value, but no associated direction.  Simply put - a scalar is just a number.  Height above sea level in a rock quarry and temperature in the forest are both examples of scalar fields.  "
   ]
  },
  {
   "cell_type": "markdown",
   "id": "f88b9651",
   "metadata": {},
   "source": [
    "***\n",
    "## Vector Fields\n",
    "\n",
    "A **vector** is a quantity that has both *magnitude* and *direction*.  Vectors are typically represented by arrows whose lengths correspond to their magnitude.  A **vector field** is a quantity that has a vector value for *every* point in space and time.  Think about the air flowing around you right now, for instance.  At each point, the air has some speed and some direction.  \n",
    "\n",
    "When representing vector fields pictorially we obviously can't draw *every* vector, as there are infinitely many of them.  Usually, we'll draw representative arrows throughout a region of space, as in Figure 6.  Fig. 6(a) represents a cross-section of the gravitational field around the Earth-moon system and (b) represents the velocity of the water at the surface of a stream.  \n",
    "<br>\n",
    "<p>\n",
    "<center>\n",
    "<img src=\"https://cmps-people.ok.ubc.ca/jbobowsk/PHYS_121_Lab/Lab3/images/vectorField.png\" alt=\"image info\" style=\"width: 70%; height: auto;\" /><br>\n",
    "<b>Fig. 6: Examples of vector fields. (a) the gravitational field in the space around the Earth and moon. (b) The surface water velocity in a river containing a large rock.  Images obtained from <a href = \"https://math.libretexts.org/Bookshelves/Calculus/Book%3A_Calculus_%28OpenStax%29/16%3A_Vector_Calculus/16.1%3A_Vector_Fields\">LibreTexts</a>.</b></center>\n",
    "</p>\n",
    "\n",
    "Notice how colour has been used in both plots to emphasize the magnitude of the vectors.  This due to the fact that representing a vector's magnitude by length alone can make a plot hard to read.  But the magnitude of a vector is just a number - that is, it's a scalar quantity!  In Fig. 6(b), a false colour plot represents the speed of the water at different points in space, with red representing high speeds and blue representing low speeds.  You might say that the velocity field is a vector field, but the \"speed field\" is a scalar field."
   ]
  },
  {
   "cell_type": "markdown",
   "id": "f6899b11",
   "metadata": {},
   "source": [
    "***\n",
    "**<span style=\"color:blue\">Question 5:</span>**  \n",
    "\n",
    "Which of the following is an example of a vector field?\n",
    "\n",
    "(a) The temperature in your room <br>\n",
    "(b) The flow of heat from a radiator in your room <br>\n",
    "(c) Neither\n",
    "\n",
    "This question is auto-marked, so in the cell below write *exactly* one of the letters a, b, or c."
   ]
  },
  {
   "cell_type": "markdown",
   "id": "194b18b3",
   "metadata": {},
   "source": [
    "***\n",
    "**<span style=\"color:blue\">Answer 5:</span>**\n",
    "\n",
    "[//]: # (Please do not delete this comment or anything above it.  Anything below this comment can be deleted.)  \n",
    "\n",
    "Double click this cell and enter your text here.  When done, hit 'Shift' + 'Enter' to execute the cell.  Delete this text when entering your answer. "
   ]
  },
  {
   "cell_type": "markdown",
   "id": "26c979c6",
   "metadata": {},
   "source": [
    "***\n",
    "**<span style=\"color:blue\">Question 6:</span>**  \n",
    "\n",
    "Which of the following is an example of a scalar field?\n",
    "\n",
    "(a) The motion of ammonia ice through the atmosphere of Jupiter <br>\n",
    "(b) The concentration of ammonia throughout the atmosphere of Jupiter <br>\n",
    "(c) Neither\n",
    "\n",
    "This question is auto-marked, so in the cell below write *exactly* one of the letters a, b, or c."
   ]
  },
  {
   "cell_type": "markdown",
   "id": "a0ded81f",
   "metadata": {},
   "source": [
    "***\n",
    "**<span style=\"color:blue\">Answer 6:</span>**\n",
    "\n",
    "[//]: # (Please do not delete this comment or anything above it.  Anything below this comment can be deleted.)  \n",
    "\n",
    "Double click this cell and enter your text here.  When done, hit 'Shift' + 'Enter' to execute the cell.  Delete this text when entering your answer. "
   ]
  },
  {
   "cell_type": "markdown",
   "id": "4ee1b3a6",
   "metadata": {},
   "source": [
    "<br>\n",
    "\n",
    "***\n",
    "## Calculating a Vector Field from a Scalar Field\n",
    "\n",
    "These last few examples emphasize the idea that vector fields often have associated scalar fields, and vice versa.  In many cases it is possible to calculate a vector field from a scalar field via the **gradient** of a scalar field, which describes both the *direction* and *rate* of fastest increase of a field for all points in space.  Since it has a direction, the gradient of a scalar field $\\varphi$ is clearly a vector quantity, and is denoted by $\\nabla \\varphi$.  The resulting field is called a **gradient field**. \n",
    "\n",
    "As an example, from the topographic map of Fig. 4, we can generate a vector field that characterizes the steepest ascent at each point:\n",
    "\n",
    "<p>\n",
    "<center>\n",
    "<img src=\"https://cmps-people.ok.ubc.ca/jbobowsk/PHYS_121_Lab/Lab3/images/topoVector_fill.png\" alt=\"image info\" style=\"width: 85%; height: auto;\" /><br>\n",
    "<b>Fig. 7: A false colour plot of the height above sea level as a function of $x$ and $y$ with some representative contour lines and the steepness vector field.</b></center>\n",
    "</p>\n",
    "\n",
    "We can do this by calculating the quantities $dh/dx$ and $dh/dy$ which tells us how quickly $h$ changes in the $x$ and $y$ directions, respectively.  If, at a particular point in space, $dh/dx$ is large and $dh/hy$ is small, then the hill is steep in the $x$ direction and shallow in the $y$-direction.  If we were to construct the vector\n",
    "<br>\n",
    "\n",
    "\\begin{align}\n",
    "\\mathbf{s} \\equiv \\mathbf{\\nabla} h = \\frac{dh}{dx}\\,\\hat\\imath + \\frac{dh}{dy}\\,\\hat\\jmath,\n",
    "\\end{align}\n",
    "<br>\n",
    "it would tell us the direction of steepest ascent at that point on the mountain.  Fortunately, we don't have to do this calculation manually.  We can use some built-in Python functions to do the calculations for us.  Notice that, in this case, $\\mathbf{s}$ is always perpendicular to the contour lines of constant elevation.  \n",
    "\n",
    "An important example of gradient fields in physics are **conservative** force fields.  These are the gradient fields of the potential energy $U$:\n",
    "<br>\n",
    "\n",
    "\\begin{align}\n",
    "\\mathbf{F}(x,y,z) = -\\mathbf{\\nabla}U \\equiv -\\left(\\frac{dU}{dx}\\,\\hat\\imath + \\frac{dU}{dy}\\,\\hat\\jmath + \\frac{dU}{dy}\\,\\hat{k}\\right)\n",
    "\\end{align}\n"
   ]
  },
  {
   "cell_type": "markdown",
   "id": "5488e1cc",
   "metadata": {},
   "source": [
    "***\n",
    "**<span style=\"color:blue\">Question 7:</span>**  \n",
    "\n",
    "Notice the negative sign in the equation for $\\mathbf{F}$. Considering our interpretation of the field $\\mathbf{s} = \\mathbf{\\nabla} h$, which of the following statements is true?\n",
    "\n",
    "(a) $\\mathbf{F}$ points in the direction of fastest *increase* of the potential energy $U$ <br>\n",
    "(b) $\\mathbf{F}$ points in the direction of fastest *decrease* of the potential energy $U$ <br>\n",
    "(c) Neither\n",
    "\n",
    "This question is auto-marked, so in the cell below write *exactly* one of the letters a, b, or c."
   ]
  },
  {
   "cell_type": "markdown",
   "id": "59d381b6",
   "metadata": {},
   "source": [
    "***\n",
    "**<span style=\"color:blue\">Answer 7:</span>**\n",
    "\n",
    "[//]: # (Please do not delete this comment or anything above it.  Anything below this comment can be deleted.)  \n",
    "\n",
    "Double click this cell and enter your text here.  When done, hit 'Shift' + 'Enter' to execute the cell.  Delete this text when entering your answer. "
   ]
  },
  {
   "cell_type": "markdown",
   "id": "617e46db",
   "metadata": {},
   "source": [
    "***\n",
    "\n",
    "Similarly, time-invariant electric fields $\\mathbf{E}$ are negative gradient fields of the electric potential $V$. In this week's lab, you will be measuring a two-dimensional electric potential $V(x,y)$.  From the data you collect, you will find the electric field $\\mathbf{E}(x,y)$ via the equation\n",
    "<br>\n",
    "\n",
    "\\begin{align}\n",
    "\\mathbf{E}(x,y) = -\\left( \\frac{dV}{dx}\\,\\hat\\imath + \\frac{dV}{dy}\\,\\hat\\jmath \\right)\n",
    "\\end{align}"
   ]
  },
  {
   "cell_type": "markdown",
   "id": "4d64ef8d",
   "metadata": {},
   "source": [
    "***\n",
    "\n",
    "Recall our formal definition now: a **field** is *any* quantity $\\varphi(x, y, z, t)$ that has a value associated with all points $(x,y,z)$ in space and moments $t$ in time.  If the field is time-invariant, or if we're just looking at a \"snapshot\" of the field, we might consider only its values in space and write $\\varphi(x, y, z)$.  Moreover, if we're only considering values over a two-dimensional surface, we might describe our field by $\\varphi(x, y)$.  \n",
    "\n",
    "The abstraction of mathematics equips us with a concrete set of tools we can use for analysis and interpretation, regardless of what type of field we're dealing with.  Learning to work with these mathematical ideas takes some practice, but even if you find yourself lost in the abstraction you should never lose sight of the *physics* behind the mathematics.  Fields are a fundamentally physically motivated concept which find *many* uses in physics and beyond."
   ]
  },
  {
   "cell_type": "markdown",
   "id": "053ccfa0",
   "metadata": {},
   "source": [
    "***\n",
    "Last update: November 21, 2022"
   ]
  }
 ],
 "metadata": {
  "kernelspec": {
   "display_name": "Python 3 (ipykernel)",
   "language": "python",
   "name": "python3"
  },
  "language_info": {
   "codemirror_mode": {
    "name": "ipython",
    "version": 3
   },
   "file_extension": ".py",
   "mimetype": "text/x-python",
   "name": "python",
   "nbconvert_exporter": "python",
   "pygments_lexer": "ipython3",
   "version": "3.9.13"
  }
 },
 "nbformat": 4,
 "nbformat_minor": 5
}
