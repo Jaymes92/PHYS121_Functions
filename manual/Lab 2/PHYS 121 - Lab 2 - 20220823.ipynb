{
 "cells": [
  {
   "cell_type": "markdown",
   "id": "79432d3c",
   "metadata": {},
   "source": [
    "# <div style=\"background-color:rgba(204, 229, 255, 0.5); text-align:center; vertical-align: middle; padding:40px 0; margin-top:30px\"><span style=\"color:rgba(0, 76, 153, 1);\">PHYS 121 Lab #2</span></div>\n",
    "# Oscillations of a Simple Pendulum &ndash; Week 2"
   ]
  },
  {
   "cell_type": "markdown",
   "id": "43541aac",
   "metadata": {},
   "source": [
    "***\n",
    "## Learning Objectives:\n",
    "* <b><span style=\"color:rgba(0, 153, 76, 1);\"> Develop a method to collect a set of precision measurements.  Implement the method and, if necessary, make revisions and repeat the measurements. </span></b>\n",
    "* <b><span style=\"color:rgba(0, 153, 76, 1);\"> Collect a set of precision measurements that reveals the shortcomings of the theoretical model used to analyze the period of a simple pendulum. </span></b>\n",
    "\n",
    "Today, you will have the opportunity to refine and iterate (if necessary) your measurements of the period of a pendulum to generate a relatively high-precision dataset that uncovers new physical insights that go beyond the material covered in first-year physics lectures.\n"
   ]
  },
  {
   "cell_type": "markdown",
   "id": "9976ee1e",
   "metadata": {},
   "source": [
    "***\n",
    "## Install & Import Required Packages:\n",
    "Before starting, place your cursor in the code cell below and press 'Shift' + 'Enter'.  If the 'Check()' function reports that \"All packages already installed\", then proceed by first executing the second code cell that begins with: \n",
    "``` python\n",
    "# Import the required modules.\n",
    "```\n",
    "\n",
    "If 'Check()' reports that some new packages have been installed, then go to File$\\to$Log Out to complete log out of this notebook.  Then log in and execute the cell below again."
   ]
  },
  {
   "cell_type": "code",
   "execution_count": null,
   "id": "70d472e3",
   "metadata": {},
   "outputs": [],
   "source": [
    "import installer\n",
    "installer.Check()"
   ]
  },
  {
   "cell_type": "code",
   "execution_count": null,
   "id": "aec9a637",
   "metadata": {},
   "outputs": [],
   "source": [
    "# Import required modules\n",
    "import numpy as np\n",
    "import matplotlib.pyplot as plt\n",
    "import httpimport\n",
    "import uncertainties\n",
    "import pandas as pd\n",
    "with httpimport.remote_repo(['data_entry'], 'https://cmps-people.ok.ubc.ca/jbobowsk/PHYS_121_Lab/modules'):\n",
    "    import data_entry\n",
    "with httpimport.remote_repo(['PHYS121'], 'https://cmps-people.ok.ubc.ca/jbobowsk/PHYS_121_Lab/modules'):\n",
    "    import PHYS121"
   ]
  },
  {
   "cell_type": "markdown",
   "id": "f4720a5b",
   "metadata": {},
   "source": [
    "***\n",
    "## Recap of important definitions:\n",
    "\n",
    "**mean** $\\mu$ \n",
    "\n",
    "* a simple (and likely very familiar) measure of the *average* value of a set of data. If you take $N$ measurements $\\nu_1, \\nu_2, \\dots, \\nu_N$, the mean is defined by\n",
    "\n",
    "$$ \\mu = \\frac{1}{N}\\sum_{i=1}^N \\nu_i = \\frac{\\nu_1 + \\nu_2 + \\cdots + \\nu_N}{N} $$\n",
    "\n",
    "**standard deviation** $\\sigma$  \n",
    "\n",
    "* a measure of the amount of variation in a data set. A small value of $\\sigma$ indicates that the data is clustered near the average value, and a large value of $\\sigma$ indicates that the data is more spread out. \n",
    "\n",
    "$$ \\sigma = \\sqrt{\\frac{1}{N - 1}\\sum_{i=1}^N \\left(\\nu_i - \\mu\\right)^2} $$\n",
    "\n",
    "**standard error in the mean** $\\sigma_\\mu$  \n",
    "\n",
    "* roughly speaking, this is one measure of how confident we ought to be in our estimate of the mean. You can read $\\mu \\pm \\sigma_\\mu$ as \"our measurements suggest that if we were to collect an identical set of measurements, there is a $68\\%$ chance that the resulting mean will fall between $\\mu - \\sigma_\\mu$ and $\\mu + \\sigma_\\mu$.\" As you might expect, the confidence interval gets smaller when the distribution of the experimental data gets narrower (i.e. $\\sigma$ is reduced) *and* when we take more measurements. Both of these expectations are revealed by the formula for the standard error:\n",
    "\n",
    "$$ \\sigma_{\\mu} = \\frac{\\sigma}{\\sqrt{N}} $$\n",
    "\n",
    "**normal distribution**\n",
    "\n",
    "* often called a *Gaussian distribution*, or, less formally, a *bell curve*. When one takes a large number of measurements, it is very often the case that the results are approximately normally distributed. Two important features to keep in mind are (a) normal distributions are *symmetric* about the mean, and (b) approximately $68\\%$ of results fall within one standard deviation of the mean, $95\\%$ within two, and $99.7\\%$ within three. This is sometimes called the $68$-$95$-$99.7$ rule."
   ]
  },
  {
   "cell_type": "markdown",
   "id": "eb024399",
   "metadata": {},
   "source": [
    "***\n",
    "## Introduction:\n",
    "Among the primary goals of physics (and in science in general) is the construction of a coherent picture of how the world works. In this pursuit, we wish to *build*, *test*, and *revise* models and theories. While *all* models are necessarily only approximations of reality, these approximations (and thereby our understanding of the world) *can* be improved. This effort is multi-generational, multidisciplinary, and fundamentally collaborative. \n",
    "\n",
    "One vital aspect of this work is to seek out and investigate cases where our models fail, but we must be *certain* that what we're seeing isn't skewed by imprecise measurements or other experimental flaws. This is one of the many reasons we may wish to increase the precision of our experiments. (Note that deciding whether an experimental result is significant is, in practice, a more subtle matter than simply calculating $\\sigma$ - for those who are interested in learning more, [this](https://news.mit.edu/2012/explained-sigma-0209) brief article from MIT discusses some of the complications).\n",
    "\n",
    "In the previous lab, you witnessed some of the factors that affect the quality of the data collected. Specifically, you should have seen that the **standard deviation** depends on the *quality* of the measurements, but not the *quantity*, while the **standard error in the mean** is sensitive to both. This week, you will continue to experiment with the simple pendulum (Fig. 1). Using the procedure you developed at the end of Lab 1 (and perhaps refining it further) you will gather high-precision data in order to test the limits of the simple model of the pendulum.\n",
    "\n",
    "<p>\n",
    "<center>\n",
    "<img src=\"https://cmps-people.ok.ubc.ca/jbobowsk/PHYS_121_Lab/Lab1/images/pendulum_schematic.png\" alt=\"image info\" style=\"width: 35%; height: auto;\" /><br>\n",
    "<b>Fig. 1: A simple pendulum suspended from the origin of a protractor.</b></center>\n",
    "</p>"
   ]
  },
  {
   "cell_type": "markdown",
   "id": "a63a6234",
   "metadata": {},
   "source": [
    "# <div style=\"background-color:rgba(255, 204, 255, 0.5); text-align:center; vertical-align: middle; padding:40px 0; margin-top:30px\"><span style=\"color:rgba(102, 0, 204, 1);\">Part 1 - Discussion and Further Refinement of Methodology (15 minutes)</span></div>\n",
    "\n",
    "In Part 4 of the previous lab, you were asked to refine your data-collection methods with the objective of reducing the standard deviation in your data. First, recount the method you used last lab and *why* you chose that method. Discuss this method first with your lab partner, and then with at least one other group. When you've done this, complete Question 1.1 below."
   ]
  },
  {
   "cell_type": "markdown",
   "id": "f2752982",
   "metadata": {},
   "source": [
    "***\n",
    "**<span style=\"color:blue\">Question 1.1:</span>**  \n",
    "\n",
    "After you're done discussing, briefly explain below *how* you will be taking your measurements, and *why* you expect this to increase the precision of your measurements relative to the methods used at the beginning of Lab 1. This may be identical to the method you developed at the end of Lab 1, completely different, or somewhere in between."
   ]
  },
  {
   "cell_type": "markdown",
   "id": "5fadf1c0",
   "metadata": {},
   "source": [
    "***\n",
    "**<span style=\"color:blue\">Answer 1.1:</span>**\n",
    "\n",
    "[//]: # (Please do not delete this comment or anything above it.  Anything below this comment can be deleted.)  \n",
    "\n",
    "Double click this cell and enter your text here.  When done, hit 'Shift' + 'Enter' to execute the cell.  You may delete this text when entering your answer. \n",
    "***"
   ]
  },
  {
   "cell_type": "markdown",
   "id": "6aa67191",
   "metadata": {},
   "source": [
    "In last week's lab, you began investigating the claim that the period of oscillation $T$ of a simple pendulum is given by \n",
    "\\begin{align}\n",
    "T = 2\\pi\\sqrt{\\dfrac{\\ell}{g}},\n",
    "\\label{eq:period} \\tag{1}\n",
    "\\end{align}\n",
    "where $\\ell$ is the length of the string and $g=9.81\\rm\\ m/s^2$ is the gravitational acceleration.  Notice that, according to Eq. $(1)$, the period depends on neither the mass $m$ of the pendulum bob nor the amplitude of the oscillations. "
   ]
  },
  {
   "cell_type": "markdown",
   "id": "f80a5459",
   "metadata": {},
   "source": [
    "# <div style=\"background-color:rgba(255, 204, 255, 0.5); text-align:center; vertical-align: middle; padding:40px 0; margin-top:30px\"><span style=\"color:rgba(102, 0, 204, 1);\">Part 2 - Data Collection (90 minutes)</span></div>"
   ]
  },
  {
   "cell_type": "markdown",
   "id": "1169f9b9",
   "metadata": {},
   "source": [
    "Part 2 will comprise the majority of the lab. You will measure the period of oscillation for initial amplitudes $\\theta_0$ from $5^\\circ$ to $45^\\circ$ in intervals of $5^\\circ$.\n",
    "\n",
    "As you proceed, you may recognize new challenges and develop better strategies. You will be asked to reflect on these challenges and strategies later on, so it will be beneficial to take notes as you work. To this end, a text box has been provided below. This won't be marked - it's there to help you keep track of any changes you make to your procedure. \n",
    "\n",
    "If you make *major* changes to your procedure early on, it may be best to start over, but **don't delete your initial data**. Make a note of the change and, following the example of the code block below, create new lists and a new dataframe in one of the provided empty cells."
   ]
  },
  {
   "cell_type": "code",
   "execution_count": null,
   "id": "0ddff35c",
   "metadata": {},
   "outputs": [],
   "source": [
    "# Populate the following lists with your measured amplitudes and periods. \n",
    "# The order doesn't matter as long as the first amplitude corresponds to the first period,\n",
    "# the second amplitude to the second period, and so on.\n",
    "amplitude = [  ]\n",
    "period = [ ]\n",
    "\n",
    "# Place the lists into a DataFrame\n",
    "df = pd.DataFrame({\"Amplitude\": amplitude,\n",
    "                    \"Period\": period})\n",
    "# Display data\n",
    "df"
   ]
  },
  {
   "cell_type": "markdown",
   "id": "038c3600",
   "metadata": {
    "scrolled": true
   },
   "source": [
    "***\n",
    "**<span style=\"color:blue\">Notes (optional):</span>**\n",
    "\n",
    "[//]: # (Please do not delete this comment or anything above it.  Anything below this comment can be deleted.)  \n",
    "\n",
    "Double click this cell and enter your text here.  When done, hit 'Shift' + 'Enter' to execute the cell. "
   ]
  },
  {
   "cell_type": "markdown",
   "id": "ffec354a",
   "metadata": {},
   "source": [
    "***\n",
    "**<span style=\"color:blue\">New dataset(s) (optional):</span>**\n",
    "\n",
    "If you make major revisions to your procedure, use the empty cells below to store your new dataset."
   ]
  },
  {
   "cell_type": "code",
   "execution_count": null,
   "id": "12964e6b",
   "metadata": {},
   "outputs": [],
   "source": []
  },
  {
   "cell_type": "code",
   "execution_count": null,
   "id": "4f929187",
   "metadata": {},
   "outputs": [],
   "source": []
  },
  {
   "cell_type": "code",
   "execution_count": null,
   "id": "257f7085",
   "metadata": {},
   "outputs": [],
   "source": []
  },
  {
   "cell_type": "markdown",
   "id": "96432ef7",
   "metadata": {},
   "source": [
    "Before *properly* analyzing our results in Part 3, we're going to generate a scatterplot to get a sense of what the data look like. You can execute this code at any time during the data collection process if you want to visualize the data. For additional information about the 'Scatter' function, see **Appendix A** near the end of this notebook.  \n",
    "\n",
    "Note: if you end up using a new dataset, you may need to change the name of the variables used in the code below."
   ]
  },
  {
   "cell_type": "code",
   "execution_count": null,
   "id": "f4f55c3f",
   "metadata": {},
   "outputs": [],
   "source": [
    "fig = PHYS121.Scatter(amplitude, period, yErrors = [], xlabel = 'Amplitude ($ \\\\theta_0 $)', ylabel = 'Period (T)', xUnits = '', yUnits = '', fill = False)"
   ]
  },
  {
   "cell_type": "markdown",
   "id": "0fdbfd60",
   "metadata": {},
   "source": [
    "***\n",
    "**<span style=\"color:blue\">Question 2.1:</span>**  \n",
    "\n",
    "Once you've collected all of your data, comment on the scatter plot above. Is there a clear trend, or does the distribution of values make it difficult to tell? If you do see a pattern, is this what you expected? Why or why not? Refer to Eq. (1) in your answer."
   ]
  },
  {
   "cell_type": "markdown",
   "id": "49f8463f",
   "metadata": {},
   "source": [
    "***\n",
    "**<span style=\"color:blue\">Answer 2.1:</span>**\n",
    "\n",
    "[//]: # (Please do not delete this comment or anything above it.  Anything below this comment can be deleted.)  \n",
    "\n",
    "Double click this cell and enter your text here.  When done, hit 'Shift' + 'Enter' to execute the cell.  You may delete this text when entering your answer. "
   ]
  },
  {
   "cell_type": "markdown",
   "id": "3dc6070e",
   "metadata": {},
   "source": [
    "# <div style=\"background-color:rgba(255, 204, 255, 0.5); text-align:center; vertical-align: middle; padding:40px 0; margin-top:30px\"><span style=\"color:rgba(102, 0, 204, 1);\">Part 3 - Analysis of Results (15 minutes)</span></div>"
   ]
  },
  {
   "cell_type": "markdown",
   "id": "959bc96b",
   "metadata": {},
   "source": [
    "In the block of code below we see some of the power of using pandas.  The provided code first groups your measurements by initial angle and returns the average value, standard deviation, and standard error corresponding to each.  You do **not** need to understand the syntax of the code, but if you're interested, you are encouraged to try following along.\n",
    "\n",
    "As before, if you ended up using a new dataset you may need to change \"df\" to ensure that the code below refers to your most recent DataFrame."
   ]
  },
  {
   "cell_type": "code",
   "execution_count": null,
   "id": "ae53f026",
   "metadata": {},
   "outputs": [],
   "source": [
    "# The groupby method allows you to perform an operation on subsets of the \n",
    "# data which share a common value in the specified column.\n",
    "# We can define the output as columns of a new DataFrame\n",
    "df2 = pd.DataFrame()\n",
    "df2[\"Avg\"] = df.groupby(\"Amplitude\").mean()\n",
    "df2[\"Std\"] = df.groupby(\"Amplitude\").std()\n",
    "df2[\"Sem\"] = df.groupby(\"Amplitude\").sem()"
   ]
  },
  {
   "cell_type": "markdown",
   "id": "449f3731",
   "metadata": {},
   "source": [
    "After calculating these values, we can recreate our scatterplot with error bars. Notice that the error bars use the standard error in the mean rather than the standard deviation."
   ]
  },
  {
   "cell_type": "code",
   "execution_count": null,
   "id": "3caf0040",
   "metadata": {},
   "outputs": [],
   "source": [
    "# Recall that we need to call numpy arrays \n",
    "fig = PHYS121.Scatter(xData = df2.index.to_numpy(), \n",
    "                      yData = df2[\"Avg\"].to_numpy(), \n",
    "                      yErrors = df2[\"Sem\"].to_numpy(), \n",
    "                      xlabel = 'Amplitude ($ \\\\theta_0 $)', \n",
    "                      ylabel = 'Period (T)', \n",
    "                      xUnits = '', \n",
    "                      yUnits = '', \n",
    "                      fill = False)"
   ]
  },
  {
   "cell_type": "markdown",
   "id": "ba186ee7",
   "metadata": {},
   "source": [
    "***\n",
    "**<span style=\"color:blue\">Question 3.1:</span>**  \n",
    "\n",
    "What do you notice about the relative size of the error bars for the different intial amplitudes $\\theta_0$? Is there a pattern? Consider why this is so - did new challenges arise as you increased the amplitude? Did you take the same number of measurements for each trial? Compare this to the standard deviations: in the cell below, write \"print(df2)\" to see the standard deviation for each amplitude."
   ]
  },
  {
   "cell_type": "code",
   "execution_count": null,
   "id": "3769c914",
   "metadata": {},
   "outputs": [],
   "source": []
  },
  {
   "cell_type": "markdown",
   "id": "b5c4ad87",
   "metadata": {},
   "source": [
    "***\n",
    "**<span style=\"color:blue\">Answer 3.1:</span>**\n",
    "\n",
    "[//]: # (Please do not delete this comment or anything above it.  Anything below this comment can be deleted.)  \n",
    "\n",
    "Double click this cell and enter your text here.  When done, hit 'Shift' + 'Enter' to execute the cell.  You may delete this text when entering your answer. "
   ]
  },
  {
   "cell_type": "markdown",
   "id": "97d5a629",
   "metadata": {},
   "source": [
    "***\n",
    "**<span style=\"color:blue\">Question 3.2:</span>**  \n",
    "\n",
    "You should see that the period *increases* as the initial angle increases, contrary to Eq. (1). In Part 4, you will be guided through an explanation of the main reason for this discrepancy, but there are many other possible factors. In the box below, suggest a few ideas. Be sure to justify your answers. There is no single correct answer, here - don't worry if you're not exactly correct, the point is to develop intuition by thinking actively about the physics of the system. \n",
    "\n",
    "Note: if your data does *not* show that the $T$ increases with $\\theta_0$ and you don't have time to repeat the experiment, you may look at a neighbouring group's data when answering this question. If you do so, be sure to cite their names in your answer.\n"
   ]
  },
  {
   "cell_type": "markdown",
   "id": "697cc819",
   "metadata": {},
   "source": [
    "***\n",
    "**<span style=\"color:blue\">Answer 3.2:</span>**\n",
    "\n",
    "[//]: # (Please do not delete this comment or anything above it.  Anything below this comment can be deleted.)  \n",
    "\n",
    "Double click this cell and enter your text here.  When done, hit 'Shift' + 'Enter' to execute the cell.  You may delete this text when entering your answer. "
   ]
  },
  {
   "cell_type": "markdown",
   "id": "25c72940",
   "metadata": {},
   "source": [
    "# <div style=\"background-color:rgba(255, 204, 255, 0.5); text-align:center; vertical-align: middle; padding:40px 0; margin-top:30px\"><span style=\"color:rgba(102, 0, 204, 1);\">Part 4 - The Small Angle Approximation (25 minutes)</span></div>"
   ]
  },
  {
   "cell_type": "markdown",
   "id": "d44c3993",
   "metadata": {},
   "source": [
    "****\n",
    "<span style=\"color:rgba(220, 50, 50, 1);\">**Note:**</span> this section contains some math which may be unfamiliar. Do not dispair! You won't be asked to calculate anything difficult. This section is meant to be an introduction to how the concepts are used in practice.\n",
    "****\n",
    "\n",
    "\n",
    "Depending on how much math you've taken, you may have seen something called a \"Taylor series.\" The basic idea is that most functions can be written as infinite polynomials:\n",
    "\n",
    "$$ f(x) = a_0 + a_1(x - x_0) + a_2(x - x_0)^2 + \\cdots + a_n(x-x_0)^n + \\cdots = \\sum_{n = 0}^{\\infty}a_n(x-x_0)^n \\tag{2} $$ \n",
    "\n",
    "When this is possible, the function $f(x)$ is said to be **analytic at $x_0$** - but often physicists will just refer to $f(x)$ as being \"well-behaved.\" An ambitious student might try evaluating $f(x)$ and its derivatives at $x_0$ to see how the coefficients $a_n$ are calculated, but that is not important here. For anyone interested in learning more, [this]( https://www.youtube.com/watch?v=3d6DsjIBzJ4) video from 3blue1brown provides an intuitive introduction to Taylor series. \n",
    "\n",
    "Taylor series find many applications in physics. They frequently show up for the simple fact that polynomials are relatively simple to work with, so that **writing a function as a Taylor series can turn a difficult problem into an easy problem.**\n",
    "\n",
    "If you're only considering values of $x$ which are very close to $x_0$ (i.e. $x-x_0 << 1$) then you can usually get a good approximation by keeping only a small number of terms. For example, we might write\n",
    "\n",
    "$$ f(x) \\approx a_0 + a_1(x-x_0)  \\tag{3} $$\n",
    "\n",
    "This is sometimes referred to as a **first-order approximation**. The derivation of Eq. (1) resulted from just such an approximation. \n",
    "\n",
    "<p>\n",
    "<center>\n",
    "<img src=\"https://cmps-people.ok.ubc.ca/jbobowsk/PHYS_121_Lab/Lab2/images/fbd.png\" alt=\"image info\" style=\"width: 35%; height: auto;\" /><br>\n",
    "<b>Fig. 2: Free body diagram for the simple pendulum. </b></center>\n",
    "</p>\n",
    "\n",
    "From Fig. 2, the torque on the bob (i.e. the component of the force of gravity in the direction of motion) is found to be \n",
    "\n",
    "$$ \\tau = m\\ell^2\\ddot{\\theta} =  mg\\sin\\theta  \\tag{3} $$\n",
    "\n",
    "This equation is *possible* to solve, but it isn't easy to do! Luckily, the sine function is well-behaved (analytic). The Taylor series for $\\sin\\theta$ about $\\theta = 0$ is\n",
    "\n",
    "$$ \\sin \\theta = \\theta - \\frac{\\theta^3}{3!} + \\frac{\\theta^5}{5!} - \\frac{\\theta^7}{7!} + \\cdots $$\n",
    "\n",
    "Eq. (1) results from taking only the first-order term: this is often called the **small-angle approximation**:\n",
    "\n",
    "$$ \\sin\\theta \\approx \\theta$$\n",
    "\n",
    "Figure 3 shows a geometric way to achieve the same result:\n",
    "\n",
    "<p>\n",
    "<center>\n",
    "<img src=\"https://cmps-people.ok.ubc.ca/jbobowsk/PHYS_121_Lab/Lab2/images/saa2.png\" alt=\"image info\" style=\"width: 45%; height: auto;\" /><br>\n",
    "<b>Fig. 3: Geometric demonstration of the small angle approximation. Consider what happens as the angle $2\\theta$ gets smaller: the length of the blue arc will approach the length of the red chord (in exactly the same way that the earth seems flat when you're standing on it). The length of the arc is $r\\theta$, and the length of the chord is $r\\sin\\theta$. Thus, $\\sin\\theta \\approx \\theta$ for small $\\theta$. </b></center>\n",
    "</p>"
   ]
  },
  {
   "cell_type": "markdown",
   "id": "c13e45c0",
   "metadata": {},
   "source": [
    "***\n",
    "**<span style=\"color:blue\">Question 4.1:</span>**  \n",
    "\n",
    "Type shift+enter in the cell below to see $\\theta$ and $\\theta - \\frac{\\theta^3}{3!}$ plotted with $\\sin\\theta$. Comment on the range of validity of the respective approximations, and discuss how this relates to your results from Part 3."
   ]
  },
  {
   "cell_type": "code",
   "execution_count": null,
   "id": "7a7bf446",
   "metadata": {},
   "outputs": [],
   "source": [
    "theta = np.arange(0, 45, 0.5)\n",
    "\n",
    "order1 = np.radians(theta)\n",
    "order2 = np.radians(theta) - (np.radians(theta)**3)/6\n",
    "exact = np.sin(np.radians(theta))\n",
    "\n",
    "fig, ax = plt.subplots(figsize = (10, 10))\n",
    "ax.plot(theta, exact, color = 'k', label = \"$\\sin\\\\theta$\", linewidth = 3)\n",
    "ax.plot(theta, order1, 'r--', label = \"$\\\\theta$\", linewidth = 3)\n",
    "ax.plot(theta, order2, 'c:', label = \"$\\\\theta - \\\\theta^3/6$\", linewidth = 5)\n",
    "ax.legend()\n",
    "\n",
    "plt.xlim([0, 45])\n",
    "plt.ylim([0, 0.75])\n",
    "plt.show()"
   ]
  },
  {
   "cell_type": "markdown",
   "id": "a67e993f",
   "metadata": {},
   "source": [
    "***\n",
    "**<span style=\"color:blue\">Answer 4.1:</span>**\n",
    "\n",
    "[//]: # (Please do not delete this comment or anything above it.  Anything below this comment can be deleted.)  \n",
    "\n",
    "Double click this cell and enter your text here.  When done, hit 'Shift' + 'Enter' to execute the cell.  You may delete this text when entering your answer. "
   ]
  },
  {
   "cell_type": "markdown",
   "id": "70af6ea4",
   "metadata": {},
   "source": [
    "***\n",
    "The *exact* solution of Eq. (3) gives a period of \n",
    "\n",
    "$$ T = 2\\pi\\sqrt{\\frac{\\ell}{g}}\\left(1 + \\frac{1}{16}\\theta_0^2 + \\frac{11}{3027}\\theta_0^4 + \\frac{173}{737280}\\theta_0^6 +\\cdots \\right) $$\n",
    "\n",
    "where $\\theta$ is expressed in radians. This isn't the Taylor series of some familiar looking function - there is no \"nice\" way to write this down! We say that $T(\\theta_0)$ is a **non-elementary function**.\n",
    "\n",
    "Converting to degrees, the first few terms are\n",
    "\n",
    "$$ T = 2\\pi\\sqrt{\\frac{\\ell}{g}}\\left(1 + \\left(1.9 \\times 10^{-5}\\right)\\cdot\\theta_0^2 + \\left(3.4 \\times 10^{-10}\\right)\\cdot\\theta_0^4 + \\cdots \\right)  \\tag{4} $$"
   ]
  },
  {
   "cell_type": "markdown",
   "id": "baa99af5",
   "metadata": {},
   "source": [
    "***\n",
    "**<span style=\"color:blue\">Question 4.2:</span>**  \n",
    "\n",
    "Explain why, for our experiment, it should be sufficient to keep only terms up to $\\theta_0^2$. **Hint:** at 45$^\\circ$, what are the different terms in Eq. (4) equal to?"
   ]
  },
  {
   "cell_type": "markdown",
   "id": "20f3ddb5",
   "metadata": {},
   "source": [
    "***\n",
    "**<span style=\"color:blue\">Answer 4.2:</span>**\n",
    "\n",
    "[//]: # (Please do not delete this comment or anything above it.  Anything below this comment can be deleted.)  \n",
    "\n",
    "Double click this cell and enter your text here.  When done, hit 'Shift' + 'Enter' to execute the cell.  You may delete this text when entering your answer. "
   ]
  },
  {
   "cell_type": "markdown",
   "id": "ddbf10ac",
   "metadata": {},
   "source": [
    "***\n",
    "**<span style=\"color:blue\">Question 4.3:</span>**  \n",
    "\n",
    "It is *not* likely that the data you collected today was precise enough to clearly demonstrate the dependence of $T$ on $\\theta_0^4$. Offer 3 ways that you might collect data that accurately displays this 4th order term (and perhaps even higher order terms). Be creative - you aren't restricted to materials found in the undergraduate physics lab. **Hint:** your answer to question 3.2 might be relevant when considering such subtle effects. You may also think about the range of validity of the approximations."
   ]
  },
  {
   "cell_type": "markdown",
   "id": "0b158403",
   "metadata": {},
   "source": [
    "***\n",
    "**<span style=\"color:blue\">Answer 4.3:</span>**\n",
    "\n",
    "[//]: # (Please do not delete this comment or anything above it.  Anything below this comment can be deleted.)  \n",
    "\n",
    "Double click this cell and enter your text here.  When done, hit 'Shift' + 'Enter' to execute the cell.  You may delete this text when entering your answer. "
   ]
  },
  {
   "cell_type": "markdown",
   "id": "34c8ddb3",
   "metadata": {},
   "source": [
    "# <div style=\"background-color:rgba(255, 204, 255, 0.5); text-align:center; vertical-align: middle; padding:40px 0; margin-top:30px\"><span style=\"color:rgba(102, 0, 204, 1);\">Part 5 - Reflection & statement of contributions (25 minutes)</span></div>"
   ]
  },
  {
   "cell_type": "markdown",
   "id": "cdd1c9f2",
   "metadata": {},
   "source": [
    "Question 5.1 is used to reflect on the learning objectives stated at beginning of the notebook. \n",
    "***\n",
    "**<span style=\"color:blue\">Question 5.1:</span>**  \n",
    "\n",
    "Compare the scatterplot of period versus amplitude that you produced in Part 1 of Lab 1 to the plot produced in Part 3 of this lab. In a few short sentences, describe how increasing the precision of your measurements led to the discovery of new physics and revealed a limitation of the model often used to analyze simple pendulums."
   ]
  },
  {
   "cell_type": "markdown",
   "id": "467712e7",
   "metadata": {},
   "source": [
    "***\n",
    "**<span style=\"color:blue\">Answer 5.1:</span>**\n",
    "\n",
    "[//]: # (Please do not delete this comment or anything above it.  Anything below this comment can be deleted.)  \n",
    "\n",
    "Double click this cell and enter your text here.  When done, hit 'Shift' + 'Enter' to execute the cell.  You may delete this text when entering your answer. "
   ]
  },
  {
   "cell_type": "markdown",
   "id": "e41a3027",
   "metadata": {},
   "source": [
    "***\n",
    "Below, you will briefly summarize the contributions that you and your partner made when completely this lab.  Please ensure that both partners have a chance to engage in all types of lab activities (developing the experimental methods/data collection strategies, hands-on interaction with the apparatus/data collection, and data processing/analysis in the Jupyter notebook).  Note that statements of contributions are common in science.  The figure below shows one example taken from a 2021 paper published in the journal *Nature Physics*.\n",
    "\n",
    "<p>\n",
    "<center>\n",
    "<img src=\"https://cmps-people.ok.ubc.ca/jbobowsk/PHYS_121_Lab/Lab1/images/contributions.jpg\" alt=\"image info\" style=\"width: 60%; height: auto;\" /><br>\n",
    "<b>Fig. 2: A sample statement of author contributions from a recent journal article.</b></center>\n",
    "</p>"
   ]
  },
  {
   "cell_type": "markdown",
   "id": "500db5cf",
   "metadata": {},
   "source": [
    "***\n",
    "**<span style=\"color:blue\">Question 5.2(a):</span>**  \n",
    "\n",
    "Answer this question only if you worked with a partner to complete this lab.\n",
    "\n",
    "In two or three sentences describe the specific contributions of **Partner A** to this lab.  For example, worked with the experimental apparatus to collect data for Part 1 of the lab, entered and processed the data in the Jupyter notebook for Part 2 of the lab, ...  "
   ]
  },
  {
   "cell_type": "markdown",
   "id": "5e9dfd8b",
   "metadata": {},
   "source": [
    "***\n",
    "**<span style=\"color:blue\">Answer 5.2(a):</span>**\n",
    "\n",
    "[//]: # (Please do not delete this comment or anything above it.  Anything below this comment can be deleted.)  \n",
    "\n",
    "Double click this cell and enter your text here.  Please start be entering the name and student number of **Partner A**.  When done, hit 'Shift' + 'Enter' to execute the cell.  You may delete this text when entering your answer. "
   ]
  },
  {
   "cell_type": "markdown",
   "id": "6c24b9d3",
   "metadata": {},
   "source": [
    "***\n",
    "**<span style=\"color:blue\">Question 5.2(b):</span>**  \n",
    "\n",
    "Answer this question only if you worked with a partner to complete this lab.\n",
    "\n",
    "In two or three sentences describe the specific contributions of **Partner B** to this lab.  "
   ]
  },
  {
   "cell_type": "markdown",
   "id": "a658bbd2",
   "metadata": {},
   "source": [
    "***\n",
    "**<span style=\"color:blue\">Answer 5.2(b):</span>**\n",
    "\n",
    "[//]: # (Please do not delete this comment or anything above it.  Anything below this comment can be deleted.)  \n",
    "\n",
    "Double click this cell and enter your text here.  Please start be entering the name and student number of **Partner B**.  When done, hit 'Shift' + 'Enter' to execute the cell.  You may delete this text when entering your answer. "
   ]
  },
  {
   "cell_type": "markdown",
   "id": "ee358ccd",
   "metadata": {},
   "source": [
    "***\n",
    "**<span style=\"color:blue\">Question 5.3:</span>**  \n",
    "\n",
    "We welcome your feedback on the PHYS 121 labs!  Please feel free to include any comments you have about this lab in the cell below.  Your comments will be taken into consideration when revising/improving the PHYS 121 labs.  You can suggest improvements, point out anything that was unclear, comment on the strengths and weaknesses of the lab, ...\n",
    "\n",
    "This question is optional and will have no impact on your lab grade."
   ]
  },
  {
   "cell_type": "markdown",
   "id": "c63577ce",
   "metadata": {},
   "source": [
    "***\n",
    "**<span style=\"color:blue\">Answer 5.3:</span>**\n",
    "\n",
    "[//]: # (Please do not delete this comment or anything above it.  Anything below this comment can be deleted.)  \n",
    "\n",
    "Double click this cell and enter your text here.  When done, hit 'Shift' + 'Enter' to execute the cell.  You may delete this text when entering your answer. "
   ]
  },
  {
   "cell_type": "markdown",
   "id": "d3d50ca1",
   "metadata": {},
   "source": [
    "# <div style=\"background-color:rgba(255, 204, 255, 0.5); text-align:center; vertical-align: middle; padding:40px 0; margin-top:30px\"><span style=\"color:rgba(102, 0, 204, 1);\">Part 6 - Playground (optional)</span></div>\n",
    "\n",
    "Feel free to add as many cells as you like below and use them as a playground for further independent investigations.  These cells won't be graded, so feel free to use them in any way that you like.  "
   ]
  },
  {
   "cell_type": "code",
   "execution_count": null,
   "id": "e8189e47",
   "metadata": {},
   "outputs": [],
   "source": [
    "# Here's an empty code cell that you can use.  "
   ]
  },
  {
   "cell_type": "code",
   "execution_count": null,
   "id": "c562e869",
   "metadata": {},
   "outputs": [],
   "source": [
    "# Here's another empty code cell that you can use."
   ]
  },
  {
   "cell_type": "code",
   "execution_count": null,
   "id": "ba7b197b",
   "metadata": {},
   "outputs": [],
   "source": [
    "# Here's yet another empty code cell that you can use.  \n",
    "# If you need more, you can add cells using the '+' icon in the menu bar at to the top of the screen."
   ]
  },
  {
   "cell_type": "markdown",
   "id": "a3130186",
   "metadata": {},
   "source": [
    "### <div style=\"background-color:rgba(255, 255, 102, 0.5); text-align:left; padding:20px 0; margin-top:20px\">$\\quad$Appendix A &ndash; The Scatter Function...</div>\n",
    "\n",
    "The function for generating scatter plots is called as follows:\n",
    "```python\n",
    "Scatter(xData, yData, yErrors = [], xlabel = 'x-axis', ylabel = 'y-axis', xUnits = '', yUnits = '', fill = False, show = True)\n",
    "```\n",
    "The 'xData' and 'yData' inputs are required, all other arguments are optional with default values set.  The function returns the a single output (the formatted plot):\n",
    "```python\n",
    "fig\n",
    "```\n",
    "\n",
    "The function will do a simple scatter plot if no 'yError' are included.  It will included error bars if 'yErrors' are passed to the function.  The 'fill' and 'show' arguments should generally be false.  \n",
    "\n",
    "If the 'xData' list is empty, as in:\n",
    "```python\n",
    "xData = []\n",
    "```\n",
    "then the x-axis will be the trial number.  For example, is 'xData' is empty and 'yData' has 10 elements, the x-axis will span 1 to 10.\n",
    "\n",
    "### Scatter Example Implmentation\n",
    "The code block below shows an implementation of 'Scatter'.\n",
    "```python\n",
    "import PHYS121\n",
    "theta = [10, 20, 30] # degrees\n",
    "T = [2.02, 1.95, 2.13] # s\n",
    "errT = [0.02, 0.02, 0.03] # s\n",
    "fig = PHYS121.Scatter(theta, T, errT, 'initial angle' , 'period', 'degrees', 's')\n",
    "```\n",
    "\n",
    "If you're interested in generating your own plots with customized formatting, see the following Python-based plotting tutorial: https://cmps-people.ok.ubc.ca/jbobowsk/Python/html/Jupyter%20Basic%20Plots.html.\n",
    "***"
   ]
  },
  {
   "cell_type": "markdown",
   "id": "5dc5fbd8",
   "metadata": {},
   "source": [
    "Last update: November 9, 2022"
   ]
  }
 ],
 "metadata": {
  "kernelspec": {
   "display_name": "Python 3 (ipykernel)",
   "language": "python",
   "name": "python3"
  },
  "language_info": {
   "codemirror_mode": {
    "name": "ipython",
    "version": 3
   },
   "file_extension": ".py",
   "mimetype": "text/x-python",
   "name": "python",
   "nbconvert_exporter": "python",
   "pygments_lexer": "ipython3",
   "version": "3.8.8"
  }
 },
 "nbformat": 4,
 "nbformat_minor": 5
}
