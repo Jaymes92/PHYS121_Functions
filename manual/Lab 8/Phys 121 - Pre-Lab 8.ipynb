{
 "cells": [
  {
   "cell_type": "markdown",
   "id": "aa3c17b0",
   "metadata": {},
   "source": [
    "# <div style=\"background-color:rgba(204, 229, 255, 0.5); text-align:center; vertical-align: middle; padding:40px 0; margin-top:30px\"><span style=\"color:rgba(0, 76, 153, 1);\">PHYS 121 Pre-Lab #8</span></div>\n",
    "# Using Tracker"
   ]
  },
  {
   "cell_type": "markdown",
   "id": "fc4bdbef",
   "metadata": {},
   "source": [
    "***\n",
    "## Learning Objectives:\n",
    "* <b><span style=\"color:rgba(0, 153, 76, 1);\"> Learn how to collect data from a video using Tracker and how to upload and analyze that data in Python.  </span></b>\n",
    "* <b><span style=\"color:rgba(0, 153, 76, 1);\"> Review the concepts of angular velocity and harmonic motion. </span></b>"
   ]
  },
  {
   "cell_type": "markdown",
   "id": "14df40fe",
   "metadata": {},
   "source": [
    "***\n",
    "## Install & Import Required Packages:\n",
    "Before starting, place your cursor in the code cell below and press 'Shift' + 'Enter'.  If the 'Check()' function reports that \"All packages already installed\", then proceed by first executing the second code cell that begins with: \n",
    "``` python\n",
    "# Import the required modules.\n",
    "```\n",
    "\n",
    "If 'Check()' reports that some new packages have been installed, then go to File$\\to$Log Out to complete log out of this notebook.  Then log in and execute the cell below again."
   ]
  },
  {
   "cell_type": "code",
   "execution_count": null,
   "id": "7e0d7935",
   "metadata": {},
   "outputs": [],
   "source": [
    "import installer\n",
    "installer.Check()"
   ]
  },
  {
   "cell_type": "code",
   "execution_count": null,
   "id": "d6d9d9f9",
   "metadata": {},
   "outputs": [],
   "source": [
    "# Import required modules\n",
    "import numpy as np\n",
    "import pandas as pd \n",
    "import matplotlib.pyplot as plt\n",
    "import httpimport\n",
    "import uncertainties\n",
    "from uncertainties import ufloat\n",
    "from uncertainties.umath import * \n",
    "with httpimport.remote_repo(['data_entry'], 'https://cmps-people.ok.ubc.ca/jbobowsk/PHYS_121_Lab/modules'):\n",
    "    import data_entry\n",
    "with httpimport.remote_repo(['PHYS121'], 'https://cmps-people.ok.ubc.ca/jbobowsk/PHYS_121_Lab/modules'):\n",
    "    import PHYS121"
   ]
  },
  {
   "cell_type": "markdown",
   "id": "e69b2030",
   "metadata": {},
   "source": [
    "***\n",
    "## Introduction:\n",
    "\n",
    "For your 8th and final lab, you will be continuing your investigations of the duality between electricity and magnetism by observing what happens when a magnet slides down a copper plate. You'll be using a free piece of software called **Tracker** in order to quantitatively analyze its motion. Unlike LoggerPro, Tracker is equipped with an **auto-tracker** function - rather than clicking on each and every frame, you will simply set the parameters and hit play. In this Pre-Lab, you will learn how to use Tracker while reviewing the concepts of angular velocity and harmonic motion. \n",
    "\n",
    "First, download [this video](https://cmps-people.ok.ubc.ca/jbobowsk/) of a turntable taken from overhead. Now, recall that in the first two labs for Physics 121 we used the small angle approximation to describe the motion of the pendulum as harmonic. No such approximation is necessary here: for uniform circular motion, the $x$ and $y$ components oscillate exactly harmonically, as the gif below demonstrates.\n",
    "\n",
    "<br>\n",
    "<p>\n",
    "<center>\n",
    "<img src=\"scanim.gif\" width=\"300\"/>\n",
    "<b>Fig. 1: Demonstration of the harmonic oscillation of the $x$ and $y$ components of an object undergoing uniform circular motion. Adapted from <a href=\"https://commons.wikimedia.org/wiki/File:Sine_and_cosine_animation.gif\">Wikimedia Commons</a>.  </b></center>\n",
    "</p>\n",
    "\n",
    "\n",
    "\n",
    "<br>\n",
    "\n",
    "First, you will need to download and install Tracker from [this link](https://physlets.org/tracker/). The program is free, compatible with Windows, Mac, and Linux, and it doesn't require extensive computational resources to run. If you have any misgivings about downloading the program, you're welcome to try using the [online version](https://physlets.org/tracker/trackerJS/index_ff.html), but we've found this to be buggy and more challenging to use than the desktop version.\n",
    "\n",
    "<br>\n",
    "\n",
    "Once you have tracker installed and the video downloaded, follow the procedure below to collect your data.\n"
   ]
  },
  {
   "cell_type": "markdown",
   "id": "ae23f518",
   "metadata": {},
   "source": [
    "1. Import the video to Tracker.\n",
    "<img src=\"https://cmps-people.ok.ubc.ca/jbobowsk/PHYS_121_Lab/Lab8/prelab/import%20video.gif\" width=\"750\"/>\n",
    "***\n",
    "2. Calibrate Tracker. \n",
    "<img src=\"https://cmps-people.ok.ubc.ca/jbobowsk/PHYS_121_Lab/Lab8/prelab/set%20calibration.gif\" width=\"750\"/>\n",
    "***\n",
    "3. Define your x- and y-axes.\n",
    "<img src=\"https://cmps-people.ok.ubc.ca/jbobowsk/PHYS_121_Lab/Lab8/prelab/set%20axes.gif\" width=\"750\"/>\n",
    "***\n",
    "4. Select the video segment to be analyzed so that the turntable begins and ends with the coins aligned along the x-axis.\n",
    "<img src=\"https://cmps-people.ok.ubc.ca/jbobowsk/PHYS_121_Lab/Lab8/prelab/set%20start%20and%20stop.gif\" width=\"750\"/>\n",
    "***\n",
    "5. Collect your data using auto-tracker.\n",
    "<img src=\"https://cmps-people.ok.ubc.ca/jbobowsk/PHYS_121_Lab/Lab8/prelab/autotrack.gif\" width=\"750\"/>\n",
    "***\n",
    "6. Export your data as a .txt file.\n",
    "<img src=\"https://cmps-people.ok.ubc.ca/jbobowsk/PHYS_121_Lab/Lab8/prelab/export%20data.gif\" width=\"750\"/>"
   ]
  },
  {
   "cell_type": "markdown",
   "id": "2237a4dd",
   "metadata": {},
   "source": [
    "The .read_csv() method in Pandas can also load .txt files with comma-separated data. Use the code provided below to import your data into a DataFrame. Ensure that your .txt file is in the appropriate folder (or provide the full filepath)."
   ]
  },
  {
   "cell_type": "code",
   "execution_count": null,
   "id": "e8f29360",
   "metadata": {},
   "outputs": [],
   "source": [
    "df = pd.read_csv(\"filename.txt\", \n",
    "            header = None, \n",
    "            skiprows=3, \n",
    "            names=[\"t\",\"xA\", \"yA\", \"xB\",\"yB\"]\n",
    "           )"
   ]
  },
  {
   "cell_type": "markdown",
   "id": "60d097a9",
   "metadata": {},
   "source": [
    "Great! With (hopefully) minimal effort, we find ourselves with a heap of clean data to analyze.\n",
    "\n"
   ]
  },
  {
   "cell_type": "markdown",
   "id": "80c5e2fd",
   "metadata": {},
   "source": [
    "***\n",
    "**<span style=\"color:blue\">Question 1:</span>**  \n",
    "\n",
    "The first line in the code cell below generates a plot of $x_A(t)$ and $y_A(t)$. Following this example, generate a second plot with $x_A(t)$ and $x_B(t)$."
   ]
  },
  {
   "cell_type": "code",
   "execution_count": null,
   "id": "5e6c29e7",
   "metadata": {},
   "outputs": [],
   "source": [
    "fig = PHYS121.MultiScatter([[df[\"t\"].to_numpy(), df[\"xA\"].to_numpy()], \n",
    "                            [df[\"t\"].to_numpy(), df[\"yA\"].to_numpy()]], \n",
    "                           xlabel = \"time\", \n",
    "                           ylabel = \"position\"\n",
    "                          )"
   ]
  },
  {
   "cell_type": "code",
   "execution_count": null,
   "id": "abfa987b",
   "metadata": {},
   "outputs": [],
   "source": [
    "# Create your second plot here.\n"
   ]
  },
  {
   "cell_type": "markdown",
   "id": "11a2d8e1",
   "metadata": {},
   "source": [
    "**<span style=\"color:blue\">Question 2:</span>**  \n",
    "\n",
    "Use the data you collected to find the radius of the coins' rotation and assign these values to the variabes \"r_A\" and \"r_B\" in the code cell below."
   ]
  },
  {
   "cell_type": "markdown",
   "id": "d43c22b4",
   "metadata": {},
   "source": [
    "***\n",
    "**<span style=\"color:blue\">Answer 2:</span>**\n",
    "\n",
    "[//]: # (Please do not delete this comment or anything above it.  Anything below this comment can be deleted.)  \n",
    "\n"
   ]
  },
  {
   "cell_type": "code",
   "execution_count": null,
   "id": "c014465a",
   "metadata": {},
   "outputs": [],
   "source": []
  },
  {
   "cell_type": "markdown",
   "id": "0f4fea84",
   "metadata": {},
   "source": [
    "**<span style=\"color:blue\">Question 3:</span>**  \n",
    "\n",
    "When we have a constant angular velocity $\\omega$, we can use the formula\n",
    "\n",
    "$$ \\omega = \\frac{\\Delta \\theta}{\\Delta t} $$\n",
    "\n",
    "where $\\Delta \\theta$ is the angle (in radians) that the object rotates through over a period of time $\\Delta t$. So, if the record makes $N$ full turns over the interval $\\Delta t$, we have\n",
    "\n",
    "$$ \\omega = \\frac{2 \\pi N }{\\Delta t} $$\n",
    "\n",
    "Count how many full rotations the coins made over the entire interval you data for and assign that value to the variable $N$ in the code block below. We have calculated the interval $\\Delta t$. Use this variable to calculate $\\omega$."
   ]
  },
  {
   "cell_type": "markdown",
   "id": "5a4a61ee",
   "metadata": {},
   "source": [
    "\n",
    "**<span style=\"color:blue\">Answer 3:</span>**  \n"
   ]
  },
  {
   "cell_type": "code",
   "execution_count": null,
   "id": "e687c08b",
   "metadata": {},
   "outputs": [],
   "source": [
    "N = \n",
    "dt = df.iat[-1,0] - df.iat[0,0]\n",
    "\n",
    "omega = "
   ]
  },
  {
   "cell_type": "markdown",
   "id": "a28d6cee",
   "metadata": {},
   "source": [
    "***\n",
    "**<span style=\"color:blue\">Answer 4:</span>**\n",
    "\n",
    "[//]: # (Please do not delete this comment or anything above it.  Anything below this comment can be deleted.)  \n",
    "\n",
    "Double click this cell and enter your answer here.  When done, hit 'Shift' + 'Enter' to execute the cell.  You may delete this text when entering your answer. \n",
    "***"
   ]
  },
  {
   "cell_type": "markdown",
   "id": "7ba35300",
   "metadata": {},
   "source": [
    "**<span style=\"color:blue\">Question 4:</span>**  \n",
    "\n",
    "Using your value(s) from above, calculate the tangential velocity of each coin **in units of meters per second**. "
   ]
  },
  {
   "cell_type": "markdown",
   "id": "de214045",
   "metadata": {},
   "source": [
    "\n",
    "**<span style=\"color:blue\">Answer 4:</span>**  \n"
   ]
  },
  {
   "cell_type": "code",
   "execution_count": null,
   "id": "6dd41e20",
   "metadata": {},
   "outputs": [],
   "source": [
    "# Tangential velocities:\n",
    "vA = \n",
    "vB = \n",
    "\n",
    "print(f\"Tangential velocity of coin A: {vA} m/s \\nTangential velocity of coin B: {vB} m/s\")"
   ]
  },
  {
   "cell_type": "markdown",
   "id": "b1538997",
   "metadata": {},
   "source": [
    "**Congratulations!** You've just completed the *final* pre-lab of Physics 121! \n",
    "\n",
    "If you're interested in seeing an alternative way to analyze the data, you're encouraged to read through the following, but there won't be any more questions beyond this point.\n",
    "\n",
    "First, since the candles follow circular paths, note that $v_\\perp = \\sqrt{v_x^2 + v_y^2}$. We know that $v_x$ = $dx/dt$, but we can't take a derivative of a discrete set of data. Instead, we use a finite difference formulation. Given a discrete set of times $t_1, t_2, t_3, \\dots$ associated with a discrete set of positions $x_1, x_2, x_3, \\dots$. We know that the average velocity over a time preiod $\\Delta t$ is given by $\\Delta x / \\Delta t$, so we can just take the average velocity over each time step and associate that velocity with the start of the time step:\n",
    "\n",
    "$$ v_x(t_i) = \\frac{x_{i+1} - x_i}{t_{i+1} - t_i} $$\n",
    "\n",
    "If we wanted to be a little more careful, we could associate the velocity above with the midpoint of the time interval:\n",
    "\n",
    "$$ t_i^\\prime = \\left(\\frac{t_{i+1} + t_i}{2}\\right) $$\n",
    "\n",
    "but this isn't terribly necessary here. Execute the cell below to compute these velocities from your data:"
   ]
  },
  {
   "cell_type": "code",
   "execution_count": null,
   "id": "117da70d",
   "metadata": {},
   "outputs": [],
   "source": [
    "# This line converts the DataFrame to an array\n",
    "data = np.transpose(df.to_numpy())\n",
    "\n",
    "# This function returns an array of the difference of adjacent elements in a given array\n",
    "def Delta(arr):\n",
    "    rng = np.arange(0, len(arr) - 1)\n",
    "    return np.array([ arr[l+1] - arr[l] for l in rng ])\n",
    "\n",
    "# We use this function to create arrays of the approximate velocity of the candles over the provided intervals\n",
    "Dt = Delta(data[0])\n",
    "\n",
    "vel_xA = Delta(data[1]) / Dt\n",
    "vel_yA = Delta(data[2]) / Dt\n",
    "vel_xB = Delta(data[3]) / Dt\n",
    "vel_yB = Delta(data[4]) / Dt"
   ]
  },
  {
   "cell_type": "markdown",
   "id": "e2459021",
   "metadata": {},
   "source": [
    "*** \n",
    "\n",
    "Plotting these, we see a few expected features:"
   ]
  },
  {
   "cell_type": "code",
   "execution_count": null,
   "id": "91c5b1a5",
   "metadata": {},
   "outputs": [],
   "source": [
    "fig, axs = plt.subplots(2, 1, figsize=(10, 25))\n",
    "axs[0].plot(v_t[:-1], vel_xA, label = \"$v_{x,A}$\", color = \"red\")\n",
    "axs[0].plot(v_t[:-1], vel_xB, label = \"$v_{x,B}$\", color = \"black\")\n",
    "axs[0].legend(loc='right', bbox_to_anchor=(0.75, 0., 0.4, 0.5), prop={'size': 20})\n",
    "axs[1].plot(v_t[:-1], vel_xA, label = \"$v_{x,A}$\", color = \"red\")\n",
    "axs[1].plot(v_t[:-1], vel_yA, label = \"$v_{y,A}$\", color = \"green\")\n",
    "axs[1].plot(v_t[:-1], v_xA[:-1], label = \"$x_A$\", color = \"black\")\n",
    "axs[1].plot(v_t[:-1], v_yA[:-1], label = \"$y_A$\", color = \"blue\")\n",
    "axs[1].legend(loc='right', bbox_to_anchor=(0.75, 0., 0.4, 0.5), prop={'size': 20})"
   ]
  },
  {
   "cell_type": "markdown",
   "id": "8eccd3d8",
   "metadata": {},
   "source": [
    "Since this isn't an exact calculation of the velocity, we can calculate $\\sqrt{v_x^2 + v_y^2}$ for each time interval and take the average:"
   ]
  },
  {
   "cell_type": "code",
   "execution_count": null,
   "id": "5c637e22",
   "metadata": {},
   "outputs": [],
   "source": [
    "vTA = np.average(np.sqrt( vel_xA**2 + vel_yA**2 )) / 100\n",
    "vTB = np.average(np.sqrt( vel_xB**2 + vel_yB**2 )) / 100\n",
    "\n",
    "print(f\"Tangential velocity of object A: {vTA} m/s \\nTangential velocity of object B: {vTB} m/s\")"
   ]
  }
 ],
 "metadata": {
  "kernelspec": {
   "display_name": "Python 3 (ipykernel)",
   "language": "python",
   "name": "python3"
  },
  "language_info": {
   "codemirror_mode": {
    "name": "ipython",
    "version": 3
   },
   "file_extension": ".py",
   "mimetype": "text/x-python",
   "name": "python",
   "nbconvert_exporter": "python",
   "pygments_lexer": "ipython3",
   "version": "3.8.8"
  }
 },
 "nbformat": 4,
 "nbformat_minor": 5
}
