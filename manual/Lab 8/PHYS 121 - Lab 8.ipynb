{
 "cells": [
  {
   "cell_type": "markdown",
   "id": "3ee37d80",
   "metadata": {},
   "source": [
    "# <div style=\"background-color:rgba(204, 229, 255, 0.5); text-align:center; vertical-align: middle; padding:40px 0; margin-top:30px\"><span style=\"color:rgba(0, 76, 153, 1);\">PHYS 121 Lab #8</span></div>\n",
    "# Faraday's Law \\& Eddy Currents"
   ]
  },
  {
   "cell_type": "markdown",
   "id": "1f6347ee",
   "metadata": {},
   "source": [
    "***\n",
    "## Learning Objectives:\n",
    "* <b><span style=\"color:rgba(0, 153, 76, 1);\"> Gain an understanding of the duality between magnetism and electricity as described by Ampère's law and Faraday's law.  </span></b>\n",
    "* <b><span style=\"color:rgba(0, 153, 76, 1);\"> Practice using the right hand rule to predict the outcome of experiments involving the electromagnetic force.   </span></b>"
   ]
  },
  {
   "cell_type": "markdown",
   "id": "913713bb",
   "metadata": {},
   "source": [
    "***\n",
    "## Install & Import Required Packages:\n",
    "Before starting, place your cursor in the code cell below and press 'Shift' + 'Enter'.  If the 'Check()' function reports that \"All packages already installed\", then proceed by first executing the second code cell that begins with: \n",
    "``` python\n",
    "# Import the required modules.\n",
    "```\n",
    "\n",
    "If 'Check()' reports that some new packages have been installed, then go to File$\\to$Log Out to complete log out of this notebook.  Then log in and execute the cell below again."
   ]
  },
  {
   "cell_type": "code",
   "execution_count": null,
   "id": "ba20181d",
   "metadata": {},
   "outputs": [],
   "source": [
    "import installer\n",
    "installer.Check()"
   ]
  },
  {
   "cell_type": "code",
   "execution_count": 1,
   "id": "587c368b",
   "metadata": {},
   "outputs": [],
   "source": [
    "# Import required modules\n",
    "import numpy as np\n",
    "import pandas as pd \n",
    "import matplotlib.pyplot as plt\n",
    "import httpimport\n",
    "import uncertainties\n",
    "from uncertainties import ufloat\n",
    "from uncertainties.umath import * \n",
    "with httpimport.remote_repo(['data_entry'], 'https://cmps-people.ok.ubc.ca/jbobowsk/PHYS_121_Lab/modules'):\n",
    "    import data_entry\n",
    "with httpimport.remote_repo(['PHYS121'], 'https://cmps-people.ok.ubc.ca/jbobowsk/PHYS_121_Lab/modules'):\n",
    "    import PHYS121"
   ]
  },
  {
   "cell_type": "markdown",
   "id": "d9a149c7",
   "metadata": {},
   "source": [
    "***\n",
    "## Introduction:\n",
    "\n",
    "Depending on where you are in the lecture material, the following may be a review, or it may all be completely new to you. In either case, you should make an effort to understand it at least qualitatively. Electromagnetism can be unintuitive at times - this lab will help demonstrate a few principles from electromagnetism so that even if you think they are *strange*, you can at least trust that they are *true*.\n",
    "\n",
    "Recall from last time that **Ampère's law** describes how electrical currents can produce magnetic fields. **Faraday's law** describes a complementary process by which magnetic fields can produce electrical currents. Mathematically, this is often expressed as follows:\n",
    "\n",
    "\\begin{equation}\n",
    "\\mathcal{E} = -\\frac{d\\Phi}{dt}\n",
    "\\label{eq:Bmag} \\tag{1}\n",
    "\\end{equation}\n",
    "\n",
    "where $\\Phi$ is the **magnetic flux** through a closed conducting loop and $\\mathcal{E}$ is the **electromotive force** or **emf** produced in the loop. \n",
    "\n",
    "The magnetic flux through a surface is the component of the magnetic field which is perpendicular to the surface. For general flat surfaces, $\\Phi = BS\\cos\\varphi$, where $\\varphi$ is the angle between the field and the vector normal to the surface. In Figure 1, we see 3 surfaces with the same surface area $S$ experiencing an identical uniform magnetic field $\\vec{B}$. \n",
    "* Surface A is perpendicular to the field, so $\\cos 0 = 1$ gives flux $\\Phi_A = BS$.\n",
    "* Surface B is at an angle $\\theta$ to the field, so $\\Phi_B = BS\\cos\\theta = BS_{\\perp}$, where $S_{\\perp}$ is the area of the projected surface shown above.\n",
    "* Surface C is parallel with the field, so its normal vector is perpendicular to the field. Since $\\cos 90 = 0$,  $\\Phi_C = 0$\n",
    "\n",
    "<br>\n",
    "<p>\n",
    "<center>\n",
    "<img src=\"flux.png\" style=\"width: 80%\" />\n",
    "<b>Fig. 1:  Although the surfaces A, B and C experience the same uniform magnetic field $\\vec{B}$ and have the same surface area $S$, the flux $\\Phi$ through each depends on their orientation with respect to the field. </b></center>\n",
    "</p>\n",
    "\n",
    "Now, if these surfaces were bounded by conducting loops, we would *still not* expect a current to be generated. This can be seen by looking at Eq. 1. The emf (which would produce a current) depends on the *time-rate of change* of the flux, not the flux itself. So if these surfaces were fixed in space and the field were constant, there would be no emf and hence no induced electrical current.\n",
    "\n",
    "From the example in Fig. 1, we see that the flux $\\Phi$ through a surface depends on the angle of that surface relative to the field. So one way to generate a current is to rotate a loop through a magnetic field. One could also rotate a set of permanent magnets in a stationary loop and obtain the same results. Incidentally, this is the basic idea behind many electrical generators: energy supplied by some mechanical energy (eg. water flowing under the force of gravity) or chemical energy (the combustion of fuel) drives a rotating set of permanent magnets (the rotor) which is housed in stationary conducting loops (the stator). By producing an emf, generators effectively convert transform different types of energy into electrical energy.\n",
    "\n",
    "You should also make note of the negative sign in Eq. 1. This detail is often called **Lenz's Law**, frequently described by David J. Griffiths' quip \"nature abhors a change in flux.\" A flow-chart might help you to understand this:\n",
    "\n",
    "<br>\n",
    "<p>\n",
    "<center>\n",
    "<img src=\"flowchart.png\" style=\"width: 20%\" />\n",
    "</p>"
   ]
  },
  {
   "cell_type": "markdown",
   "id": "13d082c3",
   "metadata": {},
   "source": [
    "# <div style=\"background-color:rgba(255, 204, 255, 0.5); text-align:center; vertical-align: middle; padding:40px 0; margin-top:30px\"><span style=\"color:rgba(102, 0, 204, 1);\">Part 1 - Magnetic Braking - Data Collection ()</span></div>"
   ]
  },
  {
   "cell_type": "markdown",
   "id": "1ee3c342",
   "metadata": {},
   "source": [
    "In the first part of this lab, you will explore one implication of Faraday's Law of induction. Consider the situation in Figure 2. A magnet slides along a copper plate at velocity $\\vec{v}$. Since copper is a conductive material, any circle embedded in a copper sheet can be considered a conducting loop. Observe the orange loops in Fig. 2: on the left, the loop that the magnet is \"leaving behind\" experiences a decreasing magnetic flux, and so will produce a current in the indicated direction. On the right, the loop that the magnet is \"approaching\" experiences an increasing magnetic flux, creating a current in the opposite direction. These are called **eddy currents**.\n",
    "\n",
    "<br>\n",
    "<p>\n",
    "<center>\n",
    "<img src=\"eddy.png\" style=\"width: 65%\" />\n",
    "<b>Fig. 2: Schematic diagram of the eddy currents and resulting magnetic fields produced by a magnet sliding along a copper sheet.  </b></center>\n",
    "</p>\n",
    "\n",
    "The resulting force acts opposite the direction of motion in a phenomenon known as **magnetic braking**. (Try running the magnet down the ramp by hand, you should feel the resistance!) We'll describe the total drag force on the magnet by the sum of magnetic braking and the more familiar kinetic friction. Since the rate of change of flux through a conducting loop will be proportional to the magnet's velocity, we write our total drag force as\n",
    "\n",
    "\\begin{equation}\n",
    "F_{d} = -bv-\\mu N\n",
    "\\label{eq:Fd} \\tag{2}\n",
    "\\end{equation}\n",
    "\n",
    "where $v$ is the velocity, $b$ is a constant of proportionality, $\\mu$ is the coefficient of mechanical friction, and $N$ is the magnitude of the normal force. We can draw a free body diagram accounting for all of the major forces involved (Fig. 3) and solve our resulting equations of motion. If $s$ is the position of the magnet measured along the length of the ramp, we find that the position as a function of time $t$ is given by\n",
    "\n",
    "\\begin{equation}\n",
    "s(t) = v_T\\tau\\left( \\frac{t}{\\tau} - 1 + \\exp \\left( -\\frac{t}{\\tau} \\right)\\right)\n",
    "\\label{eq:st} \\tag{3}\n",
    "\\end{equation}\n",
    "\n",
    "where $v_T$ is the the **terminal velocity** and $\\tau$ is the **time constant**:\n",
    "\n",
    "\\begin{equation}\n",
    "v_T = \\frac{mg\\sin\\theta - \\mu mg\\cos\\theta}{b} \\ \\ \\ \\ \\ \\ \\  \\ \\ \\ \\ \\ \\  \\ \\ \\ \\ \\ \\ \\  \\ \\ \\ \\ \\ \\ \\ \\ \\tau = \\frac{m}{b}\n",
    "\\label{eq:vt} \\tag{4}\n",
    "\\end{equation}\n",
    "\n",
    "\n",
    "<br>\n",
    "<p>\n",
    "<center>\n",
    "<img src=\"fbd.png\" style=\"width: 65%\" />\n",
    "<b>Fig. 3: Free-body diagram for the magnet sliding down a copper ramp.  </b></center>\n",
    "</p>"
   ]
  },
  {
   "cell_type": "markdown",
   "id": "ffee6b08",
   "metadata": {},
   "source": [
    "***\n",
    "**<span style=\"color:blue\">Question 1.1:</span>**  \n",
    "\n",
    "What would you expect a graph of $s(t)$ to look like while the magnet is *approaching* terminal velocity? If you're having trouble working this out from Eq.3, use your intuition, and then refer back to the equation to make your statement more precise."
   ]
  },
  {
   "cell_type": "markdown",
   "id": "8413c457",
   "metadata": {},
   "source": [
    "***\n",
    "**<span style=\"color:blue\">Answer 1.1:</span>**\n",
    "\n",
    "[//]: # (Please do not delete this comment or anything above it.  Anything below this comment can be deleted.)  \n",
    "\n",
    "Double click this cell and enter your text here.  When done, hit 'Shift' + 'Enter' to execute the cell.  You may delete this text when entering your answer. \n",
    "***"
   ]
  },
  {
   "cell_type": "markdown",
   "id": "1903b1f3",
   "metadata": {},
   "source": [
    "**<span style=\"color:blue\">Question 1.2:</span>**  \n",
    "\n",
    "Describe the expected shape of the graph of $s(t)$ *after* the magnet has reached terminal velocity."
   ]
  },
  {
   "cell_type": "markdown",
   "id": "9a6a095a",
   "metadata": {},
   "source": [
    "***\n",
    "**<span style=\"color:blue\">Answer 1.2:</span>**\n",
    "\n",
    "[//]: # (Please do not delete this comment or anything above it.  Anything below this comment can be deleted.)  \n",
    "\n",
    "Double click this cell and enter your text here.  When done, hit 'Shift' + 'Enter' to execute the cell.  You may delete this text when entering your answer. \n",
    "***"
   ]
  },
  {
   "cell_type": "markdown",
   "id": "5c8bee8d",
   "metadata": {},
   "source": [
    "On your table, you'll find magnet and a ramp with three copper tracks. Theres is also enough space between two of the tracks to slide the magnet freely down the track without any magnetic braking. Referring to Figure 4, these tracks are:\n",
    "* A ~ 0.006\" copper strip\n",
    "* B ~ Plastic track\n",
    "* C ~ 0.021\" copper strip\n",
    "* D ~ 0.0625\" (1/16\") copper strip\n",
    "\n",
    "\n",
    "\n",
    "<br>\n",
    "<p>\n",
    "<center>\n",
    "<img src=\"ramps.png\" style=\"width: 65%\" />\n",
    "<b>Fig. 4: Materials for Part 1 of this lab. Left: top and bottom of the permanent magnet. The top has a dot to facilitate video tracking, and the bottom is coated in teflon to reduce kinetic friction. Right: ramp with four tracks labelled A-D, described above.  </b></center>\n",
    "</p>"
   ]
  },
  {
   "cell_type": "markdown",
   "id": "dec79c85",
   "metadata": {},
   "source": [
    "**<span style=\"color:blue\">Question 1.3:</span>**  \n",
    "\n",
    "We have introduced an unknown parameter $b$ into our drag force equation. This will scale the strength of magnetic braking - if $b$ is larger, the effect will be stronger. From largest to smallest, rank tracks A through D in terms of the expected relative values of $b$. Briefly explain your choice."
   ]
  },
  {
   "cell_type": "markdown",
   "id": "14ae02d4",
   "metadata": {},
   "source": [
    "***\n",
    "**<span style=\"color:blue\">Answer 1.3:</span>**\n",
    "\n",
    "[//]: # (Please do not delete this comment or anything above it.  Anything below this comment can be deleted.)  \n",
    "\n",
    "Double click this cell and enter your text here.  When done, hit 'Shift' + 'Enter' to execute the cell.  You may delete this text when entering your answer. \n",
    "***"
   ]
  },
  {
   "cell_type": "markdown",
   "id": "efe905b6",
   "metadata": {},
   "source": [
    "Using the provided phone, you will record the magnet sliding down each of these tracks. **In order to accurately track the magnet's motion, you will need to adjust the camera to its slow motion setting.** \n",
    "\n",
    "<br>\n",
    "<p>\n",
    "<center>\n",
    "<img src=\"slomo.jpg\" style=\"width: 25%\" />\n",
    "<b>Fig. 5: With the camera app opened, scroll to the \"More\" tab to switch to the slow motion setting.  </b></center>\n",
    "</p>\n",
    "\n",
    "Before filming, ensure that the phone is oriented parallel to the ramp and that you've maximized the region of the ramp in view of the camera. You wil record 4 separate videos and then upload them to the desktop computer at your station. The following steps will guide you through using Tracker to collect data from your videos. \n",
    "\n",
    "1. Move your videos from the DCIM folder to the home drive (H:)\n",
    "2. Open Tracker. For each of your recordings, complete steps 4 - 11 below\n",
    "3. Click File -> Import -> Video... and navigate to the appropriate folder to import your video\n",
    "4. The video will probably be oriented in the wrong way. To fix this, Right-click on video -> Filters -> New -> Rotate \n",
    "5. To set the frame-rate, click Video -> Clip Settings... and change the framerate for 30FPS to 240FPS.\n",
    "6. Find the first frame of the video after the magnet was released. You can click and drag the scrollbar or use Ctrl+mouse wheel to move through the frames. Take note of the frame number, and then move the left-hand black arrow to this frame. \n",
    "<br>\n",
    "<p>\n",
    "<center>\n",
    "<img src=\"scrollbar.png\" style=\"width: 60%\" />\n",
    "    <br>\n",
    "<b>Fig. 6: Scrollbar before and after steps 6 and 7. The black arrows on the bottom bound the segment that you want to measure.  </b></center>\n",
    "</p>\n",
    "7. Do the same thing for the last frame before the magnet makes contact with the bottom of the ramp (or goes out of view) and the right-hand black arrow. Now Tracker will only consider the selected set of frames. Click the black return arrow on the left side of the scroll bar to return to the first marked frame.\n",
    "<br>\n",
    "<p>\n",
    "<center>\n",
    "<img src=\"toolbar.png\" style=\"width: 60%\" />\n",
    "    <br>\n",
    "<b>Fig. 7: Guide to the icons used in steps 8, 9, and 10.  </b></center>\n",
    "</p>\n",
    "8. Place your axes so that the origin is at the centre of your magnet in the first frame. Rotate the axes so that the magnet will be sliding in the positive x-direction.\n",
    "9. To set the length scale, press the calibration icon, then New -> Calibration Stick. Click and drag the calibration stick to align it with the orange ruler on your ramp and set the distance to 0.150m. (For added precision, use the mouse wheel to zoom in and out)\n",
    "<br>\n",
    "<p>\n",
    "<center>\n",
    "<img src=\"autotracker.png\" style=\"width: 60%\" />\n",
    "    <br>\n",
    "<b>Fig. 8: To set up the autotracker, you'll need to define both the template and the search region.  </b></center>\n",
    "</p>\n",
    "10. Now set up your tracker. Click Track -> New -> Point Mass and then open the auto-tracker. On the first frame, Shift-Ctrl-Click the centre of your magnet. The inner circle is the \"template\" - this is what the auto-tracker will look for as the frames advance. It should be large enough to show a clear distinction between the black dot and the pink tape. The outer square is the area in which the auto-tracker will look for a match to the initial template. If your magnet is going very fast by the end of the video, or if the lighting changes abruptly, autotracker may lose sight of the dot. If the suggested mark is accurate, you can press \"Accept\" to continue. If it isn't, you can manually mark the problem frames using Shit+Click or define a new template entirely using Shift+Ctrl+Click. Another option is to increase the \"Evolve\" value: Tracker updates the template after each new frame by superposing the old template with the new matches. By increasing \"Evolve\", you permit more drastic updates. Be careful not to do this unless absolutely necessary, as it may cause inaccuracies. \n",
    "11. Click File -> Export -> Data... and change \"Number Format\" to \"Full Precision\", \"Delimiter\" to \"Comma\", and \"Columns\" to \"t,x\" (*make sure you had your axes set appropriately at the beginning of the video! It's not too late to rotate them so that the trajectory is along the positive x-axis*). Once you've exported the .txt file, move it to the same folder as this notebook.\n",
    "12. Click File -> New Tab and repeat.\n",
    "\n"
   ]
  },
  {
   "cell_type": "markdown",
   "id": "6fa21778",
   "metadata": {},
   "source": [
    "# <div style=\"background-color:rgba(255, 204, 255, 0.5); text-align:center; vertical-align: middle; padding:40px 0; margin-top:30px\"><span style=\"color:rgba(102, 0, 204, 1);\">Part 2 - Magnetic Braking - Data Analysis ()</span></div>"
   ]
  },
  {
   "cell_type": "markdown",
   "id": "80cd9475",
   "metadata": {},
   "source": [
    "The first cell below contains a template for loading your .txt file into a DataFrame. Follow this template to upload the rest of your data."
   ]
  },
  {
   "cell_type": "code",
   "execution_count": 4,
   "id": "d50ad5de",
   "metadata": {},
   "outputs": [],
   "source": [
    "# Import data for Track A\n",
    "trkA = pd.read_csv(\"trkA.txt\", skiprows=2, header = None, names=[\"t\",\"x\"])"
   ]
  },
  {
   "cell_type": "code",
   "execution_count": null,
   "id": "8068d877",
   "metadata": {},
   "outputs": [],
   "source": []
  },
  {
   "cell_type": "code",
   "execution_count": null,
   "id": "a95796df",
   "metadata": {},
   "outputs": [],
   "source": []
  },
  {
   "cell_type": "code",
   "execution_count": null,
   "id": "f2673f7c",
   "metadata": {},
   "outputs": [],
   "source": []
  },
  {
   "cell_type": "markdown",
   "id": "ef0e47eb",
   "metadata": {},
   "source": [
    "Consider Eq. 3 once more. It shows exponential behaviour in the approach to terminal velocity:\n",
    "\n",
    "\\begin{equation}\n",
    "s(t) = v_T\\tau\\left( \\frac{t}{\\tau} - 1 + \\exp ( -t/\\tau ) \\right)\n",
    "\\label{eq:stag} \\tag{5}\n",
    "\\end{equation}\n",
    "\n",
    "It's common practice to consider *limiting cases*. What happens when our parameter $\\tau = m/b$ is very large or very small? Recall that\n",
    "\n",
    "\\begin{equation}\n",
    "v_T  = \\tau g\\left( \\sin\\theta - \\mu \\cos\\theta \\right) \n",
    "\\end{equation}\n",
    "\n",
    "In the limit $\\tau \\to \\infty$ ($m >> b$ or $b \\to 0$) it can be shown that the behaviour is quadratic, which is what we expect for an object experiencing the force of gravity alone:\n",
    "\n",
    "\\begin{equation}\n",
    "\\lim\\limits_{\\tau\\to\\infty}s(t) = \\frac{1}{2} gt^2 \\left( \\sin \\theta - \\mu \\cos \\theta \\right)\n",
    "\\label{eq:b0} \\tag{6}\n",
    "\\end{equation}\n",
    "\n",
    "At the opposite extreme, as $\\tau \\to 0$ ($b >> m$ or $b \\to \\infty$) we see that $s(t)$ is linear, suggesting that terminal velocity is reached almost instantly when the magnetic braking is strong relative to the force of gravity:\n",
    "\n",
    "\\begin{equation}\n",
    "\\lim\\limits_{\\tau\\to 0}s(t) = v_Tt\n",
    "\\label{eq:blrg} \\tag{7}\n",
    "\\end{equation}"
   ]
  },
  {
   "cell_type": "markdown",
   "id": "727ee0bc",
   "metadata": {},
   "source": [
    "**<span style=\"color:blue\">Question 2.1:</span>**  \n",
    "Answer the following questions based on the discussion above and your observations during the experiment. As always, explain your answers. \n",
    "\n",
    "\n",
    "&nbsp;&nbsp; (a) For which tracks (if any) do you expect Eq. 7 to be appropriate? \n",
    " \n",
    "&nbsp;&nbsp; (b) For which tracks (if any) do you expect Eq. 6 to be appropriate?\n",
    "\n",
    "&nbsp;&nbsp; (c) For which tracks (if any) do you expect *neither* approximation to be appropriate?"
   ]
  },
  {
   "cell_type": "markdown",
   "id": "9aee1139",
   "metadata": {},
   "source": [
    "***\n",
    "**<span style=\"color:blue\">Answer 2.1:</span>**\n",
    "\n",
    "[//]: # (Please do not delete this comment or anything above it.  Anything below this comment can be deleted.)  \n",
    "\n",
    "Double click this cell and enter your text here.  When done, hit 'Shift' + 'Enter' to execute the cell.  You may delete this text when entering your answer. \n",
    "***"
   ]
  },
  {
   "cell_type": "markdown",
   "id": "ada1484a",
   "metadata": {},
   "source": [
    "The following code cell contains three templates for you to use: a linear fit, a power law fit, and a fit designed specifically for Eq. 5. Remember that these functions accept arrays as data, so for each of these functions you will need to use the .to_numpy() method. "
   ]
  },
  {
   "cell_type": "code",
   "execution_count": null,
   "id": "997f1389",
   "metadata": {},
   "outputs": [],
   "source": [
    "# Linear fit template. \n",
    "m, b, dm, db, fig = PHYS121.LinearFit(xdata, ydata, xlabel = 'x-axis', ylabel = 'y-axis', xUnits = '', yUnits = '')\n",
    "\n",
    "# Power law fit template.\n",
    "A, N, C, dA, dN, dC, fig = PHYS121.PowerLaw(xdata, ydata, xlabel = 'x-axis', ylabel = 'y-axis', xUnits = '', yUnits = '')\n",
    "\n",
    "# Eq. 5 fit template.\n",
    "v_T, tau, dv_T, dtau, fig = PHYS121.Braking(xdata, ydata, xlabel = 'x-axis', ylabel = 'y-axis', xUnits = '', yUnits = '')"
   ]
  },
  {
   "cell_type": "markdown",
   "id": "c09c2b8d",
   "metadata": {},
   "source": [
    "**<span style=\"color:blue\">Question 2.2:</span>**  \n",
    "\n",
    "Four code cells and four markdown cells have been provided below. Use the templates to perform a fit for each of your four datasets, choosing appropriate units and axis labels. Comment on each of the results. You're welcome to try multiple fits on a dataset and take the one that provides the *simplest* result without sacrificing accuracy (after all, one can always make a fit better by introducing more parameters, but that isn't always desirable!).  If you find that your results contradict your answers from Question 2.1, comment on this fact in the provided markdown box: you won't be docked marks for realizing and acknowledging that your initial assumption was incorrect - this is simply part of the process."
   ]
  },
  {
   "cell_type": "code",
   "execution_count": null,
   "id": "3070ae28",
   "metadata": {},
   "outputs": [],
   "source": [
    "# Track A \n"
   ]
  },
  {
   "cell_type": "markdown",
   "id": "4d55ef25",
   "metadata": {},
   "source": [
    "***\n",
    "**<span style=\"color:blue\">Answer 2.2(A):</span>** \n",
    "\n",
    "[//]: # (Please do not delete this comment or anything above it.  Anything below this comment can be deleted.)  \n",
    "\n",
    "Double click this cell to comment on your results.\n",
    "***"
   ]
  },
  {
   "cell_type": "code",
   "execution_count": null,
   "id": "b4e1a806",
   "metadata": {},
   "outputs": [],
   "source": [
    "# Track B\n"
   ]
  },
  {
   "cell_type": "markdown",
   "id": "a3e3987f",
   "metadata": {},
   "source": [
    "***\n",
    "**<span style=\"color:blue\">Answer 2.2(B):</span>**\n",
    "\n",
    "[//]: # (Please do not delete this comment or anything above it.  Anything below this comment can be deleted.)  \n",
    "\n",
    "Double click this cell to comment on your results.\n",
    "***"
   ]
  },
  {
   "cell_type": "code",
   "execution_count": null,
   "id": "9ddc5be2",
   "metadata": {},
   "outputs": [],
   "source": [
    "# Track C\n"
   ]
  },
  {
   "cell_type": "markdown",
   "id": "b8956c2e",
   "metadata": {},
   "source": [
    "***\n",
    "**<span style=\"color:blue\">Answer 2.2(C):</span>**\n",
    "\n",
    "[//]: # (Please do not delete this comment or anything above it.  Anything below this comment can be deleted.)  \n",
    "\n",
    "Double click this cell to comment on your results.\n",
    "***"
   ]
  },
  {
   "cell_type": "code",
   "execution_count": null,
   "id": "4b919939",
   "metadata": {},
   "outputs": [],
   "source": [
    "# Track D\n"
   ]
  },
  {
   "cell_type": "markdown",
   "id": "1b765dcb",
   "metadata": {},
   "source": [
    "***\n",
    "**<span style=\"color:blue\">Answer 2.2(D):</span>**\n",
    "\n",
    "[//]: # (Please do not delete this comment or anything above it.  Anything below this comment can be deleted.)  \n",
    "\n",
    "Double click this cell to comment on your results.\n",
    "***"
   ]
  },
  {
   "cell_type": "markdown",
   "id": "4a415298",
   "metadata": {},
   "source": [
    "**<span style=\"color:blue\">Question 2.3:</span>**  \n",
    "\n",
    "Based on your results, what can you say about the relative value of $b$ for each track? How does this compare to your answer from Question 1.3?"
   ]
  },
  {
   "cell_type": "markdown",
   "id": "3dd7c49f",
   "metadata": {},
   "source": [
    "***\n",
    "**<span style=\"color:blue\">Answer 2.3:</span>**\n",
    "\n",
    "[//]: # (Please do not delete this comment or anything above it.  Anything below this comment can be deleted.)  \n",
    "\n",
    "Double click this cell and enter your text here.  When done, hit 'Shift' + 'Enter' to execute the cell.  You may delete this text when entering your answer. \n",
    "***"
   ]
  },
  {
   "cell_type": "markdown",
   "id": "f6ff1c74",
   "metadata": {},
   "source": [
    "# <div style=\"background-color:rgba(255, 204, 255, 0.5); text-align:center; vertical-align: middle; padding:40px 0; margin-top:30px\"><span style=\"color:rgba(102, 0, 204, 1);\">Part 3 - Independent Investigation ()</span></div>"
   ]
  },
  {
   "cell_type": "markdown",
   "id": "30d80601",
   "metadata": {},
   "source": [
    "In this section, you and your partner will continue your investigation of magnetic braking independently. This is an opportunity to try to answer a nagging question you may have had while collecting data or to carry the analysis of your data forward. You might even just try something novel and attempt to interpret the results.\n",
    "\n",
    "You might choose to\n",
    "\n",
    "* collect more data by modifying other experimental parameters (such as $\\theta$) and then perform the appropriate fits in Python to help you interpret your results\n",
    "* perform additional analysis on the data you've already collected -- You might consider the equations for $s(t)$ and ask yourself what additional information you would need to determine numerical values for quantities of interest such as $\\mu$ or $b$\n",
    "* do something else entirely!\n",
    "\n",
    "You must clearly explain your work and it should contain both qualitative and quantitative elements. Marks will be based on completion and effort. To help guide you, Part 3 has been broken into 3 subsections. Insert as many markdown and code cells as you need."
   ]
  },
  {
   "cell_type": "markdown",
   "id": "941794d8",
   "metadata": {},
   "source": [
    "---\n",
    "## Description of investigation\n",
    "\n",
    "Describe briefly (but specifically) what you will be doing and explain what you expect to find. \n",
    "\n",
    "<br>\n",
    "<br>\n",
    "<br>"
   ]
  },
  {
   "cell_type": "markdown",
   "id": "931c4692",
   "metadata": {},
   "source": [
    "---\n",
    "## Analysis / Results \n",
    "\n",
    "Perform your analysis and report your final results here. \n",
    "\n",
    "<br>\n",
    "<br>\n",
    "<br>"
   ]
  },
  {
   "cell_type": "markdown",
   "id": "5cf1d801",
   "metadata": {},
   "source": [
    "---\n",
    "## Conclusions\n",
    "\n",
    "Summarize the results of your investigation and comment on the results.\n",
    "\n",
    "<br>\n",
    "<br>\n",
    "<br>"
   ]
  },
  {
   "cell_type": "markdown",
   "id": "481118c2",
   "metadata": {},
   "source": [
    "# <div style=\"background-color:rgba(255, 204, 255, 0.5); text-align:center; vertical-align: middle; padding:40px 0; margin-top:30px\"><span style=\"color:rgba(102, 0, 204, 1);\">Part 4 - Cathode Ray Tubes ()</span></div>"
   ]
  },
  {
   "cell_type": "markdown",
   "id": "3048ea37",
   "metadata": {},
   "source": [
    "Prior to the invention of liquid crystal displays (LCDs), **cathode ray tubes** (or **CRT**s) were the primary component in television sets. These simple devices were once ubiquitous - in fact, the first invention that might be recognized as a video game was the *cathode ray amusement device*, [patented in 1948 by Thomas Goldsmith](https://www.popularmechanics.com/culture/gaming/a20129/the-very-first-video-game/). CRTs also have a profound legacy within physics -- experiments with cathode ray tubes led to the 1897 discovery of the electron by JJ Thomson. This discovery and a few other puzzling experimental and theoretical developments from the late 19th century would eventually culminate in the quantum revolution of the 1920s. \n",
    "\n",
    "Figure 5 shows a simplified diagram of a cathode ray tube. A tungsten heating element (much like the filament of an incandescent lightbulb) is used to heat up a nearby cathode, typically made from barium carbonate. A voltage source creates a slight excess of electrons in the cathode. Their kinetic energy increases with temperature until the most energetic electrons are released from the cathode in a process called **thermionic emission**. Any change in the charge of the cathode from the emission of electrons is effectively neutralized by the voltage source.\n",
    "\n",
    "The emitted cloud of electrons is concentrated into a beam and accelerated by an electric field. Magnetic fields established by deflecting coils may be used to deflect the beam as it is fired towards a phosphorescent screen which begins to glow a dull green. \n",
    "\n",
    "\n",
    "<br>\n",
    "<p>\n",
    "<center>\n",
    "<img src=\"crt.png\" style=\"width: 65%\" />\n",
    "<b>Fig. 9: Simplified diagram of a cathode ray tube. Note that phosphorence is the same phenomenon exploited by glow-in-the-dark materials.  </b></center>\n",
    "</p>"
   ]
  },
  {
   "cell_type": "markdown",
   "id": "8dc9beb4",
   "metadata": {},
   "source": [
    "There will be stations in the lab room with CRTs, solenoids, and bar magnets. You are free to experiment with these, and you should attempt to predict what will happen before you try different things. Recall that\n",
    "\n",
    "\\begin{equation}\n",
    "\\vec{F}_B = q \\vec{v} \\times \\vec{B} \n",
    "\\label{eq:force} \\tag{8}\n",
    "\\end{equation}\n",
    "\n",
    "for a charge $q$ moving with velocity $\\vec{v}$ through a magnetic field $\\vec{B}$. Recall also that the **right-hand rule** tells you how to determine the direction of the cross product of two vectors:\n",
    "\n",
    "<br>\n",
    "<p>\n",
    "<center>\n",
    "<img src=\"rhr.png\" style=\"width: 35%\" />\n",
    "<b>Fig. 10: The right-hand rule for determining a cross product of two vectors. From <a href=\"https://commons.wikimedia.org/wiki/File:Right_hand_rule_cross_product.svg\">Wikimedia Commons</a>, licenced under <a href=\"https://creativecommons.org/licenses/by-sa/3.0/legalcode\" rel=\"license\">CC BY-SA 3.0</a>.  </b></center>\n",
    "</p>\n",
    "\n",
    "\n",
    "The following questions are purely qualitative and require no calculations, but you still must explain as specifically as possible *why* one would expect the observed behaviour. "
   ]
  },
  {
   "cell_type": "markdown",
   "id": "a96ef897",
   "metadata": {},
   "source": [
    "**<span style=\"color:blue\">Question 4.1:</span>**  \n",
    "\n",
    "Bring the bar magnet towards the CRT as shown:\n",
    "\n",
    "<br>\n",
    "<p>\n",
    "<center>\n",
    "<img src=\"crtmag1.png\" style=\"width: 19%\" />\n",
    "</center>\n",
    "</p>\n",
    "\n",
    "What (if anything) will happen to the beam of electrons, as shown by the dot on the phosphorescent screen?"
   ]
  },
  {
   "cell_type": "markdown",
   "id": "a95f3041",
   "metadata": {},
   "source": [
    "***\n",
    "**<span style=\"color:blue\">Answer 4.1:</span>**\n",
    "\n",
    "[//]: # (Please do not delete this comment or anything above it.  Anything below this comment can be deleted.)  \n",
    "\n",
    "Double click this cell and enter your text here.  When done, hit 'Shift' + 'Enter' to execute the cell.  You may delete this text when entering your answer. \n",
    "***"
   ]
  },
  {
   "cell_type": "markdown",
   "id": "12efcc5b",
   "metadata": {},
   "source": [
    "**<span style=\"color:blue\">Question 4.2:</span>**  \n",
    "\n",
    "<br>\n",
    "<p>\n",
    "<center>\n",
    "<img src=\"crtmag2.png\" style=\"width: 25%\" />\n",
    "</center>\n",
    "</p>\n",
    "\n",
    "If you bring the bar magnet in from the side (as in the figure above) what happens? (Hint: try picturing the magnetic field lines around the bar magnet) "
   ]
  },
  {
   "cell_type": "markdown",
   "id": "a6dc1a88",
   "metadata": {},
   "source": [
    "***\n",
    "**<span style=\"color:blue\">Answer 4.2:</span>**\n",
    "\n",
    "[//]: # (Please do not delete this comment or anything above it.  Anything below this comment can be deleted.)  \n",
    "\n",
    "Double click this cell and enter your text here.  When done, hit 'Shift' + 'Enter' to execute the cell.  You may delete this text when entering your answer. \n",
    "***"
   ]
  },
  {
   "cell_type": "markdown",
   "id": "e11e95b8",
   "metadata": {},
   "source": [
    "**<span style=\"color:blue\">Question 4.3:</span>**  \n",
    "\n",
    "Now consider the solenoids on either side of the CRT. Take note of how they are plugged into the power source and determine the direction of the current. Given what you know about the magnetic field produced by a solenoid, in which direction would the magnetic field point if you were to turn on the current?"
   ]
  },
  {
   "cell_type": "markdown",
   "id": "c26d644d",
   "metadata": {},
   "source": [
    "***\n",
    "**<span style=\"color:blue\">Answer 4.3:</span>**\n",
    "\n",
    "[//]: # (Please do not delete this comment or anything above it.  Anything below this comment can be deleted.)  \n",
    "\n",
    "Double click this cell and enter your text here.  When done, hit 'Shift' + 'Enter' to execute the cell.  You may delete this text when entering your answer. \n",
    "***"
   ]
  },
  {
   "cell_type": "markdown",
   "id": "6ca9ea8c",
   "metadata": {},
   "source": [
    "**<span style=\"color:blue\">Question 4.4:</span>**  \n",
    "\n",
    "Turn on the solenoids. What happens? Is this what you expect? Why or why not? "
   ]
  },
  {
   "cell_type": "markdown",
   "id": "85fe0a4d",
   "metadata": {},
   "source": [
    "***\n",
    "**<span style=\"color:blue\">Answer 4.4:</span>**\n",
    "\n",
    "[//]: # (Please do not delete this comment or anything above it.  Anything below this comment can be deleted.)  \n",
    "\n",
    "Double click this cell and enter your text here.  When done, hit 'Shift' + 'Enter' to execute the cell.  You may delete this text when entering your answer. \n",
    "***"
   ]
  },
  {
   "cell_type": "markdown",
   "id": "1b5c5f04",
   "metadata": {},
   "source": [
    "# <div style=\"background-color:rgba(255, 204, 255, 0.5); text-align:center; vertical-align: middle; padding:40px 0; margin-top:30px\"><span style=\"color:rgba(102, 0, 204, 1);\">Part 5- Reflection & statement of contributions (25 minutes)</span></div>"
   ]
  },
  {
   "cell_type": "markdown",
   "id": "cc1f2df6",
   "metadata": {},
   "source": [
    "Questions 5.1 and 5.2 are used to reflect on the learning objectives stated at beginning of the notebook. \n",
    "***\n",
    "**<span style=\"color:blue\">Question 5.1:</span>**  \n",
    "\n",
    "It might be tempting to think of the phenomenon of magnetic braking as something akin to a weak magnet sliding down your fridge door. But this isn't the case at all! Copper is a **diamagnetic** material and will not attract ferromagnets, so something very different is happening. Based on what you've learned today and in class, how can we explain magnetic braking?"
   ]
  },
  {
   "cell_type": "markdown",
   "id": "ea639e6e",
   "metadata": {},
   "source": [
    "***\n",
    "**<span style=\"color:blue\">Answer 5.1:</span>**\n",
    "\n",
    "[//]: # (Please do not delete this comment or anything above it.  Anything below this comment can be deleted.)  \n",
    "\n",
    "Double click this cell and enter your text here.  When done, hit 'Shift' + 'Enter' to execute the cell.  You may delete this text when entering your answer. \n",
    "***"
   ]
  },
  {
   "cell_type": "markdown",
   "id": "b90c1fa9",
   "metadata": {},
   "source": [
    "**<span style=\"color:blue\">Question 5.2:</span>**  \n",
    "\n",
    "Equation 1 (Faraday's law) states that a *changing* magnetic flux induces an electromotive force. Recount your observations from Question 4.4 and note that the magnetic field through each fixed point in space is *constant* a short time after turning the solenoids on. Explain why your observations do *not* contradict Faraday's law.\n"
   ]
  },
  {
   "cell_type": "markdown",
   "id": "a7531aad",
   "metadata": {},
   "source": [
    "***\n",
    "**<span style=\"color:blue\">Answer 5.2:</span>**\n",
    "\n",
    "[//]: # (Please do not delete this comment or anything above it.  Anything below this comment can be deleted.)  \n",
    "\n",
    "Double click this cell and enter your text here.  When done, hit 'Shift' + 'Enter' to execute the cell.  You may delete this text when entering your answer. "
   ]
  },
  {
   "cell_type": "markdown",
   "id": "e05775fe",
   "metadata": {},
   "source": [
    "***\n",
    "Below, you will briefly summarize the contributions that you and your partner made when completely this lab.  Please ensure that both partners have a chance to engage in all types of lab activities (developing the experimental methods/data collection strategies, hands-on interaction with the apparatus/data collection, and data processing/analysis in the Jupyter notebook).  Note that statements of contributions are common in science.  The figure below shows one example taken from a 2021 paper published in the journal *Nature Physics*.\n",
    "\n",
    "<p>\n",
    "<center>\n",
    "<img src=\"https://cmps-people.ok.ubc.ca/jbobowsk/PHYS_121_Lab/Lab1/images/contributions.jpg\" alt=\"image info\" style=\"width: 60%; height: auto;\" /><br>\n",
    "<b>Fig. 4: A sample statement of author contributions from a recent journal article.</b></center>\n",
    "</p>"
   ]
  },
  {
   "cell_type": "markdown",
   "id": "9dbc7a37",
   "metadata": {},
   "source": [
    "***\n",
    "**<span style=\"color:blue\">Question 5.3(a):</span>**  \n",
    "\n",
    "Answer this question only if you worked with a partner to complete this lab.\n",
    "\n",
    "In two or three sentences describe the specific contributions of **Partner A** to this lab.  For example, worked with the experimental apparatus to collect data for Part 1 of the lab, entered and processed the data in the Jupyter notebook for Part 2 of the lab, ..."
   ]
  },
  {
   "cell_type": "markdown",
   "id": "18566cd1",
   "metadata": {},
   "source": [
    "***\n",
    "**<span style=\"color:blue\">Answer 5.3(a):</span>**\n",
    "\n",
    "[//]: # (Please do not delete this comment or anything above it.  Anything below this comment can be deleted.)  \n",
    "\n",
    "Double click this cell and enter your text here.  Please start be entering the name and student number of **Partner A**.  When done, hit 'Shift' + 'Enter' to execute the cell.  You may delete this text when entering your answer. "
   ]
  },
  {
   "cell_type": "markdown",
   "id": "f85d797f",
   "metadata": {},
   "source": [
    "***\n",
    "**<span style=\"color:blue\">Question 5.3(b):</span>**  \n",
    "\n",
    "Answer this question only if you worked with a partner to complete this lab.\n",
    "\n",
    "In two or three sentences describe the specific contributions of **Partner B** to this lab.  "
   ]
  },
  {
   "cell_type": "markdown",
   "id": "d373a730",
   "metadata": {},
   "source": [
    "***\n",
    "**<span style=\"color:blue\">Answer 5.3(b):</span>**\n",
    "\n",
    "[//]: # (Please do not delete this comment or anything above it.  Anything below this comment can be deleted.)  \n",
    "\n",
    "Double click this cell and enter your text here.  Please start be entering the name and student number of **Partner B**.  When done, hit 'Shift' + 'Enter' to execute the cell.  You may delete this text when entering your answer. "
   ]
  },
  {
   "cell_type": "markdown",
   "id": "0e25d623",
   "metadata": {},
   "source": [
    "***\n",
    "**<span style=\"color:blue\">Question 5.4:</span>**  \n",
    "\n",
    "We welcome your feedback on the PHYS 121 labs!  Please feel free to include any comments you have about this lab in the cell below.  Your comments will be taken into consideration when revising/improving the PHYS 121 labs.  You can suggest improvements, point out anything that was unclear, comment on the strengths and weaknesses of the lab, ...\n",
    "\n",
    "This question is optional and will have no impact on your lab grade."
   ]
  },
  {
   "cell_type": "markdown",
   "id": "a43071b4",
   "metadata": {},
   "source": [
    "***\n",
    "**<span style=\"color:blue\">Answer 5.4:</span>**\n",
    "\n",
    "[//]: # (Please do not delete this comment or anything above it.  Anything below this comment can be deleted.)  \n",
    "\n",
    "Double click this cell and enter your text here.  When done, hit 'Shift' + 'Enter' to execute the cell.  You may delete this text when entering your answer. "
   ]
  },
  {
   "cell_type": "markdown",
   "id": "ef1ee68f",
   "metadata": {},
   "source": [
    "# <div style=\"background-color:rgba(255, 204, 255, 0.5); text-align:center; vertical-align: middle; padding:40px 0; margin-top:30px\"><span style=\"color:rgba(102, 0, 204, 1);\">Part 6 - Playground (optional)</span></div>\n",
    "\n",
    "Feel free to add as many cells as you like below and use them as a playground for further independent investigations.  These cells won't be graded, so feel free to use them in any way that you like.  "
   ]
  },
  {
   "cell_type": "code",
   "execution_count": null,
   "id": "95b595e4",
   "metadata": {},
   "outputs": [],
   "source": [
    "# Here's an empty code cell that you can use.  "
   ]
  },
  {
   "cell_type": "code",
   "execution_count": null,
   "id": "4bb23e56",
   "metadata": {},
   "outputs": [],
   "source": [
    "# Here's another empty code cell that you can use."
   ]
  },
  {
   "cell_type": "code",
   "execution_count": null,
   "id": "686c3360",
   "metadata": {},
   "outputs": [],
   "source": [
    "# Here's yet another empty code cell that you can use.  \n",
    "# If you need more, you can add cells using the '+' icon in the menu bar at to the top of the screen."
   ]
  },
  {
   "cell_type": "code",
   "execution_count": null,
   "id": "bf0d82c5",
   "metadata": {},
   "outputs": [],
   "source": []
  },
  {
   "cell_type": "code",
   "execution_count": null,
   "id": "d753f1de",
   "metadata": {},
   "outputs": [],
   "source": []
  }
 ],
 "metadata": {
  "kernelspec": {
   "display_name": "Python 3 (ipykernel)",
   "language": "python",
   "name": "python3"
  },
  "language_info": {
   "codemirror_mode": {
    "name": "ipython",
    "version": 3
   },
   "file_extension": ".py",
   "mimetype": "text/x-python",
   "name": "python",
   "nbconvert_exporter": "python",
   "pygments_lexer": "ipython3",
   "version": "3.8.8"
  }
 },
 "nbformat": 4,
 "nbformat_minor": 5
}
