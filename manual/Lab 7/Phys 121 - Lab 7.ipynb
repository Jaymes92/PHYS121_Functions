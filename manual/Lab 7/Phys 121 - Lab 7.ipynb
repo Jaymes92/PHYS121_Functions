{
 "cells": [
  {
   "cell_type": "markdown",
   "id": "a428ac10",
   "metadata": {},
   "source": [
    "# <div style=\"background-color:rgba(204, 229, 255, 0.5); text-align:center; vertical-align: middle; padding:40px 0; margin-top:30px\"><span style=\"color:rgba(0, 76, 153, 1);\">PHYS 121 Lab #7</span></div>\n",
    "# The Earth's Magnetic Field"
   ]
  },
  {
   "cell_type": "markdown",
   "id": "5dd8cc12",
   "metadata": {},
   "source": [
    "***\n",
    "## Learning Objectives:\n",
    "* <b><span style=\"color:rgba(0, 153, 76, 1);\"> Gain an understanding of the duality between magnetism and electricity as described by Ampère's law and Faraday's law.  </span></b>\n",
    "* <b><span style=\"color:rgba(0, 153, 76, 1);\"> In Lab 7, use this duality to measure the horizontal component of the local magnetic field using a basic solenoid and a compass. </span></b>"
   ]
  },
  {
   "cell_type": "markdown",
   "id": "7b5f0cc3",
   "metadata": {},
   "source": [
    "***\n",
    "## Install & Import Required Packages:\n",
    "Before starting, place your cursor in the code cell below and press 'Shift' + 'Enter'.  If the 'Check()' function reports that \"All packages already installed\", then proceed by first executing the second code cell that begins with: \n",
    "``` python\n",
    "# Import the required modules.\n",
    "```\n",
    "\n",
    "If 'Check()' reports that some new packages have been installed, then go to File$\\to$Log Out to complete log out of this notebook.  Then log in and execute the cell below again."
   ]
  },
  {
   "cell_type": "code",
   "execution_count": null,
   "id": "89f548b1",
   "metadata": {},
   "outputs": [],
   "source": [
    "import installer\n",
    "installer.Check()"
   ]
  },
  {
   "cell_type": "code",
   "execution_count": 1,
   "id": "d0e412ae",
   "metadata": {},
   "outputs": [],
   "source": [
    "# Import required modules\n",
    "import numpy as np\n",
    "import matplotlib.pyplot as plt\n",
    "import httpimport\n",
    "import uncertainties\n",
    "from uncertainties import ufloat\n",
    "from uncertainties.umath import * \n",
    "import pandas as pd\n",
    "with httpimport.remote_repo(['data_entry'], 'https://cmps-people.ok.ubc.ca/jbobowsk/PHYS_121_Lab/modules'):\n",
    "    import data_entry\n",
    "with httpimport.remote_repo(['PHYS121'], 'https://cmps-people.ok.ubc.ca/jbobowsk/PHYS_121_Lab/modules'):\n",
    "    import PHYS121"
   ]
  },
  {
   "cell_type": "markdown",
   "id": "24fdfc62",
   "metadata": {},
   "source": [
    "***\n",
    "## Introduction:\n",
    "\n",
    "In 1820, the Danish physicist Hans Christian Ørsted observed that a compass needle would be deflected when the compass was placed near a current-carrying wire. This hinted towards a deep connection between electricity and magnetism, which would be vigourously investigated through the rest of the 19th century. Described mathematically by Maxwell in 1965 and verified experimentally by Hertz in the late 1880s and 90s, the theory of **electromagnetism** is the result of that work.\n",
    "\n",
    "At this point, you may have learned in class about two important results in electromagnetism - **Faraday's law** and **Ampère's law**. Forgoing mathematical precision, the *intuitive* implications of these laws can be understood as follows:\n",
    "* **Faraday's law**: a time-varying magnetic field passing through a closed conducting loop will generate an electric current\n",
    "* **Ampère's law**: an electric current will generate a magnetic field, which forms a closed loop around the current\n",
    "\n",
    "Among the *many* direct applications of these laws are\n",
    "* **electrical generators**: mechanical energy (from combustion, movement of water over turbines, pressurized steam, etc.) is converted to electrical energy by rotating a conducting coil through a magnetic field, generating a current according to Faraday's law\n",
    "* **microphones**: sound waves cause vibrations in a small magnetic diaphragm, generating a current in a nearby coil with the *same* frequency content as the sound waves\n",
    "* **loudspeakers**: precisely the opposite of a microphone - a time-varying current through a loop creates a time-varying magnetic feild according to Ampère's law. This field causes a magnetized diaphragm to oscillate, which in turn vibrates the air, producing sound waves with the same frequency content as the electrical signal\n",
    "* **magnetic resonance imaging (MRI)**: this requires strong magnetic fields, and the most common form of MRI machine used today creates these fields by passing electrical currents through liquid helium-cooled superconducting coils \n",
    "\n",
    "Today, you will be using an application of **Ampère's law** to measure the local magnetic field due to the earth. You will investigate **Faraday's law** next week.\n",
    "\n",
    "<br>\n",
    "<br>\n",
    "<p>\n",
    "<center>\n",
    "<img src=\"solenoid.svg\" alt=\"image info\" style=\"width: 45%; height: auto;\" /><br>\n",
    "<b>Fig. 1: The magnetic field generated by a solenoid. Near the centre of the solenoid, the magnetic field lines essentially parallel to the axis of the solenoid, but begin to bend near the ends. </b></center>\n",
    "</p>"
   ]
  },
  {
   "cell_type": "markdown",
   "id": "05662352",
   "metadata": {},
   "source": [
    "# <div style=\"background-color:rgba(255, 204, 255, 0.5); text-align:center; vertical-align: middle; padding:40px 0; margin-top:30px\"><span style=\"color:rgba(102, 0, 204, 1);\">Part 1 - Measuring the Local Magnetic Field ()</span></div>"
   ]
  },
  {
   "cell_type": "markdown",
   "id": "97dd0ed8",
   "metadata": {},
   "source": [
    "Recall that when the radius of the solenoid is much less than its length, the field in the middle of the coil is given approximately by the following:\n",
    "\n",
    "\\begin{align}\n",
    "\\vec{B}_{Sol} = \\mu_0 n I\n",
    "\\label{eq:Bmag} \\tag{1}\n",
    "\\end{align}\n",
    "\n",
    "where $I$ is the electrical current in the coil, $n$ is the **turn density**, or the number of turns per unit length, and $ \\mu_0 = 4\\pi \\times 10^{-7} $ H/m is a constant, called the **vacuum permeability**. \n",
    "\n",
    "In the pre-lab, you saw how it's possible to measure the local magnetic field using only a coil, a DC power source, and a compass. You should pause and reflect on the import of the results you obtained:\n",
    "\n",
    "> **Using mathematics and well-known physical laws, you obtained an expression for a quantity of interest in terms of a small handful of easily measureable quantities.** \n",
    "\n",
    "As experimentalists, this is the kind of result we *love* to see. It suggests a clear course of action - to measure the magnetic field of the earth, we need only measure the angle between the compass needle and the axis of the solenoid as a function of the current $I$ in our solenoid (see Fig. 2 and its description).\n",
    "\n",
    "<br>\n",
    "<p>\n",
    "<center>\n",
    "<img src=\"btot.svg\" style=\"width: 35%\" />\n",
    "<b>Fig. 2: The total magnetic field is given by superposition of the fixed local field $\\vec{B}_{Loc}$ and the variable solenoid field $\\vec{B}_{Sol}$. The direction of this total field (and thus the measured angle $\\varphi$) can be changed by increasing the current through the solenoid, according to Eq. 1. </b></center>\n",
    "</p>"
   ]
  },
  {
   "cell_type": "markdown",
   "id": "22b12d6a",
   "metadata": {},
   "source": [
    "***\n",
    "**<span style=\"color:blue\">Question 1.1:</span>**  \n",
    "\n",
    "From Eq. 1, we see that the field in the solenoid depends on the turn density $n$, which will vary from solenoid to solenoid. Count the number of turns of your solenoid and measure its length in meters. Use the provided code cell below to assign your measurement values to the variables $N$ and $L$. Then, define the constant $n$ equal to $N$ divided by $L$ (note that Python is a *case-sensitive* programming language). \n",
    "\n",
    "***\n",
    "**<span style=\"color:blue\">Answer 1.1:</span>**"
   ]
  },
  {
   "cell_type": "code",
   "execution_count": null,
   "id": "40584463",
   "metadata": {},
   "outputs": [],
   "source": [
    "# This cell will be auto-graded, so be sure to use the exact variable names specified above!\n"
   ]
  },
  {
   "cell_type": "markdown",
   "id": "6c125d98",
   "metadata": {},
   "source": [
    "***\n",
    "\n",
    "Place the compass at the midpoint of you solenoid. Without any current passing through your solenoid, orient it on your table so that magnetic north is perpendicular to the axis of the solenoid. You should be careful to get this as *close* to $90^\\circ$ as possible! Your expression from pre-lab will not hold if the angle between the axis and the local field varies significantly from $90^\\circ$. It *is* possible to account for a large error mathematically if you measure the actual initial angle, and you're welcome to do so if you wish.\n",
    "\n",
    "As indicated in the pre-lab, you will be measuring the angle $\\varphi$ for a set of values of the current $I$. You found that by plotting $\\tan\\varphi$ as function of $I$ and performing a linear fit, the magnitude of the local field $\\left|\\left| \\vec{B}_{Loc} \\right| \\right| \\equiv B_{Loc}$ could be determined from the slope $m$.\n",
    "\n",
    "So, place your compass at the midpoint of your solenoid. Using the provided phone, take pictures of the compass needle as you vary the current. You should take at least 15 photos to get a good dataset. For example, you could start with the DC supply turned off and then increment the current by 15 mA until you reach 225 mA. You may want to write the current on a piece of paper in view of the camera to help organize the results later. Once you've taken your photos, upload them to the computer. \n",
    "\n",
    "The following guide offers one possible method for measuring the angle. However, you are welcome to use your own method if you come up with one (and we're all ears if you have a good idea!)"
   ]
  },
  {
   "cell_type": "markdown",
   "id": "4a1c1515",
   "metadata": {},
   "source": [
    "### Setting up excel for measurements \n",
    "<br>\n",
    "First, import the zero-current image.\n",
    "<br>\n",
    "<br>\n",
    "\n",
    "***\n",
    "![SegmentLocal](Gifs/gif1.gif \"segment\")\n",
    "\n",
    "***\n",
    "<br>\n",
    "Next, draw a line to mark the axis of the solenoid. For accuracy, use a fixed reference on the apparatus rather than the east-west markers.\n",
    "<br>\n",
    "<br>\n",
    "\n",
    "***\n",
    "\n",
    "![SegmentLocal](Gifs/gif2.gif \"segment\")\n",
    "\n",
    "***\n",
    "<br>\n",
    "The next line will mark the north-south direction.\n",
    "<br>\n",
    "<br>\n",
    "\n",
    "***\n",
    "\n",
    "![SegmentLocal](Gifs/gif3.gif \"segment\")\n",
    "\n",
    "***\n",
    "<br>\n",
    "Since you'll need to place the centre of the compass from your other images at the \"crosshairs\" you've made, draw a circle around the compass to help with positioning.\n",
    "<br>\n",
    "<br>\n",
    "\n",
    "***\n",
    "\n",
    "![SegmentLocal](Gifs/gif4.gif \"segment\")\n",
    "\n",
    "***\n",
    "<br>\n",
    "Finally, place your protractor on the worksheet.\n",
    "<br>\n",
    "<br>\n",
    "\n",
    "***\n",
    "\n",
    "![SegmentLocal](Gifs/gif5.gif \"segment\")\n",
    "\n",
    "***\n",
    "\n",
    "### Taking measurements\n",
    "<br>\n",
    "Import your image and crop as desired. Take care to align the image as well as you can.\n",
    "<br>\n",
    "<br>\n",
    "\n",
    "***\n",
    "\n",
    "![SegmentLocal](Gifs/gif6.gif \"segment\")\n",
    "\n",
    "***\n",
    "<br>\n",
    "Draw another line- you'll use this to measure the angle.\n",
    "<br>\n",
    "<br>\n",
    "\n",
    "***\n",
    "\n",
    "![SegmentLocal](Gifs/gif7.gif \"segment\")\n",
    "\n",
    "***\n",
    "<br>\n",
    "The rest of the measurements should go fairly quickly, now! Keep the line from the last step and import your images one at a time, recording the angle and current for each.\n",
    "<br>\n",
    "<br>\n",
    "\n",
    "***\n",
    "\n",
    "![SegmentLocal](Gifs/gif8.gif \"segment\")\n",
    "\n",
    "***"
   ]
  },
  {
   "cell_type": "markdown",
   "id": "31b1aaff",
   "metadata": {},
   "source": [
    "Use the code cell below to import your data. You may wish to manipulate the data in Python or Excel, and you may import the data however you wish. **Appendix A** contains some helpful commands for working with DataFrames.\n",
    "<br>\n",
    "<br>\n",
    "No matter what you choose to do, by the end of the cell, you should have defined two arrays: one for $I$ and one for the corresponding values of $\\tan\\varphi$. **The tangent function in both Excel and Python assumes that $\\varphi$ is in radians.**"
   ]
  },
  {
   "cell_type": "code",
   "execution_count": null,
   "id": "56c76d94",
   "metadata": {},
   "outputs": [],
   "source": [
    "# Upload your data here\n",
    "\n"
   ]
  },
  {
   "cell_type": "markdown",
   "id": "f54ee1b8",
   "metadata": {},
   "source": [
    "Use the cell below to perform a linear fit of $\\tan\\varphi$ as a function of $I$. Refer to **Appendix B** at the end of this notebook for the syntax of an unweighted linear fit."
   ]
  },
  {
   "cell_type": "code",
   "execution_count": null,
   "id": "6ed7892b",
   "metadata": {},
   "outputs": [],
   "source": [
    "# Perform your unweighted linear fit here, using the vectors you defined in the previous cell.\n",
    "\n"
   ]
  },
  {
   "cell_type": "markdown",
   "id": "fadd3376",
   "metadata": {},
   "source": [
    "Finally, calculate $B_{Loc}$ using the slope from above. The following cell will guide you through the calculation with popagation of error. You may copy and paste your code from the pre-lab, but make sure that you change the variables as needed.  You may assume that the uncertainty in $n$ is negligible. "
   ]
  },
  {
   "cell_type": "code",
   "execution_count": null,
   "id": "510d1c1c",
   "metadata": {},
   "outputs": [],
   "source": [
    "# Package the slope value and uncertainty into a \"ufloat\" object for propagation of error. \n",
    "# If you chose different variable names for the slope and its uncertainty in your linear fit, \n",
    "# substitute them for m and dm. \n",
    "m_unc = ufloat(m, dm)\n",
    "\n",
    "# Refer to the function you derived in Question 1.3 to calculate B_Loc. The uncertainties will be calculated\n",
    "# automatically if you use the m_unc variable for your slope.\n",
    "B_Loc = \n",
    "print(B_Loc)"
   ]
  },
  {
   "cell_type": "markdown",
   "id": "3c909464",
   "metadata": {},
   "source": [
    "***\n",
    "**<span style=\"color:blue\">Question 1.2:</span>**  \n",
    "\n",
    "Report your result, including units. To write a $\\pm$ symbol, write \\\\$\\pm\\\\$."
   ]
  },
  {
   "cell_type": "markdown",
   "id": "5d799dd8",
   "metadata": {},
   "source": [
    "***\n",
    "**<span style=\"color:blue\">Answer 1.2:</span>**\n",
    "\n",
    "[//]: # (Please do not delete this comment or anything above it.  Anything below this comment can be deleted.)  \n",
    "\n",
    "Double click this cell and enter your text here.  When done, hit 'Shift' + 'Enter' to execute the cell.  You may delete this text when entering your answer. \n",
    "***"
   ]
  },
  {
   "cell_type": "markdown",
   "id": "4d3414ab",
   "metadata": {},
   "source": [
    "# <div style=\"background-color:rgba(255, 204, 255, 0.5); text-align:center; vertical-align: middle; padding:40px 0; margin-top:30px\"><span style=\"color:rgba(102, 0, 204, 1);\">Part 2 - Magnetic Inclination ()</span></div>"
   ]
  },
  {
   "cell_type": "markdown",
   "id": "ef99eab4",
   "metadata": {},
   "source": [
    "But wait... this all assumes that the magnetic field is completely parallel to the surface of the earth! The real field turns out to be somewhat more complex. The angle between the *actual* direction of the field and the surface of the earth is called the **magnetic inclination** (or **magnetic dip**). The magnetic inclination varies from location to location, as Fig. 3 demonstrates.\n",
    "\n",
    "<p>\n",
    "<center>\n",
    "<img src=\"magincl.svg\" alt=\"image info\" style=\"width: 100%; height: auto;\" /><br>\n",
    "<b>Fig. 3: Magnetic inclination at different points of the earth's surface. Source: http://www.ngdc.noaa.gov/geomag/WMM/image.shtml (Public domain)</b></center>\n",
    "</p>\n",
    "\n",
    "So the quantity we measured in Part 1 is actually the *parallel* component of the local field, which we may denote as $B_{\\parallel}$. The total local magnetic field would be given by\n",
    "\n",
    "$$ B_{Earth} = \\sqrt{B_{\\parallel}^2 + B_{\\perp}^2} $$\n",
    "\n",
    "where $B_{\\perp}$ is the vertical component of the local magnetic field."
   ]
  },
  {
   "cell_type": "markdown",
   "id": "ad420b3f",
   "metadata": {},
   "source": [
    "***\n",
    "**<span style=\"color:blue\">Question 2.1:</span>**  \n",
    "\n",
    "Go to https://www.ngdc.noaa.gov/geomag/calculators/magcalc.shtml and find the *local* magnetic inclination and total field strength and the associated uncertainties. Report these values using the code cell below.\n",
    "\n",
    "***\n",
    "**<span style=\"color:blue\">Answer 2.1:</span>**"
   ]
  },
  {
   "cell_type": "code",
   "execution_count": null,
   "id": "03b067a9",
   "metadata": {},
   "outputs": [],
   "source": [
    "# The first argument of a ufloat is the value, and the second argument is the uncertainty\n",
    "B_Earth = ufloat( , )\n",
    "incl = ufloat( , )"
   ]
  },
  {
   "cell_type": "markdown",
   "id": "9fbc5edf",
   "metadata": {},
   "source": [
    "***\n",
    "**<span style=\"color:blue\">Question 2.2:</span>**  \n",
    "\n",
    "Using the code cell below, calculate the magnetic inclination using the measured value of $B_\\parallel$ and the found value of $B_{Earth}$. \n",
    "\n",
    "***\n",
    "**<span style=\"color:blue\">Answer 2.2:</span>**"
   ]
  },
  {
   "cell_type": "code",
   "execution_count": null,
   "id": "3f191d04",
   "metadata": {},
   "outputs": [],
   "source": [
    "incl_meas = \n",
    "\n",
    "print(incl_meas)"
   ]
  },
  {
   "cell_type": "markdown",
   "id": "b5c1aa39",
   "metadata": {},
   "source": [
    "***\n",
    "**<span style=\"color:blue\">Question 2.3:</span>**  \n",
    "\n",
    "Compare this value to the one you found online. Are they equal within the margin of error? Comment on the relative values and speculate about possible sources of discrepancies. "
   ]
  },
  {
   "cell_type": "markdown",
   "id": "8e5dbc08",
   "metadata": {},
   "source": [
    "***\n",
    "**<span style=\"color:blue\">Answer 2.3:</span>**\n",
    "\n",
    "[//]: # (Please do not delete this comment or anything above it.  Anything below this comment can be deleted.)  \n",
    "\n",
    "Double click this cell and enter your text here.  When done, hit 'Shift' + 'Enter' to execute the cell.  You may delete this text when entering your answer. \n",
    "***"
   ]
  },
  {
   "cell_type": "markdown",
   "id": "e88cdc06",
   "metadata": {},
   "source": [
    "# <div style=\"background-color:rgba(255, 204, 255, 0.5); text-align:center; vertical-align: middle; padding:40px 0; margin-top:30px\"><span style=\"color:rgba(102, 0, 204, 1);\">Part 3 - Inhomogeneity of the Solenoid Field ()</span></div>"
   ]
  },
  {
   "cell_type": "markdown",
   "id": "ecad22f4",
   "metadata": {},
   "source": [
    "Equation 1 gives an excellent approximation of the magnetic field at the centre of a finite solenoid. But what about the field at different points along the axis? Using the a ruler and the same method you used in Part 1, measure the angle between the compass needle and the axis of the solenoid with a fixed current $I$ for at least 9 different positions $r$ along the length of the solenoid, including the endpoints and the midpoint. Define $r$ so that the endpoints are at $r = 0, L$ and the midpoint is at $r = L/2$.\n",
    "\n",
    "Use the following code block to create a spreadsheet to upload your measurements of $\\varphi$ at different positions $r$\n",
    "***"
   ]
  },
  {
   "cell_type": "code",
   "execution_count": null,
   "id": "6113c6b7",
   "metadata": {},
   "outputs": [],
   "source": []
  },
  {
   "cell_type": "markdown",
   "id": "ad1a6cd0",
   "metadata": {},
   "source": [
    "***\n",
    "In pre-lab question 2, you found an expression for $B_{Loc}$ in terms of $\\varphi$ and $B_{Sol}$. Let $B_{Sol} \\equiv B_{Sol}(r)$ be a function of the position along the solenoid's axis. In this case, the angle $\\varphi$ should *also* be a function of position.\n",
    "\n",
    "***"
   ]
  },
  {
   "cell_type": "markdown",
   "id": "90d26621",
   "metadata": {},
   "source": [
    "***\n",
    "**<span style=\"color:blue\">Question 3.1:</span>**  \n",
    "\n",
    "Define \n",
    "\n",
    "$$ B_0 \\equiv B(L/2) \\approx \\mu_0 n I$$ \n",
    "\n",
    "and let $\\varphi_0$ be the compass angle at this position and current. We're interested in how the field *deviates* from this value as we move away from the midpoint of the axis. \n",
    "\n",
    "Suppose you measure an angle $\\varphi$ at position $r$. Use your expression from Pre-lab Question 2 to derive an expression for $B(r)$ as a function of $\\varphi, B_0,$ and $\\varphi_0$. (*Hint*: write two equtions, one with $B(r)$ and $\\varphi$ and one with $B_0$ and $\\varphi_0$, and then divide your equations). "
   ]
  },
  {
   "cell_type": "markdown",
   "id": "4cf3c102",
   "metadata": {},
   "source": [
    "***\n",
    "**<span style=\"color:blue\">Answer 3.1:</span>**\n",
    "\n",
    "[//]: # (Please do not delete this comment or anything above it.  Anything below this comment can be deleted.)  \n",
    "\n",
    "Double click this cell and enter your text here.  When done, hit 'Shift' + 'Enter' to execute the cell.  You may delete this text when entering your answer. \n",
    "***"
   ]
  },
  {
   "cell_type": "markdown",
   "id": "65bb372a",
   "metadata": {},
   "source": [
    "Use this expression and the following code-block to calculate the values of $B(r)$ from your measurements. Follow this closely, filling in the blanks and replacing variable names where necessary."
   ]
  },
  {
   "cell_type": "code",
   "execution_count": null,
   "id": "e0bde5eb",
   "metadata": {},
   "outputs": [],
   "source": [
    "B_0 =       # Using Eq. 1 (or your results from Part 2), find the magnetic field at r = L/2\n",
    "phi_0 =     # Report the deflection at r = L/2\n",
    "\n",
    "# This line will involve the array of angles you defined in the previous code block, so the resulting\n",
    "# object will also be an array.\n",
    "B_r = \n",
    "\n",
    "# Replace \"Bunits\" and \"Runits\" with the appropriate choice of units for the field and the position, and replace\n",
    "# \"rArray\" with the variable you assigned to the array of positions in the previous code block\n",
    "[ print(f\"B({rArray[i]} Runits) = {B_r[i]} Bunits\")  for i in range(len(B_r))]"
   ]
  },
  {
   "cell_type": "markdown",
   "id": "1b332a59",
   "metadata": {},
   "source": [
    "***\n",
    "Now, generate a scatter plot showing your values of $B(r)$. Refer to **Appendix C** if you need a refresher on how to use this function.\n",
    "***"
   ]
  },
  {
   "cell_type": "code",
   "execution_count": null,
   "id": "c819ce91",
   "metadata": {},
   "outputs": [],
   "source": [
    "# Use this code block to generate your scatter plot\n"
   ]
  },
  {
   "cell_type": "markdown",
   "id": "6ab5f698",
   "metadata": {},
   "source": [
    "***\n",
    "**<span style=\"color:blue\">Question 3.1:</span>**  \n",
    "\n",
    "Comment on your results. In particular, discuss *qualitatively* the field strength at the endpoints relative to the field strength at the midpoint. Do these results make intuitive sense to you? Why or why not? There are many ways to answer this question - think critically and don't worry about being exactly correct! "
   ]
  },
  {
   "cell_type": "markdown",
   "id": "a9361e31",
   "metadata": {},
   "source": [
    "***\n",
    "**<span style=\"color:blue\">Answer 3.1:</span>**\n",
    "\n",
    "[//]: # (Please do not delete this comment or anything above it.  Anything below this comment can be deleted.)  \n",
    "\n",
    "Double click this cell and enter your text here.  When done, hit 'Shift' + 'Enter' to execute the cell.  You may delete this text when entering your answer. \n",
    "***"
   ]
  },
  {
   "cell_type": "markdown",
   "id": "354b5997",
   "metadata": {},
   "source": [
    "# <div style=\"background-color:rgba(255, 204, 255, 0.5); text-align:center; vertical-align: middle; padding:40px 0; margin-top:30px\"><span style=\"color:rgba(102, 0, 204, 1);\">Part 4 - Reflection & statement of contributions (25 minutes)</span></div>"
   ]
  },
  {
   "cell_type": "markdown",
   "id": "28ecd9fe",
   "metadata": {},
   "source": [
    "Question 4.1 is used to reflect on the learning objectives stated at beginning of the notebook. \n",
    "***\n",
    "**<span style=\"color:blue\">Question 4.1:</span>**  \n",
    "\n",
    "Comment on how the relationship between electricity and magnetism was used to measure the local magnetic field. Consider, in particular, the *measurability* of different quantities. "
   ]
  },
  {
   "cell_type": "markdown",
   "id": "61e377cc",
   "metadata": {},
   "source": [
    "***\n",
    "**<span style=\"color:blue\">Answer 4.1:</span>**\n",
    "\n",
    "[//]: # (Please do not delete this comment or anything above it.  Anything below this comment can be deleted.)  \n",
    "\n",
    "Double click this cell and enter your text here.  When done, hit 'Shift' + 'Enter' to execute the cell.  You may delete this text when entering your answer. "
   ]
  },
  {
   "cell_type": "markdown",
   "id": "b11b2adb",
   "metadata": {},
   "source": [
    "***\n",
    "\n",
    "Question 4.2 is very open-ended. Don't worry about being exactly correct - think creatively and give it your best shot. If you have time, you may want to talk with neighbouring groups. If you do collaborate with others, mention their names in your answer."
   ]
  },
  {
   "cell_type": "markdown",
   "id": "5c4217c6",
   "metadata": {},
   "source": [
    "***\n",
    "**<span style=\"color:blue\">Question 4.2:</span>**  \n",
    "\n",
    "Today, you measured the *horizontal* component of the local magnetic field. If you wanted to measure the *vertical* component of the field, what might you do? What kind of equipment would you use?"
   ]
  },
  {
   "cell_type": "markdown",
   "id": "e2810d5a",
   "metadata": {},
   "source": [
    "***\n",
    "**<span style=\"color:blue\">Answer 4.2:</span>**\n",
    "\n",
    "[//]: # (Please do not delete this comment or anything above it.  Anything below this comment can be deleted.)  \n",
    "\n",
    "Double click this cell and enter your text here.  When done, hit 'Shift' + 'Enter' to execute the cell.  You may delete this text when entering your answer. "
   ]
  },
  {
   "cell_type": "markdown",
   "id": "45984214",
   "metadata": {},
   "source": [
    "***\n",
    "Below, you will briefly summarize the contributions that you and your partner made when completely this lab.  Please ensure that both partners have a chance to engage in all types of lab activities (developing the experimental methods/data collection strategies, hands-on interaction with the apparatus/data collection, and data processing/analysis in the Jupyter notebook).  Note that statements of contributions are common in science.  The figure below shows one example taken from a 2021 paper published in the journal *Nature Physics*.\n",
    "\n",
    "<p>\n",
    "<center>\n",
    "<img src=\"https://cmps-people.ok.ubc.ca/jbobowsk/PHYS_121_Lab/Lab1/images/contributions.jpg\" alt=\"image info\" style=\"width: 60%; height: auto;\" /><br>\n",
    "<b>Fig. 4: A sample statement of author contributions from a recent journal article.</b></center>\n",
    "</p>"
   ]
  },
  {
   "cell_type": "markdown",
   "id": "482fce94",
   "metadata": {},
   "source": [
    "***\n",
    "**<span style=\"color:blue\">Question 4.3(a):</span>**  \n",
    "\n",
    "Answer this question only if you worked with a partner to complete this lab.\n",
    "\n",
    "In two or three sentences describe the specific contributions of **Partner A** to this lab.  For example, worked with the experimental apparatus to collect data for Part 1 of the lab, entered and processed the data in the Jupyter notebook for Part 2 of the lab, ...  "
   ]
  },
  {
   "cell_type": "markdown",
   "id": "7e119c32",
   "metadata": {},
   "source": [
    "***\n",
    "**<span style=\"color:blue\">Answer 4.3(a):</span>**\n",
    "\n",
    "[//]: # (Please do not delete this comment or anything above it.  Anything below this comment can be deleted.)  \n",
    "\n",
    "Double click this cell and enter your text here.  Please start be entering the name and student number of **Partner A**.  When done, hit 'Shift' + 'Enter' to execute the cell.  You may delete this text when entering your answer. "
   ]
  },
  {
   "cell_type": "markdown",
   "id": "67076ab5",
   "metadata": {},
   "source": [
    "***\n",
    "**<span style=\"color:blue\">Question 4.3(b):</span>**  \n",
    "\n",
    "Answer this question only if you worked with a partner to complete this lab.\n",
    "\n",
    "In two or three sentences describe the specific contributions of **Partner B** to this lab.  "
   ]
  },
  {
   "cell_type": "markdown",
   "id": "e4a35737",
   "metadata": {},
   "source": [
    "***\n",
    "**<span style=\"color:blue\">Answer 4.3(b):</span>**\n",
    "\n",
    "[//]: # (Please do not delete this comment or anything above it.  Anything below this comment can be deleted.)  \n",
    "\n",
    "Double click this cell and enter your text here.  Please start be entering the name and student number of **Partner B**.  When done, hit 'Shift' + 'Enter' to execute the cell.  You may delete this text when entering your answer. "
   ]
  },
  {
   "cell_type": "markdown",
   "id": "dca72303",
   "metadata": {},
   "source": [
    "***\n",
    "**<span style=\"color:blue\">Question 4.4:</span>**  \n",
    "\n",
    "We welcome your feedback on the PHYS 121 labs!  Please feel free to include any comments you have about this lab in the cell below.  Your comments will be taken into consideration when revising/improving the PHYS 121 labs.  You can suggest improvements, point out anything that was unclear, comment on the strengths and weaknesses of the lab, ...\n",
    "\n",
    "This question is optional and will have no impact on your lab grade."
   ]
  },
  {
   "cell_type": "markdown",
   "id": "605e828f",
   "metadata": {},
   "source": [
    "***\n",
    "**<span style=\"color:blue\">Answer 4.4:</span>**\n",
    "\n",
    "[//]: # (Please do not delete this comment or anything above it.  Anything below this comment can be deleted.)  \n",
    "\n",
    "Double click this cell and enter your text here.  When done, hit 'Shift' + 'Enter' to execute the cell.  You may delete this text when entering your answer. "
   ]
  },
  {
   "cell_type": "markdown",
   "id": "9b5f4987",
   "metadata": {},
   "source": [
    "# <div style=\"background-color:rgba(255, 204, 255, 0.5); text-align:center; vertical-align: middle; padding:40px 0; margin-top:30px\"><span style=\"color:rgba(102, 0, 204, 1);\">Part 5 - Playground (optional)</span></div>\n",
    "\n",
    "Feel free to add as many cells as you like below and use them as a playground for further independent investigations.  These cells won't be graded, so feel free to use them in any way that you like.  "
   ]
  },
  {
   "cell_type": "code",
   "execution_count": null,
   "id": "260bcf62",
   "metadata": {},
   "outputs": [],
   "source": [
    "# Here's an empty code cell that you can use.  "
   ]
  },
  {
   "cell_type": "code",
   "execution_count": null,
   "id": "ade7f9bc",
   "metadata": {},
   "outputs": [],
   "source": [
    "# Here's another empty code cell that you can use."
   ]
  },
  {
   "cell_type": "code",
   "execution_count": null,
   "id": "02e56275",
   "metadata": {},
   "outputs": [],
   "source": [
    "# Here's yet another empty code cell that you can use.  \n",
    "# If you need more, you can add cells using the '+' icon in the menu bar at to the top of the screen."
   ]
  },
  {
   "cell_type": "markdown",
   "id": "1313bf44",
   "metadata": {},
   "source": [
    "### <div style=\"background-color:rgba(255, 255, 102, 0.5); text-align:left; padding:20px 0; margin-top:20px\">$\\quad$Appendix A &ndash; DataFrames...</div>\n",
    "\n",
    "The basic syntax for manually defining a DataFrame is the following:\n",
    "```python\n",
    "df = pd.DataFrame({\"Column 1\": [],\n",
    "                   \"Column 2\": [],\n",
    "                   \"Column 3\": [],\n",
    "                  })\n",
    "```\n",
    "You can name it whatever you'd like (it doesn't have to be called \"df\") and you can add as many columns as you need. Note that each column must have the same number of rows - that is, each list must have the same number entries. \n",
    "\n",
    "If you are importing from a .csv file, the first row of each column is by default taken to be that column's name. The basic syntax is\n",
    "```python\n",
    "    df = pd.read_csv(\"filename.csv\") # for .csv files\n",
    "```\n",
    "\n",
    "\n",
    "If your .csv file does not have column names, you can skip this option and define your columns directly:\n",
    "```python\n",
    "    df = pd.read_csv(\"filename.csv\", header = None, names = [\"Column 1\", \"Column 2\", \"Column 3\"])\n",
    "```\n",
    "\n",
    "For both of the previous examples, if your file is a .xlsx file, you can replace \"read_csv\" with \"read_excel\".\n",
    "\n",
    "To print your DataFrame as a table, simply call\n",
    "```python\n",
    "    print(df)\n",
    "```\n",
    "\n",
    "You may extract a column as a 1D numpy array or the entire DataFrame as a 2D numpy array using the .to_numpy() method:\n",
    "```python\n",
    "    array1 = df[\"Column1\"].to_numpy()\n",
    "    dataArray = df.to_numpy()\n",
    "```\n",
    "\n",
    "This appendix only scratches the surface of DataFrames. It is a very commonly used package, so most inquiries you have can be answered by a simple online search. The [Pandas documentation](https://pandas.pydata.org/docs/index.html) is another excellent resource to use if you want to learn more."
   ]
  },
  {
   "cell_type": "markdown",
   "id": "e338ffa6",
   "metadata": {},
   "source": [
    "### <div style=\"background-color:rgba(255, 255, 102, 0.5); text-align:left; padding:20px 0; margin-top:20px\">$\\quad$Appendix B &ndash; The LinearFit Function...</div>\n",
    "\n",
    "The linear-fit function is called as follows:\n",
    "```python\n",
    "LinearFit(xData, yData, yErrors = [], xlabel = 'x-axis', ylabel = 'y-axis', xUnits = '', yUnits = '', fill = False)\n",
    "```\n",
    "The xData and yData lists are required.  The others are optional with default values set.  The function returns the following outputs:\n",
    "```python\n",
    "Slope, Yintercept, errSlope, errYintercept, fig\n",
    "```\n",
    "The first four outputs are numerical values and 'fig' is the formatted plot. \n",
    "\n",
    "If $y$-uncertainities are provided, the function will perform a weighted fit.  The $y$-uncertainties list must be the same length as $x$- and $y$-data lists.  If $y$-uncertainties are not provided, the fit will be unweighted.  The other optional arguments include $x$- and $y$-axis names and units for the $x$- and $y$-datasets.  These must be entered as strings (enclosed in quotations) and they are used for formatting the outputs of the function.  If 'fill' is set to True, shading will be added around the best-fit line representing confindence intervals. \n",
    "\n",
    "### Unweighted Fit Example Implmentation\n",
    "The code block below shows the most basic use of 'LinearFit' for an unweighted fit without any of the optional arguments.\n",
    "```python\n",
    "import PHYS121\n",
    "V = [1, 2, 3, 4]\n",
    "I = [0.12, 0.198, 0.285, 0.412]\n",
    "m, b, dm, db, fig = PHYS121.LinearFit(V, I)\n",
    "```\n",
    "\n",
    "### Weighted Fit Example Implmentation\n",
    "This second blcok of code shows how to use 'LinearFit' to do a weighted fit.  It also makes use of all of the other optional arguments.  \n",
    "```python\n",
    "import PHYS121\n",
    "V = [1, 2, 3, 4]\n",
    "I = [0.12, 0.198, 0.285, 0.412]\n",
    "errI = [0.005, 0.012, 0.020, 0.025]\n",
    "m, b, dm, db, fig = PHYS121.LinearFit(V, I, errI, 'voltage' , 'current', 'V', 'A', True)\n",
    "```\n",
    "\n",
    "The 'm, b, dm, db, fig = ...' syntax is used to store the function outputs in varibles.  If you're interested in details of the fitting process, see the following Python-based tutorial: https://cmps-people.ok.ubc.ca/jbobowsk/Python/html/Jupyter%20Weighted%20Linear%20Fit.html\n",
    "***"
   ]
  },
  {
   "cell_type": "markdown",
   "id": "8ad5eda6",
   "metadata": {},
   "source": [
    "### <div style=\"background-color:rgba(255, 255, 102, 0.5); text-align:left; padding:20px 0; margin-top:20px\">$\\quad$Appendix C &ndash; The Scatter Function...</div>\n",
    "\n",
    "The function for generating scatter plots is called as follows:\n",
    "```python\n",
    "Scatter(xData, yData, yErrors = [], xlabel = 'x-axis', ylabel = 'y-axis', xUnits = '', yUnits = '', fill = False, show = True)\n",
    "```\n",
    "The 'xData' and 'yData' inputs are required, all other arguments are optional with default values set.  The function returns the a single output (the formatted plot):\n",
    "```python\n",
    "fig\n",
    "```\n",
    "\n",
    "The function will do a simple scatter plot if no 'yError' are included.  It will included error bars if 'yErrors' are passed to the function.  The 'fill' and 'show' arguments should generally be false.  \n",
    "\n",
    "If the 'xData' list is empty, as in:\n",
    "```python\n",
    "xData = []\n",
    "```\n",
    "then the x-axis will be the trial number.  For example, is 'xData' is empty and 'yData' has 10 elements, the x-axis will span 1 to 10.\n",
    "\n",
    "### Scatter Example Implmentation\n",
    "The code block below shows an implementation of 'Scatter'.\n",
    "```python\n",
    "import PHYS121\n",
    "theta = [10, 20, 30] # degrees\n",
    "T = [2.02, 1.95, 2.13] # s\n",
    "errT = [0.02, 0.02, 0.03] # s\n",
    "fig = PHYS121.Scatter(theta, T, errT, 'initial angle' , 'period', 'degrees', 's')\n",
    "```\n",
    "\n",
    "If you're interested in generating your own plots with customized formatting, see the following Python-based plotting tutorial: https://cmps-people.ok.ubc.ca/jbobowsk/Python/html/Jupyter%20Basic%20Plots.html.\n",
    "***"
   ]
  },
  {
   "cell_type": "code",
   "execution_count": null,
   "id": "ac55146d",
   "metadata": {},
   "outputs": [],
   "source": []
  }
 ],
 "metadata": {
  "kernelspec": {
   "display_name": "Python 3 (ipykernel)",
   "language": "python",
   "name": "python3"
  },
  "language_info": {
   "codemirror_mode": {
    "name": "ipython",
    "version": 3
   },
   "file_extension": ".py",
   "mimetype": "text/x-python",
   "name": "python",
   "nbconvert_exporter": "python",
   "pygments_lexer": "ipython3",
   "version": "3.8.8"
  }
 },
 "nbformat": 4,
 "nbformat_minor": 5
}
