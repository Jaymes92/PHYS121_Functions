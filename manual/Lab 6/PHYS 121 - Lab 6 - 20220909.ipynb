{
 "cells": [
  {
   "cell_type": "markdown",
   "id": "f8dcfd4a",
   "metadata": {},
   "source": [
    "# <div style=\"background-color:rgba(204, 229, 255, 0.5); text-align:center; vertical-align: middle; padding:40px 0; margin-top:30px\"><span style=\"color:rgba(0, 76, 153, 1);\">PHYS 121 Lab #6</span></div>\n",
    "# Electric $RC$ Circuits"
   ]
  },
  {
   "cell_type": "markdown",
   "id": "4cd0e8ac",
   "metadata": {},
   "source": [
    "***\n",
    "## Learning Objectives:\n",
    "* <b><span style=\"color:rgba(0, 153, 76, 1);\">Implement automated data collection to acquire large sets of high-quality data in a short period of time.</span></b>\n",
    "* <b><span style=\"color:rgba(0, 153, 76, 1);\">Assemble and study $RC$ circuits using breadboads.</span></b>"
   ]
  },
  {
   "cell_type": "markdown",
   "id": "1f45a532",
   "metadata": {},
   "source": [
    "***\n",
    "## Import Modules:\n",
    "Please run the two cells below to import required packages."
   ]
  },
  {
   "cell_type": "code",
   "execution_count": 1,
   "id": "1d3f1184",
   "metadata": {},
   "outputs": [
    {
     "data": {
      "text/html": [
       "<text style=color:black>All packages already installed. Please proceed.</text>"
      ],
      "text/plain": [
       "<IPython.core.display.HTML object>"
      ]
     },
     "metadata": {},
     "output_type": "display_data"
    }
   ],
   "source": [
    "# Ensure that all required packages are installed.\n",
    "import installer\n",
    "installer.Check()"
   ]
  },
  {
   "cell_type": "code",
   "execution_count": 2,
   "id": "7e58ece8",
   "metadata": {},
   "outputs": [],
   "source": [
    "# Import required and commonly-used modules\n",
    "import numpy as np\n",
    "import matplotlib.pyplot as plt\n",
    "import httpimport\n",
    "import uncertainties\n",
    "import ipysheet\n",
    "import otter\n",
    "with httpimport.remote_repo(['data_entry'], 'https://cmps-people.ok.ubc.ca/jbobowsk/PHYS_121_Lab/modules'):\n",
    "    import data_entry\n",
    "with httpimport.remote_repo(['PHYS121'], 'https://cmps-people.ok.ubc.ca/jbobowsk/PHYS_121_Lab/modules'):\n",
    "    import PHYS121"
   ]
  },
  {
   "cell_type": "markdown",
   "id": "4855dbe9",
   "metadata": {},
   "source": [
    "***\n",
    "## Introduction:\n",
    "A capacitor is a device that stores electric potential energy. Any two conductors separated by an insulating medium can be considered a capacitor. The energy stored by a capacitor is directly related to the electric field present in the insulating medium between the conductors. This experiment is designed to allow you to experimentally explore some of the properties of capacitors.  There are many different types of capacitors.  The style that will be used in this lab is shown in Fig. 1.\n",
    "\n",
    "<p>\n",
    "<center>\n",
    "<img src=\"cap.png\" alt=\"Capacitor\" style=\"width: 45%; height: auto;\" /><br>\n",
    "<b>Fig. 1: An example of the type of \"electrolytic\" capacitor used in this lab. These capacitors are polarized meaning they must be placed in the circuit with a specific orientation. The longer lead is the \"+\" side while the shorter lead is the \"-\" side. Many electrolytic capacitors also have a series \"-\" symbols along one side of the capacitor to indicate which lead is negative.</b>\n",
    "</center>\n",
    "</p>\n",
    "\n",
    "The capacitance $C$ is defined to be the ratio of the charge $Q$ on each conductor of the capacitor to the voltage difference $\\Delta V$ across the pair of conductors:\n",
    "\n",
    "\\begin{align}\n",
    "C = {\\dfrac{Q}{\\Delta V}}\n",
    "\\label{eq:charge} \\tag{1}\n",
    "\\end{align}\n",
    "\n",
    "Capacitance has SI units of Farads $(\\rm F)$. A capacitor with a capacitance of one Farad holds an immense amount of energy. Typical capacitors found in electrical circuits range in values from $10^{-12}\\rm\\ F$ $(\\rm pF)$ to $10^{-3}\\rm\\ F$ $(\\rm mF)$.  You will be working with capacitances that are in the $10^{-6}\\rm\\ F$ $(\\rm \\mu F)$ range.\n",
    "\n",
    "In this lab you will experimentally investigate the charging and discharging of capacitors and the characteristics exhibited by simple resistor-capacitor $(RC)$ circuits when a time varying voltage is applied. "
   ]
  },
  {
   "cell_type": "markdown",
   "id": "0c919743",
   "metadata": {},
   "source": [
    "# <div style=\"background-color:rgba(255, 204, 255, 0.5); text-align:center; vertical-align: middle; padding:40px 0; margin-top:30px\"><span style=\"color:rgba(102, 0, 204, 1);\">Part 1 - Charging a Capacitor at a Constant Rate (x minutes)</span></div>\n",
    "\n",
    "Use a breadboard to construct the circuit in Figure 2. \n",
    "<p>\n",
    "<center>\n",
    "<img src=\"series_circuit.png\" alt=\"Series RC Circuit\" style=\"width: 50%; height: auto;\" /><br>\n",
    "<b>Fig. 2: Series $RC$ circuit and differential voltage probes used in Part 1.</b>\n",
    "</center>\n",
    "</p>\n",
    "\n",
    "A schematic diagram of the layout of a breadboard is shown in Fig. 3.  Breadboard contain arrays of terminals (holes) that can be used to quickly assemble and prototype circuits.  \n",
    "\n",
    "<p>\n",
    "<center>\n",
    "<img src=\"breadboard.svg\" alt=\"Series RC Circuit\" style=\"width: 20%; height: auto;\" /><br>\n",
    "<b>Fig. 3: Schematic diagram of a breadboad used to build and test circuits.</b>\n",
    "</center>\n",
    "</p>\n",
    "\n",
    "\n",
    "If the power supply attached to the capacitor is set to a fixed voltage, the flow of current onto the capacitor will start to decrease as the capacitor charges. However if the current is held constant, the rate of flow of charge onto the capacitor plates is also constant since $I = \\Delta q/\\Delta t$. By constantly adjusting the output voltage of the power supply, you should be able to keep the current constant as the capacitor accumulates charge. For a constant current $I$, the charge $\\Delta q$ added to each plate of the capacitor in time $\\Delta t$ is given by $\\Delta q = I\\, \\Delta t$.\n"
   ]
  },
  {
   "cell_type": "markdown",
   "id": "9abd00c2",
   "metadata": {},
   "source": [
    "In the code cell below, input the printed values for the capacitance and resistance along with their associated uncertainties. Be sure to input the uncertainties as a value and not a percentage.  Resistors are assumed to have a 5% uncertainty and capacitors are assumed to have a 20% uncertainty."
   ]
  },
  {
   "cell_type": "code",
   "execution_count": 3,
   "id": "d94e48ce",
   "metadata": {},
   "outputs": [],
   "source": [
    "# Enter the printed values for the capcitance and resistance along with their associated uncertainties.\n",
    "C = 2200e-6\n",
    "errC = C*0.2\n",
    "R = 10000\n",
    "errR = R*0.05"
   ]
  },
  {
   "cell_type": "markdown",
   "id": "4b846dba",
   "metadata": {},
   "source": [
    "Plug two sets of differential voltage probes into CH1 and CH2 of the LabPro unit. Connect the leads of the voltage probes to the circuit, being sure to follow the polarities shown in Fig. 6.2.\n",
    "\n",
    "Open LoggerPro and click on the <img src=\"sensor_icon.png\" alt=\"Sensor Icon\" style=\"width: 3%; height: auto; display: inline; vertical-align: middle;\" /> icon and make sure that the voltage probes are connected properly. If you do not see the <img src=\"sensor_icon.png\" alt=\"Sensor Icon\" style=\"width: 3%; height: auto; display: inline; vertical-align: bottom;\" /> icon, then you need to click \"Experiment\" $\\to$ \"Connect Interface\" $\\to$ \"Com1\".\n",
    "\n",
    "\n",
    "Next, click on the <img src=\"clock_icon.png\" alt=\"Clock Icon\" style=\"width: 3%; height: auto; display: inline; vertical-align: middle;\" /> icon and change the experiment length to $60\\rm\\ seconds$.\n",
    "\n",
    "Manually scale the $y$-axis from $-0.1$ to $2\\rm\\ V$ by right clicking on the graph and clicking on graph options. Click on the axes tab and you should be able to set the drop down menu to manually scale the axes. Rename each of your columns to a more descriptive titles than “Potential 1” or “Potential 2” by right clicking on the data table and selecting each column under column options. Change the respective columns to \"Capacitor_Voltage\" and \"Resistor_Voltage\". Make sure you include appropriate units.\n",
    "\n",
    "Fully discharge the capacitor by touching the capacitor’s terminals together. Turn the power supply down to 0 volts and then zero all of the sensors. Click on <img src=\"start_icon.png\" alt=\"Start Icon\" style=\"width: 3%; height: auto; display: inline; vertical-align: middle;\" /> and turn up the power supply so $V_\\mathrm{R}$ stays steady at $1.0\\rm\\ V$. <i>This requires some practice and reruns.</i>  Repeat the measurement until you are satisfied that resistor voltage remains relatively constant $1.0\\rm\\ V$ for the duration of the $60\\rm\\ s$ measurement. "
   ]
  },
  {
   "cell_type": "markdown",
   "id": "f99d16e3",
   "metadata": {},
   "source": [
    "Next, the LoggerPro data needs to be imported into your Jupyter notebook. To do this, you'll need to export the data from LoggerPro by selecting \"File\" $\\to$ \"Export as\" $\\to$ \"CSV...\". Give the file a descriptive name and save it the same folder as this notebook. Now you can replace 'filename' in the code cell below with the name of the exported LoggerPro file.  The name of your file must be inside the quotation marks '...'.  The LoggerPro CSV file is fairly long, it may take a minute or two for the data to be imported into the spreadsheet.  Please be patient."
   ]
  },
  {
   "cell_type": "code",
   "execution_count": 4,
   "id": "d988fcb4",
   "metadata": {},
   "outputs": [
    {
     "name": "stdout",
     "output_type": "stream",
     "text": [
      "Sheet name: Lab_7_Part_1_Data.csv\n"
     ]
    },
    {
     "data": {
      "application/vnd.jupyter.widget-view+json": {
       "model_id": "77450a57ce4e4ec48d645ba47a17a9fa",
       "version_major": 2,
       "version_minor": 0
      },
      "text/plain": [
       "VBox(children=(Sheet(cells=(Cell(column_end=0, column_start=0, row_end=0, row_start=0, type='text', value='Tim…"
      ]
     },
     "metadata": {},
     "output_type": "display_data"
    }
   ],
   "source": [
    "PHYS121.Spreadsheet('Lab_7_Part_1_Data')\n",
    "# Hitting 'Shift' + 'Enter' will import the file and the data spreadsheet will appear below."
   ]
  },
  {
   "cell_type": "markdown",
   "id": "b6c435a3",
   "metadata": {},
   "source": [
    "Now that the data has been imported, calculate the current $I$ and charge on the capacitor $q$ as a function of time. To do so, use the fact that $I = V_\\mathrm{R}/R$ and $q = I\\,\\Delta t$. These quantities are calculated in the code cell below."
   ]
  },
  {
   "cell_type": "code",
   "execution_count": 5,
   "id": "b77272a1",
   "metadata": {},
   "outputs": [],
   "source": [
    "V_R = v_Resistor_Voltage\n",
    "V_C = v_Capacitor_Voltage\n",
    "dt = v_Time\n",
    "\n",
    "# Calculate I and q.\n",
    "I = V_R/R # current in amps\n",
    "q = I*dt # capacitor charge in Coulombs"
   ]
  },
  {
   "cell_type": "markdown",
   "id": "9aaa7d43",
   "metadata": {},
   "source": [
    "Once we've created calculated arrays for the charge on the capacitor, $Q$, with respect to time we can plot a graph of $Q$ vs. $V_C$ and determine its slope and the uncertainty in the slope. The slope value is equivalent to the experimental value for the capacitance (i.e. slope $= C$). How does the value of the slope compare to the nominal value of the capacitance stated on the capacitor?"
   ]
  },
  {
   "cell_type": "code",
   "execution_count": 8,
   "id": "4cc85380",
   "metadata": {},
   "outputs": [
    {
     "name": "stdout",
     "output_type": "stream",
     "text": [
      "\n"
     ]
    },
    {
     "data": {
      "text/markdown": [
       "$y = m\\,x + b$"
      ],
      "text/plain": [
       "<IPython.core.display.Markdown object>"
      ]
     },
     "metadata": {},
     "output_type": "display_data"
    },
    {
     "data": {
      "text/markdown": [
       "This is an **UNWEIGHTED** fit."
      ],
      "text/plain": [
       "<IPython.core.display.Markdown object>"
      ]
     },
     "metadata": {},
     "output_type": "display_data"
    },
    {
     "data": {
      "text/html": [
       "<div>\n",
       "<style scoped>\n",
       "    .dataframe tbody tr th:only-of-type {\n",
       "        vertical-align: middle;\n",
       "    }\n",
       "\n",
       "    .dataframe tbody tr th {\n",
       "        vertical-align: top;\n",
       "    }\n",
       "\n",
       "    .dataframe thead th {\n",
       "        text-align: right;\n",
       "    }\n",
       "</style>\n",
       "<table border=\"1\" class=\"dataframe\">\n",
       "  <thead>\n",
       "    <tr style=\"text-align: right;\">\n",
       "      <th></th>\n",
       "      <th></th>\n",
       "      <th>Value</th>\n",
       "      <th>Units</th>\n",
       "    </tr>\n",
       "  </thead>\n",
       "  <tbody>\n",
       "    <tr>\n",
       "      <th>slope</th>\n",
       "      <td>$m =$</td>\n",
       "      <td>0.0023842+/-0.0000036</td>\n",
       "      <td>C/V</td>\n",
       "    </tr>\n",
       "    <tr>\n",
       "      <th>$y$-intercept</th>\n",
       "      <td>$b =$</td>\n",
       "      <td>0.0001770+/-0.0000049</td>\n",
       "      <td>C</td>\n",
       "    </tr>\n",
       "  </tbody>\n",
       "</table>\n",
       "</div>"
      ],
      "text/plain": [
       "                                      Value Units\n",
       "slope          $m =$  0.0023842+/-0.0000036   C/V\n",
       "$y$-intercept  $b =$  0.0001770+/-0.0000049     C"
      ]
     },
     "metadata": {},
     "output_type": "display_data"
    },
    {
     "data": {
      "image/png": "[encoded data removed]",
      "text/plain": [
       "<Figure size 500x500 with 1 Axes>"
      ]
     },
     "metadata": {},
     "output_type": "display_data"
    }
   ],
   "source": [
    "Slope, Yintercept, errSlope, errYintercept, fig = PHYS121.LinearFit(xData = V_C, yData = q, xlabel = 'Capacitor Voltage', ylabel = 'Charge', xUnits = 'V', yUnits = 'C')"
   ]
  },
  {
   "cell_type": "code",
   "execution_count": 14,
   "id": "0a9eb772",
   "metadata": {},
   "outputs": [
    {
     "name": "stdout",
     "output_type": "stream",
     "text": [
      "The experimental capacitance is 2384.2463158177056 +/- 3.5674729966422336 uF\n",
      "The nominal capacitance is 2200.0 +/- 440.00000000000006 uF\n"
     ]
    }
   ],
   "source": [
    "# We'll take the value of the slope and its uncertainty and put them in a form that's easier to visualize and compare.\n",
    "Capacitance = Slope*1e6\n",
    "errCapacitance = errSlope*1e6\n",
    "print('The experimental capacitance is', Capacitance,'+/-', errCapacitance, 'uF')\n",
    "print('The nominal capacitance is', C*1e6, '+/-', errC*1e6, 'uF')"
   ]
  },
  {
   "cell_type": "markdown",
   "id": "9991925e",
   "metadata": {},
   "source": [
    "***\n",
    "**<span style=\"color:blue\">Question 1.2:</span>**  \n",
    "Compare the two values of $C$ with the uncertainties obtained above. Are they within experimental uncertainty of each other?"
   ]
  },
  {
   "cell_type": "markdown",
   "id": "825bd0c0",
   "metadata": {},
   "source": [
    "***\n",
    "**<span style=\"color:blue\">Answer 1.2:</span>**\n",
    "\n",
    "[//]: # (Please do not delete this comment or anything above it.  Anything below this comment can be deleted.)  \n",
    "\n",
    "Double click this cell and enter your text.  When done, hit 'Shift' + 'Enter' to execute the cell.  You may delete this text after entering your answer. \n",
    "***"
   ]
  },
  {
   "cell_type": "markdown",
   "id": "f4832dbd",
   "metadata": {},
   "source": [
    "# <div style=\"background-color:rgba(255, 204, 255, 0.5); text-align:center; vertical-align: middle; padding:40px 0; margin-top:30px\"><span style=\"color:rgba(102, 0, 204, 1);\">Part 2 - Exponential Decay of Voltage on a Capacitor (x minutes)</span></div>\n",
    "\n",
    "It can be shown that if a capacitor is allowed to discharge through a resistor the voltage at any time $t$,\n",
    "is given by:\n",
    "\n",
    "\\begin{align}\n",
    "V = V_0\\exp\\left(-\\frac{t}{RC}\\right)\n",
    "\\end{align}\n",
    "\n",
    "Assemble the circuit in Figure 6.3 and connect the LabPro unit to measure the voltage across the resistor. Set up LoggerPro to collect voltage as a function of time. Once again, click on the <b>insert loggerPro clock icon</b> icon and change experiment length to <b>60</b> seconds and collect <b>3</b> samples per second.\n",
    "\n",
    "<p>\n",
    "<center>\n",
    "<img src=\"parallel_circuit.png\" alt=\"Parallel RC Circuit\" style=\"width: 70%; height: auto;\" /><br>\n",
    "<b>Fig. 3: Parallel RC circuit and differential voltage probes used in Part 2.</b>\n",
    "</center>\n",
    "</p>\n",
    "\n",
    "Charge the capacitor to some voltage V0 (< 6.0V). Simultaneously disconnect the power supply by pulling one of the leads out of the power supply (rather than just turning it off) and press <b>insert loggerPro start icon</b>. Save the data to a file and use the <b>insert loggerPro fit icon</b> icon to do an exponential fit. You should be able to fit a curve to your data with an equation that mirrors <b>Eq. 4</b>."
   ]
  },
  {
   "cell_type": "markdown",
   "id": "d77c5a34",
   "metadata": {},
   "source": [
    "***\n",
    "Once again, we need to import the data from LoggerPro. To do this, you'll need to export the data from LoggerPro by selecting File &rarr; Export as &rarr; CSV... Give the file a descriptive name and save it to the same location as this notebook. Now you can enter the name of the file in the cell below in the form PHYS121.Spreadsheet('filename'). We also need to provide a value for $V_0$ (the voltager the capacitor was initially charged to)."
   ]
  },
  {
   "cell_type": "code",
   "execution_count": 66,
   "id": "5c3aa822",
   "metadata": {
    "collapsed": true
   },
   "outputs": [
    {
     "name": "stdout",
     "output_type": "stream",
     "text": [
      "Sheet name: Lab_7_Part_2_Data.csv\n"
     ]
    },
    {
     "data": {
      "application/vnd.jupyter.widget-view+json": {
       "model_id": "0637b35056d543809293893c6e96b514",
       "version_major": 2,
       "version_minor": 0
      },
      "text/plain": [
       "VBox(children=(Sheet(cells=(Cell(column_end=0, column_start=0, row_end=0, row_start=0, type='text', value='Tim…"
      ]
     },
     "metadata": {},
     "output_type": "display_data"
    }
   ],
   "source": [
    "# We need to set the value of V0 in Eq. 4. Enter this value below.\n",
    "V_0 = 6\n",
    "PHYS121.Spreadsheet('Lab_7_Part_2_Data')\n",
    "# Hitting 'Shift' + 'Enter' will import the file and the data spreadsheet will appear below."
   ]
  },
  {
   "cell_type": "code",
   "execution_count": 67,
   "id": "aeee4a7f",
   "metadata": {},
   "outputs": [],
   "source": [
    "V_R = v_Resistor_Voltage\n",
    "V_C = v_Capacitor_Voltage\n",
    "Time = v_Time"
   ]
  },
  {
   "cell_type": "markdown",
   "id": "6734f7bf",
   "metadata": {},
   "source": [
    "Now we can produce a scatter plot of $V_R$ vs. time to visualize the discharging of the capacitor through the resistor."
   ]
  },
  {
   "cell_type": "code",
   "execution_count": 68,
   "id": "953cf818",
   "metadata": {},
   "outputs": [
    {
     "data": {
      "image/png": "[encoded data removed]",
      "text/plain": [
       "<Figure size 500x500 with 1 Axes>"
      ]
     },
     "metadata": {
      "needs_background": "light"
     },
     "output_type": "display_data"
    }
   ],
   "source": [
    "PHYS121.Scatter(Time, V_R, [], 'Time', 'Resistor Voltage', 's', 'V');"
   ]
  },
  {
   "cell_type": "markdown",
   "id": "a6b248f4",
   "metadata": {},
   "source": [
    "***\n",
    "**<span style=\"color:blue\">Question 2.1:</span>**  \n",
    "How long does it take the voltage to drop to $1/e$ of its initial value? This value is known as the circuit’s time constant $\\tau = RC$. Using the measured capacitance and resistance from Part 1, calculate an expected value for the time constant and its associated uncertainty."
   ]
  },
  {
   "cell_type": "markdown",
   "id": "9ae90191",
   "metadata": {},
   "source": [
    "***\n",
    "**<span style=\"color:blue\">Answer 2.1:</span>**\n",
    "\n",
    "[//]: # (Please do not delete this comment or anything above it.  Anything below this comment can be deleted.)  \n",
    "\n",
    "Double click this cell and enter your answer for $\\tau$.  When done, hit 'Shift' + 'Enter' to execute the cell.  You may delete this text after entering your answer.\n",
    "\n",
    "$\\tau =$ enter answer here\n",
    "***"
   ]
  },
  {
   "cell_type": "markdown",
   "id": "dba75056",
   "metadata": {},
   "source": [
    "Next, we want to linearize the data. This can be done by plotting $\\ln(V/V_0)$ as a function of time. We can then use a linear fit to determine the slope of the line."
   ]
  },
  {
   "cell_type": "code",
   "execution_count": 69,
   "id": "8dbea143",
   "metadata": {},
   "outputs": [
    {
     "name": "stdout",
     "output_type": "stream",
     "text": [
      "\n"
     ]
    },
    {
     "data": {
      "text/markdown": [
       "$y = m\\,x + b$"
      ],
      "text/plain": [
       "<IPython.core.display.Markdown object>"
      ]
     },
     "metadata": {},
     "output_type": "display_data"
    },
    {
     "data": {
      "text/markdown": [
       "This is an **UNWEIGHTED** fit."
      ],
      "text/plain": [
       "<IPython.core.display.Markdown object>"
      ]
     },
     "metadata": {},
     "output_type": "display_data"
    },
    {
     "data": {
      "text/html": [
       "<div>\n",
       "<style scoped>\n",
       "    .dataframe tbody tr th:only-of-type {\n",
       "        vertical-align: middle;\n",
       "    }\n",
       "\n",
       "    .dataframe tbody tr th {\n",
       "        vertical-align: top;\n",
       "    }\n",
       "\n",
       "    .dataframe thead th {\n",
       "        text-align: right;\n",
       "    }\n",
       "</style>\n",
       "<table border=\"1\" class=\"dataframe\">\n",
       "  <thead>\n",
       "    <tr style=\"text-align: right;\">\n",
       "      <th></th>\n",
       "      <th></th>\n",
       "      <th>Value</th>\n",
       "      <th>Units</th>\n",
       "    </tr>\n",
       "  </thead>\n",
       "  <tbody>\n",
       "    <tr>\n",
       "      <th>slope</th>\n",
       "      <td>$m =$</td>\n",
       "      <td>-0.042109+/-0.000029</td>\n",
       "      <td>1/s</td>\n",
       "    </tr>\n",
       "    <tr>\n",
       "      <th>$y$-intercept</th>\n",
       "      <td>$b =$</td>\n",
       "      <td>-0.0168+/-0.0010</td>\n",
       "      <td></td>\n",
       "    </tr>\n",
       "  </tbody>\n",
       "</table>\n",
       "</div>"
      ],
      "text/plain": [
       "                                     Value Units\n",
       "slope          $m =$  -0.042109+/-0.000029   1/s\n",
       "$y$-intercept  $b =$      -0.0168+/-0.0010      "
      ]
     },
     "metadata": {},
     "output_type": "display_data"
    },
    {
     "data": {
      "image/png": "[encoded data removed]",
      "text/plain": [
       "<Figure size 500x500 with 1 Axes>"
      ]
     },
     "metadata": {
      "needs_background": "light"
     },
     "output_type": "display_data"
    }
   ],
   "source": [
    "Slope, Yintercept, errSlope, errYintercept, fig = PHYS121.LinearFit(Time, np.log(V_R/V_0), [], 'Time', 'ln $(V_R/V_0)$', 's', '')"
   ]
  },
  {
   "cell_type": "markdown",
   "id": "c97b9c01",
   "metadata": {},
   "source": [
    "Rearrange <b>Eq. 4</b> to solve for $\\ln(V/V_0)$ and show that <b>slope = -1/RC</b>. From the slope determine the time constant $\\tau$ and compare this value to the expected value calculated above."
   ]
  },
  {
   "cell_type": "code",
   "execution_count": 71,
   "id": "7eb15fc0",
   "metadata": {},
   "outputs": [
    {
     "name": "stdout",
     "output_type": "stream",
     "text": [
      "The experimental time constant is 23.747668977758686 +/- 0.016581120743414404 s\n",
      "The expected time constant given by is 22.0 +/- 5.5 s\n"
     ]
    }
   ],
   "source": [
    "tau = -1/Slope\n",
    "errtau = tau*(errSlope/Slope)\n",
    "print('The experimental time constant is', tau, '+/-', abs(errtau), 's',)\n",
    "print('The expected time constant given by is', R_printed*C_printed, '+/-',\n",
    "      ((errR_printed/R_printed)+(errC_printed/C_printed))*R_printed*C_printed, 's')"
   ]
  },
  {
   "cell_type": "markdown",
   "id": "f1cc405b",
   "metadata": {},
   "source": [
    "***\n",
    "**<span style=\"color:blue\">Question 2.2:</span>**  \n",
    "Compare the experimental time constant to the expected value calculated above with uncertainties."
   ]
  },
  {
   "cell_type": "markdown",
   "id": "329ad655",
   "metadata": {},
   "source": [
    "***\n",
    "**<span style=\"color:blue\">Answer 2.2:</span>**\n",
    "\n",
    "[//]: # (Please do not delete this comment or anything above it.  Anything below this comment can be deleted.)  \n",
    "\n",
    "Double click this cell and enter your text.  When done, hit 'Shift' + 'Enter' to execute the cell.  You may delete this text after entering your answer.\n",
    "\n",
    "\n",
    "***"
   ]
  },
  {
   "cell_type": "code",
   "execution_count": null,
   "id": "4808b479",
   "metadata": {},
   "outputs": [],
   "source": []
  }
 ],
 "metadata": {
  "kernelspec": {
   "display_name": "Python 3 (ipykernel)",
   "language": "python",
   "name": "python3"
  },
  "language_info": {
   "codemirror_mode": {
    "name": "ipython",
    "version": 3
   },
   "file_extension": ".py",
   "mimetype": "text/x-python",
   "name": "python",
   "nbconvert_exporter": "python",
   "pygments_lexer": "ipython3",
   "version": "3.8.13"
  }
 },
 "nbformat": 4,
 "nbformat_minor": 5
}
