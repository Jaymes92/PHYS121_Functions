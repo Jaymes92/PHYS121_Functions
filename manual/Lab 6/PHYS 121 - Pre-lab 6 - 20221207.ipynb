{
 "cells": [
  {
   "cell_type": "markdown",
   "id": "8eeaa77f",
   "metadata": {},
   "source": [
    "# <div style=\"background-color:rgba(204, 229, 255, 0.5); text-align:center; vertical-align: middle; padding:40px 0; margin-top:30px\"><span style=\"color:rgba(0, 76, 153, 1);\">PHYS 121 Pre-Lab #6</span></div>\n",
    "# Electric $RC$ Circuits"
   ]
  },
  {
   "cell_type": "markdown",
   "id": "cbd1af6f",
   "metadata": {},
   "source": [
    "***\n",
    "## Learning Objectives:\n",
    "* <b><span style=\"color:rgba(0, 153, 76, 1);\">Implement automated data collection to acquire large sets of high-quality data in a short period of time.</span></b>\n",
    "* <b><span style=\"color:rgba(0, 153, 76, 1);\">Assemble and study $RC$ circuits using breadboads.</span></b>"
   ]
  },
  {
   "cell_type": "markdown",
   "id": "051bc323",
   "metadata": {},
   "source": [
    "## Error Propagation\n",
    "\n",
    "Often the quantities we're measuring directly aren't the quantities of interest. Rather, they can be used to deduce what we're actually interested in. Error propagation is the method by which we translate the uncertainties in our measurements to the uncertainties in quantities derived from those measurements. Put mathematically, if $X$ and $Y$ are measured quantities with uncertainties $\\delta X$ and $\\delta Y$ respectively, what is the uncertainty $\\delta Z$ associated with some derived quantity $Z = Z(X,Y)$?. This can get quite complicated, but if we're not concerned with getting the tightest bound possible (i.e. we're okay with calculating the *maximimum* possible error), there are some simple rules we can use:\n",
    "\n",
    "***\n",
    "1. $Z = cX$, $c$ constant\n",
    "\\begin{align}\n",
    "\\delta Z = c\\delta(X)\n",
    "\\end{align}\n",
    "\n",
    "***\n",
    "\n",
    "2. $Z = X \\pm Y$ \n",
    "\\begin{align}\n",
    "\\delta Z = \\delta X + \\delta Y\n",
    "\\end{align}\n",
    "\n",
    "Notice that the absolute errors are *added* even when $X$ and $Y$ are subtracted.\n",
    "\n",
    "***\n",
    "\n",
    "In the case of multiplication and division, we add the **relative errors** rather than the absolute errors:\n",
    "\n",
    "3. $Z = XY$ or $Z = \\frac{X}{Y}$\n",
    "\\begin{align}\n",
    "\\frac{\\delta Z}{\\left| Z \\right|} = \\frac{\\delta X}{\\left| X \\right|} + \\frac{\\delta Y}{\\left| Y \\right|}\n",
    "\\end{align}\n",
    "\n",
    "which can be rearranged to read\n",
    "\\begin{align}\n",
    "\\delta Z = \\left| Z \\right| \\left( \\frac{\\delta X}{\\left| X \\right|} + \\frac{\\delta Y}{\\left| Y \\right|} \\right)\n",
    "\\end{align}\n",
    "\n",
    "Notice that we use absolute values in our expression.\n",
    "\n",
    "***\n",
    "\n",
    "4. $Z = X^\\alpha$, $\\alpha$ constant\n",
    "\n",
    "\\begin{align}\n",
    "\\delta Z = \\left| Z \\right| \\frac{\\left| \\alpha \\right| \\delta X}{\\left| X \\right|} = \\left| \\alpha X^{\\alpha - 1} \\right| \\delta X\n",
    "\\end{align}\n",
    "\n",
    "***\n",
    "\n",
    "When faced with more complicated expressions, one must take care to apply these expressions in the appropriate order. For example, if we have a third measurement $W + \\delta W$, then if $Z = \\frac{W}{X^2+Y}$, applying rule 3 first gives\n",
    "\\begin{align}\n",
    "\\delta Z = \\left| Z \\right| \\left( \\frac{\\delta (X^2+Y)}{\\left| X^2 + Y \\right|} + \\frac{\\delta W}{\\left| W \\right |} \\right)\n",
    "\\end{align}\n",
    "Applying rule 2 gives \n",
    "\\begin{align}\n",
    "\\delta Z = \\left| Z \\right| \\left( \\frac{\\delta (X^2) + \\delta Y}{\\left| X^2 + Y \\right|} + \\frac{\\delta W}{\\left| W \\right |} \\right)\n",
    "\\end{align}\n",
    "Lastly, applying rule 4 gives\n",
    "\\begin{align}\n",
    "\\delta Z = \\left| Z \\right| \\left( \\frac{2\\left| X \\right| \\delta X + \\delta Y}{\\left| X^2 + Y \\right|} + \\frac{\\delta W}{\\left| W \\right |} \\right)\n",
    "\\end{align}\n",
    "\n",
    "If we'd like, we can also substitute our expression for $Z$ back into the equation for $\\delta Z$:\n",
    "\\begin{align}\n",
    "\\delta Z = \\left| \\frac{W}{X^2+Y} \\right| \\left( \\frac{2\\left| X \\right|\\delta X + \\delta Y}{\\left| X^2 + Y \\right|} + \\frac{\\delta W}{\\left| W \\right |} \\right)\n",
    "\\end{align}\n",
    "\n",
    "<br>\n",
    "<br>\n",
    "\n",
    "As a final note before you answer the three questions below, you've probably noticed that we sometimes use the term \"error\" interchangeably with the term \"uncertainty. This should *not* be taken to mean that that experimental uncertainty is necessarily a result of experimental error. To the contrary: every scientific quantity has uncertainty and conversely, a quantity without uncertainty is not scientific.  \n",
    "\n",
    "***"
   ]
  },
  {
   "cell_type": "markdown",
   "id": "eeea5787",
   "metadata": {},
   "source": [
    "## Preparation for Lab 6\n",
    "\n",
    "In this week's lab, you will experimentally investigate the charging and discharging of capacitors and the characteristics exhibited by simple resistor-capacitor $(RC)$ circuits when a time varying voltage is applied. The work will be facilitated by automated data collection methods, allowing you to rapidly acquire large datasets. In this pre-lab, you will write some simple lines of error analysis code that you will be able to use in Lab 6.\n"
   ]
  },
  {
   "cell_type": "markdown",
   "id": "5f6f443f",
   "metadata": {},
   "source": [
    "If a capacitor with capacitance $C$ is allowed to discharge through a resistor with resistance $R$, the voltage $V$ as a function of time is given by\n",
    "\n",
    "\\begin{align}\n",
    "V = V_0\\exp\\left(-\\frac{t}{RC}\\right) = V_0\\exp\\left( -\\frac{t}{\\tau} \\right)\n",
    "\\label{eq:RC} \\tag{1}\n",
    "\\end{align}\n",
    "\n",
    "where $V_0$ is the voltage across the capacitor at time $t = 0$ and $\\tau = RC$ is called the **time constant** of the RC circuit. "
   ]
  },
  {
   "cell_type": "markdown",
   "id": "7648f7cc",
   "metadata": {},
   "source": [
    "***\n",
    "**<span style=\"color:blue\">Question 1:</span>**  \n",
    "\n",
    "Suppose we have nominal values of $R = (5,000 \\pm 250) \\ \\Omega$ and $C = (5.0 \\pm 1.0)\\times 10^{-3} \\rm \\ F$. Using the rules of error propagation, find a symbolic equation to calculate the error in $\\tau = RC$ from this expression. Use the code cells below to calculate $\\tau$ and $\\delta \\tau$. Note that your answers must use the variables R, C, errR, and errC as defined in the first code cell.\n",
    "\n",
    "***\n",
    "**<span style=\"color:blue\">Answer 1:</span>**"
   ]
  },
  {
   "cell_type": "code",
   "execution_count": 2,
   "id": "d573c372",
   "metadata": {},
   "outputs": [],
   "source": [
    "# Execute this cell to assign the values to the variables R, errR, C, and errC\n",
    "\n",
    "R = 5000\n",
    "errR = 250\n",
    "C = 5.0e-3\n",
    "errC = 1.0e-3"
   ]
  },
  {
   "cell_type": "code",
   "execution_count": 4,
   "id": "f419f96d",
   "metadata": {},
   "outputs": [
    {
     "name": "stdout",
     "output_type": "stream",
     "text": [
      "25.0\n"
     ]
    }
   ],
   "source": [
    "# Write an equation to calculate the time constant \n",
    "\n",
    "tau1 = R*C\n",
    "print(tau1)"
   ]
  },
  {
   "cell_type": "code",
   "execution_count": 6,
   "id": "b81894db",
   "metadata": {},
   "outputs": [
    {
     "name": "stdout",
     "output_type": "stream",
     "text": [
      "6.25\n"
     ]
    }
   ],
   "source": [
    "# Write an equation to calculate the uncertainty in the time constant\n",
    "\n",
    "errTau1 = ((errR/R)+(errC/C))*R*C\n",
    "print(errTau1)"
   ]
  },
  {
   "cell_type": "markdown",
   "id": "b2808f95",
   "metadata": {},
   "source": [
    "***\n",
    "\n",
    "If we manipulate equation 1 a little bit, we find\n",
    "\n",
    "\\begin{align}\n",
    "\\ln\\left( \\frac{V}{V_0} \\right) = -\\frac{t}{\\tau} \n",
    "\\label{eq:RC2} \\tag{2}\n",
    "\\end{align}\n",
    "\n",
    "This offers us a way to measure the time constant of the RC circuit: if we fix $V_0$ and measure $V$ over a period of time, then the time constant can be found from the slope of a plot of $\\ln\\left( \\frac{V}{V_0} \\right)$ as a function of $t$. "
   ]
  },
  {
   "cell_type": "markdown",
   "id": "f7cdaaf9",
   "metadata": {},
   "source": [
    "***\n",
    "**<span style=\"color:blue\">Question 2:</span>**  \n",
    "\n",
    "Suppose we the slope of $\\ln\\left( \\frac{V}{V_0} \\right)$ as a function of $t$ has a numerical value of $-0.043201$ with an uncertainty of $0.000029$. From equation 2, find the expression connecting $\\tau$ to the slope and calculate it in the cell below. Using the rules of error propagation described above, find the uncertainty in $\\tau$. Your answers must use the variables slope and errSlope as defined in the first code cell.\n",
    "\n",
    "***\n",
    "**<span style=\"color:blue\">Answer 2:</span>**"
   ]
  },
  {
   "cell_type": "code",
   "execution_count": 8,
   "id": "b7671493",
   "metadata": {},
   "outputs": [],
   "source": [
    "# Execute this cell to assign the values to the variables R, errR, C, and errC\n",
    "\n",
    "slope = -0.043201 \n",
    "errSlope = 0.000029"
   ]
  },
  {
   "cell_type": "code",
   "execution_count": 9,
   "id": "0624570b",
   "metadata": {},
   "outputs": [
    {
     "name": "stdout",
     "output_type": "stream",
     "text": [
      "23.1476123237888\n"
     ]
    }
   ],
   "source": [
    "# Write an equation to calculate the time constant \n",
    "\n",
    "tau2 = - 1 / slope\n",
    "print(tau2)"
   ]
  },
  {
   "cell_type": "code",
   "execution_count": 17,
   "id": "6ba19c7e",
   "metadata": {},
   "outputs": [
    {
     "name": "stdout",
     "output_type": "stream",
     "text": [
      "0.015538546732480153\n"
     ]
    }
   ],
   "source": [
    "# Write an equation to calculate the uncertainty in the time constant. \n",
    "# Applying the function abs(x) to a variable x in Python returns its absolute value\n",
    "\n",
    "errTau2 = errSlope / slope**2\n",
    "print(errTau2)"
   ]
  },
  {
   "cell_type": "markdown",
   "id": "68640012",
   "metadata": {},
   "source": [
    "### Supplementary information (optional)\n",
    "\n",
    "If you're comfortable with calculus, all of these expressions can be derived by an application of the chain rule. Let $f(X_1, X_2, X_3, \\dots)$ be a function of measured variables $X_i$ with associated uncertainty $\\delta X_i$. Then the maximum uncertainty in $f$ is found to be\n",
    "\n",
    "\\begin{align}\n",
    "\\delta f = \\left| \\frac{\\partial f}{\\partial X_1} \\right| \\delta X_1 + \\left| \\frac{\\partial f}{\\partial X_2} \\right| \\delta X_2 + \\left| \\frac{\\partial f}  {\\partial X_3} \\right| \\delta X_3 + \\cdots = \\sum \\left|\\frac{\\partial f}{\\partial X_i} \\right| \\delta X_i \n",
    "\\end{align}\n",
    "\n",
    "We can read the partial derivates as the rate at which $f$ changes as $X_i$ changes. If the value of $f$ *very* sensitive to the value of $X_1$, for instance, then this should contribute more to the uncertainty of $f$, scaled by the uncertainty in $X_1$. So, accordingly, we get a term that looks like $\\frac{\\partial f}{\\partial X_1}\\delta X_1$. \n",
    "\n",
    "In addition to providing some conceptuial clarity, this makes calculating uncertainties much simpler. For instance, the rules given in the introduction provide no roadmap for calculating the uncertainty in $f(X) = \\sin X$, but this formula tells us that \n",
    "\n",
    "\\begin{align}\n",
    "\\delta f = \\left| \\frac{\\partial \\sin(X)}{\\partial X}  \\right| \\delta X= \\left| \\cos (X) \\right| \\delta X \n",
    "\\end{align}\n",
    "\n",
    "Suppose we measure that \n",
    "\n",
    "\\begin{align} \n",
    "X = 0 \\pm \\delta X\n",
    "\\end{align}\n",
    "\n",
    "Since $\\sin X$ is changing quite fast near $X = 0$ (in fact, $\\sin X \\approx X$ near $X = 0$) then we have \n",
    "\n",
    "\\begin{align} \n",
    "\\delta f = \\delta X\n",
    "\\end{align}\n",
    "\n",
    "Conversely, if we measure that \n",
    "\n",
    "\\begin{align} \n",
    "X = \\pi/2 + \\epsilon \\pm \\delta X\n",
    "\\end{align}\n",
    "\n",
    "for some very small number $\\epsilon$, we're near the peak of the sine function where $\\sin X$ is changing very slowly as $X$ changes. Accordingly, our error is  \n",
    "\n",
    "\\begin{align}\n",
    "\\delta f = \\left| \\cos (\\pi/2 + \\epsilon) \\right| \\delta X = \\left| \\sin (\\epsilon) \\right| \\delta X \\approx \\left| \\epsilon \\right| \\delta X\n",
    "\\end{align}\n",
    "\n",
    "If you choose to continue on in Physics, you will learn more about experimental statistical analysis in Physics 232. "
   ]
  },
  {
   "cell_type": "code",
   "execution_count": null,
   "id": "d5793d7c",
   "metadata": {},
   "outputs": [],
   "source": []
  }
 ],
 "metadata": {
  "kernelspec": {
   "display_name": "Python 3 (ipykernel)",
   "language": "python",
   "name": "python3"
  },
  "language_info": {
   "codemirror_mode": {
    "name": "ipython",
    "version": 3
   },
   "file_extension": ".py",
   "mimetype": "text/x-python",
   "name": "python",
   "nbconvert_exporter": "python",
   "pygments_lexer": "ipython3",
   "version": "3.8.8"
  }
 },
 "nbformat": 4,
 "nbformat_minor": 5
}
